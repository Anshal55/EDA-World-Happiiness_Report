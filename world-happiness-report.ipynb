{
 "cells": [
  {
   "attachments": {},
   "cell_type": "markdown",
   "metadata": {
    "execution": {
     "iopub.execute_input": "2021-06-17T06:57:55.742341Z",
     "iopub.status.busy": "2021-06-17T06:57:55.741990Z",
     "iopub.status.idle": "2021-06-17T06:57:55.750940Z",
     "shell.execute_reply": "2021-06-17T06:57:55.749689Z",
     "shell.execute_reply.started": "2021-06-17T06:57:55.742309Z"
    }
   },
   "source": [
    "# **World Happiness Report**\n",
    "![Image](https://www.incimages.com/uploaded_files/image/1920x1080/getty_501707442_249236.jpg)\n",
    "\n",
    "### **About**\n",
    "<p> The World Happiness Report is a landmark survey of the state of global happiness . The report continues to gain global recognition as governments, organizations and civil society increasingly use happiness indicators to inform their policy-making decisions. Leading experts across fields – economics, psychology, survey analysis, national statistics, health, public policy and more – describe how measurements of well-being can be used effectively to assess the progress of nations. The reports review the state of happiness in the world today and show how the new science of happiness explains personal and national variations in happiness. </p>\n",
    "\n",
    "### Content\n",
    "\n",
    "The happiness scores and rankings use data from the Gallup World Poll . The columns following the happiness score estimate the extent to which each of six factors – economic production, social support, life expectancy, freedom, absence of corruption, and generosity – contribute to making life evaluations higher in each country than they are in Dystopia, a hypothetical country that has values equal to the world’s lowest national averages for each of the six factors. They have no impact on the total score reported for each country, but they do explain why some countries rank higher than others.\n"
   ]
  },
  {
   "cell_type": "markdown",
   "metadata": {},
   "source": [
    "**Importing the Libraries**"
   ]
  },
  {
   "cell_type": "code",
   "execution_count": 31,
   "metadata": {
    "execution": {
     "iopub.execute_input": "2021-06-17T07:04:25.716489Z",
     "iopub.status.busy": "2021-06-17T07:04:25.716150Z",
     "iopub.status.idle": "2021-06-17T07:04:25.723579Z",
     "shell.execute_reply": "2021-06-17T07:04:25.722270Z",
     "shell.execute_reply.started": "2021-06-17T07:04:25.716461Z"
    }
   },
   "outputs": [],
   "source": [
    "import numpy as np\n",
    "import pandas as pd\n",
    "\n",
    "import matplotlib.pyplot as plt\n",
    "import seaborn as sns\n",
    "%matplotlib inline\n",
    "sns.set_style(\"darkgrid\")\n",
    "\n",
    "import plotly.express as px"
   ]
  },
  {
   "cell_type": "code",
   "execution_count": 134,
   "metadata": {
    "execution": {
     "iopub.execute_input": "2021-06-17T07:09:21.445827Z",
     "iopub.status.busy": "2021-06-17T07:09:21.445495Z",
     "iopub.status.idle": "2021-06-17T07:09:21.464335Z",
     "shell.execute_reply": "2021-06-17T07:09:21.463558Z",
     "shell.execute_reply.started": "2021-06-17T07:09:21.445798Z"
    }
   },
   "outputs": [],
   "source": [
    "# Reading the Datasets\n",
    "df = pd.read_csv(\"/home/anshal/Work/EDA/World Happiness Report/Dataset/world-happiness-report-2021.csv\")"
   ]
  },
  {
   "cell_type": "code",
   "execution_count": 3,
   "metadata": {
    "execution": {
     "iopub.execute_input": "2021-06-17T07:09:38.027210Z",
     "iopub.status.busy": "2021-06-17T07:09:38.026856Z",
     "iopub.status.idle": "2021-06-17T07:09:38.055608Z",
     "shell.execute_reply": "2021-06-17T07:09:38.054842Z",
     "shell.execute_reply.started": "2021-06-17T07:09:38.027181Z"
    }
   },
   "outputs": [
    {
     "data": {
      "text/html": [
       "<div>\n",
       "<style scoped>\n",
       "    .dataframe tbody tr th:only-of-type {\n",
       "        vertical-align: middle;\n",
       "    }\n",
       "\n",
       "    .dataframe tbody tr th {\n",
       "        vertical-align: top;\n",
       "    }\n",
       "\n",
       "    .dataframe thead th {\n",
       "        text-align: right;\n",
       "    }\n",
       "</style>\n",
       "<table border=\"1\" class=\"dataframe\">\n",
       "  <thead>\n",
       "    <tr style=\"text-align: right;\">\n",
       "      <th></th>\n",
       "      <th>Country name</th>\n",
       "      <th>Regional indicator</th>\n",
       "      <th>Ladder score</th>\n",
       "      <th>Standard error of ladder score</th>\n",
       "      <th>upperwhisker</th>\n",
       "      <th>lowerwhisker</th>\n",
       "      <th>Logged GDP per capita</th>\n",
       "      <th>Social support</th>\n",
       "      <th>Healthy life expectancy</th>\n",
       "      <th>Freedom to make life choices</th>\n",
       "      <th>Generosity</th>\n",
       "      <th>Perceptions of corruption</th>\n",
       "      <th>Ladder score in Dystopia</th>\n",
       "      <th>Explained by: Log GDP per capita</th>\n",
       "      <th>Explained by: Social support</th>\n",
       "      <th>Explained by: Healthy life expectancy</th>\n",
       "      <th>Explained by: Freedom to make life choices</th>\n",
       "      <th>Explained by: Generosity</th>\n",
       "      <th>Explained by: Perceptions of corruption</th>\n",
       "      <th>Dystopia + residual</th>\n",
       "    </tr>\n",
       "  </thead>\n",
       "  <tbody>\n",
       "    <tr>\n",
       "      <th>0</th>\n",
       "      <td>Finland</td>\n",
       "      <td>Western Europe</td>\n",
       "      <td>7.842</td>\n",
       "      <td>0.032</td>\n",
       "      <td>7.904</td>\n",
       "      <td>7.780</td>\n",
       "      <td>10.775</td>\n",
       "      <td>0.954</td>\n",
       "      <td>72.0</td>\n",
       "      <td>0.949</td>\n",
       "      <td>-0.098</td>\n",
       "      <td>0.186</td>\n",
       "      <td>2.43</td>\n",
       "      <td>1.446</td>\n",
       "      <td>1.106</td>\n",
       "      <td>0.741</td>\n",
       "      <td>0.691</td>\n",
       "      <td>0.124</td>\n",
       "      <td>0.481</td>\n",
       "      <td>3.253</td>\n",
       "    </tr>\n",
       "    <tr>\n",
       "      <th>1</th>\n",
       "      <td>Denmark</td>\n",
       "      <td>Western Europe</td>\n",
       "      <td>7.620</td>\n",
       "      <td>0.035</td>\n",
       "      <td>7.687</td>\n",
       "      <td>7.552</td>\n",
       "      <td>10.933</td>\n",
       "      <td>0.954</td>\n",
       "      <td>72.7</td>\n",
       "      <td>0.946</td>\n",
       "      <td>0.030</td>\n",
       "      <td>0.179</td>\n",
       "      <td>2.43</td>\n",
       "      <td>1.502</td>\n",
       "      <td>1.108</td>\n",
       "      <td>0.763</td>\n",
       "      <td>0.686</td>\n",
       "      <td>0.208</td>\n",
       "      <td>0.485</td>\n",
       "      <td>2.868</td>\n",
       "    </tr>\n",
       "    <tr>\n",
       "      <th>2</th>\n",
       "      <td>Switzerland</td>\n",
       "      <td>Western Europe</td>\n",
       "      <td>7.571</td>\n",
       "      <td>0.036</td>\n",
       "      <td>7.643</td>\n",
       "      <td>7.500</td>\n",
       "      <td>11.117</td>\n",
       "      <td>0.942</td>\n",
       "      <td>74.4</td>\n",
       "      <td>0.919</td>\n",
       "      <td>0.025</td>\n",
       "      <td>0.292</td>\n",
       "      <td>2.43</td>\n",
       "      <td>1.566</td>\n",
       "      <td>1.079</td>\n",
       "      <td>0.816</td>\n",
       "      <td>0.653</td>\n",
       "      <td>0.204</td>\n",
       "      <td>0.413</td>\n",
       "      <td>2.839</td>\n",
       "    </tr>\n",
       "    <tr>\n",
       "      <th>3</th>\n",
       "      <td>Iceland</td>\n",
       "      <td>Western Europe</td>\n",
       "      <td>7.554</td>\n",
       "      <td>0.059</td>\n",
       "      <td>7.670</td>\n",
       "      <td>7.438</td>\n",
       "      <td>10.878</td>\n",
       "      <td>0.983</td>\n",
       "      <td>73.0</td>\n",
       "      <td>0.955</td>\n",
       "      <td>0.160</td>\n",
       "      <td>0.673</td>\n",
       "      <td>2.43</td>\n",
       "      <td>1.482</td>\n",
       "      <td>1.172</td>\n",
       "      <td>0.772</td>\n",
       "      <td>0.698</td>\n",
       "      <td>0.293</td>\n",
       "      <td>0.170</td>\n",
       "      <td>2.967</td>\n",
       "    </tr>\n",
       "    <tr>\n",
       "      <th>4</th>\n",
       "      <td>Netherlands</td>\n",
       "      <td>Western Europe</td>\n",
       "      <td>7.464</td>\n",
       "      <td>0.027</td>\n",
       "      <td>7.518</td>\n",
       "      <td>7.410</td>\n",
       "      <td>10.932</td>\n",
       "      <td>0.942</td>\n",
       "      <td>72.4</td>\n",
       "      <td>0.913</td>\n",
       "      <td>0.175</td>\n",
       "      <td>0.338</td>\n",
       "      <td>2.43</td>\n",
       "      <td>1.501</td>\n",
       "      <td>1.079</td>\n",
       "      <td>0.753</td>\n",
       "      <td>0.647</td>\n",
       "      <td>0.302</td>\n",
       "      <td>0.384</td>\n",
       "      <td>2.798</td>\n",
       "    </tr>\n",
       "  </tbody>\n",
       "</table>\n",
       "</div>"
      ],
      "text/plain": [
       "  Country name Regional indicator  Ladder score  \\\n",
       "0      Finland     Western Europe         7.842   \n",
       "1      Denmark     Western Europe         7.620   \n",
       "2  Switzerland     Western Europe         7.571   \n",
       "3      Iceland     Western Europe         7.554   \n",
       "4  Netherlands     Western Europe         7.464   \n",
       "\n",
       "   Standard error of ladder score  upperwhisker  lowerwhisker  \\\n",
       "0                           0.032         7.904         7.780   \n",
       "1                           0.035         7.687         7.552   \n",
       "2                           0.036         7.643         7.500   \n",
       "3                           0.059         7.670         7.438   \n",
       "4                           0.027         7.518         7.410   \n",
       "\n",
       "   Logged GDP per capita  Social support  Healthy life expectancy  \\\n",
       "0                 10.775           0.954                     72.0   \n",
       "1                 10.933           0.954                     72.7   \n",
       "2                 11.117           0.942                     74.4   \n",
       "3                 10.878           0.983                     73.0   \n",
       "4                 10.932           0.942                     72.4   \n",
       "\n",
       "   Freedom to make life choices  Generosity  Perceptions of corruption  \\\n",
       "0                         0.949      -0.098                      0.186   \n",
       "1                         0.946       0.030                      0.179   \n",
       "2                         0.919       0.025                      0.292   \n",
       "3                         0.955       0.160                      0.673   \n",
       "4                         0.913       0.175                      0.338   \n",
       "\n",
       "   Ladder score in Dystopia  Explained by: Log GDP per capita  \\\n",
       "0                      2.43                             1.446   \n",
       "1                      2.43                             1.502   \n",
       "2                      2.43                             1.566   \n",
       "3                      2.43                             1.482   \n",
       "4                      2.43                             1.501   \n",
       "\n",
       "   Explained by: Social support  Explained by: Healthy life expectancy  \\\n",
       "0                         1.106                                  0.741   \n",
       "1                         1.108                                  0.763   \n",
       "2                         1.079                                  0.816   \n",
       "3                         1.172                                  0.772   \n",
       "4                         1.079                                  0.753   \n",
       "\n",
       "   Explained by: Freedom to make life choices  Explained by: Generosity  \\\n",
       "0                                       0.691                     0.124   \n",
       "1                                       0.686                     0.208   \n",
       "2                                       0.653                     0.204   \n",
       "3                                       0.698                     0.293   \n",
       "4                                       0.647                     0.302   \n",
       "\n",
       "   Explained by: Perceptions of corruption  Dystopia + residual  \n",
       "0                                    0.481                3.253  \n",
       "1                                    0.485                2.868  \n",
       "2                                    0.413                2.839  \n",
       "3                                    0.170                2.967  \n",
       "4                                    0.384                2.798  "
      ]
     },
     "execution_count": 3,
     "metadata": {},
     "output_type": "execute_result"
    }
   ],
   "source": [
    "# First 5 rows of the data\n",
    "df.head()"
   ]
  },
  {
   "cell_type": "code",
   "execution_count": 4,
   "metadata": {
    "execution": {
     "iopub.execute_input": "2021-06-17T07:12:53.052564Z",
     "iopub.status.busy": "2021-06-17T07:12:53.052201Z",
     "iopub.status.idle": "2021-06-17T07:12:53.057402Z",
     "shell.execute_reply": "2021-06-17T07:12:53.056764Z",
     "shell.execute_reply.started": "2021-06-17T07:12:53.052533Z"
    }
   },
   "outputs": [
    {
     "data": {
      "text/plain": [
       "(149, 20)"
      ]
     },
     "execution_count": 4,
     "metadata": {},
     "output_type": "execute_result"
    }
   ],
   "source": [
    "#shape of data\n",
    "df.shape"
   ]
  },
  {
   "cell_type": "code",
   "execution_count": 5,
   "metadata": {
    "execution": {
     "iopub.execute_input": "2021-06-17T07:13:25.262589Z",
     "iopub.status.busy": "2021-06-17T07:13:25.262243Z",
     "iopub.status.idle": "2021-06-17T07:13:25.270047Z",
     "shell.execute_reply": "2021-06-17T07:13:25.269167Z",
     "shell.execute_reply.started": "2021-06-17T07:13:25.262564Z"
    }
   },
   "outputs": [
    {
     "data": {
      "text/plain": [
       "Country name                                  False\n",
       "Regional indicator                            False\n",
       "Ladder score                                  False\n",
       "Standard error of ladder score                False\n",
       "upperwhisker                                  False\n",
       "lowerwhisker                                  False\n",
       "Logged GDP per capita                         False\n",
       "Social support                                False\n",
       "Healthy life expectancy                       False\n",
       "Freedom to make life choices                  False\n",
       "Generosity                                    False\n",
       "Perceptions of corruption                     False\n",
       "Ladder score in Dystopia                      False\n",
       "Explained by: Log GDP per capita              False\n",
       "Explained by: Social support                  False\n",
       "Explained by: Healthy life expectancy         False\n",
       "Explained by: Freedom to make life choices    False\n",
       "Explained by: Generosity                      False\n",
       "Explained by: Perceptions of corruption       False\n",
       "Dystopia + residual                           False\n",
       "dtype: bool"
      ]
     },
     "execution_count": 5,
     "metadata": {},
     "output_type": "execute_result"
    }
   ],
   "source": [
    "# Null ???\n",
    "df.isnull().any()"
   ]
  },
  {
   "cell_type": "code",
   "execution_count": 6,
   "metadata": {
    "execution": {
     "iopub.execute_input": "2021-06-17T07:10:01.396340Z",
     "iopub.status.busy": "2021-06-17T07:10:01.395799Z",
     "iopub.status.idle": "2021-06-17T07:10:01.418423Z",
     "shell.execute_reply": "2021-06-17T07:10:01.417583Z",
     "shell.execute_reply.started": "2021-06-17T07:10:01.396291Z"
    }
   },
   "outputs": [
    {
     "name": "stdout",
     "output_type": "stream",
     "text": [
      "<class 'pandas.core.frame.DataFrame'>\n",
      "RangeIndex: 149 entries, 0 to 148\n",
      "Data columns (total 20 columns):\n",
      " #   Column                                      Non-Null Count  Dtype  \n",
      "---  ------                                      --------------  -----  \n",
      " 0   Country name                                149 non-null    object \n",
      " 1   Regional indicator                          149 non-null    object \n",
      " 2   Ladder score                                149 non-null    float64\n",
      " 3   Standard error of ladder score              149 non-null    float64\n",
      " 4   upperwhisker                                149 non-null    float64\n",
      " 5   lowerwhisker                                149 non-null    float64\n",
      " 6   Logged GDP per capita                       149 non-null    float64\n",
      " 7   Social support                              149 non-null    float64\n",
      " 8   Healthy life expectancy                     149 non-null    float64\n",
      " 9   Freedom to make life choices                149 non-null    float64\n",
      " 10  Generosity                                  149 non-null    float64\n",
      " 11  Perceptions of corruption                   149 non-null    float64\n",
      " 12  Ladder score in Dystopia                    149 non-null    float64\n",
      " 13  Explained by: Log GDP per capita            149 non-null    float64\n",
      " 14  Explained by: Social support                149 non-null    float64\n",
      " 15  Explained by: Healthy life expectancy       149 non-null    float64\n",
      " 16  Explained by: Freedom to make life choices  149 non-null    float64\n",
      " 17  Explained by: Generosity                    149 non-null    float64\n",
      " 18  Explained by: Perceptions of corruption     149 non-null    float64\n",
      " 19  Dystopia + residual                         149 non-null    float64\n",
      "dtypes: float64(18), object(2)\n",
      "memory usage: 23.4+ KB\n"
     ]
    }
   ],
   "source": [
    "# Info about the data\n",
    "df.info()"
   ]
  },
  {
   "cell_type": "code",
   "execution_count": 7,
   "metadata": {
    "execution": {
     "iopub.execute_input": "2021-06-17T07:10:28.421433Z",
     "iopub.status.busy": "2021-06-17T07:10:28.421100Z",
     "iopub.status.idle": "2021-06-17T07:10:28.482527Z",
     "shell.execute_reply": "2021-06-17T07:10:28.481512Z",
     "shell.execute_reply.started": "2021-06-17T07:10:28.421405Z"
    }
   },
   "outputs": [
    {
     "data": {
      "text/html": [
       "<div>\n",
       "<style scoped>\n",
       "    .dataframe tbody tr th:only-of-type {\n",
       "        vertical-align: middle;\n",
       "    }\n",
       "\n",
       "    .dataframe tbody tr th {\n",
       "        vertical-align: top;\n",
       "    }\n",
       "\n",
       "    .dataframe thead th {\n",
       "        text-align: right;\n",
       "    }\n",
       "</style>\n",
       "<table border=\"1\" class=\"dataframe\">\n",
       "  <thead>\n",
       "    <tr style=\"text-align: right;\">\n",
       "      <th></th>\n",
       "      <th>count</th>\n",
       "      <th>mean</th>\n",
       "      <th>std</th>\n",
       "      <th>min</th>\n",
       "      <th>25%</th>\n",
       "      <th>50%</th>\n",
       "      <th>75%</th>\n",
       "      <th>max</th>\n",
       "    </tr>\n",
       "  </thead>\n",
       "  <tbody>\n",
       "    <tr>\n",
       "      <th>Ladder score</th>\n",
       "      <td>149.0</td>\n",
       "      <td>5.532839</td>\n",
       "      <td>1.073924</td>\n",
       "      <td>2.523</td>\n",
       "      <td>4.852</td>\n",
       "      <td>5.534</td>\n",
       "      <td>6.255</td>\n",
       "      <td>7.842</td>\n",
       "    </tr>\n",
       "    <tr>\n",
       "      <th>Standard error of ladder score</th>\n",
       "      <td>149.0</td>\n",
       "      <td>0.058752</td>\n",
       "      <td>0.022001</td>\n",
       "      <td>0.026</td>\n",
       "      <td>0.043</td>\n",
       "      <td>0.054</td>\n",
       "      <td>0.070</td>\n",
       "      <td>0.173</td>\n",
       "    </tr>\n",
       "    <tr>\n",
       "      <th>upperwhisker</th>\n",
       "      <td>149.0</td>\n",
       "      <td>5.648007</td>\n",
       "      <td>1.054330</td>\n",
       "      <td>2.596</td>\n",
       "      <td>4.991</td>\n",
       "      <td>5.625</td>\n",
       "      <td>6.344</td>\n",
       "      <td>7.904</td>\n",
       "    </tr>\n",
       "    <tr>\n",
       "      <th>lowerwhisker</th>\n",
       "      <td>149.0</td>\n",
       "      <td>5.417631</td>\n",
       "      <td>1.094879</td>\n",
       "      <td>2.449</td>\n",
       "      <td>4.706</td>\n",
       "      <td>5.413</td>\n",
       "      <td>6.128</td>\n",
       "      <td>7.780</td>\n",
       "    </tr>\n",
       "    <tr>\n",
       "      <th>Logged GDP per capita</th>\n",
       "      <td>149.0</td>\n",
       "      <td>9.432208</td>\n",
       "      <td>1.158601</td>\n",
       "      <td>6.635</td>\n",
       "      <td>8.541</td>\n",
       "      <td>9.569</td>\n",
       "      <td>10.421</td>\n",
       "      <td>11.647</td>\n",
       "    </tr>\n",
       "    <tr>\n",
       "      <th>Social support</th>\n",
       "      <td>149.0</td>\n",
       "      <td>0.814745</td>\n",
       "      <td>0.114889</td>\n",
       "      <td>0.463</td>\n",
       "      <td>0.750</td>\n",
       "      <td>0.832</td>\n",
       "      <td>0.905</td>\n",
       "      <td>0.983</td>\n",
       "    </tr>\n",
       "    <tr>\n",
       "      <th>Healthy life expectancy</th>\n",
       "      <td>149.0</td>\n",
       "      <td>64.992799</td>\n",
       "      <td>6.762043</td>\n",
       "      <td>48.478</td>\n",
       "      <td>59.802</td>\n",
       "      <td>66.603</td>\n",
       "      <td>69.600</td>\n",
       "      <td>76.953</td>\n",
       "    </tr>\n",
       "    <tr>\n",
       "      <th>Freedom to make life choices</th>\n",
       "      <td>149.0</td>\n",
       "      <td>0.791597</td>\n",
       "      <td>0.113332</td>\n",
       "      <td>0.382</td>\n",
       "      <td>0.718</td>\n",
       "      <td>0.804</td>\n",
       "      <td>0.877</td>\n",
       "      <td>0.970</td>\n",
       "    </tr>\n",
       "    <tr>\n",
       "      <th>Generosity</th>\n",
       "      <td>149.0</td>\n",
       "      <td>-0.015134</td>\n",
       "      <td>0.150657</td>\n",
       "      <td>-0.288</td>\n",
       "      <td>-0.126</td>\n",
       "      <td>-0.036</td>\n",
       "      <td>0.079</td>\n",
       "      <td>0.542</td>\n",
       "    </tr>\n",
       "    <tr>\n",
       "      <th>Perceptions of corruption</th>\n",
       "      <td>149.0</td>\n",
       "      <td>0.727450</td>\n",
       "      <td>0.179226</td>\n",
       "      <td>0.082</td>\n",
       "      <td>0.667</td>\n",
       "      <td>0.781</td>\n",
       "      <td>0.845</td>\n",
       "      <td>0.939</td>\n",
       "    </tr>\n",
       "    <tr>\n",
       "      <th>Ladder score in Dystopia</th>\n",
       "      <td>149.0</td>\n",
       "      <td>2.430000</td>\n",
       "      <td>0.000000</td>\n",
       "      <td>2.430</td>\n",
       "      <td>2.430</td>\n",
       "      <td>2.430</td>\n",
       "      <td>2.430</td>\n",
       "      <td>2.430</td>\n",
       "    </tr>\n",
       "    <tr>\n",
       "      <th>Explained by: Log GDP per capita</th>\n",
       "      <td>149.0</td>\n",
       "      <td>0.977161</td>\n",
       "      <td>0.404740</td>\n",
       "      <td>0.000</td>\n",
       "      <td>0.666</td>\n",
       "      <td>1.025</td>\n",
       "      <td>1.323</td>\n",
       "      <td>1.751</td>\n",
       "    </tr>\n",
       "    <tr>\n",
       "      <th>Explained by: Social support</th>\n",
       "      <td>149.0</td>\n",
       "      <td>0.793315</td>\n",
       "      <td>0.258871</td>\n",
       "      <td>0.000</td>\n",
       "      <td>0.647</td>\n",
       "      <td>0.832</td>\n",
       "      <td>0.996</td>\n",
       "      <td>1.172</td>\n",
       "    </tr>\n",
       "    <tr>\n",
       "      <th>Explained by: Healthy life expectancy</th>\n",
       "      <td>149.0</td>\n",
       "      <td>0.520161</td>\n",
       "      <td>0.213019</td>\n",
       "      <td>0.000</td>\n",
       "      <td>0.357</td>\n",
       "      <td>0.571</td>\n",
       "      <td>0.665</td>\n",
       "      <td>0.897</td>\n",
       "    </tr>\n",
       "    <tr>\n",
       "      <th>Explained by: Freedom to make life choices</th>\n",
       "      <td>149.0</td>\n",
       "      <td>0.498711</td>\n",
       "      <td>0.137888</td>\n",
       "      <td>0.000</td>\n",
       "      <td>0.409</td>\n",
       "      <td>0.514</td>\n",
       "      <td>0.603</td>\n",
       "      <td>0.716</td>\n",
       "    </tr>\n",
       "    <tr>\n",
       "      <th>Explained by: Generosity</th>\n",
       "      <td>149.0</td>\n",
       "      <td>0.178047</td>\n",
       "      <td>0.098270</td>\n",
       "      <td>0.000</td>\n",
       "      <td>0.105</td>\n",
       "      <td>0.164</td>\n",
       "      <td>0.239</td>\n",
       "      <td>0.541</td>\n",
       "    </tr>\n",
       "    <tr>\n",
       "      <th>Explained by: Perceptions of corruption</th>\n",
       "      <td>149.0</td>\n",
       "      <td>0.135141</td>\n",
       "      <td>0.114361</td>\n",
       "      <td>0.000</td>\n",
       "      <td>0.060</td>\n",
       "      <td>0.101</td>\n",
       "      <td>0.174</td>\n",
       "      <td>0.547</td>\n",
       "    </tr>\n",
       "    <tr>\n",
       "      <th>Dystopia + residual</th>\n",
       "      <td>149.0</td>\n",
       "      <td>2.430329</td>\n",
       "      <td>0.537645</td>\n",
       "      <td>0.648</td>\n",
       "      <td>2.138</td>\n",
       "      <td>2.509</td>\n",
       "      <td>2.794</td>\n",
       "      <td>3.482</td>\n",
       "    </tr>\n",
       "  </tbody>\n",
       "</table>\n",
       "</div>"
      ],
      "text/plain": [
       "                                            count       mean       std  \\\n",
       "Ladder score                                149.0   5.532839  1.073924   \n",
       "Standard error of ladder score              149.0   0.058752  0.022001   \n",
       "upperwhisker                                149.0   5.648007  1.054330   \n",
       "lowerwhisker                                149.0   5.417631  1.094879   \n",
       "Logged GDP per capita                       149.0   9.432208  1.158601   \n",
       "Social support                              149.0   0.814745  0.114889   \n",
       "Healthy life expectancy                     149.0  64.992799  6.762043   \n",
       "Freedom to make life choices                149.0   0.791597  0.113332   \n",
       "Generosity                                  149.0  -0.015134  0.150657   \n",
       "Perceptions of corruption                   149.0   0.727450  0.179226   \n",
       "Ladder score in Dystopia                    149.0   2.430000  0.000000   \n",
       "Explained by: Log GDP per capita            149.0   0.977161  0.404740   \n",
       "Explained by: Social support                149.0   0.793315  0.258871   \n",
       "Explained by: Healthy life expectancy       149.0   0.520161  0.213019   \n",
       "Explained by: Freedom to make life choices  149.0   0.498711  0.137888   \n",
       "Explained by: Generosity                    149.0   0.178047  0.098270   \n",
       "Explained by: Perceptions of corruption     149.0   0.135141  0.114361   \n",
       "Dystopia + residual                         149.0   2.430329  0.537645   \n",
       "\n",
       "                                               min     25%     50%     75%  \\\n",
       "Ladder score                                 2.523   4.852   5.534   6.255   \n",
       "Standard error of ladder score               0.026   0.043   0.054   0.070   \n",
       "upperwhisker                                 2.596   4.991   5.625   6.344   \n",
       "lowerwhisker                                 2.449   4.706   5.413   6.128   \n",
       "Logged GDP per capita                        6.635   8.541   9.569  10.421   \n",
       "Social support                               0.463   0.750   0.832   0.905   \n",
       "Healthy life expectancy                     48.478  59.802  66.603  69.600   \n",
       "Freedom to make life choices                 0.382   0.718   0.804   0.877   \n",
       "Generosity                                  -0.288  -0.126  -0.036   0.079   \n",
       "Perceptions of corruption                    0.082   0.667   0.781   0.845   \n",
       "Ladder score in Dystopia                     2.430   2.430   2.430   2.430   \n",
       "Explained by: Log GDP per capita             0.000   0.666   1.025   1.323   \n",
       "Explained by: Social support                 0.000   0.647   0.832   0.996   \n",
       "Explained by: Healthy life expectancy        0.000   0.357   0.571   0.665   \n",
       "Explained by: Freedom to make life choices   0.000   0.409   0.514   0.603   \n",
       "Explained by: Generosity                     0.000   0.105   0.164   0.239   \n",
       "Explained by: Perceptions of corruption      0.000   0.060   0.101   0.174   \n",
       "Dystopia + residual                          0.648   2.138   2.509   2.794   \n",
       "\n",
       "                                               max  \n",
       "Ladder score                                 7.842  \n",
       "Standard error of ladder score               0.173  \n",
       "upperwhisker                                 7.904  \n",
       "lowerwhisker                                 7.780  \n",
       "Logged GDP per capita                       11.647  \n",
       "Social support                               0.983  \n",
       "Healthy life expectancy                     76.953  \n",
       "Freedom to make life choices                 0.970  \n",
       "Generosity                                   0.542  \n",
       "Perceptions of corruption                    0.939  \n",
       "Ladder score in Dystopia                     2.430  \n",
       "Explained by: Log GDP per capita             1.751  \n",
       "Explained by: Social support                 1.172  \n",
       "Explained by: Healthy life expectancy        0.897  \n",
       "Explained by: Freedom to make life choices   0.716  \n",
       "Explained by: Generosity                     0.541  \n",
       "Explained by: Perceptions of corruption      0.547  \n",
       "Dystopia + residual                          3.482  "
      ]
     },
     "execution_count": 7,
     "metadata": {},
     "output_type": "execute_result"
    }
   ],
   "source": [
    "# Description of the data\n",
    "df.describe().transpose()"
   ]
  },
  {
   "cell_type": "markdown",
   "metadata": {},
   "source": [
    "### Showing the correlation between columns"
   ]
  },
  {
   "cell_type": "code",
   "execution_count": 12,
   "metadata": {},
   "outputs": [
    {
     "data": {
      "image/png": "[encoded data removed]",
      "text/plain": [
       "<Figure size 1296x648 with 2 Axes>"
      ]
     },
     "metadata": {},
     "output_type": "display_data"
    }
   ],
   "source": [
    "plt.figure(figsize=[18,9])\n",
    "sns.heatmap(df.corr(),annot=True,cmap=\"Blues\");"
   ]
  },
  {
   "cell_type": "markdown",
   "metadata": {},
   "source": [
    "### **Ladder Score :** \n",
    "The rankings of national happiness are based on a Cantril ladder survey. Nationally representative samples of respondents are asked to think of a ladder, with the best possible life for them being a 10, and the worst possible life being a 0. They are then asked to rate their own current lives on that 0 to 10 scale."
   ]
  },
  {
   "cell_type": "code",
   "execution_count": 24,
   "metadata": {},
   "outputs": [],
   "source": [
    "ladder_score = df[['Ladder score',\"Standard error of ladder score\",'Country name']].sort_values(\"Ladder score\",ascending=False)"
   ]
  },
  {
   "cell_type": "code",
   "execution_count": 65,
   "metadata": {},
   "outputs": [
    {
     "data": {
      "text/html": [
       "<div>\n",
       "<style scoped>\n",
       "    .dataframe tbody tr th:only-of-type {\n",
       "        vertical-align: middle;\n",
       "    }\n",
       "\n",
       "    .dataframe tbody tr th {\n",
       "        vertical-align: top;\n",
       "    }\n",
       "\n",
       "    .dataframe thead th {\n",
       "        text-align: right;\n",
       "    }\n",
       "</style>\n",
       "<table border=\"1\" class=\"dataframe\">\n",
       "  <thead>\n",
       "    <tr style=\"text-align: right;\">\n",
       "      <th></th>\n",
       "      <th>Ladder score</th>\n",
       "      <th>Standard error of ladder score</th>\n",
       "      <th>Country name</th>\n",
       "    </tr>\n",
       "  </thead>\n",
       "  <tbody>\n",
       "    <tr>\n",
       "      <th>0</th>\n",
       "      <td>7.842</td>\n",
       "      <td>0.032</td>\n",
       "      <td>Finland</td>\n",
       "    </tr>\n",
       "    <tr>\n",
       "      <th>1</th>\n",
       "      <td>7.620</td>\n",
       "      <td>0.035</td>\n",
       "      <td>Denmark</td>\n",
       "    </tr>\n",
       "    <tr>\n",
       "      <th>2</th>\n",
       "      <td>7.571</td>\n",
       "      <td>0.036</td>\n",
       "      <td>Switzerland</td>\n",
       "    </tr>\n",
       "    <tr>\n",
       "      <th>3</th>\n",
       "      <td>7.554</td>\n",
       "      <td>0.059</td>\n",
       "      <td>Iceland</td>\n",
       "    </tr>\n",
       "    <tr>\n",
       "      <th>4</th>\n",
       "      <td>7.464</td>\n",
       "      <td>0.027</td>\n",
       "      <td>Netherlands</td>\n",
       "    </tr>\n",
       "    <tr>\n",
       "      <th>5</th>\n",
       "      <td>7.392</td>\n",
       "      <td>0.035</td>\n",
       "      <td>Norway</td>\n",
       "    </tr>\n",
       "    <tr>\n",
       "      <th>6</th>\n",
       "      <td>7.363</td>\n",
       "      <td>0.036</td>\n",
       "      <td>Sweden</td>\n",
       "    </tr>\n",
       "    <tr>\n",
       "      <th>7</th>\n",
       "      <td>7.324</td>\n",
       "      <td>0.037</td>\n",
       "      <td>Luxembourg</td>\n",
       "    </tr>\n",
       "    <tr>\n",
       "      <th>8</th>\n",
       "      <td>7.277</td>\n",
       "      <td>0.040</td>\n",
       "      <td>New Zealand</td>\n",
       "    </tr>\n",
       "    <tr>\n",
       "      <th>9</th>\n",
       "      <td>7.268</td>\n",
       "      <td>0.036</td>\n",
       "      <td>Austria</td>\n",
       "    </tr>\n",
       "  </tbody>\n",
       "</table>\n",
       "</div>"
      ],
      "text/plain": [
       "   Ladder score  Standard error of ladder score Country name\n",
       "0         7.842                           0.032      Finland\n",
       "1         7.620                           0.035      Denmark\n",
       "2         7.571                           0.036  Switzerland\n",
       "3         7.554                           0.059      Iceland\n",
       "4         7.464                           0.027  Netherlands\n",
       "5         7.392                           0.035       Norway\n",
       "6         7.363                           0.036       Sweden\n",
       "7         7.324                           0.037   Luxembourg\n",
       "8         7.277                           0.040  New Zealand\n",
       "9         7.268                           0.036      Austria"
      ]
     },
     "execution_count": 65,
     "metadata": {},
     "output_type": "execute_result"
    }
   ],
   "source": [
    "ladder_score[:10]"
   ]
  },
  {
   "cell_type": "code",
   "execution_count": 69,
   "metadata": {},
   "outputs": [
    {
     "data": {
      "application/vnd.plotly.v1+json": {
       "config": {
        "plotlyServerURL": "https://plot.ly"
       },
       "data": [
        {
         "alignmentgroup": "True",
         "bingroup": "y",
         "histfunc": "sum",
         "hovertemplate": "Country name=%{y}<br>sum of Ladder score=%{x}<extra></extra>",
         "legendgroup": "Finland",
         "marker": {
          "color": "#636efa"
         },
         "name": "Finland",
         "offsetgroup": "Finland",
         "orientation": "h",
         "showlegend": true,
         "type": "histogram",
         "x": [
          7.842
         ],
         "xaxis": "x",
         "y": [
          "Finland"
         ],
         "yaxis": "y"
        },
        {
         "alignmentgroup": "True",
         "bingroup": "y",
         "histfunc": "sum",
         "hovertemplate": "Country name=%{y}<br>sum of Ladder score=%{x}<extra></extra>",
         "legendgroup": "Denmark",
         "marker": {
          "color": "#EF553B"
         },
         "name": "Denmark",
         "offsetgroup": "Denmark",
         "orientation": "h",
         "showlegend": true,
         "type": "histogram",
         "x": [
          7.62
         ],
         "xaxis": "x",
         "y": [
          "Denmark"
         ],
         "yaxis": "y"
        },
        {
         "alignmentgroup": "True",
         "bingroup": "y",
         "histfunc": "sum",
         "hovertemplate": "Country name=%{y}<br>sum of Ladder score=%{x}<extra></extra>",
         "legendgroup": "Switzerland",
         "marker": {
          "color": "#00cc96"
         },
         "name": "Switzerland",
         "offsetgroup": "Switzerland",
         "orientation": "h",
         "showlegend": true,
         "type": "histogram",
         "x": [
          7.571
         ],
         "xaxis": "x",
         "y": [
          "Switzerland"
         ],
         "yaxis": "y"
        },
        {
         "alignmentgroup": "True",
         "bingroup": "y",
         "histfunc": "sum",
         "hovertemplate": "Country name=%{y}<br>sum of Ladder score=%{x}<extra></extra>",
         "legendgroup": "Iceland",
         "marker": {
          "color": "#ab63fa"
         },
         "name": "Iceland",
         "offsetgroup": "Iceland",
         "orientation": "h",
         "showlegend": true,
         "type": "histogram",
         "x": [
          7.554
         ],
         "xaxis": "x",
         "y": [
          "Iceland"
         ],
         "yaxis": "y"
        },
        {
         "alignmentgroup": "True",
         "bingroup": "y",
         "histfunc": "sum",
         "hovertemplate": "Country name=%{y}<br>sum of Ladder score=%{x}<extra></extra>",
         "legendgroup": "Netherlands",
         "marker": {
          "color": "#FFA15A"
         },
         "name": "Netherlands",
         "offsetgroup": "Netherlands",
         "orientation": "h",
         "showlegend": true,
         "type": "histogram",
         "x": [
          7.464
         ],
         "xaxis": "x",
         "y": [
          "Netherlands"
         ],
         "yaxis": "y"
        },
        {
         "alignmentgroup": "True",
         "bingroup": "y",
         "histfunc": "sum",
         "hovertemplate": "Country name=%{y}<br>sum of Ladder score=%{x}<extra></extra>",
         "legendgroup": "Norway",
         "marker": {
          "color": "#19d3f3"
         },
         "name": "Norway",
         "offsetgroup": "Norway",
         "orientation": "h",
         "showlegend": true,
         "type": "histogram",
         "x": [
          7.392
         ],
         "xaxis": "x",
         "y": [
          "Norway"
         ],
         "yaxis": "y"
        },
        {
         "alignmentgroup": "True",
         "bingroup": "y",
         "histfunc": "sum",
         "hovertemplate": "Country name=%{y}<br>sum of Ladder score=%{x}<extra></extra>",
         "legendgroup": "Sweden",
         "marker": {
          "color": "#FF6692"
         },
         "name": "Sweden",
         "offsetgroup": "Sweden",
         "orientation": "h",
         "showlegend": true,
         "type": "histogram",
         "x": [
          7.363
         ],
         "xaxis": "x",
         "y": [
          "Sweden"
         ],
         "yaxis": "y"
        },
        {
         "alignmentgroup": "True",
         "bingroup": "y",
         "histfunc": "sum",
         "hovertemplate": "Country name=%{y}<br>sum of Ladder score=%{x}<extra></extra>",
         "legendgroup": "Luxembourg",
         "marker": {
          "color": "#B6E880"
         },
         "name": "Luxembourg",
         "offsetgroup": "Luxembourg",
         "orientation": "h",
         "showlegend": true,
         "type": "histogram",
         "x": [
          7.324
         ],
         "xaxis": "x",
         "y": [
          "Luxembourg"
         ],
         "yaxis": "y"
        },
        {
         "alignmentgroup": "True",
         "bingroup": "y",
         "histfunc": "sum",
         "hovertemplate": "Country name=%{y}<br>sum of Ladder score=%{x}<extra></extra>",
         "legendgroup": "New Zealand",
         "marker": {
          "color": "#FF97FF"
         },
         "name": "New Zealand",
         "offsetgroup": "New Zealand",
         "orientation": "h",
         "showlegend": true,
         "type": "histogram",
         "x": [
          7.277
         ],
         "xaxis": "x",
         "y": [
          "New Zealand"
         ],
         "yaxis": "y"
        },
        {
         "alignmentgroup": "True",
         "bingroup": "y",
         "histfunc": "sum",
         "hovertemplate": "Country name=%{y}<br>sum of Ladder score=%{x}<extra></extra>",
         "legendgroup": "Austria",
         "marker": {
          "color": "#FECB52"
         },
         "name": "Austria",
         "offsetgroup": "Austria",
         "orientation": "h",
         "showlegend": true,
         "type": "histogram",
         "x": [
          7.268
         ],
         "xaxis": "x",
         "y": [
          "Austria"
         ],
         "yaxis": "y"
        },
        {
         "alignmentgroup": "True",
         "bingroup": "y",
         "histfunc": "sum",
         "hovertemplate": "Country name=%{y}<br>sum of Ladder score=%{x}<extra></extra>",
         "legendgroup": "Australia",
         "marker": {
          "color": "#636efa"
         },
         "name": "Australia",
         "offsetgroup": "Australia",
         "orientation": "h",
         "showlegend": true,
         "type": "histogram",
         "x": [
          7.183
         ],
         "xaxis": "x",
         "y": [
          "Australia"
         ],
         "yaxis": "y"
        },
        {
         "alignmentgroup": "True",
         "bingroup": "y",
         "histfunc": "sum",
         "hovertemplate": "Country name=%{y}<br>sum of Ladder score=%{x}<extra></extra>",
         "legendgroup": "Israel",
         "marker": {
          "color": "#EF553B"
         },
         "name": "Israel",
         "offsetgroup": "Israel",
         "orientation": "h",
         "showlegend": true,
         "type": "histogram",
         "x": [
          7.157
         ],
         "xaxis": "x",
         "y": [
          "Israel"
         ],
         "yaxis": "y"
        }
       ],
       "layout": {
        "barmode": "relative",
        "legend": {
         "title": {
          "text": "Country name"
         },
         "tracegroupgap": 0
        },
        "template": {
         "data": {
          "bar": [
           {
            "error_x": {
             "color": "#2a3f5f"
            },
            "error_y": {
             "color": "#2a3f5f"
            },
            "marker": {
             "line": {
              "color": "#E5ECF6",
              "width": 0.5
             }
            },
            "type": "bar"
           }
          ],
          "barpolar": [
           {
            "marker": {
             "line": {
              "color": "#E5ECF6",
              "width": 0.5
             }
            },
            "type": "barpolar"
           }
          ],
          "carpet": [
           {
            "aaxis": {
             "endlinecolor": "#2a3f5f",
             "gridcolor": "white",
             "linecolor": "white",
             "minorgridcolor": "white",
             "startlinecolor": "#2a3f5f"
            },
            "baxis": {
             "endlinecolor": "#2a3f5f",
             "gridcolor": "white",
             "linecolor": "white",
             "minorgridcolor": "white",
             "startlinecolor": "#2a3f5f"
            },
            "type": "carpet"
           }
          ],
          "choropleth": [
           {
            "colorbar": {
             "outlinewidth": 0,
             "ticks": ""
            },
            "type": "choropleth"
           }
          ],
          "contour": [
           {
            "colorbar": {
             "outlinewidth": 0,
             "ticks": ""
            },
            "colorscale": [
             [
              0,
              "#0d0887"
             ],
             [
              0.1111111111111111,
              "#46039f"
             ],
             [
              0.2222222222222222,
              "#7201a8"
             ],
             [
              0.3333333333333333,
              "#9c179e"
             ],
             [
              0.4444444444444444,
              "#bd3786"
             ],
             [
              0.5555555555555556,
              "#d8576b"
             ],
             [
              0.6666666666666666,
              "#ed7953"
             ],
             [
              0.7777777777777778,
              "#fb9f3a"
             ],
             [
              0.8888888888888888,
              "#fdca26"
             ],
             [
              1,
              "#f0f921"
             ]
            ],
            "type": "contour"
           }
          ],
          "contourcarpet": [
           {
            "colorbar": {
             "outlinewidth": 0,
             "ticks": ""
            },
            "type": "contourcarpet"
           }
          ],
          "heatmap": [
           {
            "colorbar": {
             "outlinewidth": 0,
             "ticks": ""
            },
            "colorscale": [
             [
              0,
              "#0d0887"
             ],
             [
              0.1111111111111111,
              "#46039f"
             ],
             [
              0.2222222222222222,
              "#7201a8"
             ],
             [
              0.3333333333333333,
              "#9c179e"
             ],
             [
              0.4444444444444444,
              "#bd3786"
             ],
             [
              0.5555555555555556,
              "#d8576b"
             ],
             [
              0.6666666666666666,
              "#ed7953"
             ],
             [
              0.7777777777777778,
              "#fb9f3a"
             ],
             [
              0.8888888888888888,
              "#fdca26"
             ],
             [
              1,
              "#f0f921"
             ]
            ],
            "type": "heatmap"
           }
          ],
          "heatmapgl": [
           {
            "colorbar": {
             "outlinewidth": 0,
             "ticks": ""
            },
            "colorscale": [
             [
              0,
              "#0d0887"
             ],
             [
              0.1111111111111111,
              "#46039f"
             ],
             [
              0.2222222222222222,
              "#7201a8"
             ],
             [
              0.3333333333333333,
              "#9c179e"
             ],
             [
              0.4444444444444444,
              "#bd3786"
             ],
             [
              0.5555555555555556,
              "#d8576b"
             ],
             [
              0.6666666666666666,
              "#ed7953"
             ],
             [
              0.7777777777777778,
              "#fb9f3a"
             ],
             [
              0.8888888888888888,
              "#fdca26"
             ],
             [
              1,
              "#f0f921"
             ]
            ],
            "type": "heatmapgl"
           }
          ],
          "histogram": [
           {
            "marker": {
             "colorbar": {
              "outlinewidth": 0,
              "ticks": ""
             }
            },
            "type": "histogram"
           }
          ],
          "histogram2d": [
           {
            "colorbar": {
             "outlinewidth": 0,
             "ticks": ""
            },
            "colorscale": [
             [
              0,
              "#0d0887"
             ],
             [
              0.1111111111111111,
              "#46039f"
             ],
             [
              0.2222222222222222,
              "#7201a8"
             ],
             [
              0.3333333333333333,
              "#9c179e"
             ],
             [
              0.4444444444444444,
              "#bd3786"
             ],
             [
              0.5555555555555556,
              "#d8576b"
             ],
             [
              0.6666666666666666,
              "#ed7953"
             ],
             [
              0.7777777777777778,
              "#fb9f3a"
             ],
             [
              0.8888888888888888,
              "#fdca26"
             ],
             [
              1,
              "#f0f921"
             ]
            ],
            "type": "histogram2d"
           }
          ],
          "histogram2dcontour": [
           {
            "colorbar": {
             "outlinewidth": 0,
             "ticks": ""
            },
            "colorscale": [
             [
              0,
              "#0d0887"
             ],
             [
              0.1111111111111111,
              "#46039f"
             ],
             [
              0.2222222222222222,
              "#7201a8"
             ],
             [
              0.3333333333333333,
              "#9c179e"
             ],
             [
              0.4444444444444444,
              "#bd3786"
             ],
             [
              0.5555555555555556,
              "#d8576b"
             ],
             [
              0.6666666666666666,
              "#ed7953"
             ],
             [
              0.7777777777777778,
              "#fb9f3a"
             ],
             [
              0.8888888888888888,
              "#fdca26"
             ],
             [
              1,
              "#f0f921"
             ]
            ],
            "type": "histogram2dcontour"
           }
          ],
          "mesh3d": [
           {
            "colorbar": {
             "outlinewidth": 0,
             "ticks": ""
            },
            "type": "mesh3d"
           }
          ],
          "parcoords": [
           {
            "line": {
             "colorbar": {
              "outlinewidth": 0,
              "ticks": ""
             }
            },
            "type": "parcoords"
           }
          ],
          "pie": [
           {
            "automargin": true,
            "type": "pie"
           }
          ],
          "scatter": [
           {
            "marker": {
             "colorbar": {
              "outlinewidth": 0,
              "ticks": ""
             }
            },
            "type": "scatter"
           }
          ],
          "scatter3d": [
           {
            "line": {
             "colorbar": {
              "outlinewidth": 0,
              "ticks": ""
             }
            },
            "marker": {
             "colorbar": {
              "outlinewidth": 0,
              "ticks": ""
             }
            },
            "type": "scatter3d"
           }
          ],
          "scattercarpet": [
           {
            "marker": {
             "colorbar": {
              "outlinewidth": 0,
              "ticks": ""
             }
            },
            "type": "scattercarpet"
           }
          ],
          "scattergeo": [
           {
            "marker": {
             "colorbar": {
              "outlinewidth": 0,
              "ticks": ""
             }
            },
            "type": "scattergeo"
           }
          ],
          "scattergl": [
           {
            "marker": {
             "colorbar": {
              "outlinewidth": 0,
              "ticks": ""
             }
            },
            "type": "scattergl"
           }
          ],
          "scattermapbox": [
           {
            "marker": {
             "colorbar": {
              "outlinewidth": 0,
              "ticks": ""
             }
            },
            "type": "scattermapbox"
           }
          ],
          "scatterpolar": [
           {
            "marker": {
             "colorbar": {
              "outlinewidth": 0,
              "ticks": ""
             }
            },
            "type": "scatterpolar"
           }
          ],
          "scatterpolargl": [
           {
            "marker": {
             "colorbar": {
              "outlinewidth": 0,
              "ticks": ""
             }
            },
            "type": "scatterpolargl"
           }
          ],
          "scatterternary": [
           {
            "marker": {
             "colorbar": {
              "outlinewidth": 0,
              "ticks": ""
             }
            },
            "type": "scatterternary"
           }
          ],
          "surface": [
           {
            "colorbar": {
             "outlinewidth": 0,
             "ticks": ""
            },
            "colorscale": [
             [
              0,
              "#0d0887"
             ],
             [
              0.1111111111111111,
              "#46039f"
             ],
             [
              0.2222222222222222,
              "#7201a8"
             ],
             [
              0.3333333333333333,
              "#9c179e"
             ],
             [
              0.4444444444444444,
              "#bd3786"
             ],
             [
              0.5555555555555556,
              "#d8576b"
             ],
             [
              0.6666666666666666,
              "#ed7953"
             ],
             [
              0.7777777777777778,
              "#fb9f3a"
             ],
             [
              0.8888888888888888,
              "#fdca26"
             ],
             [
              1,
              "#f0f921"
             ]
            ],
            "type": "surface"
           }
          ],
          "table": [
           {
            "cells": {
             "fill": {
              "color": "#EBF0F8"
             },
             "line": {
              "color": "white"
             }
            },
            "header": {
             "fill": {
              "color": "#C8D4E3"
             },
             "line": {
              "color": "white"
             }
            },
            "type": "table"
           }
          ]
         },
         "layout": {
          "annotationdefaults": {
           "arrowcolor": "#2a3f5f",
           "arrowhead": 0,
           "arrowwidth": 1
          },
          "autotypenumbers": "strict",
          "coloraxis": {
           "colorbar": {
            "outlinewidth": 0,
            "ticks": ""
           }
          },
          "colorscale": {
           "diverging": [
            [
             0,
             "#8e0152"
            ],
            [
             0.1,
             "#c51b7d"
            ],
            [
             0.2,
             "#de77ae"
            ],
            [
             0.3,
             "#f1b6da"
            ],
            [
             0.4,
             "#fde0ef"
            ],
            [
             0.5,
             "#f7f7f7"
            ],
            [
             0.6,
             "#e6f5d0"
            ],
            [
             0.7,
             "#b8e186"
            ],
            [
             0.8,
             "#7fbc41"
            ],
            [
             0.9,
             "#4d9221"
            ],
            [
             1,
             "#276419"
            ]
           ],
           "sequential": [
            [
             0,
             "#0d0887"
            ],
            [
             0.1111111111111111,
             "#46039f"
            ],
            [
             0.2222222222222222,
             "#7201a8"
            ],
            [
             0.3333333333333333,
             "#9c179e"
            ],
            [
             0.4444444444444444,
             "#bd3786"
            ],
            [
             0.5555555555555556,
             "#d8576b"
            ],
            [
             0.6666666666666666,
             "#ed7953"
            ],
            [
             0.7777777777777778,
             "#fb9f3a"
            ],
            [
             0.8888888888888888,
             "#fdca26"
            ],
            [
             1,
             "#f0f921"
            ]
           ],
           "sequentialminus": [
            [
             0,
             "#0d0887"
            ],
            [
             0.1111111111111111,
             "#46039f"
            ],
            [
             0.2222222222222222,
             "#7201a8"
            ],
            [
             0.3333333333333333,
             "#9c179e"
            ],
            [
             0.4444444444444444,
             "#bd3786"
            ],
            [
             0.5555555555555556,
             "#d8576b"
            ],
            [
             0.6666666666666666,
             "#ed7953"
            ],
            [
             0.7777777777777778,
             "#fb9f3a"
            ],
            [
             0.8888888888888888,
             "#fdca26"
            ],
            [
             1,
             "#f0f921"
            ]
           ]
          },
          "colorway": [
           "#636efa",
           "#EF553B",
           "#00cc96",
           "#ab63fa",
           "#FFA15A",
           "#19d3f3",
           "#FF6692",
           "#B6E880",
           "#FF97FF",
           "#FECB52"
          ],
          "font": {
           "color": "#2a3f5f"
          },
          "geo": {
           "bgcolor": "white",
           "lakecolor": "white",
           "landcolor": "#E5ECF6",
           "showlakes": true,
           "showland": true,
           "subunitcolor": "white"
          },
          "hoverlabel": {
           "align": "left"
          },
          "hovermode": "closest",
          "mapbox": {
           "style": "light"
          },
          "paper_bgcolor": "white",
          "plot_bgcolor": "#E5ECF6",
          "polar": {
           "angularaxis": {
            "gridcolor": "white",
            "linecolor": "white",
            "ticks": ""
           },
           "bgcolor": "#E5ECF6",
           "radialaxis": {
            "gridcolor": "white",
            "linecolor": "white",
            "ticks": ""
           }
          },
          "scene": {
           "xaxis": {
            "backgroundcolor": "#E5ECF6",
            "gridcolor": "white",
            "gridwidth": 2,
            "linecolor": "white",
            "showbackground": true,
            "ticks": "",
            "zerolinecolor": "white"
           },
           "yaxis": {
            "backgroundcolor": "#E5ECF6",
            "gridcolor": "white",
            "gridwidth": 2,
            "linecolor": "white",
            "showbackground": true,
            "ticks": "",
            "zerolinecolor": "white"
           },
           "zaxis": {
            "backgroundcolor": "#E5ECF6",
            "gridcolor": "white",
            "gridwidth": 2,
            "linecolor": "white",
            "showbackground": true,
            "ticks": "",
            "zerolinecolor": "white"
           }
          },
          "shapedefaults": {
           "line": {
            "color": "#2a3f5f"
           }
          },
          "ternary": {
           "aaxis": {
            "gridcolor": "white",
            "linecolor": "white",
            "ticks": ""
           },
           "baxis": {
            "gridcolor": "white",
            "linecolor": "white",
            "ticks": ""
           },
           "bgcolor": "#E5ECF6",
           "caxis": {
            "gridcolor": "white",
            "linecolor": "white",
            "ticks": ""
           }
          },
          "title": {
           "x": 0.05
          },
          "xaxis": {
           "automargin": true,
           "gridcolor": "white",
           "linecolor": "white",
           "ticks": "",
           "title": {
            "standoff": 15
           },
           "zerolinecolor": "white",
           "zerolinewidth": 2
          },
          "yaxis": {
           "automargin": true,
           "gridcolor": "white",
           "linecolor": "white",
           "ticks": "",
           "title": {
            "standoff": 15
           },
           "zerolinecolor": "white",
           "zerolinewidth": 2
          }
         }
        },
        "title": {
         "text": "Top 12 Ladder Scores."
        },
        "xaxis": {
         "anchor": "y",
         "domain": [
          0,
          1
         ],
         "title": {
          "text": "sum of Ladder score"
         }
        },
        "yaxis": {
         "anchor": "x",
         "categoryarray": [
          "Israel",
          "Australia",
          "Austria",
          "New Zealand",
          "Luxembourg",
          "Sweden",
          "Norway",
          "Netherlands",
          "Iceland",
          "Switzerland",
          "Denmark",
          "Finland"
         ],
         "categoryorder": "array",
         "domain": [
          0,
          1
         ],
         "title": {
          "text": "Country name"
         }
        }
       }
      },
      "text/html": [
       "<div>                            <div id=\"e8c8dd8d-547d-401e-996e-9be85b7a24b6\" class=\"plotly-graph-div\" style=\"height:525px; width:100%;\"></div>            <script type=\"text/javascript\">                require([\"plotly\"], function(Plotly) {                    window.PLOTLYENV=window.PLOTLYENV || {};                                    if (document.getElementById(\"e8c8dd8d-547d-401e-996e-9be85b7a24b6\")) {                    Plotly.newPlot(                        \"e8c8dd8d-547d-401e-996e-9be85b7a24b6\",                        [{\"alignmentgroup\": \"True\", \"bingroup\": \"y\", \"histfunc\": \"sum\", \"hovertemplate\": \"Country name=%{y}<br>sum of Ladder score=%{x}<extra></extra>\", \"legendgroup\": \"Finland\", \"marker\": {\"color\": \"#636efa\"}, \"name\": \"Finland\", \"offsetgroup\": \"Finland\", \"orientation\": \"h\", \"showlegend\": true, \"type\": \"histogram\", \"x\": [7.842], \"xaxis\": \"x\", \"y\": [\"Finland\"], \"yaxis\": \"y\"}, {\"alignmentgroup\": \"True\", \"bingroup\": \"y\", \"histfunc\": \"sum\", \"hovertemplate\": \"Country name=%{y}<br>sum of Ladder score=%{x}<extra></extra>\", \"legendgroup\": \"Denmark\", \"marker\": {\"color\": \"#EF553B\"}, \"name\": \"Denmark\", \"offsetgroup\": \"Denmark\", \"orientation\": \"h\", \"showlegend\": true, \"type\": \"histogram\", \"x\": [7.62], \"xaxis\": \"x\", \"y\": [\"Denmark\"], \"yaxis\": \"y\"}, {\"alignmentgroup\": \"True\", \"bingroup\": \"y\", \"histfunc\": \"sum\", \"hovertemplate\": \"Country name=%{y}<br>sum of Ladder score=%{x}<extra></extra>\", \"legendgroup\": \"Switzerland\", \"marker\": {\"color\": \"#00cc96\"}, \"name\": \"Switzerland\", \"offsetgroup\": \"Switzerland\", \"orientation\": \"h\", \"showlegend\": true, \"type\": \"histogram\", \"x\": [7.571], \"xaxis\": \"x\", \"y\": [\"Switzerland\"], \"yaxis\": \"y\"}, {\"alignmentgroup\": \"True\", \"bingroup\": \"y\", \"histfunc\": \"sum\", \"hovertemplate\": \"Country name=%{y}<br>sum of Ladder score=%{x}<extra></extra>\", \"legendgroup\": \"Iceland\", \"marker\": {\"color\": \"#ab63fa\"}, \"name\": \"Iceland\", \"offsetgroup\": \"Iceland\", \"orientation\": \"h\", \"showlegend\": true, \"type\": \"histogram\", \"x\": [7.554], \"xaxis\": \"x\", \"y\": [\"Iceland\"], \"yaxis\": \"y\"}, {\"alignmentgroup\": \"True\", \"bingroup\": \"y\", \"histfunc\": \"sum\", \"hovertemplate\": \"Country name=%{y}<br>sum of Ladder score=%{x}<extra></extra>\", \"legendgroup\": \"Netherlands\", \"marker\": {\"color\": \"#FFA15A\"}, \"name\": \"Netherlands\", \"offsetgroup\": \"Netherlands\", \"orientation\": \"h\", \"showlegend\": true, \"type\": \"histogram\", \"x\": [7.464], \"xaxis\": \"x\", \"y\": [\"Netherlands\"], \"yaxis\": \"y\"}, {\"alignmentgroup\": \"True\", \"bingroup\": \"y\", \"histfunc\": \"sum\", \"hovertemplate\": \"Country name=%{y}<br>sum of Ladder score=%{x}<extra></extra>\", \"legendgroup\": \"Norway\", \"marker\": {\"color\": \"#19d3f3\"}, \"name\": \"Norway\", \"offsetgroup\": \"Norway\", \"orientation\": \"h\", \"showlegend\": true, \"type\": \"histogram\", \"x\": [7.392], \"xaxis\": \"x\", \"y\": [\"Norway\"], \"yaxis\": \"y\"}, {\"alignmentgroup\": \"True\", \"bingroup\": \"y\", \"histfunc\": \"sum\", \"hovertemplate\": \"Country name=%{y}<br>sum of Ladder score=%{x}<extra></extra>\", \"legendgroup\": \"Sweden\", \"marker\": {\"color\": \"#FF6692\"}, \"name\": \"Sweden\", \"offsetgroup\": \"Sweden\", \"orientation\": \"h\", \"showlegend\": true, \"type\": \"histogram\", \"x\": [7.363], \"xaxis\": \"x\", \"y\": [\"Sweden\"], \"yaxis\": \"y\"}, {\"alignmentgroup\": \"True\", \"bingroup\": \"y\", \"histfunc\": \"sum\", \"hovertemplate\": \"Country name=%{y}<br>sum of Ladder score=%{x}<extra></extra>\", \"legendgroup\": \"Luxembourg\", \"marker\": {\"color\": \"#B6E880\"}, \"name\": \"Luxembourg\", \"offsetgroup\": \"Luxembourg\", \"orientation\": \"h\", \"showlegend\": true, \"type\": \"histogram\", \"x\": [7.324], \"xaxis\": \"x\", \"y\": [\"Luxembourg\"], \"yaxis\": \"y\"}, {\"alignmentgroup\": \"True\", \"bingroup\": \"y\", \"histfunc\": \"sum\", \"hovertemplate\": \"Country name=%{y}<br>sum of Ladder score=%{x}<extra></extra>\", \"legendgroup\": \"New Zealand\", \"marker\": {\"color\": \"#FF97FF\"}, \"name\": \"New Zealand\", \"offsetgroup\": \"New Zealand\", \"orientation\": \"h\", \"showlegend\": true, \"type\": \"histogram\", \"x\": [7.277], \"xaxis\": \"x\", \"y\": [\"New Zealand\"], \"yaxis\": \"y\"}, {\"alignmentgroup\": \"True\", \"bingroup\": \"y\", \"histfunc\": \"sum\", \"hovertemplate\": \"Country name=%{y}<br>sum of Ladder score=%{x}<extra></extra>\", \"legendgroup\": \"Austria\", \"marker\": {\"color\": \"#FECB52\"}, \"name\": \"Austria\", \"offsetgroup\": \"Austria\", \"orientation\": \"h\", \"showlegend\": true, \"type\": \"histogram\", \"x\": [7.268], \"xaxis\": \"x\", \"y\": [\"Austria\"], \"yaxis\": \"y\"}, {\"alignmentgroup\": \"True\", \"bingroup\": \"y\", \"histfunc\": \"sum\", \"hovertemplate\": \"Country name=%{y}<br>sum of Ladder score=%{x}<extra></extra>\", \"legendgroup\": \"Australia\", \"marker\": {\"color\": \"#636efa\"}, \"name\": \"Australia\", \"offsetgroup\": \"Australia\", \"orientation\": \"h\", \"showlegend\": true, \"type\": \"histogram\", \"x\": [7.183], \"xaxis\": \"x\", \"y\": [\"Australia\"], \"yaxis\": \"y\"}, {\"alignmentgroup\": \"True\", \"bingroup\": \"y\", \"histfunc\": \"sum\", \"hovertemplate\": \"Country name=%{y}<br>sum of Ladder score=%{x}<extra></extra>\", \"legendgroup\": \"Israel\", \"marker\": {\"color\": \"#EF553B\"}, \"name\": \"Israel\", \"offsetgroup\": \"Israel\", \"orientation\": \"h\", \"showlegend\": true, \"type\": \"histogram\", \"x\": [7.157], \"xaxis\": \"x\", \"y\": [\"Israel\"], \"yaxis\": \"y\"}],                        {\"barmode\": \"relative\", \"legend\": {\"title\": {\"text\": \"Country name\"}, \"tracegroupgap\": 0}, \"template\": {\"data\": {\"bar\": [{\"error_x\": {\"color\": \"#2a3f5f\"}, \"error_y\": {\"color\": \"#2a3f5f\"}, \"marker\": {\"line\": {\"color\": \"#E5ECF6\", \"width\": 0.5}}, \"type\": \"bar\"}], \"barpolar\": [{\"marker\": {\"line\": {\"color\": \"#E5ECF6\", \"width\": 0.5}}, \"type\": \"barpolar\"}], \"carpet\": [{\"aaxis\": {\"endlinecolor\": \"#2a3f5f\", \"gridcolor\": \"white\", \"linecolor\": \"white\", \"minorgridcolor\": \"white\", \"startlinecolor\": \"#2a3f5f\"}, \"baxis\": {\"endlinecolor\": \"#2a3f5f\", \"gridcolor\": \"white\", \"linecolor\": \"white\", \"minorgridcolor\": \"white\", \"startlinecolor\": \"#2a3f5f\"}, \"type\": \"carpet\"}], \"choropleth\": [{\"colorbar\": {\"outlinewidth\": 0, \"ticks\": \"\"}, \"type\": \"choropleth\"}], \"contour\": [{\"colorbar\": {\"outlinewidth\": 0, \"ticks\": \"\"}, \"colorscale\": [[0.0, \"#0d0887\"], [0.1111111111111111, \"#46039f\"], [0.2222222222222222, \"#7201a8\"], [0.3333333333333333, \"#9c179e\"], [0.4444444444444444, \"#bd3786\"], [0.5555555555555556, \"#d8576b\"], [0.6666666666666666, \"#ed7953\"], [0.7777777777777778, \"#fb9f3a\"], [0.8888888888888888, \"#fdca26\"], [1.0, \"#f0f921\"]], \"type\": \"contour\"}], \"contourcarpet\": [{\"colorbar\": {\"outlinewidth\": 0, \"ticks\": \"\"}, \"type\": \"contourcarpet\"}], \"heatmap\": [{\"colorbar\": {\"outlinewidth\": 0, \"ticks\": \"\"}, \"colorscale\": [[0.0, \"#0d0887\"], [0.1111111111111111, \"#46039f\"], [0.2222222222222222, \"#7201a8\"], [0.3333333333333333, \"#9c179e\"], [0.4444444444444444, \"#bd3786\"], [0.5555555555555556, \"#d8576b\"], [0.6666666666666666, \"#ed7953\"], [0.7777777777777778, \"#fb9f3a\"], [0.8888888888888888, \"#fdca26\"], [1.0, \"#f0f921\"]], \"type\": \"heatmap\"}], \"heatmapgl\": [{\"colorbar\": {\"outlinewidth\": 0, \"ticks\": \"\"}, \"colorscale\": [[0.0, \"#0d0887\"], [0.1111111111111111, \"#46039f\"], [0.2222222222222222, \"#7201a8\"], [0.3333333333333333, \"#9c179e\"], [0.4444444444444444, \"#bd3786\"], [0.5555555555555556, \"#d8576b\"], [0.6666666666666666, \"#ed7953\"], [0.7777777777777778, \"#fb9f3a\"], [0.8888888888888888, \"#fdca26\"], [1.0, \"#f0f921\"]], \"type\": \"heatmapgl\"}], \"histogram\": [{\"marker\": {\"colorbar\": {\"outlinewidth\": 0, \"ticks\": \"\"}}, \"type\": \"histogram\"}], \"histogram2d\": [{\"colorbar\": {\"outlinewidth\": 0, \"ticks\": \"\"}, \"colorscale\": [[0.0, \"#0d0887\"], [0.1111111111111111, \"#46039f\"], [0.2222222222222222, \"#7201a8\"], [0.3333333333333333, \"#9c179e\"], [0.4444444444444444, \"#bd3786\"], [0.5555555555555556, \"#d8576b\"], [0.6666666666666666, \"#ed7953\"], [0.7777777777777778, \"#fb9f3a\"], [0.8888888888888888, \"#fdca26\"], [1.0, \"#f0f921\"]], \"type\": \"histogram2d\"}], \"histogram2dcontour\": [{\"colorbar\": {\"outlinewidth\": 0, \"ticks\": \"\"}, \"colorscale\": [[0.0, \"#0d0887\"], [0.1111111111111111, \"#46039f\"], [0.2222222222222222, \"#7201a8\"], [0.3333333333333333, \"#9c179e\"], [0.4444444444444444, \"#bd3786\"], [0.5555555555555556, \"#d8576b\"], [0.6666666666666666, \"#ed7953\"], [0.7777777777777778, \"#fb9f3a\"], [0.8888888888888888, \"#fdca26\"], [1.0, \"#f0f921\"]], \"type\": \"histogram2dcontour\"}], \"mesh3d\": [{\"colorbar\": {\"outlinewidth\": 0, \"ticks\": \"\"}, \"type\": \"mesh3d\"}], \"parcoords\": [{\"line\": {\"colorbar\": {\"outlinewidth\": 0, \"ticks\": \"\"}}, \"type\": \"parcoords\"}], \"pie\": [{\"automargin\": true, \"type\": \"pie\"}], \"scatter\": [{\"marker\": {\"colorbar\": {\"outlinewidth\": 0, \"ticks\": \"\"}}, \"type\": \"scatter\"}], \"scatter3d\": [{\"line\": {\"colorbar\": {\"outlinewidth\": 0, \"ticks\": \"\"}}, \"marker\": {\"colorbar\": {\"outlinewidth\": 0, \"ticks\": \"\"}}, \"type\": \"scatter3d\"}], \"scattercarpet\": [{\"marker\": {\"colorbar\": {\"outlinewidth\": 0, \"ticks\": \"\"}}, \"type\": \"scattercarpet\"}], \"scattergeo\": [{\"marker\": {\"colorbar\": {\"outlinewidth\": 0, \"ticks\": \"\"}}, \"type\": \"scattergeo\"}], \"scattergl\": [{\"marker\": {\"colorbar\": {\"outlinewidth\": 0, \"ticks\": \"\"}}, \"type\": \"scattergl\"}], \"scattermapbox\": [{\"marker\": {\"colorbar\": {\"outlinewidth\": 0, \"ticks\": \"\"}}, \"type\": \"scattermapbox\"}], \"scatterpolar\": [{\"marker\": {\"colorbar\": {\"outlinewidth\": 0, \"ticks\": \"\"}}, \"type\": \"scatterpolar\"}], \"scatterpolargl\": [{\"marker\": {\"colorbar\": {\"outlinewidth\": 0, \"ticks\": \"\"}}, \"type\": \"scatterpolargl\"}], \"scatterternary\": [{\"marker\": {\"colorbar\": {\"outlinewidth\": 0, \"ticks\": \"\"}}, \"type\": \"scatterternary\"}], \"surface\": [{\"colorbar\": {\"outlinewidth\": 0, \"ticks\": \"\"}, \"colorscale\": [[0.0, \"#0d0887\"], [0.1111111111111111, \"#46039f\"], [0.2222222222222222, \"#7201a8\"], [0.3333333333333333, \"#9c179e\"], [0.4444444444444444, \"#bd3786\"], [0.5555555555555556, \"#d8576b\"], [0.6666666666666666, \"#ed7953\"], [0.7777777777777778, \"#fb9f3a\"], [0.8888888888888888, \"#fdca26\"], [1.0, \"#f0f921\"]], \"type\": \"surface\"}], \"table\": [{\"cells\": {\"fill\": {\"color\": \"#EBF0F8\"}, \"line\": {\"color\": \"white\"}}, \"header\": {\"fill\": {\"color\": \"#C8D4E3\"}, \"line\": {\"color\": \"white\"}}, \"type\": \"table\"}]}, \"layout\": {\"annotationdefaults\": {\"arrowcolor\": \"#2a3f5f\", \"arrowhead\": 0, \"arrowwidth\": 1}, \"autotypenumbers\": \"strict\", \"coloraxis\": {\"colorbar\": {\"outlinewidth\": 0, \"ticks\": \"\"}}, \"colorscale\": {\"diverging\": [[0, \"#8e0152\"], [0.1, \"#c51b7d\"], [0.2, \"#de77ae\"], [0.3, \"#f1b6da\"], [0.4, \"#fde0ef\"], [0.5, \"#f7f7f7\"], [0.6, \"#e6f5d0\"], [0.7, \"#b8e186\"], [0.8, \"#7fbc41\"], [0.9, \"#4d9221\"], [1, \"#276419\"]], \"sequential\": [[0.0, \"#0d0887\"], [0.1111111111111111, \"#46039f\"], [0.2222222222222222, \"#7201a8\"], [0.3333333333333333, \"#9c179e\"], [0.4444444444444444, \"#bd3786\"], [0.5555555555555556, \"#d8576b\"], [0.6666666666666666, \"#ed7953\"], [0.7777777777777778, \"#fb9f3a\"], [0.8888888888888888, \"#fdca26\"], [1.0, \"#f0f921\"]], \"sequentialminus\": [[0.0, \"#0d0887\"], [0.1111111111111111, \"#46039f\"], [0.2222222222222222, \"#7201a8\"], [0.3333333333333333, \"#9c179e\"], [0.4444444444444444, \"#bd3786\"], [0.5555555555555556, \"#d8576b\"], [0.6666666666666666, \"#ed7953\"], [0.7777777777777778, \"#fb9f3a\"], [0.8888888888888888, \"#fdca26\"], [1.0, \"#f0f921\"]]}, \"colorway\": [\"#636efa\", \"#EF553B\", \"#00cc96\", \"#ab63fa\", \"#FFA15A\", \"#19d3f3\", \"#FF6692\", \"#B6E880\", \"#FF97FF\", \"#FECB52\"], \"font\": {\"color\": \"#2a3f5f\"}, \"geo\": {\"bgcolor\": \"white\", \"lakecolor\": \"white\", \"landcolor\": \"#E5ECF6\", \"showlakes\": true, \"showland\": true, \"subunitcolor\": \"white\"}, \"hoverlabel\": {\"align\": \"left\"}, \"hovermode\": \"closest\", \"mapbox\": {\"style\": \"light\"}, \"paper_bgcolor\": \"white\", \"plot_bgcolor\": \"#E5ECF6\", \"polar\": {\"angularaxis\": {\"gridcolor\": \"white\", \"linecolor\": \"white\", \"ticks\": \"\"}, \"bgcolor\": \"#E5ECF6\", \"radialaxis\": {\"gridcolor\": \"white\", \"linecolor\": \"white\", \"ticks\": \"\"}}, \"scene\": {\"xaxis\": {\"backgroundcolor\": \"#E5ECF6\", \"gridcolor\": \"white\", \"gridwidth\": 2, \"linecolor\": \"white\", \"showbackground\": true, \"ticks\": \"\", \"zerolinecolor\": \"white\"}, \"yaxis\": {\"backgroundcolor\": \"#E5ECF6\", \"gridcolor\": \"white\", \"gridwidth\": 2, \"linecolor\": \"white\", \"showbackground\": true, \"ticks\": \"\", \"zerolinecolor\": \"white\"}, \"zaxis\": {\"backgroundcolor\": \"#E5ECF6\", \"gridcolor\": \"white\", \"gridwidth\": 2, \"linecolor\": \"white\", \"showbackground\": true, \"ticks\": \"\", \"zerolinecolor\": \"white\"}}, \"shapedefaults\": {\"line\": {\"color\": \"#2a3f5f\"}}, \"ternary\": {\"aaxis\": {\"gridcolor\": \"white\", \"linecolor\": \"white\", \"ticks\": \"\"}, \"baxis\": {\"gridcolor\": \"white\", \"linecolor\": \"white\", \"ticks\": \"\"}, \"bgcolor\": \"#E5ECF6\", \"caxis\": {\"gridcolor\": \"white\", \"linecolor\": \"white\", \"ticks\": \"\"}}, \"title\": {\"x\": 0.05}, \"xaxis\": {\"automargin\": true, \"gridcolor\": \"white\", \"linecolor\": \"white\", \"ticks\": \"\", \"title\": {\"standoff\": 15}, \"zerolinecolor\": \"white\", \"zerolinewidth\": 2}, \"yaxis\": {\"automargin\": true, \"gridcolor\": \"white\", \"linecolor\": \"white\", \"ticks\": \"\", \"title\": {\"standoff\": 15}, \"zerolinecolor\": \"white\", \"zerolinewidth\": 2}}}, \"title\": {\"text\": \"Top 12 Ladder Scores.\"}, \"xaxis\": {\"anchor\": \"y\", \"domain\": [0.0, 1.0], \"title\": {\"text\": \"sum of Ladder score\"}}, \"yaxis\": {\"anchor\": \"x\", \"categoryarray\": [\"Israel\", \"Australia\", \"Austria\", \"New Zealand\", \"Luxembourg\", \"Sweden\", \"Norway\", \"Netherlands\", \"Iceland\", \"Switzerland\", \"Denmark\", \"Finland\"], \"categoryorder\": \"array\", \"domain\": [0.0, 1.0], \"title\": {\"text\": \"Country name\"}}},                        {\"responsive\": true}                    ).then(function(){\n",
       "                            \n",
       "var gd = document.getElementById('e8c8dd8d-547d-401e-996e-9be85b7a24b6');\n",
       "var x = new MutationObserver(function (mutations, observer) {{\n",
       "        var display = window.getComputedStyle(gd).display;\n",
       "        if (!display || display === 'none') {{\n",
       "            console.log([gd, 'removed!']);\n",
       "            Plotly.purge(gd);\n",
       "            observer.disconnect();\n",
       "        }}\n",
       "}});\n",
       "\n",
       "// Listen for the removal of the full notebook cells\n",
       "var notebookContainer = gd.closest('#notebook-container');\n",
       "if (notebookContainer) {{\n",
       "    x.observe(notebookContainer, {childList: true});\n",
       "}}\n",
       "\n",
       "// Listen for the clearing of the current output cell\n",
       "var outputEl = gd.closest('.output');\n",
       "if (outputEl) {{\n",
       "    x.observe(outputEl, {childList: true});\n",
       "}}\n",
       "\n",
       "                        })                };                });            </script>        </div>"
      ]
     },
     "metadata": {},
     "output_type": "display_data"
    },
    {
     "data": {
      "application/vnd.plotly.v1+json": {
       "config": {
        "plotlyServerURL": "https://plot.ly"
       },
       "data": [
        {
         "alignmentgroup": "True",
         "bingroup": "y",
         "histfunc": "sum",
         "hovertemplate": "Country name=%{y}<br>sum of Ladder score=%{x}<extra></extra>",
         "legendgroup": "Sierra Leone",
         "marker": {
          "color": "#636efa"
         },
         "name": "Sierra Leone",
         "offsetgroup": "Sierra Leone",
         "orientation": "h",
         "showlegend": true,
         "type": "histogram",
         "x": [
          3.849
         ],
         "xaxis": "x",
         "y": [
          "Sierra Leone"
         ],
         "yaxis": "y"
        },
        {
         "alignmentgroup": "True",
         "bingroup": "y",
         "histfunc": "sum",
         "hovertemplate": "Country name=%{y}<br>sum of Ladder score=%{x}<extra></extra>",
         "legendgroup": "India",
         "marker": {
          "color": "#EF553B"
         },
         "name": "India",
         "offsetgroup": "India",
         "orientation": "h",
         "showlegend": true,
         "type": "histogram",
         "x": [
          3.819
         ],
         "xaxis": "x",
         "y": [
          "India"
         ],
         "yaxis": "y"
        },
        {
         "alignmentgroup": "True",
         "bingroup": "y",
         "histfunc": "sum",
         "hovertemplate": "Country name=%{y}<br>sum of Ladder score=%{x}<extra></extra>",
         "legendgroup": "Burundi",
         "marker": {
          "color": "#00cc96"
         },
         "name": "Burundi",
         "offsetgroup": "Burundi",
         "orientation": "h",
         "showlegend": true,
         "type": "histogram",
         "x": [
          3.775
         ],
         "xaxis": "x",
         "y": [
          "Burundi"
         ],
         "yaxis": "y"
        },
        {
         "alignmentgroup": "True",
         "bingroup": "y",
         "histfunc": "sum",
         "hovertemplate": "Country name=%{y}<br>sum of Ladder score=%{x}<extra></extra>",
         "legendgroup": "Yemen",
         "marker": {
          "color": "#ab63fa"
         },
         "name": "Yemen",
         "offsetgroup": "Yemen",
         "orientation": "h",
         "showlegend": true,
         "type": "histogram",
         "x": [
          3.658
         ],
         "xaxis": "x",
         "y": [
          "Yemen"
         ],
         "yaxis": "y"
        },
        {
         "alignmentgroup": "True",
         "bingroup": "y",
         "histfunc": "sum",
         "hovertemplate": "Country name=%{y}<br>sum of Ladder score=%{x}<extra></extra>",
         "legendgroup": "Tanzania",
         "marker": {
          "color": "#FFA15A"
         },
         "name": "Tanzania",
         "offsetgroup": "Tanzania",
         "orientation": "h",
         "showlegend": true,
         "type": "histogram",
         "x": [
          3.623
         ],
         "xaxis": "x",
         "y": [
          "Tanzania"
         ],
         "yaxis": "y"
        },
        {
         "alignmentgroup": "True",
         "bingroup": "y",
         "histfunc": "sum",
         "hovertemplate": "Country name=%{y}<br>sum of Ladder score=%{x}<extra></extra>",
         "legendgroup": "Haiti",
         "marker": {
          "color": "#19d3f3"
         },
         "name": "Haiti",
         "offsetgroup": "Haiti",
         "orientation": "h",
         "showlegend": true,
         "type": "histogram",
         "x": [
          3.615
         ],
         "xaxis": "x",
         "y": [
          "Haiti"
         ],
         "yaxis": "y"
        },
        {
         "alignmentgroup": "True",
         "bingroup": "y",
         "histfunc": "sum",
         "hovertemplate": "Country name=%{y}<br>sum of Ladder score=%{x}<extra></extra>",
         "legendgroup": "Malawi",
         "marker": {
          "color": "#FF6692"
         },
         "name": "Malawi",
         "offsetgroup": "Malawi",
         "orientation": "h",
         "showlegend": true,
         "type": "histogram",
         "x": [
          3.6
         ],
         "xaxis": "x",
         "y": [
          "Malawi"
         ],
         "yaxis": "y"
        },
        {
         "alignmentgroup": "True",
         "bingroup": "y",
         "histfunc": "sum",
         "hovertemplate": "Country name=%{y}<br>sum of Ladder score=%{x}<extra></extra>",
         "legendgroup": "Lesotho",
         "marker": {
          "color": "#B6E880"
         },
         "name": "Lesotho",
         "offsetgroup": "Lesotho",
         "orientation": "h",
         "showlegend": true,
         "type": "histogram",
         "x": [
          3.512
         ],
         "xaxis": "x",
         "y": [
          "Lesotho"
         ],
         "yaxis": "y"
        },
        {
         "alignmentgroup": "True",
         "bingroup": "y",
         "histfunc": "sum",
         "hovertemplate": "Country name=%{y}<br>sum of Ladder score=%{x}<extra></extra>",
         "legendgroup": "Botswana",
         "marker": {
          "color": "#FF97FF"
         },
         "name": "Botswana",
         "offsetgroup": "Botswana",
         "orientation": "h",
         "showlegend": true,
         "type": "histogram",
         "x": [
          3.467
         ],
         "xaxis": "x",
         "y": [
          "Botswana"
         ],
         "yaxis": "y"
        },
        {
         "alignmentgroup": "True",
         "bingroup": "y",
         "histfunc": "sum",
         "hovertemplate": "Country name=%{y}<br>sum of Ladder score=%{x}<extra></extra>",
         "legendgroup": "Rwanda",
         "marker": {
          "color": "#FECB52"
         },
         "name": "Rwanda",
         "offsetgroup": "Rwanda",
         "orientation": "h",
         "showlegend": true,
         "type": "histogram",
         "x": [
          3.415
         ],
         "xaxis": "x",
         "y": [
          "Rwanda"
         ],
         "yaxis": "y"
        },
        {
         "alignmentgroup": "True",
         "bingroup": "y",
         "histfunc": "sum",
         "hovertemplate": "Country name=%{y}<br>sum of Ladder score=%{x}<extra></extra>",
         "legendgroup": "Zimbabwe",
         "marker": {
          "color": "#636efa"
         },
         "name": "Zimbabwe",
         "offsetgroup": "Zimbabwe",
         "orientation": "h",
         "showlegend": true,
         "type": "histogram",
         "x": [
          3.145
         ],
         "xaxis": "x",
         "y": [
          "Zimbabwe"
         ],
         "yaxis": "y"
        },
        {
         "alignmentgroup": "True",
         "bingroup": "y",
         "histfunc": "sum",
         "hovertemplate": "Country name=%{y}<br>sum of Ladder score=%{x}<extra></extra>",
         "legendgroup": "Afghanistan",
         "marker": {
          "color": "#EF553B"
         },
         "name": "Afghanistan",
         "offsetgroup": "Afghanistan",
         "orientation": "h",
         "showlegend": true,
         "type": "histogram",
         "x": [
          2.523
         ],
         "xaxis": "x",
         "y": [
          "Afghanistan"
         ],
         "yaxis": "y"
        }
       ],
       "layout": {
        "barmode": "relative",
        "legend": {
         "title": {
          "text": "Country name"
         },
         "tracegroupgap": 0
        },
        "template": {
         "data": {
          "bar": [
           {
            "error_x": {
             "color": "#2a3f5f"
            },
            "error_y": {
             "color": "#2a3f5f"
            },
            "marker": {
             "line": {
              "color": "#E5ECF6",
              "width": 0.5
             }
            },
            "type": "bar"
           }
          ],
          "barpolar": [
           {
            "marker": {
             "line": {
              "color": "#E5ECF6",
              "width": 0.5
             }
            },
            "type": "barpolar"
           }
          ],
          "carpet": [
           {
            "aaxis": {
             "endlinecolor": "#2a3f5f",
             "gridcolor": "white",
             "linecolor": "white",
             "minorgridcolor": "white",
             "startlinecolor": "#2a3f5f"
            },
            "baxis": {
             "endlinecolor": "#2a3f5f",
             "gridcolor": "white",
             "linecolor": "white",
             "minorgridcolor": "white",
             "startlinecolor": "#2a3f5f"
            },
            "type": "carpet"
           }
          ],
          "choropleth": [
           {
            "colorbar": {
             "outlinewidth": 0,
             "ticks": ""
            },
            "type": "choropleth"
           }
          ],
          "contour": [
           {
            "colorbar": {
             "outlinewidth": 0,
             "ticks": ""
            },
            "colorscale": [
             [
              0,
              "#0d0887"
             ],
             [
              0.1111111111111111,
              "#46039f"
             ],
             [
              0.2222222222222222,
              "#7201a8"
             ],
             [
              0.3333333333333333,
              "#9c179e"
             ],
             [
              0.4444444444444444,
              "#bd3786"
             ],
             [
              0.5555555555555556,
              "#d8576b"
             ],
             [
              0.6666666666666666,
              "#ed7953"
             ],
             [
              0.7777777777777778,
              "#fb9f3a"
             ],
             [
              0.8888888888888888,
              "#fdca26"
             ],
             [
              1,
              "#f0f921"
             ]
            ],
            "type": "contour"
           }
          ],
          "contourcarpet": [
           {
            "colorbar": {
             "outlinewidth": 0,
             "ticks": ""
            },
            "type": "contourcarpet"
           }
          ],
          "heatmap": [
           {
            "colorbar": {
             "outlinewidth": 0,
             "ticks": ""
            },
            "colorscale": [
             [
              0,
              "#0d0887"
             ],
             [
              0.1111111111111111,
              "#46039f"
             ],
             [
              0.2222222222222222,
              "#7201a8"
             ],
             [
              0.3333333333333333,
              "#9c179e"
             ],
             [
              0.4444444444444444,
              "#bd3786"
             ],
             [
              0.5555555555555556,
              "#d8576b"
             ],
             [
              0.6666666666666666,
              "#ed7953"
             ],
             [
              0.7777777777777778,
              "#fb9f3a"
             ],
             [
              0.8888888888888888,
              "#fdca26"
             ],
             [
              1,
              "#f0f921"
             ]
            ],
            "type": "heatmap"
           }
          ],
          "heatmapgl": [
           {
            "colorbar": {
             "outlinewidth": 0,
             "ticks": ""
            },
            "colorscale": [
             [
              0,
              "#0d0887"
             ],
             [
              0.1111111111111111,
              "#46039f"
             ],
             [
              0.2222222222222222,
              "#7201a8"
             ],
             [
              0.3333333333333333,
              "#9c179e"
             ],
             [
              0.4444444444444444,
              "#bd3786"
             ],
             [
              0.5555555555555556,
              "#d8576b"
             ],
             [
              0.6666666666666666,
              "#ed7953"
             ],
             [
              0.7777777777777778,
              "#fb9f3a"
             ],
             [
              0.8888888888888888,
              "#fdca26"
             ],
             [
              1,
              "#f0f921"
             ]
            ],
            "type": "heatmapgl"
           }
          ],
          "histogram": [
           {
            "marker": {
             "colorbar": {
              "outlinewidth": 0,
              "ticks": ""
             }
            },
            "type": "histogram"
           }
          ],
          "histogram2d": [
           {
            "colorbar": {
             "outlinewidth": 0,
             "ticks": ""
            },
            "colorscale": [
             [
              0,
              "#0d0887"
             ],
             [
              0.1111111111111111,
              "#46039f"
             ],
             [
              0.2222222222222222,
              "#7201a8"
             ],
             [
              0.3333333333333333,
              "#9c179e"
             ],
             [
              0.4444444444444444,
              "#bd3786"
             ],
             [
              0.5555555555555556,
              "#d8576b"
             ],
             [
              0.6666666666666666,
              "#ed7953"
             ],
             [
              0.7777777777777778,
              "#fb9f3a"
             ],
             [
              0.8888888888888888,
              "#fdca26"
             ],
             [
              1,
              "#f0f921"
             ]
            ],
            "type": "histogram2d"
           }
          ],
          "histogram2dcontour": [
           {
            "colorbar": {
             "outlinewidth": 0,
             "ticks": ""
            },
            "colorscale": [
             [
              0,
              "#0d0887"
             ],
             [
              0.1111111111111111,
              "#46039f"
             ],
             [
              0.2222222222222222,
              "#7201a8"
             ],
             [
              0.3333333333333333,
              "#9c179e"
             ],
             [
              0.4444444444444444,
              "#bd3786"
             ],
             [
              0.5555555555555556,
              "#d8576b"
             ],
             [
              0.6666666666666666,
              "#ed7953"
             ],
             [
              0.7777777777777778,
              "#fb9f3a"
             ],
             [
              0.8888888888888888,
              "#fdca26"
             ],
             [
              1,
              "#f0f921"
             ]
            ],
            "type": "histogram2dcontour"
           }
          ],
          "mesh3d": [
           {
            "colorbar": {
             "outlinewidth": 0,
             "ticks": ""
            },
            "type": "mesh3d"
           }
          ],
          "parcoords": [
           {
            "line": {
             "colorbar": {
              "outlinewidth": 0,
              "ticks": ""
             }
            },
            "type": "parcoords"
           }
          ],
          "pie": [
           {
            "automargin": true,
            "type": "pie"
           }
          ],
          "scatter": [
           {
            "marker": {
             "colorbar": {
              "outlinewidth": 0,
              "ticks": ""
             }
            },
            "type": "scatter"
           }
          ],
          "scatter3d": [
           {
            "line": {
             "colorbar": {
              "outlinewidth": 0,
              "ticks": ""
             }
            },
            "marker": {
             "colorbar": {
              "outlinewidth": 0,
              "ticks": ""
             }
            },
            "type": "scatter3d"
           }
          ],
          "scattercarpet": [
           {
            "marker": {
             "colorbar": {
              "outlinewidth": 0,
              "ticks": ""
             }
            },
            "type": "scattercarpet"
           }
          ],
          "scattergeo": [
           {
            "marker": {
             "colorbar": {
              "outlinewidth": 0,
              "ticks": ""
             }
            },
            "type": "scattergeo"
           }
          ],
          "scattergl": [
           {
            "marker": {
             "colorbar": {
              "outlinewidth": 0,
              "ticks": ""
             }
            },
            "type": "scattergl"
           }
          ],
          "scattermapbox": [
           {
            "marker": {
             "colorbar": {
              "outlinewidth": 0,
              "ticks": ""
             }
            },
            "type": "scattermapbox"
           }
          ],
          "scatterpolar": [
           {
            "marker": {
             "colorbar": {
              "outlinewidth": 0,
              "ticks": ""
             }
            },
            "type": "scatterpolar"
           }
          ],
          "scatterpolargl": [
           {
            "marker": {
             "colorbar": {
              "outlinewidth": 0,
              "ticks": ""
             }
            },
            "type": "scatterpolargl"
           }
          ],
          "scatterternary": [
           {
            "marker": {
             "colorbar": {
              "outlinewidth": 0,
              "ticks": ""
             }
            },
            "type": "scatterternary"
           }
          ],
          "surface": [
           {
            "colorbar": {
             "outlinewidth": 0,
             "ticks": ""
            },
            "colorscale": [
             [
              0,
              "#0d0887"
             ],
             [
              0.1111111111111111,
              "#46039f"
             ],
             [
              0.2222222222222222,
              "#7201a8"
             ],
             [
              0.3333333333333333,
              "#9c179e"
             ],
             [
              0.4444444444444444,
              "#bd3786"
             ],
             [
              0.5555555555555556,
              "#d8576b"
             ],
             [
              0.6666666666666666,
              "#ed7953"
             ],
             [
              0.7777777777777778,
              "#fb9f3a"
             ],
             [
              0.8888888888888888,
              "#fdca26"
             ],
             [
              1,
              "#f0f921"
             ]
            ],
            "type": "surface"
           }
          ],
          "table": [
           {
            "cells": {
             "fill": {
              "color": "#EBF0F8"
             },
             "line": {
              "color": "white"
             }
            },
            "header": {
             "fill": {
              "color": "#C8D4E3"
             },
             "line": {
              "color": "white"
             }
            },
            "type": "table"
           }
          ]
         },
         "layout": {
          "annotationdefaults": {
           "arrowcolor": "#2a3f5f",
           "arrowhead": 0,
           "arrowwidth": 1
          },
          "autotypenumbers": "strict",
          "coloraxis": {
           "colorbar": {
            "outlinewidth": 0,
            "ticks": ""
           }
          },
          "colorscale": {
           "diverging": [
            [
             0,
             "#8e0152"
            ],
            [
             0.1,
             "#c51b7d"
            ],
            [
             0.2,
             "#de77ae"
            ],
            [
             0.3,
             "#f1b6da"
            ],
            [
             0.4,
             "#fde0ef"
            ],
            [
             0.5,
             "#f7f7f7"
            ],
            [
             0.6,
             "#e6f5d0"
            ],
            [
             0.7,
             "#b8e186"
            ],
            [
             0.8,
             "#7fbc41"
            ],
            [
             0.9,
             "#4d9221"
            ],
            [
             1,
             "#276419"
            ]
           ],
           "sequential": [
            [
             0,
             "#0d0887"
            ],
            [
             0.1111111111111111,
             "#46039f"
            ],
            [
             0.2222222222222222,
             "#7201a8"
            ],
            [
             0.3333333333333333,
             "#9c179e"
            ],
            [
             0.4444444444444444,
             "#bd3786"
            ],
            [
             0.5555555555555556,
             "#d8576b"
            ],
            [
             0.6666666666666666,
             "#ed7953"
            ],
            [
             0.7777777777777778,
             "#fb9f3a"
            ],
            [
             0.8888888888888888,
             "#fdca26"
            ],
            [
             1,
             "#f0f921"
            ]
           ],
           "sequentialminus": [
            [
             0,
             "#0d0887"
            ],
            [
             0.1111111111111111,
             "#46039f"
            ],
            [
             0.2222222222222222,
             "#7201a8"
            ],
            [
             0.3333333333333333,
             "#9c179e"
            ],
            [
             0.4444444444444444,
             "#bd3786"
            ],
            [
             0.5555555555555556,
             "#d8576b"
            ],
            [
             0.6666666666666666,
             "#ed7953"
            ],
            [
             0.7777777777777778,
             "#fb9f3a"
            ],
            [
             0.8888888888888888,
             "#fdca26"
            ],
            [
             1,
             "#f0f921"
            ]
           ]
          },
          "colorway": [
           "#636efa",
           "#EF553B",
           "#00cc96",
           "#ab63fa",
           "#FFA15A",
           "#19d3f3",
           "#FF6692",
           "#B6E880",
           "#FF97FF",
           "#FECB52"
          ],
          "font": {
           "color": "#2a3f5f"
          },
          "geo": {
           "bgcolor": "white",
           "lakecolor": "white",
           "landcolor": "#E5ECF6",
           "showlakes": true,
           "showland": true,
           "subunitcolor": "white"
          },
          "hoverlabel": {
           "align": "left"
          },
          "hovermode": "closest",
          "mapbox": {
           "style": "light"
          },
          "paper_bgcolor": "white",
          "plot_bgcolor": "#E5ECF6",
          "polar": {
           "angularaxis": {
            "gridcolor": "white",
            "linecolor": "white",
            "ticks": ""
           },
           "bgcolor": "#E5ECF6",
           "radialaxis": {
            "gridcolor": "white",
            "linecolor": "white",
            "ticks": ""
           }
          },
          "scene": {
           "xaxis": {
            "backgroundcolor": "#E5ECF6",
            "gridcolor": "white",
            "gridwidth": 2,
            "linecolor": "white",
            "showbackground": true,
            "ticks": "",
            "zerolinecolor": "white"
           },
           "yaxis": {
            "backgroundcolor": "#E5ECF6",
            "gridcolor": "white",
            "gridwidth": 2,
            "linecolor": "white",
            "showbackground": true,
            "ticks": "",
            "zerolinecolor": "white"
           },
           "zaxis": {
            "backgroundcolor": "#E5ECF6",
            "gridcolor": "white",
            "gridwidth": 2,
            "linecolor": "white",
            "showbackground": true,
            "ticks": "",
            "zerolinecolor": "white"
           }
          },
          "shapedefaults": {
           "line": {
            "color": "#2a3f5f"
           }
          },
          "ternary": {
           "aaxis": {
            "gridcolor": "white",
            "linecolor": "white",
            "ticks": ""
           },
           "baxis": {
            "gridcolor": "white",
            "linecolor": "white",
            "ticks": ""
           },
           "bgcolor": "#E5ECF6",
           "caxis": {
            "gridcolor": "white",
            "linecolor": "white",
            "ticks": ""
           }
          },
          "title": {
           "x": 0.05
          },
          "xaxis": {
           "automargin": true,
           "gridcolor": "white",
           "linecolor": "white",
           "ticks": "",
           "title": {
            "standoff": 15
           },
           "zerolinecolor": "white",
           "zerolinewidth": 2
          },
          "yaxis": {
           "automargin": true,
           "gridcolor": "white",
           "linecolor": "white",
           "ticks": "",
           "title": {
            "standoff": 15
           },
           "zerolinecolor": "white",
           "zerolinewidth": 2
          }
         }
        },
        "title": {
         "text": "Bottom 12 Ladder scores"
        },
        "xaxis": {
         "anchor": "y",
         "domain": [
          0,
          1
         ],
         "title": {
          "text": "sum of Ladder score"
         }
        },
        "yaxis": {
         "anchor": "x",
         "categoryarray": [
          "Afghanistan",
          "Zimbabwe",
          "Rwanda",
          "Botswana",
          "Lesotho",
          "Malawi",
          "Haiti",
          "Tanzania",
          "Yemen",
          "Burundi",
          "India",
          "Sierra Leone"
         ],
         "categoryorder": "array",
         "domain": [
          0,
          1
         ],
         "title": {
          "text": "Country name"
         }
        }
       }
      },
      "text/html": [
       "<div>                            <div id=\"ac8314db-8235-4522-9c7a-58c281c80a22\" class=\"plotly-graph-div\" style=\"height:525px; width:100%;\"></div>            <script type=\"text/javascript\">                require([\"plotly\"], function(Plotly) {                    window.PLOTLYENV=window.PLOTLYENV || {};                                    if (document.getElementById(\"ac8314db-8235-4522-9c7a-58c281c80a22\")) {                    Plotly.newPlot(                        \"ac8314db-8235-4522-9c7a-58c281c80a22\",                        [{\"alignmentgroup\": \"True\", \"bingroup\": \"y\", \"histfunc\": \"sum\", \"hovertemplate\": \"Country name=%{y}<br>sum of Ladder score=%{x}<extra></extra>\", \"legendgroup\": \"Sierra Leone\", \"marker\": {\"color\": \"#636efa\"}, \"name\": \"Sierra Leone\", \"offsetgroup\": \"Sierra Leone\", \"orientation\": \"h\", \"showlegend\": true, \"type\": \"histogram\", \"x\": [3.849], \"xaxis\": \"x\", \"y\": [\"Sierra Leone\"], \"yaxis\": \"y\"}, {\"alignmentgroup\": \"True\", \"bingroup\": \"y\", \"histfunc\": \"sum\", \"hovertemplate\": \"Country name=%{y}<br>sum of Ladder score=%{x}<extra></extra>\", \"legendgroup\": \"India\", \"marker\": {\"color\": \"#EF553B\"}, \"name\": \"India\", \"offsetgroup\": \"India\", \"orientation\": \"h\", \"showlegend\": true, \"type\": \"histogram\", \"x\": [3.819], \"xaxis\": \"x\", \"y\": [\"India\"], \"yaxis\": \"y\"}, {\"alignmentgroup\": \"True\", \"bingroup\": \"y\", \"histfunc\": \"sum\", \"hovertemplate\": \"Country name=%{y}<br>sum of Ladder score=%{x}<extra></extra>\", \"legendgroup\": \"Burundi\", \"marker\": {\"color\": \"#00cc96\"}, \"name\": \"Burundi\", \"offsetgroup\": \"Burundi\", \"orientation\": \"h\", \"showlegend\": true, \"type\": \"histogram\", \"x\": [3.775], \"xaxis\": \"x\", \"y\": [\"Burundi\"], \"yaxis\": \"y\"}, {\"alignmentgroup\": \"True\", \"bingroup\": \"y\", \"histfunc\": \"sum\", \"hovertemplate\": \"Country name=%{y}<br>sum of Ladder score=%{x}<extra></extra>\", \"legendgroup\": \"Yemen\", \"marker\": {\"color\": \"#ab63fa\"}, \"name\": \"Yemen\", \"offsetgroup\": \"Yemen\", \"orientation\": \"h\", \"showlegend\": true, \"type\": \"histogram\", \"x\": [3.658], \"xaxis\": \"x\", \"y\": [\"Yemen\"], \"yaxis\": \"y\"}, {\"alignmentgroup\": \"True\", \"bingroup\": \"y\", \"histfunc\": \"sum\", \"hovertemplate\": \"Country name=%{y}<br>sum of Ladder score=%{x}<extra></extra>\", \"legendgroup\": \"Tanzania\", \"marker\": {\"color\": \"#FFA15A\"}, \"name\": \"Tanzania\", \"offsetgroup\": \"Tanzania\", \"orientation\": \"h\", \"showlegend\": true, \"type\": \"histogram\", \"x\": [3.623], \"xaxis\": \"x\", \"y\": [\"Tanzania\"], \"yaxis\": \"y\"}, {\"alignmentgroup\": \"True\", \"bingroup\": \"y\", \"histfunc\": \"sum\", \"hovertemplate\": \"Country name=%{y}<br>sum of Ladder score=%{x}<extra></extra>\", \"legendgroup\": \"Haiti\", \"marker\": {\"color\": \"#19d3f3\"}, \"name\": \"Haiti\", \"offsetgroup\": \"Haiti\", \"orientation\": \"h\", \"showlegend\": true, \"type\": \"histogram\", \"x\": [3.615], \"xaxis\": \"x\", \"y\": [\"Haiti\"], \"yaxis\": \"y\"}, {\"alignmentgroup\": \"True\", \"bingroup\": \"y\", \"histfunc\": \"sum\", \"hovertemplate\": \"Country name=%{y}<br>sum of Ladder score=%{x}<extra></extra>\", \"legendgroup\": \"Malawi\", \"marker\": {\"color\": \"#FF6692\"}, \"name\": \"Malawi\", \"offsetgroup\": \"Malawi\", \"orientation\": \"h\", \"showlegend\": true, \"type\": \"histogram\", \"x\": [3.6], \"xaxis\": \"x\", \"y\": [\"Malawi\"], \"yaxis\": \"y\"}, {\"alignmentgroup\": \"True\", \"bingroup\": \"y\", \"histfunc\": \"sum\", \"hovertemplate\": \"Country name=%{y}<br>sum of Ladder score=%{x}<extra></extra>\", \"legendgroup\": \"Lesotho\", \"marker\": {\"color\": \"#B6E880\"}, \"name\": \"Lesotho\", \"offsetgroup\": \"Lesotho\", \"orientation\": \"h\", \"showlegend\": true, \"type\": \"histogram\", \"x\": [3.512], \"xaxis\": \"x\", \"y\": [\"Lesotho\"], \"yaxis\": \"y\"}, {\"alignmentgroup\": \"True\", \"bingroup\": \"y\", \"histfunc\": \"sum\", \"hovertemplate\": \"Country name=%{y}<br>sum of Ladder score=%{x}<extra></extra>\", \"legendgroup\": \"Botswana\", \"marker\": {\"color\": \"#FF97FF\"}, \"name\": \"Botswana\", \"offsetgroup\": \"Botswana\", \"orientation\": \"h\", \"showlegend\": true, \"type\": \"histogram\", \"x\": [3.467], \"xaxis\": \"x\", \"y\": [\"Botswana\"], \"yaxis\": \"y\"}, {\"alignmentgroup\": \"True\", \"bingroup\": \"y\", \"histfunc\": \"sum\", \"hovertemplate\": \"Country name=%{y}<br>sum of Ladder score=%{x}<extra></extra>\", \"legendgroup\": \"Rwanda\", \"marker\": {\"color\": \"#FECB52\"}, \"name\": \"Rwanda\", \"offsetgroup\": \"Rwanda\", \"orientation\": \"h\", \"showlegend\": true, \"type\": \"histogram\", \"x\": [3.415], \"xaxis\": \"x\", \"y\": [\"Rwanda\"], \"yaxis\": \"y\"}, {\"alignmentgroup\": \"True\", \"bingroup\": \"y\", \"histfunc\": \"sum\", \"hovertemplate\": \"Country name=%{y}<br>sum of Ladder score=%{x}<extra></extra>\", \"legendgroup\": \"Zimbabwe\", \"marker\": {\"color\": \"#636efa\"}, \"name\": \"Zimbabwe\", \"offsetgroup\": \"Zimbabwe\", \"orientation\": \"h\", \"showlegend\": true, \"type\": \"histogram\", \"x\": [3.145], \"xaxis\": \"x\", \"y\": [\"Zimbabwe\"], \"yaxis\": \"y\"}, {\"alignmentgroup\": \"True\", \"bingroup\": \"y\", \"histfunc\": \"sum\", \"hovertemplate\": \"Country name=%{y}<br>sum of Ladder score=%{x}<extra></extra>\", \"legendgroup\": \"Afghanistan\", \"marker\": {\"color\": \"#EF553B\"}, \"name\": \"Afghanistan\", \"offsetgroup\": \"Afghanistan\", \"orientation\": \"h\", \"showlegend\": true, \"type\": \"histogram\", \"x\": [2.523], \"xaxis\": \"x\", \"y\": [\"Afghanistan\"], \"yaxis\": \"y\"}],                        {\"barmode\": \"relative\", \"legend\": {\"title\": {\"text\": \"Country name\"}, \"tracegroupgap\": 0}, \"template\": {\"data\": {\"bar\": [{\"error_x\": {\"color\": \"#2a3f5f\"}, \"error_y\": {\"color\": \"#2a3f5f\"}, \"marker\": {\"line\": {\"color\": \"#E5ECF6\", \"width\": 0.5}}, \"type\": \"bar\"}], \"barpolar\": [{\"marker\": {\"line\": {\"color\": \"#E5ECF6\", \"width\": 0.5}}, \"type\": \"barpolar\"}], \"carpet\": [{\"aaxis\": {\"endlinecolor\": \"#2a3f5f\", \"gridcolor\": \"white\", \"linecolor\": \"white\", \"minorgridcolor\": \"white\", \"startlinecolor\": \"#2a3f5f\"}, \"baxis\": {\"endlinecolor\": \"#2a3f5f\", \"gridcolor\": \"white\", \"linecolor\": \"white\", \"minorgridcolor\": \"white\", \"startlinecolor\": \"#2a3f5f\"}, \"type\": \"carpet\"}], \"choropleth\": [{\"colorbar\": {\"outlinewidth\": 0, \"ticks\": \"\"}, \"type\": \"choropleth\"}], \"contour\": [{\"colorbar\": {\"outlinewidth\": 0, \"ticks\": \"\"}, \"colorscale\": [[0.0, \"#0d0887\"], [0.1111111111111111, \"#46039f\"], [0.2222222222222222, \"#7201a8\"], [0.3333333333333333, \"#9c179e\"], [0.4444444444444444, \"#bd3786\"], [0.5555555555555556, \"#d8576b\"], [0.6666666666666666, \"#ed7953\"], [0.7777777777777778, \"#fb9f3a\"], [0.8888888888888888, \"#fdca26\"], [1.0, \"#f0f921\"]], \"type\": \"contour\"}], \"contourcarpet\": [{\"colorbar\": {\"outlinewidth\": 0, \"ticks\": \"\"}, \"type\": \"contourcarpet\"}], \"heatmap\": [{\"colorbar\": {\"outlinewidth\": 0, \"ticks\": \"\"}, \"colorscale\": [[0.0, \"#0d0887\"], [0.1111111111111111, \"#46039f\"], [0.2222222222222222, \"#7201a8\"], [0.3333333333333333, \"#9c179e\"], [0.4444444444444444, \"#bd3786\"], [0.5555555555555556, \"#d8576b\"], [0.6666666666666666, \"#ed7953\"], [0.7777777777777778, \"#fb9f3a\"], [0.8888888888888888, \"#fdca26\"], [1.0, \"#f0f921\"]], \"type\": \"heatmap\"}], \"heatmapgl\": [{\"colorbar\": {\"outlinewidth\": 0, \"ticks\": \"\"}, \"colorscale\": [[0.0, \"#0d0887\"], [0.1111111111111111, \"#46039f\"], [0.2222222222222222, \"#7201a8\"], [0.3333333333333333, \"#9c179e\"], [0.4444444444444444, \"#bd3786\"], [0.5555555555555556, \"#d8576b\"], [0.6666666666666666, \"#ed7953\"], [0.7777777777777778, \"#fb9f3a\"], [0.8888888888888888, \"#fdca26\"], [1.0, \"#f0f921\"]], \"type\": \"heatmapgl\"}], \"histogram\": [{\"marker\": {\"colorbar\": {\"outlinewidth\": 0, \"ticks\": \"\"}}, \"type\": \"histogram\"}], \"histogram2d\": [{\"colorbar\": {\"outlinewidth\": 0, \"ticks\": \"\"}, \"colorscale\": [[0.0, \"#0d0887\"], [0.1111111111111111, \"#46039f\"], [0.2222222222222222, \"#7201a8\"], [0.3333333333333333, \"#9c179e\"], [0.4444444444444444, \"#bd3786\"], [0.5555555555555556, \"#d8576b\"], [0.6666666666666666, \"#ed7953\"], [0.7777777777777778, \"#fb9f3a\"], [0.8888888888888888, \"#fdca26\"], [1.0, \"#f0f921\"]], \"type\": \"histogram2d\"}], \"histogram2dcontour\": [{\"colorbar\": {\"outlinewidth\": 0, \"ticks\": \"\"}, \"colorscale\": [[0.0, \"#0d0887\"], [0.1111111111111111, \"#46039f\"], [0.2222222222222222, \"#7201a8\"], [0.3333333333333333, \"#9c179e\"], [0.4444444444444444, \"#bd3786\"], [0.5555555555555556, \"#d8576b\"], [0.6666666666666666, \"#ed7953\"], [0.7777777777777778, \"#fb9f3a\"], [0.8888888888888888, \"#fdca26\"], [1.0, \"#f0f921\"]], \"type\": \"histogram2dcontour\"}], \"mesh3d\": [{\"colorbar\": {\"outlinewidth\": 0, \"ticks\": \"\"}, \"type\": \"mesh3d\"}], \"parcoords\": [{\"line\": {\"colorbar\": {\"outlinewidth\": 0, \"ticks\": \"\"}}, \"type\": \"parcoords\"}], \"pie\": [{\"automargin\": true, \"type\": \"pie\"}], \"scatter\": [{\"marker\": {\"colorbar\": {\"outlinewidth\": 0, \"ticks\": \"\"}}, \"type\": \"scatter\"}], \"scatter3d\": [{\"line\": {\"colorbar\": {\"outlinewidth\": 0, \"ticks\": \"\"}}, \"marker\": {\"colorbar\": {\"outlinewidth\": 0, \"ticks\": \"\"}}, \"type\": \"scatter3d\"}], \"scattercarpet\": [{\"marker\": {\"colorbar\": {\"outlinewidth\": 0, \"ticks\": \"\"}}, \"type\": \"scattercarpet\"}], \"scattergeo\": [{\"marker\": {\"colorbar\": {\"outlinewidth\": 0, \"ticks\": \"\"}}, \"type\": \"scattergeo\"}], \"scattergl\": [{\"marker\": {\"colorbar\": {\"outlinewidth\": 0, \"ticks\": \"\"}}, \"type\": \"scattergl\"}], \"scattermapbox\": [{\"marker\": {\"colorbar\": {\"outlinewidth\": 0, \"ticks\": \"\"}}, \"type\": \"scattermapbox\"}], \"scatterpolar\": [{\"marker\": {\"colorbar\": {\"outlinewidth\": 0, \"ticks\": \"\"}}, \"type\": \"scatterpolar\"}], \"scatterpolargl\": [{\"marker\": {\"colorbar\": {\"outlinewidth\": 0, \"ticks\": \"\"}}, \"type\": \"scatterpolargl\"}], \"scatterternary\": [{\"marker\": {\"colorbar\": {\"outlinewidth\": 0, \"ticks\": \"\"}}, \"type\": \"scatterternary\"}], \"surface\": [{\"colorbar\": {\"outlinewidth\": 0, \"ticks\": \"\"}, \"colorscale\": [[0.0, \"#0d0887\"], [0.1111111111111111, \"#46039f\"], [0.2222222222222222, \"#7201a8\"], [0.3333333333333333, \"#9c179e\"], [0.4444444444444444, \"#bd3786\"], [0.5555555555555556, \"#d8576b\"], [0.6666666666666666, \"#ed7953\"], [0.7777777777777778, \"#fb9f3a\"], [0.8888888888888888, \"#fdca26\"], [1.0, \"#f0f921\"]], \"type\": \"surface\"}], \"table\": [{\"cells\": {\"fill\": {\"color\": \"#EBF0F8\"}, \"line\": {\"color\": \"white\"}}, \"header\": {\"fill\": {\"color\": \"#C8D4E3\"}, \"line\": {\"color\": \"white\"}}, \"type\": \"table\"}]}, \"layout\": {\"annotationdefaults\": {\"arrowcolor\": \"#2a3f5f\", \"arrowhead\": 0, \"arrowwidth\": 1}, \"autotypenumbers\": \"strict\", \"coloraxis\": {\"colorbar\": {\"outlinewidth\": 0, \"ticks\": \"\"}}, \"colorscale\": {\"diverging\": [[0, \"#8e0152\"], [0.1, \"#c51b7d\"], [0.2, \"#de77ae\"], [0.3, \"#f1b6da\"], [0.4, \"#fde0ef\"], [0.5, \"#f7f7f7\"], [0.6, \"#e6f5d0\"], [0.7, \"#b8e186\"], [0.8, \"#7fbc41\"], [0.9, \"#4d9221\"], [1, \"#276419\"]], \"sequential\": [[0.0, \"#0d0887\"], [0.1111111111111111, \"#46039f\"], [0.2222222222222222, \"#7201a8\"], [0.3333333333333333, \"#9c179e\"], [0.4444444444444444, \"#bd3786\"], [0.5555555555555556, \"#d8576b\"], [0.6666666666666666, \"#ed7953\"], [0.7777777777777778, \"#fb9f3a\"], [0.8888888888888888, \"#fdca26\"], [1.0, \"#f0f921\"]], \"sequentialminus\": [[0.0, \"#0d0887\"], [0.1111111111111111, \"#46039f\"], [0.2222222222222222, \"#7201a8\"], [0.3333333333333333, \"#9c179e\"], [0.4444444444444444, \"#bd3786\"], [0.5555555555555556, \"#d8576b\"], [0.6666666666666666, \"#ed7953\"], [0.7777777777777778, \"#fb9f3a\"], [0.8888888888888888, \"#fdca26\"], [1.0, \"#f0f921\"]]}, \"colorway\": [\"#636efa\", \"#EF553B\", \"#00cc96\", \"#ab63fa\", \"#FFA15A\", \"#19d3f3\", \"#FF6692\", \"#B6E880\", \"#FF97FF\", \"#FECB52\"], \"font\": {\"color\": \"#2a3f5f\"}, \"geo\": {\"bgcolor\": \"white\", \"lakecolor\": \"white\", \"landcolor\": \"#E5ECF6\", \"showlakes\": true, \"showland\": true, \"subunitcolor\": \"white\"}, \"hoverlabel\": {\"align\": \"left\"}, \"hovermode\": \"closest\", \"mapbox\": {\"style\": \"light\"}, \"paper_bgcolor\": \"white\", \"plot_bgcolor\": \"#E5ECF6\", \"polar\": {\"angularaxis\": {\"gridcolor\": \"white\", \"linecolor\": \"white\", \"ticks\": \"\"}, \"bgcolor\": \"#E5ECF6\", \"radialaxis\": {\"gridcolor\": \"white\", \"linecolor\": \"white\", \"ticks\": \"\"}}, \"scene\": {\"xaxis\": {\"backgroundcolor\": \"#E5ECF6\", \"gridcolor\": \"white\", \"gridwidth\": 2, \"linecolor\": \"white\", \"showbackground\": true, \"ticks\": \"\", \"zerolinecolor\": \"white\"}, \"yaxis\": {\"backgroundcolor\": \"#E5ECF6\", \"gridcolor\": \"white\", \"gridwidth\": 2, \"linecolor\": \"white\", \"showbackground\": true, \"ticks\": \"\", \"zerolinecolor\": \"white\"}, \"zaxis\": {\"backgroundcolor\": \"#E5ECF6\", \"gridcolor\": \"white\", \"gridwidth\": 2, \"linecolor\": \"white\", \"showbackground\": true, \"ticks\": \"\", \"zerolinecolor\": \"white\"}}, \"shapedefaults\": {\"line\": {\"color\": \"#2a3f5f\"}}, \"ternary\": {\"aaxis\": {\"gridcolor\": \"white\", \"linecolor\": \"white\", \"ticks\": \"\"}, \"baxis\": {\"gridcolor\": \"white\", \"linecolor\": \"white\", \"ticks\": \"\"}, \"bgcolor\": \"#E5ECF6\", \"caxis\": {\"gridcolor\": \"white\", \"linecolor\": \"white\", \"ticks\": \"\"}}, \"title\": {\"x\": 0.05}, \"xaxis\": {\"automargin\": true, \"gridcolor\": \"white\", \"linecolor\": \"white\", \"ticks\": \"\", \"title\": {\"standoff\": 15}, \"zerolinecolor\": \"white\", \"zerolinewidth\": 2}, \"yaxis\": {\"automargin\": true, \"gridcolor\": \"white\", \"linecolor\": \"white\", \"ticks\": \"\", \"title\": {\"standoff\": 15}, \"zerolinecolor\": \"white\", \"zerolinewidth\": 2}}}, \"title\": {\"text\": \"Bottom 12 Ladder scores\"}, \"xaxis\": {\"anchor\": \"y\", \"domain\": [0.0, 1.0], \"title\": {\"text\": \"sum of Ladder score\"}}, \"yaxis\": {\"anchor\": \"x\", \"categoryarray\": [\"Afghanistan\", \"Zimbabwe\", \"Rwanda\", \"Botswana\", \"Lesotho\", \"Malawi\", \"Haiti\", \"Tanzania\", \"Yemen\", \"Burundi\", \"India\", \"Sierra Leone\"], \"categoryorder\": \"array\", \"domain\": [0.0, 1.0], \"title\": {\"text\": \"Country name\"}}},                        {\"responsive\": true}                    ).then(function(){\n",
       "                            \n",
       "var gd = document.getElementById('ac8314db-8235-4522-9c7a-58c281c80a22');\n",
       "var x = new MutationObserver(function (mutations, observer) {{\n",
       "        var display = window.getComputedStyle(gd).display;\n",
       "        if (!display || display === 'none') {{\n",
       "            console.log([gd, 'removed!']);\n",
       "            Plotly.purge(gd);\n",
       "            observer.disconnect();\n",
       "        }}\n",
       "}});\n",
       "\n",
       "// Listen for the removal of the full notebook cells\n",
       "var notebookContainer = gd.closest('#notebook-container');\n",
       "if (notebookContainer) {{\n",
       "    x.observe(notebookContainer, {childList: true});\n",
       "}}\n",
       "\n",
       "// Listen for the clearing of the current output cell\n",
       "var outputEl = gd.closest('.output');\n",
       "if (outputEl) {{\n",
       "    x.observe(outputEl, {childList: true});\n",
       "}}\n",
       "\n",
       "                        })                };                });            </script>        </div>"
      ]
     },
     "metadata": {},
     "output_type": "display_data"
    }
   ],
   "source": [
    "# Seeing top 12 and bottom 12\n",
    "\n",
    "fig = px.histogram(ladder_score.head(12), x = \"Ladder score\" , y = \"Country name\",color='Country name',title=\"Top 12 Ladder Scores.\"); fig.show()\n",
    "\n",
    "fig = px.histogram(ladder_score.tail(12), x = \"Ladder score\" , y = \"Country name\",color='Country name', title=\"Bottom 12 Ladder scores\"); fig.show()"
   ]
  },
  {
   "cell_type": "markdown",
   "metadata": {},
   "source": [
    "> **Findand has the highest and Afghanistan has the lowest score.**"
   ]
  },
  {
   "cell_type": "markdown",
   "metadata": {},
   "source": [
    "### Logged GDP per capita"
   ]
  },
  {
   "cell_type": "code",
   "execution_count": 116,
   "metadata": {},
   "outputs": [
    {
     "data": {
      "text/html": [
       "<div>\n",
       "<style scoped>\n",
       "    .dataframe tbody tr th:only-of-type {\n",
       "        vertical-align: middle;\n",
       "    }\n",
       "\n",
       "    .dataframe tbody tr th {\n",
       "        vertical-align: top;\n",
       "    }\n",
       "\n",
       "    .dataframe thead th {\n",
       "        text-align: right;\n",
       "    }\n",
       "</style>\n",
       "<table border=\"1\" class=\"dataframe\">\n",
       "  <thead>\n",
       "    <tr style=\"text-align: right;\">\n",
       "      <th></th>\n",
       "      <th>Logged GDP per capita</th>\n",
       "      <th>Country name</th>\n",
       "      <th>Regional indicator</th>\n",
       "    </tr>\n",
       "  </thead>\n",
       "  <tbody>\n",
       "    <tr>\n",
       "      <th>7</th>\n",
       "      <td>11.647</td>\n",
       "      <td>Luxembourg</td>\n",
       "      <td>Western Europe</td>\n",
       "    </tr>\n",
       "    <tr>\n",
       "      <th>31</th>\n",
       "      <td>11.488</td>\n",
       "      <td>Singapore</td>\n",
       "      <td>Southeast Asia</td>\n",
       "    </tr>\n",
       "    <tr>\n",
       "      <th>14</th>\n",
       "      <td>11.342</td>\n",
       "      <td>Ireland</td>\n",
       "      <td>Western Europe</td>\n",
       "    </tr>\n",
       "    <tr>\n",
       "      <th>2</th>\n",
       "      <td>11.117</td>\n",
       "      <td>Switzerland</td>\n",
       "      <td>Western Europe</td>\n",
       "    </tr>\n",
       "    <tr>\n",
       "      <th>24</th>\n",
       "      <td>11.085</td>\n",
       "      <td>United Arab Emirates</td>\n",
       "      <td>Middle East and North Africa</td>\n",
       "    </tr>\n",
       "    <tr>\n",
       "      <th>5</th>\n",
       "      <td>11.053</td>\n",
       "      <td>Norway</td>\n",
       "      <td>Western Europe</td>\n",
       "    </tr>\n",
       "    <tr>\n",
       "      <th>18</th>\n",
       "      <td>11.023</td>\n",
       "      <td>United States</td>\n",
       "      <td>North America and ANZ</td>\n",
       "    </tr>\n",
       "    <tr>\n",
       "      <th>76</th>\n",
       "      <td>11.000</td>\n",
       "      <td>Hong Kong S.A.R. of China</td>\n",
       "      <td>East Asia</td>\n",
       "    </tr>\n",
       "    <tr>\n",
       "      <th>1</th>\n",
       "      <td>10.933</td>\n",
       "      <td>Denmark</td>\n",
       "      <td>Western Europe</td>\n",
       "    </tr>\n",
       "    <tr>\n",
       "      <th>4</th>\n",
       "      <td>10.932</td>\n",
       "      <td>Netherlands</td>\n",
       "      <td>Western Europe</td>\n",
       "    </tr>\n",
       "  </tbody>\n",
       "</table>\n",
       "</div>"
      ],
      "text/plain": [
       "    Logged GDP per capita               Country name  \\\n",
       "7                  11.647                 Luxembourg   \n",
       "31                 11.488                  Singapore   \n",
       "14                 11.342                    Ireland   \n",
       "2                  11.117                Switzerland   \n",
       "24                 11.085       United Arab Emirates   \n",
       "5                  11.053                     Norway   \n",
       "18                 11.023              United States   \n",
       "76                 11.000  Hong Kong S.A.R. of China   \n",
       "1                  10.933                    Denmark   \n",
       "4                  10.932                Netherlands   \n",
       "\n",
       "              Regional indicator  \n",
       "7                 Western Europe  \n",
       "31                Southeast Asia  \n",
       "14                Western Europe  \n",
       "2                 Western Europe  \n",
       "24  Middle East and North Africa  \n",
       "5                 Western Europe  \n",
       "18         North America and ANZ  \n",
       "76                     East Asia  \n",
       "1                 Western Europe  \n",
       "4                 Western Europe  "
      ]
     },
     "execution_count": 116,
     "metadata": {},
     "output_type": "execute_result"
    }
   ],
   "source": [
    "gdp = df[[\"Logged GDP per capita\", \"Country name\",\"Regional indicator\"]].sort_values(\"Logged GDP per capita\",ascending=False)\n",
    "# Top 10\n",
    "gdp.head(10)"
   ]
  },
  {
   "cell_type": "code",
   "execution_count": 118,
   "metadata": {},
   "outputs": [
    {
     "data": {
      "text/html": [
       "<div>\n",
       "<style scoped>\n",
       "    .dataframe tbody tr th:only-of-type {\n",
       "        vertical-align: middle;\n",
       "    }\n",
       "\n",
       "    .dataframe tbody tr th {\n",
       "        vertical-align: top;\n",
       "    }\n",
       "\n",
       "    .dataframe thead th {\n",
       "        text-align: right;\n",
       "    }\n",
       "</style>\n",
       "<table border=\"1\" class=\"dataframe\">\n",
       "  <thead>\n",
       "    <tr style=\"text-align: right;\">\n",
       "      <th></th>\n",
       "      <th>Logged GDP per capita</th>\n",
       "      <th>Country name</th>\n",
       "      <th>Regional indicator</th>\n",
       "    </tr>\n",
       "  </thead>\n",
       "  <tbody>\n",
       "    <tr>\n",
       "      <th>142</th>\n",
       "      <td>7.477</td>\n",
       "      <td>Haiti</td>\n",
       "      <td>Latin America and Caribbean</td>\n",
       "    </tr>\n",
       "    <tr>\n",
       "      <th>137</th>\n",
       "      <td>7.434</td>\n",
       "      <td>Sierra Leone</td>\n",
       "      <td>Sub-Saharan Africa</td>\n",
       "    </tr>\n",
       "    <tr>\n",
       "      <th>134</th>\n",
       "      <td>7.396</td>\n",
       "      <td>Madagascar</td>\n",
       "      <td>Sub-Saharan Africa</td>\n",
       "    </tr>\n",
       "    <tr>\n",
       "      <th>127</th>\n",
       "      <td>7.364</td>\n",
       "      <td>Chad</td>\n",
       "      <td>Sub-Saharan Africa</td>\n",
       "    </tr>\n",
       "    <tr>\n",
       "      <th>135</th>\n",
       "      <td>7.362</td>\n",
       "      <td>Togo</td>\n",
       "      <td>Sub-Saharan Africa</td>\n",
       "    </tr>\n",
       "    <tr>\n",
       "      <th>119</th>\n",
       "      <td>7.288</td>\n",
       "      <td>Liberia</td>\n",
       "      <td>Sub-Saharan Africa</td>\n",
       "    </tr>\n",
       "    <tr>\n",
       "      <th>114</th>\n",
       "      <td>7.158</td>\n",
       "      <td>Mozambique</td>\n",
       "      <td>Sub-Saharan Africa</td>\n",
       "    </tr>\n",
       "    <tr>\n",
       "      <th>95</th>\n",
       "      <td>7.098</td>\n",
       "      <td>Niger</td>\n",
       "      <td>Sub-Saharan Africa</td>\n",
       "    </tr>\n",
       "    <tr>\n",
       "      <th>143</th>\n",
       "      <td>6.958</td>\n",
       "      <td>Malawi</td>\n",
       "      <td>Sub-Saharan Africa</td>\n",
       "    </tr>\n",
       "    <tr>\n",
       "      <th>139</th>\n",
       "      <td>6.635</td>\n",
       "      <td>Burundi</td>\n",
       "      <td>Sub-Saharan Africa</td>\n",
       "    </tr>\n",
       "  </tbody>\n",
       "</table>\n",
       "</div>"
      ],
      "text/plain": [
       "     Logged GDP per capita  Country name           Regional indicator\n",
       "142                  7.477         Haiti  Latin America and Caribbean\n",
       "137                  7.434  Sierra Leone           Sub-Saharan Africa\n",
       "134                  7.396    Madagascar           Sub-Saharan Africa\n",
       "127                  7.364          Chad           Sub-Saharan Africa\n",
       "135                  7.362          Togo           Sub-Saharan Africa\n",
       "119                  7.288       Liberia           Sub-Saharan Africa\n",
       "114                  7.158    Mozambique           Sub-Saharan Africa\n",
       "95                   7.098         Niger           Sub-Saharan Africa\n",
       "143                  6.958        Malawi           Sub-Saharan Africa\n",
       "139                  6.635       Burundi           Sub-Saharan Africa"
      ]
     },
     "execution_count": 118,
     "metadata": {},
     "output_type": "execute_result"
    }
   ],
   "source": [
    "# Botttom 10\n",
    "gdp.tail(10)"
   ]
  },
  {
   "cell_type": "code",
   "execution_count": 62,
   "metadata": {},
   "outputs": [
    {
     "name": "stdout",
     "output_type": "stream",
     "text": [
      "Average GDP : 9.432208053691275\n"
     ]
    }
   ],
   "source": [
    "print(\"Average GDP : {}\".format(np.mean(gdp['Logged GDP per capita'])))"
   ]
  },
  {
   "cell_type": "code",
   "execution_count": 97,
   "metadata": {},
   "outputs": [
    {
     "data": {
      "application/vnd.plotly.v1+json": {
       "config": {
        "plotlyServerURL": "https://plot.ly"
       },
       "data": [
        {
         "customdata": [
          [
           "Western Europe"
          ]
         ],
         "hovertemplate": "Country name=Luxembourg<br>Logged GDP per capita=%{marker.size}<br>Regional indicator=%{customdata[0]}<extra></extra>",
         "legendgroup": "Luxembourg",
         "marker": {
          "color": "#636efa",
          "size": [
           11.647
          ],
          "sizemode": "area",
          "sizeref": 0.0291175,
          "symbol": "circle"
         },
         "mode": "markers",
         "name": "Luxembourg",
         "orientation": "v",
         "showlegend": true,
         "type": "scatter",
         "x": [
          11.647
         ],
         "xaxis": "x",
         "y": [
          11.647
         ],
         "yaxis": "y"
        },
        {
         "customdata": [
          [
           "Southeast Asia"
          ]
         ],
         "hovertemplate": "Country name=Singapore<br>Logged GDP per capita=%{marker.size}<br>Regional indicator=%{customdata[0]}<extra></extra>",
         "legendgroup": "Singapore",
         "marker": {
          "color": "#EF553B",
          "size": [
           11.488
          ],
          "sizemode": "area",
          "sizeref": 0.0291175,
          "symbol": "circle"
         },
         "mode": "markers",
         "name": "Singapore",
         "orientation": "v",
         "showlegend": true,
         "type": "scatter",
         "x": [
          11.488
         ],
         "xaxis": "x",
         "y": [
          11.488
         ],
         "yaxis": "y"
        },
        {
         "customdata": [
          [
           "Western Europe"
          ]
         ],
         "hovertemplate": "Country name=Ireland<br>Logged GDP per capita=%{marker.size}<br>Regional indicator=%{customdata[0]}<extra></extra>",
         "legendgroup": "Ireland",
         "marker": {
          "color": "#00cc96",
          "size": [
           11.342
          ],
          "sizemode": "area",
          "sizeref": 0.0291175,
          "symbol": "circle"
         },
         "mode": "markers",
         "name": "Ireland",
         "orientation": "v",
         "showlegend": true,
         "type": "scatter",
         "x": [
          11.342
         ],
         "xaxis": "x",
         "y": [
          11.342
         ],
         "yaxis": "y"
        },
        {
         "customdata": [
          [
           "Western Europe"
          ]
         ],
         "hovertemplate": "Country name=Switzerland<br>Logged GDP per capita=%{marker.size}<br>Regional indicator=%{customdata[0]}<extra></extra>",
         "legendgroup": "Switzerland",
         "marker": {
          "color": "#ab63fa",
          "size": [
           11.117
          ],
          "sizemode": "area",
          "sizeref": 0.0291175,
          "symbol": "circle"
         },
         "mode": "markers",
         "name": "Switzerland",
         "orientation": "v",
         "showlegend": true,
         "type": "scatter",
         "x": [
          11.117
         ],
         "xaxis": "x",
         "y": [
          11.117
         ],
         "yaxis": "y"
        },
        {
         "customdata": [
          [
           "Middle East and North Africa"
          ]
         ],
         "hovertemplate": "Country name=United Arab Emirates<br>Logged GDP per capita=%{marker.size}<br>Regional indicator=%{customdata[0]}<extra></extra>",
         "legendgroup": "United Arab Emirates",
         "marker": {
          "color": "#FFA15A",
          "size": [
           11.085
          ],
          "sizemode": "area",
          "sizeref": 0.0291175,
          "symbol": "circle"
         },
         "mode": "markers",
         "name": "United Arab Emirates",
         "orientation": "v",
         "showlegend": true,
         "type": "scatter",
         "x": [
          11.085
         ],
         "xaxis": "x",
         "y": [
          11.085
         ],
         "yaxis": "y"
        },
        {
         "customdata": [
          [
           "Western Europe"
          ]
         ],
         "hovertemplate": "Country name=Norway<br>Logged GDP per capita=%{marker.size}<br>Regional indicator=%{customdata[0]}<extra></extra>",
         "legendgroup": "Norway",
         "marker": {
          "color": "#19d3f3",
          "size": [
           11.053
          ],
          "sizemode": "area",
          "sizeref": 0.0291175,
          "symbol": "circle"
         },
         "mode": "markers",
         "name": "Norway",
         "orientation": "v",
         "showlegend": true,
         "type": "scatter",
         "x": [
          11.053
         ],
         "xaxis": "x",
         "y": [
          11.053
         ],
         "yaxis": "y"
        },
        {
         "customdata": [
          [
           "North America and ANZ"
          ]
         ],
         "hovertemplate": "Country name=United States<br>Logged GDP per capita=%{marker.size}<br>Regional indicator=%{customdata[0]}<extra></extra>",
         "legendgroup": "United States",
         "marker": {
          "color": "#FF6692",
          "size": [
           11.023
          ],
          "sizemode": "area",
          "sizeref": 0.0291175,
          "symbol": "circle"
         },
         "mode": "markers",
         "name": "United States",
         "orientation": "v",
         "showlegend": true,
         "type": "scatter",
         "x": [
          11.023
         ],
         "xaxis": "x",
         "y": [
          11.023
         ],
         "yaxis": "y"
        },
        {
         "customdata": [
          [
           "East Asia"
          ]
         ],
         "hovertemplate": "Country name=Hong Kong S.A.R. of China<br>Logged GDP per capita=%{marker.size}<br>Regional indicator=%{customdata[0]}<extra></extra>",
         "legendgroup": "Hong Kong S.A.R. of China",
         "marker": {
          "color": "#B6E880",
          "size": [
           11
          ],
          "sizemode": "area",
          "sizeref": 0.0291175,
          "symbol": "circle"
         },
         "mode": "markers",
         "name": "Hong Kong S.A.R. of China",
         "orientation": "v",
         "showlegend": true,
         "type": "scatter",
         "x": [
          11
         ],
         "xaxis": "x",
         "y": [
          11
         ],
         "yaxis": "y"
        },
        {
         "customdata": [
          [
           "Western Europe"
          ]
         ],
         "hovertemplate": "Country name=Denmark<br>Logged GDP per capita=%{marker.size}<br>Regional indicator=%{customdata[0]}<extra></extra>",
         "legendgroup": "Denmark",
         "marker": {
          "color": "#FF97FF",
          "size": [
           10.933
          ],
          "sizemode": "area",
          "sizeref": 0.0291175,
          "symbol": "circle"
         },
         "mode": "markers",
         "name": "Denmark",
         "orientation": "v",
         "showlegend": true,
         "type": "scatter",
         "x": [
          10.933
         ],
         "xaxis": "x",
         "y": [
          10.933
         ],
         "yaxis": "y"
        },
        {
         "customdata": [
          [
           "Western Europe"
          ]
         ],
         "hovertemplate": "Country name=Netherlands<br>Logged GDP per capita=%{marker.size}<br>Regional indicator=%{customdata[0]}<extra></extra>",
         "legendgroup": "Netherlands",
         "marker": {
          "color": "#FECB52",
          "size": [
           10.932
          ],
          "sizemode": "area",
          "sizeref": 0.0291175,
          "symbol": "circle"
         },
         "mode": "markers",
         "name": "Netherlands",
         "orientation": "v",
         "showlegend": true,
         "type": "scatter",
         "x": [
          10.932
         ],
         "xaxis": "x",
         "y": [
          10.932
         ],
         "yaxis": "y"
        },
        {
         "customdata": [
          [
           "Western Europe"
          ]
         ],
         "hovertemplate": "Country name=Austria<br>Logged GDP per capita=%{marker.size}<br>Regional indicator=%{customdata[0]}<extra></extra>",
         "legendgroup": "Austria",
         "marker": {
          "color": "#636efa",
          "size": [
           10.906
          ],
          "sizemode": "area",
          "sizeref": 0.0291175,
          "symbol": "circle"
         },
         "mode": "markers",
         "name": "Austria",
         "orientation": "v",
         "showlegend": true,
         "type": "scatter",
         "x": [
          10.906
         ],
         "xaxis": "x",
         "y": [
          10.906
         ],
         "yaxis": "y"
        },
        {
         "customdata": [
          [
           "Western Europe"
          ]
         ],
         "hovertemplate": "Country name=Iceland<br>Logged GDP per capita=%{marker.size}<br>Regional indicator=%{customdata[0]}<extra></extra>",
         "legendgroup": "Iceland",
         "marker": {
          "color": "#EF553B",
          "size": [
           10.878
          ],
          "sizemode": "area",
          "sizeref": 0.0291175,
          "symbol": "circle"
         },
         "mode": "markers",
         "name": "Iceland",
         "orientation": "v",
         "showlegend": true,
         "type": "scatter",
         "x": [
          10.878
         ],
         "xaxis": "x",
         "y": [
          10.878
         ],
         "yaxis": "y"
        },
        {
         "customdata": [
          [
           "Western Europe"
          ]
         ],
         "hovertemplate": "Country name=Germany<br>Logged GDP per capita=%{marker.size}<br>Regional indicator=%{customdata[0]}<extra></extra>",
         "legendgroup": "Germany",
         "marker": {
          "color": "#00cc96",
          "size": [
           10.873
          ],
          "sizemode": "area",
          "sizeref": 0.0291175,
          "symbol": "circle"
         },
         "mode": "markers",
         "name": "Germany",
         "orientation": "v",
         "showlegend": true,
         "type": "scatter",
         "x": [
          10.873
         ],
         "xaxis": "x",
         "y": [
          10.873
         ],
         "yaxis": "y"
        },
        {
         "customdata": [
          [
           "East Asia"
          ]
         ],
         "hovertemplate": "Country name=Taiwan Province of China<br>Logged GDP per capita=%{marker.size}<br>Regional indicator=%{customdata[0]}<extra></extra>",
         "legendgroup": "Taiwan Province of China",
         "marker": {
          "color": "#ab63fa",
          "size": [
           10.871
          ],
          "sizemode": "area",
          "sizeref": 0.0291175,
          "symbol": "circle"
         },
         "mode": "markers",
         "name": "Taiwan Province of China",
         "orientation": "v",
         "showlegend": true,
         "type": "scatter",
         "x": [
          10.871
         ],
         "xaxis": "x",
         "y": [
          10.871
         ],
         "yaxis": "y"
        },
        {
         "customdata": [
          [
           "Western Europe"
          ]
         ],
         "hovertemplate": "Country name=Sweden<br>Logged GDP per capita=%{marker.size}<br>Regional indicator=%{customdata[0]}<extra></extra>",
         "legendgroup": "Sweden",
         "marker": {
          "color": "#FFA15A",
          "size": [
           10.867
          ],
          "sizemode": "area",
          "sizeref": 0.0291175,
          "symbol": "circle"
         },
         "mode": "markers",
         "name": "Sweden",
         "orientation": "v",
         "showlegend": true,
         "type": "scatter",
         "x": [
          10.867
         ],
         "xaxis": "x",
         "y": [
          10.867
         ],
         "yaxis": "y"
        },
        {
         "customdata": [
          [
           "Western Europe"
          ]
         ],
         "hovertemplate": "Country name=Belgium<br>Logged GDP per capita=%{marker.size}<br>Regional indicator=%{customdata[0]}<extra></extra>",
         "legendgroup": "Belgium",
         "marker": {
          "color": "#19d3f3",
          "size": [
           10.823
          ],
          "sizemode": "area",
          "sizeref": 0.0291175,
          "symbol": "circle"
         },
         "mode": "markers",
         "name": "Belgium",
         "orientation": "v",
         "showlegend": true,
         "type": "scatter",
         "x": [
          10.823
         ],
         "xaxis": "x",
         "y": [
          10.823
         ],
         "yaxis": "y"
        },
        {
         "customdata": [
          [
           "Middle East and North Africa"
          ]
         ],
         "hovertemplate": "Country name=Kuwait<br>Logged GDP per capita=%{marker.size}<br>Regional indicator=%{customdata[0]}<extra></extra>",
         "legendgroup": "Kuwait",
         "marker": {
          "color": "#FF6692",
          "size": [
           10.817
          ],
          "sizemode": "area",
          "sizeref": 0.0291175,
          "symbol": "circle"
         },
         "mode": "markers",
         "name": "Kuwait",
         "orientation": "v",
         "showlegend": true,
         "type": "scatter",
         "x": [
          10.817
         ],
         "xaxis": "x",
         "y": [
          10.817
         ],
         "yaxis": "y"
        },
        {
         "customdata": [
          [
           "North America and ANZ"
          ]
         ],
         "hovertemplate": "Country name=Australia<br>Logged GDP per capita=%{marker.size}<br>Regional indicator=%{customdata[0]}<extra></extra>",
         "legendgroup": "Australia",
         "marker": {
          "color": "#B6E880",
          "size": [
           10.796
          ],
          "sizemode": "area",
          "sizeref": 0.0291175,
          "symbol": "circle"
         },
         "mode": "markers",
         "name": "Australia",
         "orientation": "v",
         "showlegend": true,
         "type": "scatter",
         "x": [
          10.796
         ],
         "xaxis": "x",
         "y": [
          10.796
         ],
         "yaxis": "y"
        },
        {
         "customdata": [
          [
           "North America and ANZ"
          ]
         ],
         "hovertemplate": "Country name=Canada<br>Logged GDP per capita=%{marker.size}<br>Regional indicator=%{customdata[0]}<extra></extra>",
         "legendgroup": "Canada",
         "marker": {
          "color": "#FF97FF",
          "size": [
           10.776
          ],
          "sizemode": "area",
          "sizeref": 0.0291175,
          "symbol": "circle"
         },
         "mode": "markers",
         "name": "Canada",
         "orientation": "v",
         "showlegend": true,
         "type": "scatter",
         "x": [
          10.776
         ],
         "xaxis": "x",
         "y": [
          10.776
         ],
         "yaxis": "y"
        },
        {
         "customdata": [
          [
           "Western Europe"
          ]
         ],
         "hovertemplate": "Country name=Finland<br>Logged GDP per capita=%{marker.size}<br>Regional indicator=%{customdata[0]}<extra></extra>",
         "legendgroup": "Finland",
         "marker": {
          "color": "#FECB52",
          "size": [
           10.775
          ],
          "sizemode": "area",
          "sizeref": 0.0291175,
          "symbol": "circle"
         },
         "mode": "markers",
         "name": "Finland",
         "orientation": "v",
         "showlegend": true,
         "type": "scatter",
         "x": [
          10.775
         ],
         "xaxis": "x",
         "y": [
          10.775
         ],
         "yaxis": "y"
        },
        {
         "customdata": [
          [
           "Middle East and North Africa"
          ]
         ],
         "hovertemplate": "Country name=Saudi Arabia<br>Logged GDP per capita=%{marker.size}<br>Regional indicator=%{customdata[0]}<extra></extra>",
         "legendgroup": "Saudi Arabia",
         "marker": {
          "color": "#636efa",
          "size": [
           10.743
          ],
          "sizemode": "area",
          "sizeref": 0.0291175,
          "symbol": "circle"
         },
         "mode": "markers",
         "name": "Saudi Arabia",
         "orientation": "v",
         "showlegend": true,
         "type": "scatter",
         "x": [
          10.743
         ],
         "xaxis": "x",
         "y": [
          10.743
         ],
         "yaxis": "y"
        },
        {
         "customdata": [
          [
           "Western Europe"
          ]
         ],
         "hovertemplate": "Country name=United Kingdom<br>Logged GDP per capita=%{marker.size}<br>Regional indicator=%{customdata[0]}<extra></extra>",
         "legendgroup": "United Kingdom",
         "marker": {
          "color": "#EF553B",
          "size": [
           10.707
          ],
          "sizemode": "area",
          "sizeref": 0.0291175,
          "symbol": "circle"
         },
         "mode": "markers",
         "name": "United Kingdom",
         "orientation": "v",
         "showlegend": true,
         "type": "scatter",
         "x": [
          10.707
         ],
         "xaxis": "x",
         "y": [
          10.707
         ],
         "yaxis": "y"
        },
        {
         "customdata": [
          [
           "Western Europe"
          ]
         ],
         "hovertemplate": "Country name=France<br>Logged GDP per capita=%{marker.size}<br>Regional indicator=%{customdata[0]}<extra></extra>",
         "legendgroup": "France",
         "marker": {
          "color": "#00cc96",
          "size": [
           10.704
          ],
          "sizemode": "area",
          "sizeref": 0.0291175,
          "symbol": "circle"
         },
         "mode": "markers",
         "name": "France",
         "orientation": "v",
         "showlegend": true,
         "type": "scatter",
         "x": [
          10.704
         ],
         "xaxis": "x",
         "y": [
          10.704
         ],
         "yaxis": "y"
        },
        {
         "customdata": [
          [
           "Western Europe"
          ]
         ],
         "hovertemplate": "Country name=Malta<br>Logged GDP per capita=%{marker.size}<br>Regional indicator=%{customdata[0]}<extra></extra>",
         "legendgroup": "Malta",
         "marker": {
          "color": "#ab63fa",
          "size": [
           10.674
          ],
          "sizemode": "area",
          "sizeref": 0.0291175,
          "symbol": "circle"
         },
         "mode": "markers",
         "name": "Malta",
         "orientation": "v",
         "showlegend": true,
         "type": "scatter",
         "x": [
          10.674
         ],
         "xaxis": "x",
         "y": [
          10.674
         ],
         "yaxis": "y"
        },
        {
         "customdata": [
          [
           "Middle East and North Africa"
          ]
         ],
         "hovertemplate": "Country name=Bahrain<br>Logged GDP per capita=%{marker.size}<br>Regional indicator=%{customdata[0]}<extra></extra>",
         "legendgroup": "Bahrain",
         "marker": {
          "color": "#FFA15A",
          "size": [
           10.669
          ],
          "sizemode": "area",
          "sizeref": 0.0291175,
          "symbol": "circle"
         },
         "mode": "markers",
         "name": "Bahrain",
         "orientation": "v",
         "showlegend": true,
         "type": "scatter",
         "x": [
          10.669
         ],
         "xaxis": "x",
         "y": [
          10.669
         ],
         "yaxis": "y"
        },
        {
         "customdata": [
          [
           "East Asia"
          ]
         ],
         "hovertemplate": "Country name=South Korea<br>Logged GDP per capita=%{marker.size}<br>Regional indicator=%{customdata[0]}<extra></extra>",
         "legendgroup": "South Korea",
         "marker": {
          "color": "#19d3f3",
          "size": [
           10.651
          ],
          "sizemode": "area",
          "sizeref": 0.0291175,
          "symbol": "circle"
         },
         "mode": "markers",
         "name": "South Korea",
         "orientation": "v",
         "showlegend": true,
         "type": "scatter",
         "x": [
          10.651
         ],
         "xaxis": "x",
         "y": [
          10.651
         ],
         "yaxis": "y"
        },
        {
         "customdata": [
          [
           "North America and ANZ"
          ]
         ],
         "hovertemplate": "Country name=New Zealand<br>Logged GDP per capita=%{marker.size}<br>Regional indicator=%{customdata[0]}<extra></extra>",
         "legendgroup": "New Zealand",
         "marker": {
          "color": "#FF6692",
          "size": [
           10.643
          ],
          "sizemode": "area",
          "sizeref": 0.0291175,
          "symbol": "circle"
         },
         "mode": "markers",
         "name": "New Zealand",
         "orientation": "v",
         "showlegend": true,
         "type": "scatter",
         "x": [
          10.643
         ],
         "xaxis": "x",
         "y": [
          10.643
         ],
         "yaxis": "y"
        },
        {
         "customdata": [
          [
           "Western Europe"
          ]
         ],
         "hovertemplate": "Country name=Italy<br>Logged GDP per capita=%{marker.size}<br>Regional indicator=%{customdata[0]}<extra></extra>",
         "legendgroup": "Italy",
         "marker": {
          "color": "#B6E880",
          "size": [
           10.623
          ],
          "sizemode": "area",
          "sizeref": 0.0291175,
          "symbol": "circle"
         },
         "mode": "markers",
         "name": "Italy",
         "orientation": "v",
         "showlegend": true,
         "type": "scatter",
         "x": [
          10.623
         ],
         "xaxis": "x",
         "y": [
          10.623
         ],
         "yaxis": "y"
        },
        {
         "customdata": [
          [
           "East Asia"
          ]
         ],
         "hovertemplate": "Country name=Japan<br>Logged GDP per capita=%{marker.size}<br>Regional indicator=%{customdata[0]}<extra></extra>",
         "legendgroup": "Japan",
         "marker": {
          "color": "#FF97FF",
          "size": [
           10.611
          ],
          "sizemode": "area",
          "sizeref": 0.0291175,
          "symbol": "circle"
         },
         "mode": "markers",
         "name": "Japan",
         "orientation": "v",
         "showlegend": true,
         "type": "scatter",
         "x": [
          10.611
         ],
         "xaxis": "x",
         "y": [
          10.611
         ],
         "yaxis": "y"
        },
        {
         "customdata": [
          [
           "Western Europe"
          ]
         ],
         "hovertemplate": "Country name=North Cyprus<br>Logged GDP per capita=%{marker.size}<br>Regional indicator=%{customdata[0]}<extra></extra>",
         "legendgroup": "North Cyprus",
         "marker": {
          "color": "#FECB52",
          "size": [
           10.576
          ],
          "sizemode": "area",
          "sizeref": 0.0291175,
          "symbol": "circle"
         },
         "mode": "markers",
         "name": "North Cyprus",
         "orientation": "v",
         "showlegend": true,
         "type": "scatter",
         "x": [
          10.576
         ],
         "xaxis": "x",
         "y": [
          10.576
         ],
         "yaxis": "y"
        },
        {
         "customdata": [
          [
           "Western Europe"
          ]
         ],
         "hovertemplate": "Country name=Cyprus<br>Logged GDP per capita=%{marker.size}<br>Regional indicator=%{customdata[0]}<extra></extra>",
         "legendgroup": "Cyprus",
         "marker": {
          "color": "#636efa",
          "size": [
           10.576
          ],
          "sizemode": "area",
          "sizeref": 0.0291175,
          "symbol": "circle"
         },
         "mode": "markers",
         "name": "Cyprus",
         "orientation": "v",
         "showlegend": true,
         "type": "scatter",
         "x": [
          10.576
         ],
         "xaxis": "x",
         "y": [
          10.576
         ],
         "yaxis": "y"
        },
        {
         "customdata": [
          [
           "Middle East and North Africa"
          ]
         ],
         "hovertemplate": "Country name=Israel<br>Logged GDP per capita=%{marker.size}<br>Regional indicator=%{customdata[0]}<extra></extra>",
         "legendgroup": "Israel",
         "marker": {
          "color": "#EF553B",
          "size": [
           10.575
          ],
          "sizemode": "area",
          "sizeref": 0.0291175,
          "symbol": "circle"
         },
         "mode": "markers",
         "name": "Israel",
         "orientation": "v",
         "showlegend": true,
         "type": "scatter",
         "x": [
          10.575
         ],
         "xaxis": "x",
         "y": [
          10.575
         ],
         "yaxis": "y"
        },
        {
         "customdata": [
          [
           "Western Europe"
          ]
         ],
         "hovertemplate": "Country name=Spain<br>Logged GDP per capita=%{marker.size}<br>Regional indicator=%{customdata[0]}<extra></extra>",
         "legendgroup": "Spain",
         "marker": {
          "color": "#00cc96",
          "size": [
           10.571
          ],
          "sizemode": "area",
          "sizeref": 0.0291175,
          "symbol": "circle"
         },
         "mode": "markers",
         "name": "Spain",
         "orientation": "v",
         "showlegend": true,
         "type": "scatter",
         "x": [
          10.571
         ],
         "xaxis": "x",
         "y": [
          10.571
         ],
         "yaxis": "y"
        },
        {
         "customdata": [
          [
           "Central and Eastern Europe"
          ]
         ],
         "hovertemplate": "Country name=Czech Republic<br>Logged GDP per capita=%{marker.size}<br>Regional indicator=%{customdata[0]}<extra></extra>",
         "legendgroup": "Czech Republic",
         "marker": {
          "color": "#ab63fa",
          "size": [
           10.556
          ],
          "sizemode": "area",
          "sizeref": 0.0291175,
          "symbol": "circle"
         },
         "mode": "markers",
         "name": "Czech Republic",
         "orientation": "v",
         "showlegend": true,
         "type": "scatter",
         "x": [
          10.556
         ],
         "xaxis": "x",
         "y": [
          10.556
         ],
         "yaxis": "y"
        },
        {
         "customdata": [
          [
           "Central and Eastern Europe"
          ]
         ],
         "hovertemplate": "Country name=Slovenia<br>Logged GDP per capita=%{marker.size}<br>Regional indicator=%{customdata[0]}<extra></extra>",
         "legendgroup": "Slovenia",
         "marker": {
          "color": "#FFA15A",
          "size": [
           10.529
          ],
          "sizemode": "area",
          "sizeref": 0.0291175,
          "symbol": "circle"
         },
         "mode": "markers",
         "name": "Slovenia",
         "orientation": "v",
         "showlegend": true,
         "type": "scatter",
         "x": [
          10.529
         ],
         "xaxis": "x",
         "y": [
          10.529
         ],
         "yaxis": "y"
        },
        {
         "customdata": [
          [
           "Central and Eastern Europe"
          ]
         ],
         "hovertemplate": "Country name=Lithuania<br>Logged GDP per capita=%{marker.size}<br>Regional indicator=%{customdata[0]}<extra></extra>",
         "legendgroup": "Lithuania",
         "marker": {
          "color": "#19d3f3",
          "size": [
           10.499
          ],
          "sizemode": "area",
          "sizeref": 0.0291175,
          "symbol": "circle"
         },
         "mode": "markers",
         "name": "Lithuania",
         "orientation": "v",
         "showlegend": true,
         "type": "scatter",
         "x": [
          10.499
         ],
         "xaxis": "x",
         "y": [
          10.499
         ],
         "yaxis": "y"
        },
        {
         "customdata": [
          [
           "Central and Eastern Europe"
          ]
         ],
         "hovertemplate": "Country name=Estonia<br>Logged GDP per capita=%{marker.size}<br>Regional indicator=%{customdata[0]}<extra></extra>",
         "legendgroup": "Estonia",
         "marker": {
          "color": "#FF6692",
          "size": [
           10.481
          ],
          "sizemode": "area",
          "sizeref": 0.0291175,
          "symbol": "circle"
         },
         "mode": "markers",
         "name": "Estonia",
         "orientation": "v",
         "showlegend": true,
         "type": "scatter",
         "x": [
          10.481
         ],
         "xaxis": "x",
         "y": [
          10.481
         ],
         "yaxis": "y"
        },
        {
         "customdata": [
          [
           "Western Europe"
          ]
         ],
         "hovertemplate": "Country name=Portugal<br>Logged GDP per capita=%{marker.size}<br>Regional indicator=%{customdata[0]}<extra></extra>",
         "legendgroup": "Portugal",
         "marker": {
          "color": "#B6E880",
          "size": [
           10.421
          ],
          "sizemode": "area",
          "sizeref": 0.0291175,
          "symbol": "circle"
         },
         "mode": "markers",
         "name": "Portugal",
         "orientation": "v",
         "showlegend": true,
         "type": "scatter",
         "x": [
          10.421
         ],
         "xaxis": "x",
         "y": [
          10.421
         ],
         "yaxis": "y"
        },
        {
         "customdata": [
          [
           "Central and Eastern Europe"
          ]
         ],
         "hovertemplate": "Country name=Poland<br>Logged GDP per capita=%{marker.size}<br>Regional indicator=%{customdata[0]}<extra></extra>",
         "legendgroup": "Poland",
         "marker": {
          "color": "#FF97FF",
          "size": [
           10.382
          ],
          "sizemode": "area",
          "sizeref": 0.0291175,
          "symbol": "circle"
         },
         "mode": "markers",
         "name": "Poland",
         "orientation": "v",
         "showlegend": true,
         "type": "scatter",
         "x": [
          10.382
         ],
         "xaxis": "x",
         "y": [
          10.382
         ],
         "yaxis": "y"
        },
        {
         "customdata": [
          [
           "Central and Eastern Europe"
          ]
         ],
         "hovertemplate": "Country name=Slovakia<br>Logged GDP per capita=%{marker.size}<br>Regional indicator=%{customdata[0]}<extra></extra>",
         "legendgroup": "Slovakia",
         "marker": {
          "color": "#FECB52",
          "size": [
           10.369
          ],
          "sizemode": "area",
          "sizeref": 0.0291175,
          "symbol": "circle"
         },
         "mode": "markers",
         "name": "Slovakia",
         "orientation": "v",
         "showlegend": true,
         "type": "scatter",
         "x": [
          10.369
         ],
         "xaxis": "x",
         "y": [
          10.369
         ],
         "yaxis": "y"
        },
        {
         "customdata": [
          [
           "Central and Eastern Europe"
          ]
         ],
         "hovertemplate": "Country name=Hungary<br>Logged GDP per capita=%{marker.size}<br>Regional indicator=%{customdata[0]}<extra></extra>",
         "legendgroup": "Hungary",
         "marker": {
          "color": "#636efa",
          "size": [
           10.358
          ],
          "sizemode": "area",
          "sizeref": 0.0291175,
          "symbol": "circle"
         },
         "mode": "markers",
         "name": "Hungary",
         "orientation": "v",
         "showlegend": true,
         "type": "scatter",
         "x": [
          10.358
         ],
         "xaxis": "x",
         "y": [
          10.358
         ],
         "yaxis": "y"
        },
        {
         "customdata": [
          [
           "Latin America and Caribbean"
          ]
         ],
         "hovertemplate": "Country name=Panama<br>Logged GDP per capita=%{marker.size}<br>Regional indicator=%{customdata[0]}<extra></extra>",
         "legendgroup": "Panama",
         "marker": {
          "color": "#EF553B",
          "size": [
           10.35
          ],
          "sizemode": "area",
          "sizeref": 0.0291175,
          "symbol": "circle"
         },
         "mode": "markers",
         "name": "Panama",
         "orientation": "v",
         "showlegend": true,
         "type": "scatter",
         "x": [
          10.35
         ],
         "xaxis": "x",
         "y": [
          10.35
         ],
         "yaxis": "y"
        },
        {
         "customdata": [
          [
           "Central and Eastern Europe"
          ]
         ],
         "hovertemplate": "Country name=Latvia<br>Logged GDP per capita=%{marker.size}<br>Regional indicator=%{customdata[0]}<extra></extra>",
         "legendgroup": "Latvia",
         "marker": {
          "color": "#00cc96",
          "size": [
           10.315
          ],
          "sizemode": "area",
          "sizeref": 0.0291175,
          "symbol": "circle"
         },
         "mode": "markers",
         "name": "Latvia",
         "orientation": "v",
         "showlegend": true,
         "type": "scatter",
         "x": [
          10.315
         ],
         "xaxis": "x",
         "y": [
          10.315
         ],
         "yaxis": "y"
        },
        {
         "customdata": [
          [
           "Central and Eastern Europe"
          ]
         ],
         "hovertemplate": "Country name=Romania<br>Logged GDP per capita=%{marker.size}<br>Regional indicator=%{customdata[0]}<extra></extra>",
         "legendgroup": "Romania",
         "marker": {
          "color": "#ab63fa",
          "size": [
           10.284
          ],
          "sizemode": "area",
          "sizeref": 0.0291175,
          "symbol": "circle"
         },
         "mode": "markers",
         "name": "Romania",
         "orientation": "v",
         "showlegend": true,
         "type": "scatter",
         "x": [
          10.284
         ],
         "xaxis": "x",
         "y": [
          10.284
         ],
         "yaxis": "y"
        },
        {
         "customdata": [
          [
           "Western Europe"
          ]
         ],
         "hovertemplate": "Country name=Greece<br>Logged GDP per capita=%{marker.size}<br>Regional indicator=%{customdata[0]}<extra></extra>",
         "legendgroup": "Greece",
         "marker": {
          "color": "#FFA15A",
          "size": [
           10.279
          ],
          "sizemode": "area",
          "sizeref": 0.0291175,
          "symbol": "circle"
         },
         "mode": "markers",
         "name": "Greece",
         "orientation": "v",
         "showlegend": true,
         "type": "scatter",
         "x": [
          10.279
         ],
         "xaxis": "x",
         "y": [
          10.279
         ],
         "yaxis": "y"
        },
        {
         "customdata": [
          [
           "Middle East and North Africa"
          ]
         ],
         "hovertemplate": "Country name=Turkey<br>Logged GDP per capita=%{marker.size}<br>Regional indicator=%{customdata[0]}<extra></extra>",
         "legendgroup": "Turkey",
         "marker": {
          "color": "#19d3f3",
          "size": [
           10.24
          ],
          "sizemode": "area",
          "sizeref": 0.0291175,
          "symbol": "circle"
         },
         "mode": "markers",
         "name": "Turkey",
         "orientation": "v",
         "showlegend": true,
         "type": "scatter",
         "x": [
          10.24
         ],
         "xaxis": "x",
         "y": [
          10.24
         ],
         "yaxis": "y"
        },
        {
         "customdata": [
          [
           "Southeast Asia"
          ]
         ],
         "hovertemplate": "Country name=Malaysia<br>Logged GDP per capita=%{marker.size}<br>Regional indicator=%{customdata[0]}<extra></extra>",
         "legendgroup": "Malaysia",
         "marker": {
          "color": "#FF6692",
          "size": [
           10.238
          ],
          "sizemode": "area",
          "sizeref": 0.0291175,
          "symbol": "circle"
         },
         "mode": "markers",
         "name": "Malaysia",
         "orientation": "v",
         "showlegend": true,
         "type": "scatter",
         "x": [
          10.238
         ],
         "xaxis": "x",
         "y": [
          10.238
         ],
         "yaxis": "y"
        },
        {
         "customdata": [
          [
           "Central and Eastern Europe"
          ]
         ],
         "hovertemplate": "Country name=Croatia<br>Logged GDP per capita=%{marker.size}<br>Regional indicator=%{customdata[0]}<extra></extra>",
         "legendgroup": "Croatia",
         "marker": {
          "color": "#B6E880",
          "size": [
           10.217
          ],
          "sizemode": "area",
          "sizeref": 0.0291175,
          "symbol": "circle"
         },
         "mode": "markers",
         "name": "Croatia",
         "orientation": "v",
         "showlegend": true,
         "type": "scatter",
         "x": [
          10.217
         ],
         "xaxis": "x",
         "y": [
          10.217
         ],
         "yaxis": "y"
        },
        {
         "customdata": [
          [
           "Commonwealth of Independent States"
          ]
         ],
         "hovertemplate": "Country name=Russia<br>Logged GDP per capita=%{marker.size}<br>Regional indicator=%{customdata[0]}<extra></extra>",
         "legendgroup": "Russia",
         "marker": {
          "color": "#FF97FF",
          "size": [
           10.189
          ],
          "sizemode": "area",
          "sizeref": 0.0291175,
          "symbol": "circle"
         },
         "mode": "markers",
         "name": "Russia",
         "orientation": "v",
         "showlegend": true,
         "type": "scatter",
         "x": [
          10.189
         ],
         "xaxis": "x",
         "y": [
          10.189
         ],
         "yaxis": "y"
        },
        {
         "customdata": [
          [
           "Commonwealth of Independent States"
          ]
         ],
         "hovertemplate": "Country name=Kazakhstan<br>Logged GDP per capita=%{marker.size}<br>Regional indicator=%{customdata[0]}<extra></extra>",
         "legendgroup": "Kazakhstan",
         "marker": {
          "color": "#FECB52",
          "size": [
           10.155
          ],
          "sizemode": "area",
          "sizeref": 0.0291175,
          "symbol": "circle"
         },
         "mode": "markers",
         "name": "Kazakhstan",
         "orientation": "v",
         "showlegend": true,
         "type": "scatter",
         "x": [
          10.155
         ],
         "xaxis": "x",
         "y": [
          10.155
         ],
         "yaxis": "y"
        },
        {
         "customdata": [
          [
           "Latin America and Caribbean"
          ]
         ],
         "hovertemplate": "Country name=Chile<br>Logged GDP per capita=%{marker.size}<br>Regional indicator=%{customdata[0]}<extra></extra>",
         "legendgroup": "Chile",
         "marker": {
          "color": "#636efa",
          "size": [
           10.071
          ],
          "sizemode": "area",
          "sizeref": 0.0291175,
          "symbol": "circle"
         },
         "mode": "markers",
         "name": "Chile",
         "orientation": "v",
         "showlegend": true,
         "type": "scatter",
         "x": [
          10.071
         ],
         "xaxis": "x",
         "y": [
          10.071
         ],
         "yaxis": "y"
        },
        {
         "customdata": [
          [
           "Central and Eastern Europe"
          ]
         ],
         "hovertemplate": "Country name=Bulgaria<br>Logged GDP per capita=%{marker.size}<br>Regional indicator=%{customdata[0]}<extra></extra>",
         "legendgroup": "Bulgaria",
         "marker": {
          "color": "#EF553B",
          "size": [
           10.016
          ],
          "sizemode": "area",
          "sizeref": 0.0291175,
          "symbol": "circle"
         },
         "mode": "markers",
         "name": "Bulgaria",
         "orientation": "v",
         "showlegend": true,
         "type": "scatter",
         "x": [
          10.016
         ],
         "xaxis": "x",
         "y": [
          10.016
         ],
         "yaxis": "y"
        },
        {
         "customdata": [
          [
           "Sub-Saharan Africa"
          ]
         ],
         "hovertemplate": "Country name=Mauritius<br>Logged GDP per capita=%{marker.size}<br>Regional indicator=%{customdata[0]}<extra></extra>",
         "legendgroup": "Mauritius",
         "marker": {
          "color": "#00cc96",
          "size": [
           10.008
          ],
          "sizemode": "area",
          "sizeref": 0.0291175,
          "symbol": "circle"
         },
         "mode": "markers",
         "name": "Mauritius",
         "orientation": "v",
         "showlegend": true,
         "type": "scatter",
         "x": [
          10.008
         ],
         "xaxis": "x",
         "y": [
          10.008
         ],
         "yaxis": "y"
        },
        {
         "customdata": [
          [
           "Latin America and Caribbean"
          ]
         ],
         "hovertemplate": "Country name=Uruguay<br>Logged GDP per capita=%{marker.size}<br>Regional indicator=%{customdata[0]}<extra></extra>",
         "legendgroup": "Uruguay",
         "marker": {
          "color": "#ab63fa",
          "size": [
           9.966
          ],
          "sizemode": "area",
          "sizeref": 0.0291175,
          "symbol": "circle"
         },
         "mode": "markers",
         "name": "Uruguay",
         "orientation": "v",
         "showlegend": true,
         "type": "scatter",
         "x": [
          9.966
         ],
         "xaxis": "x",
         "y": [
          9.966
         ],
         "yaxis": "y"
        },
        {
         "customdata": [
          [
           "Latin America and Caribbean"
          ]
         ],
         "hovertemplate": "Country name=Argentina<br>Logged GDP per capita=%{marker.size}<br>Regional indicator=%{customdata[0]}<extra></extra>",
         "legendgroup": "Argentina",
         "marker": {
          "color": "#FFA15A",
          "size": [
           9.962
          ],
          "sizemode": "area",
          "sizeref": 0.0291175,
          "symbol": "circle"
         },
         "mode": "markers",
         "name": "Argentina",
         "orientation": "v",
         "showlegend": true,
         "type": "scatter",
         "x": [
          9.962
         ],
         "xaxis": "x",
         "y": [
          9.962
         ],
         "yaxis": "y"
        },
        {
         "customdata": [
          [
           "Central and Eastern Europe"
          ]
         ],
         "hovertemplate": "Country name=Montenegro<br>Logged GDP per capita=%{marker.size}<br>Regional indicator=%{customdata[0]}<extra></extra>",
         "legendgroup": "Montenegro",
         "marker": {
          "color": "#19d3f3",
          "size": [
           9.94
          ],
          "sizemode": "area",
          "sizeref": 0.0291175,
          "symbol": "circle"
         },
         "mode": "markers",
         "name": "Montenegro",
         "orientation": "v",
         "showlegend": true,
         "type": "scatter",
         "x": [
          9.94
         ],
         "xaxis": "x",
         "y": [
          9.94
         ],
         "yaxis": "y"
        },
        {
         "customdata": [
          [
           "Latin America and Caribbean"
          ]
         ],
         "hovertemplate": "Country name=Costa Rica<br>Logged GDP per capita=%{marker.size}<br>Regional indicator=%{customdata[0]}<extra></extra>",
         "legendgroup": "Costa Rica",
         "marker": {
          "color": "#FF6692",
          "size": [
           9.88
          ],
          "sizemode": "area",
          "sizeref": 0.0291175,
          "symbol": "circle"
         },
         "mode": "markers",
         "name": "Costa Rica",
         "orientation": "v",
         "showlegend": true,
         "type": "scatter",
         "x": [
          9.88
         ],
         "xaxis": "x",
         "y": [
          9.88
         ],
         "yaxis": "y"
        },
        {
         "customdata": [
          [
           "Latin America and Caribbean"
          ]
         ],
         "hovertemplate": "Country name=Mexico<br>Logged GDP per capita=%{marker.size}<br>Regional indicator=%{customdata[0]}<extra></extra>",
         "legendgroup": "Mexico",
         "marker": {
          "color": "#B6E880",
          "size": [
           9.859
          ],
          "sizemode": "area",
          "sizeref": 0.0291175,
          "symbol": "circle"
         },
         "mode": "markers",
         "name": "Mexico",
         "orientation": "v",
         "showlegend": true,
         "type": "scatter",
         "x": [
          9.859
         ],
         "xaxis": "x",
         "y": [
          9.859
         ],
         "yaxis": "y"
        },
        {
         "customdata": [
          [
           "Commonwealth of Independent States"
          ]
         ],
         "hovertemplate": "Country name=Belarus<br>Logged GDP per capita=%{marker.size}<br>Regional indicator=%{customdata[0]}<extra></extra>",
         "legendgroup": "Belarus",
         "marker": {
          "color": "#FF97FF",
          "size": [
           9.853
          ],
          "sizemode": "area",
          "sizeref": 0.0291175,
          "symbol": "circle"
         },
         "mode": "markers",
         "name": "Belarus",
         "orientation": "v",
         "showlegend": true,
         "type": "scatter",
         "x": [
          9.853
         ],
         "xaxis": "x",
         "y": [
          9.853
         ],
         "yaxis": "y"
        },
        {
         "customdata": [
          [
           "South Asia"
          ]
         ],
         "hovertemplate": "Country name=Maldives<br>Logged GDP per capita=%{marker.size}<br>Regional indicator=%{customdata[0]}<extra></extra>",
         "legendgroup": "Maldives",
         "marker": {
          "color": "#FECB52",
          "size": [
           9.826
          ],
          "sizemode": "area",
          "sizeref": 0.0291175,
          "symbol": "circle"
         },
         "mode": "markers",
         "name": "Maldives",
         "orientation": "v",
         "showlegend": true,
         "type": "scatter",
         "x": [
          9.826
         ],
         "xaxis": "x",
         "y": [
          9.826
         ],
         "yaxis": "y"
        },
        {
         "customdata": [
          [
           "Southeast Asia"
          ]
         ],
         "hovertemplate": "Country name=Thailand<br>Logged GDP per capita=%{marker.size}<br>Regional indicator=%{customdata[0]}<extra></extra>",
         "legendgroup": "Thailand",
         "marker": {
          "color": "#636efa",
          "size": [
           9.805
          ],
          "sizemode": "area",
          "sizeref": 0.0291175,
          "symbol": "circle"
         },
         "mode": "markers",
         "name": "Thailand",
         "orientation": "v",
         "showlegend": true,
         "type": "scatter",
         "x": [
          9.805
         ],
         "xaxis": "x",
         "y": [
          9.805
         ],
         "yaxis": "y"
        },
        {
         "customdata": [
          [
           "Latin America and Caribbean"
          ]
         ],
         "hovertemplate": "Country name=Dominican Republic<br>Logged GDP per capita=%{marker.size}<br>Regional indicator=%{customdata[0]}<extra></extra>",
         "legendgroup": "Dominican Republic",
         "marker": {
          "color": "#EF553B",
          "size": [
           9.802
          ],
          "sizemode": "area",
          "sizeref": 0.0291175,
          "symbol": "circle"
         },
         "mode": "markers",
         "name": "Dominican Republic",
         "orientation": "v",
         "showlegend": true,
         "type": "scatter",
         "x": [
          9.802
         ],
         "xaxis": "x",
         "y": [
          9.802
         ],
         "yaxis": "y"
        },
        {
         "customdata": [
          [
           "Central and Eastern Europe"
          ]
         ],
         "hovertemplate": "Country name=Serbia<br>Logged GDP per capita=%{marker.size}<br>Regional indicator=%{customdata[0]}<extra></extra>",
         "legendgroup": "Serbia",
         "marker": {
          "color": "#00cc96",
          "size": [
           9.787
          ],
          "sizemode": "area",
          "sizeref": 0.0291175,
          "symbol": "circle"
         },
         "mode": "markers",
         "name": "Serbia",
         "orientation": "v",
         "showlegend": true,
         "type": "scatter",
         "x": [
          9.787
         ],
         "xaxis": "x",
         "y": [
          9.787
         ],
         "yaxis": "y"
        },
        {
         "customdata": [
          [
           "Sub-Saharan Africa"
          ]
         ],
         "hovertemplate": "Country name=Botswana<br>Logged GDP per capita=%{marker.size}<br>Regional indicator=%{customdata[0]}<extra></extra>",
         "legendgroup": "Botswana",
         "marker": {
          "color": "#ab63fa",
          "size": [
           9.782
          ],
          "sizemode": "area",
          "sizeref": 0.0291175,
          "symbol": "circle"
         },
         "mode": "markers",
         "name": "Botswana",
         "orientation": "v",
         "showlegend": true,
         "type": "scatter",
         "x": [
          9.782
         ],
         "xaxis": "x",
         "y": [
          9.782
         ],
         "yaxis": "y"
        },
        {
         "customdata": [
          [
           "Central and Eastern Europe"
          ]
         ],
         "hovertemplate": "Country name=North Macedonia<br>Logged GDP per capita=%{marker.size}<br>Regional indicator=%{customdata[0]}<extra></extra>",
         "legendgroup": "North Macedonia",
         "marker": {
          "color": "#FFA15A",
          "size": [
           9.693
          ],
          "sizemode": "area",
          "sizeref": 0.0291175,
          "symbol": "circle"
         },
         "mode": "markers",
         "name": "North Macedonia",
         "orientation": "v",
         "showlegend": true,
         "type": "scatter",
         "x": [
          9.693
         ],
         "xaxis": "x",
         "y": [
          9.693
         ],
         "yaxis": "y"
        },
        {
         "customdata": [
          [
           "East Asia"
          ]
         ],
         "hovertemplate": "Country name=China<br>Logged GDP per capita=%{marker.size}<br>Regional indicator=%{customdata[0]}<extra></extra>",
         "legendgroup": "China",
         "marker": {
          "color": "#19d3f3",
          "size": [
           9.673
          ],
          "sizemode": "area",
          "sizeref": 0.0291175,
          "symbol": "circle"
         },
         "mode": "markers",
         "name": "China",
         "orientation": "v",
         "showlegend": true,
         "type": "scatter",
         "x": [
          9.673
         ],
         "xaxis": "x",
         "y": [
          9.673
         ],
         "yaxis": "y"
        },
        {
         "customdata": [
          [
           "Commonwealth of Independent States"
          ]
         ],
         "hovertemplate": "Country name=Turkmenistan<br>Logged GDP per capita=%{marker.size}<br>Regional indicator=%{customdata[0]}<extra></extra>",
         "legendgroup": "Turkmenistan",
         "marker": {
          "color": "#FF6692",
          "size": [
           9.629
          ],
          "sizemode": "area",
          "sizeref": 0.0291175,
          "symbol": "circle"
         },
         "mode": "markers",
         "name": "Turkmenistan",
         "orientation": "v",
         "showlegend": true,
         "type": "scatter",
         "x": [
          9.629
         ],
         "xaxis": "x",
         "y": [
          9.629
         ],
         "yaxis": "y"
        },
        {
         "customdata": [
          [
           "Middle East and North Africa"
          ]
         ],
         "hovertemplate": "Country name=Lebanon<br>Logged GDP per capita=%{marker.size}<br>Regional indicator=%{customdata[0]}<extra></extra>",
         "legendgroup": "Lebanon",
         "marker": {
          "color": "#B6E880",
          "size": [
           9.626
          ],
          "sizemode": "area",
          "sizeref": 0.0291175,
          "symbol": "circle"
         },
         "mode": "markers",
         "name": "Lebanon",
         "orientation": "v",
         "showlegend": true,
         "type": "scatter",
         "x": [
          9.626
         ],
         "xaxis": "x",
         "y": [
          9.626
         ],
         "yaxis": "y"
        },
        {
         "customdata": [
          [
           "Middle East and North Africa"
          ]
         ],
         "hovertemplate": "Country name=Libya<br>Logged GDP per capita=%{marker.size}<br>Regional indicator=%{customdata[0]}<extra></extra>",
         "legendgroup": "Libya",
         "marker": {
          "color": "#FF97FF",
          "size": [
           9.622
          ],
          "sizemode": "area",
          "sizeref": 0.0291175,
          "symbol": "circle"
         },
         "mode": "markers",
         "name": "Libya",
         "orientation": "v",
         "showlegend": true,
         "type": "scatter",
         "x": [
          9.622
         ],
         "xaxis": "x",
         "y": [
          9.622
         ],
         "yaxis": "y"
        },
        {
         "customdata": [
          [
           "Sub-Saharan Africa"
          ]
         ],
         "hovertemplate": "Country name=Gabon<br>Logged GDP per capita=%{marker.size}<br>Regional indicator=%{customdata[0]}<extra></extra>",
         "legendgroup": "Gabon",
         "marker": {
          "color": "#FECB52",
          "size": [
           9.603
          ],
          "sizemode": "area",
          "sizeref": 0.0291175,
          "symbol": "circle"
         },
         "mode": "markers",
         "name": "Gabon",
         "orientation": "v",
         "showlegend": true,
         "type": "scatter",
         "x": [
          9.603
         ],
         "xaxis": "x",
         "y": [
          9.603
         ],
         "yaxis": "y"
        },
        {
         "customdata": [
          [
           "Central and Eastern Europe"
          ]
         ],
         "hovertemplate": "Country name=Bosnia and Herzegovina<br>Logged GDP per capita=%{marker.size}<br>Regional indicator=%{customdata[0]}<extra></extra>",
         "legendgroup": "Bosnia and Herzegovina",
         "marker": {
          "color": "#636efa",
          "size": [
           9.59
          ],
          "sizemode": "area",
          "sizeref": 0.0291175,
          "symbol": "circle"
         },
         "mode": "markers",
         "name": "Bosnia and Herzegovina",
         "orientation": "v",
         "showlegend": true,
         "type": "scatter",
         "x": [
          9.59
         ],
         "xaxis": "x",
         "y": [
          9.59
         ],
         "yaxis": "y"
        },
        {
         "customdata": [
          [
           "Commonwealth of Independent States"
          ]
         ],
         "hovertemplate": "Country name=Georgia<br>Logged GDP per capita=%{marker.size}<br>Regional indicator=%{customdata[0]}<extra></extra>",
         "legendgroup": "Georgia",
         "marker": {
          "color": "#EF553B",
          "size": [
           9.585
          ],
          "sizemode": "area",
          "sizeref": 0.0291175,
          "symbol": "circle"
         },
         "mode": "markers",
         "name": "Georgia",
         "orientation": "v",
         "showlegend": true,
         "type": "scatter",
         "x": [
          9.585
         ],
         "xaxis": "x",
         "y": [
          9.585
         ],
         "yaxis": "y"
        },
        {
         "customdata": [
          [
           "Middle East and North Africa"
          ]
         ],
         "hovertemplate": "Country name=Iran<br>Logged GDP per capita=%{marker.size}<br>Regional indicator=%{customdata[0]}<extra></extra>",
         "legendgroup": "Iran",
         "marker": {
          "color": "#00cc96",
          "size": [
           9.584
          ],
          "sizemode": "area",
          "sizeref": 0.0291175,
          "symbol": "circle"
         },
         "mode": "markers",
         "name": "Iran",
         "orientation": "v",
         "showlegend": true,
         "type": "scatter",
         "x": [
          9.584
         ],
         "xaxis": "x",
         "y": [
          9.584
         ],
         "yaxis": "y"
        },
        {
         "customdata": [
          [
           "Latin America and Caribbean"
          ]
         ],
         "hovertemplate": "Country name=Brazil<br>Logged GDP per capita=%{marker.size}<br>Regional indicator=%{customdata[0]}<extra></extra>",
         "legendgroup": "Brazil",
         "marker": {
          "color": "#ab63fa",
          "size": [
           9.577
          ],
          "sizemode": "area",
          "sizeref": 0.0291175,
          "symbol": "circle"
         },
         "mode": "markers",
         "name": "Brazil",
         "orientation": "v",
         "showlegend": true,
         "type": "scatter",
         "x": [
          9.577
         ],
         "xaxis": "x",
         "y": [
          9.577
         ],
         "yaxis": "y"
        },
        {
         "customdata": [
          [
           "Commonwealth of Independent States"
          ]
         ],
         "hovertemplate": "Country name=Azerbaijan<br>Logged GDP per capita=%{marker.size}<br>Regional indicator=%{customdata[0]}<extra></extra>",
         "legendgroup": "Azerbaijan",
         "marker": {
          "color": "#FFA15A",
          "size": [
           9.569
          ],
          "sizemode": "area",
          "sizeref": 0.0291175,
          "symbol": "circle"
         },
         "mode": "markers",
         "name": "Azerbaijan",
         "orientation": "v",
         "showlegend": true,
         "type": "scatter",
         "x": [
          9.569
         ],
         "xaxis": "x",
         "y": [
          9.569
         ],
         "yaxis": "y"
        },
        {
         "customdata": [
          [
           "Latin America and Caribbean"
          ]
         ],
         "hovertemplate": "Country name=Colombia<br>Logged GDP per capita=%{marker.size}<br>Regional indicator=%{customdata[0]}<extra></extra>",
         "legendgroup": "Colombia",
         "marker": {
          "color": "#19d3f3",
          "size": [
           9.557
          ],
          "sizemode": "area",
          "sizeref": 0.0291175,
          "symbol": "circle"
         },
         "mode": "markers",
         "name": "Colombia",
         "orientation": "v",
         "showlegend": true,
         "type": "scatter",
         "x": [
          9.557
         ],
         "xaxis": "x",
         "y": [
          9.557
         ],
         "yaxis": "y"
        },
        {
         "customdata": [
          [
           "Central and Eastern Europe"
          ]
         ],
         "hovertemplate": "Country name=Albania<br>Logged GDP per capita=%{marker.size}<br>Regional indicator=%{customdata[0]}<extra></extra>",
         "legendgroup": "Albania",
         "marker": {
          "color": "#FF6692",
          "size": [
           9.52
          ],
          "sizemode": "area",
          "sizeref": 0.0291175,
          "symbol": "circle"
         },
         "mode": "markers",
         "name": "Albania",
         "orientation": "v",
         "showlegend": true,
         "type": "scatter",
         "x": [
          9.52
         ],
         "xaxis": "x",
         "y": [
          9.52
         ],
         "yaxis": "y"
        },
        {
         "customdata": [
          [
           "Commonwealth of Independent States"
          ]
         ],
         "hovertemplate": "Country name=Armenia<br>Logged GDP per capita=%{marker.size}<br>Regional indicator=%{customdata[0]}<extra></extra>",
         "legendgroup": "Armenia",
         "marker": {
          "color": "#B6E880",
          "size": [
           9.487
          ],
          "sizemode": "area",
          "sizeref": 0.0291175,
          "symbol": "circle"
         },
         "mode": "markers",
         "name": "Armenia",
         "orientation": "v",
         "showlegend": true,
         "type": "scatter",
         "x": [
          9.487
         ],
         "xaxis": "x",
         "y": [
          9.487
         ],
         "yaxis": "y"
        },
        {
         "customdata": [
          [
           "South Asia"
          ]
         ],
         "hovertemplate": "Country name=Sri Lanka<br>Logged GDP per capita=%{marker.size}<br>Regional indicator=%{customdata[0]}<extra></extra>",
         "legendgroup": "Sri Lanka",
         "marker": {
          "color": "#FF97FF",
          "size": [
           9.47
          ],
          "sizemode": "area",
          "sizeref": 0.0291175,
          "symbol": "circle"
         },
         "mode": "markers",
         "name": "Sri Lanka",
         "orientation": "v",
         "showlegend": true,
         "type": "scatter",
         "x": [
          9.47
         ],
         "xaxis": "x",
         "y": [
          9.47
         ],
         "yaxis": "y"
        },
        {
         "customdata": [
          [
           "Latin America and Caribbean"
          ]
         ],
         "hovertemplate": "Country name=Peru<br>Logged GDP per capita=%{marker.size}<br>Regional indicator=%{customdata[0]}<extra></extra>",
         "legendgroup": "Peru",
         "marker": {
          "color": "#FECB52",
          "size": [
           9.458
          ],
          "sizemode": "area",
          "sizeref": 0.0291175,
          "symbol": "circle"
         },
         "mode": "markers",
         "name": "Peru",
         "orientation": "v",
         "showlegend": true,
         "type": "scatter",
         "x": [
          9.458
         ],
         "xaxis": "x",
         "y": [
          9.458
         ],
         "yaxis": "y"
        },
        {
         "customdata": [
          [
           "Commonwealth of Independent States"
          ]
         ],
         "hovertemplate": "Country name=Moldova<br>Logged GDP per capita=%{marker.size}<br>Regional indicator=%{customdata[0]}<extra></extra>",
         "legendgroup": "Moldova",
         "marker": {
          "color": "#636efa",
          "size": [
           9.454
          ],
          "sizemode": "area",
          "sizeref": 0.0291175,
          "symbol": "circle"
         },
         "mode": "markers",
         "name": "Moldova",
         "orientation": "v",
         "showlegend": true,
         "type": "scatter",
         "x": [
          9.454
         ],
         "xaxis": "x",
         "y": [
          9.454
         ],
         "yaxis": "y"
        },
        {
         "customdata": [
          [
           "Latin America and Caribbean"
          ]
         ],
         "hovertemplate": "Country name=Paraguay<br>Logged GDP per capita=%{marker.size}<br>Regional indicator=%{customdata[0]}<extra></extra>",
         "legendgroup": "Paraguay",
         "marker": {
          "color": "#EF553B",
          "size": [
           9.448
          ],
          "sizemode": "area",
          "sizeref": 0.0291175,
          "symbol": "circle"
         },
         "mode": "markers",
         "name": "Paraguay",
         "orientation": "v",
         "showlegend": true,
         "type": "scatter",
         "x": [
          9.448
         ],
         "xaxis": "x",
         "y": [
          9.448
         ],
         "yaxis": "y"
        },
        {
         "customdata": [
          [
           "Commonwealth of Independent States"
          ]
         ],
         "hovertemplate": "Country name=Ukraine<br>Logged GDP per capita=%{marker.size}<br>Regional indicator=%{customdata[0]}<extra></extra>",
         "legendgroup": "Ukraine",
         "marker": {
          "color": "#00cc96",
          "size": [
           9.436
          ],
          "sizemode": "area",
          "sizeref": 0.0291175,
          "symbol": "circle"
         },
         "mode": "markers",
         "name": "Ukraine",
         "orientation": "v",
         "showlegend": true,
         "type": "scatter",
         "x": [
          9.436
         ],
         "xaxis": "x",
         "y": [
          9.436
         ],
         "yaxis": "y"
        },
        {
         "customdata": [
          [
           "Sub-Saharan Africa"
          ]
         ],
         "hovertemplate": "Country name=South Africa<br>Logged GDP per capita=%{marker.size}<br>Regional indicator=%{customdata[0]}<extra></extra>",
         "legendgroup": "South Africa",
         "marker": {
          "color": "#ab63fa",
          "size": [
           9.403
          ],
          "sizemode": "area",
          "sizeref": 0.0291175,
          "symbol": "circle"
         },
         "mode": "markers",
         "name": "South Africa",
         "orientation": "v",
         "showlegend": true,
         "type": "scatter",
         "x": [
          9.403
         ],
         "xaxis": "x",
         "y": [
          9.403
         ],
         "yaxis": "y"
        },
        {
         "customdata": [
          [
           "East Asia"
          ]
         ],
         "hovertemplate": "Country name=Mongolia<br>Logged GDP per capita=%{marker.size}<br>Regional indicator=%{customdata[0]}<extra></extra>",
         "legendgroup": "Mongolia",
         "marker": {
          "color": "#FFA15A",
          "size": [
           9.4
          ],
          "sizemode": "area",
          "sizeref": 0.0291175,
          "symbol": "circle"
         },
         "mode": "markers",
         "name": "Mongolia",
         "orientation": "v",
         "showlegend": true,
         "type": "scatter",
         "x": [
          9.4
         ],
         "xaxis": "x",
         "y": [
          9.4
         ],
         "yaxis": "y"
        },
        {
         "customdata": [
          [
           "Middle East and North Africa"
          ]
         ],
         "hovertemplate": "Country name=Egypt<br>Logged GDP per capita=%{marker.size}<br>Regional indicator=%{customdata[0]}<extra></extra>",
         "legendgroup": "Egypt",
         "marker": {
          "color": "#19d3f3",
          "size": [
           9.367
          ],
          "sizemode": "area",
          "sizeref": 0.0291175,
          "symbol": "circle"
         },
         "mode": "markers",
         "name": "Egypt",
         "orientation": "v",
         "showlegend": true,
         "type": "scatter",
         "x": [
          9.367
         ],
         "xaxis": "x",
         "y": [
          9.367
         ],
         "yaxis": "y"
        },
        {
         "customdata": [
          [
           "Southeast Asia"
          ]
         ],
         "hovertemplate": "Country name=Indonesia<br>Logged GDP per capita=%{marker.size}<br>Regional indicator=%{customdata[0]}<extra></extra>",
         "legendgroup": "Indonesia",
         "marker": {
          "color": "#FF6692",
          "size": [
           9.365
          ],
          "sizemode": "area",
          "sizeref": 0.0291175,
          "symbol": "circle"
         },
         "mode": "markers",
         "name": "Indonesia",
         "orientation": "v",
         "showlegend": true,
         "type": "scatter",
         "x": [
          9.365
         ],
         "xaxis": "x",
         "y": [
          9.365
         ],
         "yaxis": "y"
        },
        {
         "customdata": [
          [
           "Middle East and North Africa"
          ]
         ],
         "hovertemplate": "Country name=Algeria<br>Logged GDP per capita=%{marker.size}<br>Regional indicator=%{customdata[0]}<extra></extra>",
         "legendgroup": "Algeria",
         "marker": {
          "color": "#B6E880",
          "size": [
           9.342
          ],
          "sizemode": "area",
          "sizeref": 0.0291175,
          "symbol": "circle"
         },
         "mode": "markers",
         "name": "Algeria",
         "orientation": "v",
         "showlegend": true,
         "type": "scatter",
         "x": [
          9.342
         ],
         "xaxis": "x",
         "y": [
          9.342
         ],
         "yaxis": "y"
        },
        {
         "customdata": [
          [
           "Central and Eastern Europe"
          ]
         ],
         "hovertemplate": "Country name=Kosovo<br>Logged GDP per capita=%{marker.size}<br>Regional indicator=%{customdata[0]}<extra></extra>",
         "legendgroup": "Kosovo",
         "marker": {
          "color": "#FF97FF",
          "size": [
           9.318
          ],
          "sizemode": "area",
          "sizeref": 0.0291175,
          "symbol": "circle"
         },
         "mode": "markers",
         "name": "Kosovo",
         "orientation": "v",
         "showlegend": true,
         "type": "scatter",
         "x": [
          9.318
         ],
         "xaxis": "x",
         "y": [
          9.318
         ],
         "yaxis": "y"
        },
        {
         "customdata": [
          [
           "Latin America and Caribbean"
          ]
         ],
         "hovertemplate": "Country name=Ecuador<br>Logged GDP per capita=%{marker.size}<br>Regional indicator=%{customdata[0]}<extra></extra>",
         "legendgroup": "Ecuador",
         "marker": {
          "color": "#FECB52",
          "size": [
           9.313
          ],
          "sizemode": "area",
          "sizeref": 0.0291175,
          "symbol": "circle"
         },
         "mode": "markers",
         "name": "Ecuador",
         "orientation": "v",
         "showlegend": true,
         "type": "scatter",
         "x": [
          9.313
         ],
         "xaxis": "x",
         "y": [
          9.313
         ],
         "yaxis": "y"
        },
        {
         "customdata": [
          [
           "Middle East and North Africa"
          ]
         ],
         "hovertemplate": "Country name=Tunisia<br>Logged GDP per capita=%{marker.size}<br>Regional indicator=%{customdata[0]}<extra></extra>",
         "legendgroup": "Tunisia",
         "marker": {
          "color": "#636efa",
          "size": [
           9.266
          ],
          "sizemode": "area",
          "sizeref": 0.0291175,
          "symbol": "circle"
         },
         "mode": "markers",
         "name": "Tunisia",
         "orientation": "v",
         "showlegend": true,
         "type": "scatter",
         "x": [
          9.266
         ],
         "xaxis": "x",
         "y": [
          9.266
         ],
         "yaxis": "y"
        },
        {
         "customdata": [
          [
           "Middle East and North Africa"
          ]
         ],
         "hovertemplate": "Country name=Iraq<br>Logged GDP per capita=%{marker.size}<br>Regional indicator=%{customdata[0]}<extra></extra>",
         "legendgroup": "Iraq",
         "marker": {
          "color": "#EF553B",
          "size": [
           9.24
          ],
          "sizemode": "area",
          "sizeref": 0.0291175,
          "symbol": "circle"
         },
         "mode": "markers",
         "name": "Iraq",
         "orientation": "v",
         "showlegend": true,
         "type": "scatter",
         "x": [
          9.24
         ],
         "xaxis": "x",
         "y": [
          9.24
         ],
         "yaxis": "y"
        },
        {
         "customdata": [
          [
           "Latin America and Caribbean"
          ]
         ],
         "hovertemplate": "Country name=Jamaica<br>Logged GDP per capita=%{marker.size}<br>Regional indicator=%{customdata[0]}<extra></extra>",
         "legendgroup": "Jamaica",
         "marker": {
          "color": "#00cc96",
          "size": [
           9.186
          ],
          "sizemode": "area",
          "sizeref": 0.0291175,
          "symbol": "circle"
         },
         "mode": "markers",
         "name": "Jamaica",
         "orientation": "v",
         "showlegend": true,
         "type": "scatter",
         "x": [
          9.186
         ],
         "xaxis": "x",
         "y": [
          9.186
         ],
         "yaxis": "y"
        },
        {
         "customdata": [
          [
           "Middle East and North Africa"
          ]
         ],
         "hovertemplate": "Country name=Jordan<br>Logged GDP per capita=%{marker.size}<br>Regional indicator=%{customdata[0]}<extra></extra>",
         "legendgroup": "Jordan",
         "marker": {
          "color": "#ab63fa",
          "size": [
           9.182
          ],
          "sizemode": "area",
          "sizeref": 0.0291175,
          "symbol": "circle"
         },
         "mode": "markers",
         "name": "Jordan",
         "orientation": "v",
         "showlegend": true,
         "type": "scatter",
         "x": [
          9.182
         ],
         "xaxis": "x",
         "y": [
          9.182
         ],
         "yaxis": "y"
        },
        {
         "customdata": [
          [
           "Sub-Saharan Africa"
          ]
         ],
         "hovertemplate": "Country name=Namibia<br>Logged GDP per capita=%{marker.size}<br>Regional indicator=%{customdata[0]}<extra></extra>",
         "legendgroup": "Namibia",
         "marker": {
          "color": "#FFA15A",
          "size": [
           9.161
          ],
          "sizemode": "area",
          "sizeref": 0.0291175,
          "symbol": "circle"
         },
         "mode": "markers",
         "name": "Namibia",
         "orientation": "v",
         "showlegend": true,
         "type": "scatter",
         "x": [
          9.161
         ],
         "xaxis": "x",
         "y": [
          9.161
         ],
         "yaxis": "y"
        },
        {
         "customdata": [
          [
           "Southeast Asia"
          ]
         ],
         "hovertemplate": "Country name=Philippines<br>Logged GDP per capita=%{marker.size}<br>Regional indicator=%{customdata[0]}<extra></extra>",
         "legendgroup": "Philippines",
         "marker": {
          "color": "#19d3f3",
          "size": [
           9.076
          ],
          "sizemode": "area",
          "sizeref": 0.0291175,
          "symbol": "circle"
         },
         "mode": "markers",
         "name": "Philippines",
         "orientation": "v",
         "showlegend": true,
         "type": "scatter",
         "x": [
          9.076
         ],
         "xaxis": "x",
         "y": [
          9.076
         ],
         "yaxis": "y"
        },
        {
         "customdata": [
          [
           "Latin America and Caribbean"
          ]
         ],
         "hovertemplate": "Country name=Venezuela<br>Logged GDP per capita=%{marker.size}<br>Regional indicator=%{customdata[0]}<extra></extra>",
         "legendgroup": "Venezuela",
         "marker": {
          "color": "#FF6692",
          "size": [
           9.073
          ],
          "sizemode": "area",
          "sizeref": 0.0291175,
          "symbol": "circle"
         },
         "mode": "markers",
         "name": "Venezuela",
         "orientation": "v",
         "showlegend": true,
         "type": "scatter",
         "x": [
          9.073
         ],
         "xaxis": "x",
         "y": [
          9.073
         ],
         "yaxis": "y"
        },
        {
         "customdata": [
          [
           "Sub-Saharan Africa"
          ]
         ],
         "hovertemplate": "Country name=Swaziland<br>Logged GDP per capita=%{marker.size}<br>Regional indicator=%{customdata[0]}<extra></extra>",
         "legendgroup": "Swaziland",
         "marker": {
          "color": "#B6E880",
          "size": [
           9.065
          ],
          "sizemode": "area",
          "sizeref": 0.0291175,
          "symbol": "circle"
         },
         "mode": "markers",
         "name": "Swaziland",
         "orientation": "v",
         "showlegend": true,
         "type": "scatter",
         "x": [
          9.065
         ],
         "xaxis": "x",
         "y": [
          9.065
         ],
         "yaxis": "y"
        },
        {
         "customdata": [
          [
           "Latin America and Caribbean"
          ]
         ],
         "hovertemplate": "Country name=El Salvador<br>Logged GDP per capita=%{marker.size}<br>Regional indicator=%{customdata[0]}<extra></extra>",
         "legendgroup": "El Salvador",
         "marker": {
          "color": "#FF97FF",
          "size": [
           9.054
          ],
          "sizemode": "area",
          "sizeref": 0.0291175,
          "symbol": "circle"
         },
         "mode": "markers",
         "name": "El Salvador",
         "orientation": "v",
         "showlegend": true,
         "type": "scatter",
         "x": [
          9.054
         ],
         "xaxis": "x",
         "y": [
          9.054
         ],
         "yaxis": "y"
        },
        {
         "customdata": [
          [
           "Latin America and Caribbean"
          ]
         ],
         "hovertemplate": "Country name=Guatemala<br>Logged GDP per capita=%{marker.size}<br>Regional indicator=%{customdata[0]}<extra></extra>",
         "legendgroup": "Guatemala",
         "marker": {
          "color": "#FECB52",
          "size": [
           9.053
          ],
          "sizemode": "area",
          "sizeref": 0.0291175,
          "symbol": "circle"
         },
         "mode": "markers",
         "name": "Guatemala",
         "orientation": "v",
         "showlegend": true,
         "type": "scatter",
         "x": [
          9.053
         ],
         "xaxis": "x",
         "y": [
          9.053
         ],
         "yaxis": "y"
        },
        {
         "customdata": [
          [
           "Latin America and Caribbean"
          ]
         ],
         "hovertemplate": "Country name=Bolivia<br>Logged GDP per capita=%{marker.size}<br>Regional indicator=%{customdata[0]}<extra></extra>",
         "legendgroup": "Bolivia",
         "marker": {
          "color": "#636efa",
          "size": [
           9.046
          ],
          "sizemode": "area",
          "sizeref": 0.0291175,
          "symbol": "circle"
         },
         "mode": "markers",
         "name": "Bolivia",
         "orientation": "v",
         "showlegend": true,
         "type": "scatter",
         "x": [
          9.046
         ],
         "xaxis": "x",
         "y": [
          9.046
         ],
         "yaxis": "y"
        },
        {
         "customdata": [
          [
           "Southeast Asia"
          ]
         ],
         "hovertemplate": "Country name=Vietnam<br>Logged GDP per capita=%{marker.size}<br>Regional indicator=%{customdata[0]}<extra></extra>",
         "legendgroup": "Vietnam",
         "marker": {
          "color": "#EF553B",
          "size": [
           8.973
          ],
          "sizemode": "area",
          "sizeref": 0.0291175,
          "symbol": "circle"
         },
         "mode": "markers",
         "name": "Vietnam",
         "orientation": "v",
         "showlegend": true,
         "type": "scatter",
         "x": [
          8.973
         ],
         "xaxis": "x",
         "y": [
          8.973
         ],
         "yaxis": "y"
        },
        {
         "customdata": [
          [
           "Southeast Asia"
          ]
         ],
         "hovertemplate": "Country name=Laos<br>Logged GDP per capita=%{marker.size}<br>Regional indicator=%{customdata[0]}<extra></extra>",
         "legendgroup": "Laos",
         "marker": {
          "color": "#00cc96",
          "size": [
           8.947
          ],
          "sizemode": "area",
          "sizeref": 0.0291175,
          "symbol": "circle"
         },
         "mode": "markers",
         "name": "Laos",
         "orientation": "v",
         "showlegend": true,
         "type": "scatter",
         "x": [
          8.947
         ],
         "xaxis": "x",
         "y": [
          8.947
         ],
         "yaxis": "y"
        },
        {
         "customdata": [
          [
           "Middle East and North Africa"
          ]
         ],
         "hovertemplate": "Country name=Morocco<br>Logged GDP per capita=%{marker.size}<br>Regional indicator=%{customdata[0]}<extra></extra>",
         "legendgroup": "Morocco",
         "marker": {
          "color": "#ab63fa",
          "size": [
           8.903
          ],
          "sizemode": "area",
          "sizeref": 0.0291175,
          "symbol": "circle"
         },
         "mode": "markers",
         "name": "Morocco",
         "orientation": "v",
         "showlegend": true,
         "type": "scatter",
         "x": [
          8.903
         ],
         "xaxis": "x",
         "y": [
          8.903
         ],
         "yaxis": "y"
        },
        {
         "customdata": [
          [
           "Commonwealth of Independent States"
          ]
         ],
         "hovertemplate": "Country name=Uzbekistan<br>Logged GDP per capita=%{marker.size}<br>Regional indicator=%{customdata[0]}<extra></extra>",
         "legendgroup": "Uzbekistan",
         "marker": {
          "color": "#FFA15A",
          "size": [
           8.836
          ],
          "sizemode": "area",
          "sizeref": 0.0291175,
          "symbol": "circle"
         },
         "mode": "markers",
         "name": "Uzbekistan",
         "orientation": "v",
         "showlegend": true,
         "type": "scatter",
         "x": [
          8.836
         ],
         "xaxis": "x",
         "y": [
          8.836
         ],
         "yaxis": "y"
        },
        {
         "customdata": [
          [
           "South Asia"
          ]
         ],
         "hovertemplate": "Country name=India<br>Logged GDP per capita=%{marker.size}<br>Regional indicator=%{customdata[0]}<extra></extra>",
         "legendgroup": "India",
         "marker": {
          "color": "#19d3f3",
          "size": [
           8.755
          ],
          "sizemode": "area",
          "sizeref": 0.0291175,
          "symbol": "circle"
         },
         "mode": "markers",
         "name": "India",
         "orientation": "v",
         "showlegend": true,
         "type": "scatter",
         "x": [
          8.755
         ],
         "xaxis": "x",
         "y": [
          8.755
         ],
         "yaxis": "y"
        },
        {
         "customdata": [
          [
           "Latin America and Caribbean"
          ]
         ],
         "hovertemplate": "Country name=Honduras<br>Logged GDP per capita=%{marker.size}<br>Regional indicator=%{customdata[0]}<extra></extra>",
         "legendgroup": "Honduras",
         "marker": {
          "color": "#FF6692",
          "size": [
           8.648
          ],
          "sizemode": "area",
          "sizeref": 0.0291175,
          "symbol": "circle"
         },
         "mode": "markers",
         "name": "Honduras",
         "orientation": "v",
         "showlegend": true,
         "type": "scatter",
         "x": [
          8.648
         ],
         "xaxis": "x",
         "y": [
          8.648
         ],
         "yaxis": "y"
        },
        {
         "customdata": [
          [
           "Latin America and Caribbean"
          ]
         ],
         "hovertemplate": "Country name=Nicaragua<br>Logged GDP per capita=%{marker.size}<br>Regional indicator=%{customdata[0]}<extra></extra>",
         "legendgroup": "Nicaragua",
         "marker": {
          "color": "#B6E880",
          "size": [
           8.62
          ],
          "sizemode": "area",
          "sizeref": 0.0291175,
          "symbol": "circle"
         },
         "mode": "markers",
         "name": "Nicaragua",
         "orientation": "v",
         "showlegend": true,
         "type": "scatter",
         "x": [
          8.62
         ],
         "xaxis": "x",
         "y": [
          8.62
         ],
         "yaxis": "y"
        },
        {
         "customdata": [
          [
           "Sub-Saharan Africa"
          ]
         ],
         "hovertemplate": "Country name=Ghana<br>Logged GDP per capita=%{marker.size}<br>Regional indicator=%{customdata[0]}<extra></extra>",
         "legendgroup": "Ghana",
         "marker": {
          "color": "#FF97FF",
          "size": [
           8.58
          ],
          "sizemode": "area",
          "sizeref": 0.0291175,
          "symbol": "circle"
         },
         "mode": "markers",
         "name": "Ghana",
         "orientation": "v",
         "showlegend": true,
         "type": "scatter",
         "x": [
          8.58
         ],
         "xaxis": "x",
         "y": [
          8.58
         ],
         "yaxis": "y"
        },
        {
         "customdata": [
          [
           "Sub-Saharan Africa"
          ]
         ],
         "hovertemplate": "Country name=Ivory Coast<br>Logged GDP per capita=%{marker.size}<br>Regional indicator=%{customdata[0]}<extra></extra>",
         "legendgroup": "Ivory Coast",
         "marker": {
          "color": "#FECB52",
          "size": [
           8.551
          ],
          "sizemode": "area",
          "sizeref": 0.0291175,
          "symbol": "circle"
         },
         "mode": "markers",
         "name": "Ivory Coast",
         "orientation": "v",
         "showlegend": true,
         "type": "scatter",
         "x": [
          8.551
         ],
         "xaxis": "x",
         "y": [
          8.551
         ],
         "yaxis": "y"
        },
        {
         "customdata": [
          [
           "Sub-Saharan Africa"
          ]
         ],
         "hovertemplate": "Country name=Mauritania<br>Logged GDP per capita=%{marker.size}<br>Regional indicator=%{customdata[0]}<extra></extra>",
         "legendgroup": "Mauritania",
         "marker": {
          "color": "#636efa",
          "size": [
           8.542
          ],
          "sizemode": "area",
          "sizeref": 0.0291175,
          "symbol": "circle"
         },
         "mode": "markers",
         "name": "Mauritania",
         "orientation": "v",
         "showlegend": true,
         "type": "scatter",
         "x": [
          8.542
         ],
         "xaxis": "x",
         "y": [
          8.542
         ],
         "yaxis": "y"
        },
        {
         "customdata": [
          [
           "Southeast Asia"
          ]
         ],
         "hovertemplate": "Country name=Myanmar<br>Logged GDP per capita=%{marker.size}<br>Regional indicator=%{customdata[0]}<extra></extra>",
         "legendgroup": "Myanmar",
         "marker": {
          "color": "#EF553B",
          "size": [
           8.541
          ],
          "sizemode": "area",
          "sizeref": 0.0291175,
          "symbol": "circle"
         },
         "mode": "markers",
         "name": "Myanmar",
         "orientation": "v",
         "showlegend": true,
         "type": "scatter",
         "x": [
          8.541
         ],
         "xaxis": "x",
         "y": [
          8.541
         ],
         "yaxis": "y"
        },
        {
         "customdata": [
          [
           "Commonwealth of Independent States"
          ]
         ],
         "hovertemplate": "Country name=Kyrgyzstan<br>Logged GDP per capita=%{marker.size}<br>Regional indicator=%{customdata[0]}<extra></extra>",
         "legendgroup": "Kyrgyzstan",
         "marker": {
          "color": "#00cc96",
          "size": [
           8.538
          ],
          "sizemode": "area",
          "sizeref": 0.0291175,
          "symbol": "circle"
         },
         "mode": "markers",
         "name": "Kyrgyzstan",
         "orientation": "v",
         "showlegend": true,
         "type": "scatter",
         "x": [
          8.538
         ],
         "xaxis": "x",
         "y": [
          8.538
         ],
         "yaxis": "y"
        },
        {
         "customdata": [
          [
           "Sub-Saharan Africa"
          ]
         ],
         "hovertemplate": "Country name=Nigeria<br>Logged GDP per capita=%{marker.size}<br>Regional indicator=%{customdata[0]}<extra></extra>",
         "legendgroup": "Nigeria",
         "marker": {
          "color": "#ab63fa",
          "size": [
           8.533
          ],
          "sizemode": "area",
          "sizeref": 0.0291175,
          "symbol": "circle"
         },
         "mode": "markers",
         "name": "Nigeria",
         "orientation": "v",
         "showlegend": true,
         "type": "scatter",
         "x": [
          8.533
         ],
         "xaxis": "x",
         "y": [
          8.533
         ],
         "yaxis": "y"
        },
        {
         "customdata": [
          [
           "Middle East and North Africa"
          ]
         ],
         "hovertemplate": "Country name=Palestinian Territories<br>Logged GDP per capita=%{marker.size}<br>Regional indicator=%{customdata[0]}<extra></extra>",
         "legendgroup": "Palestinian Territories",
         "marker": {
          "color": "#FFA15A",
          "size": [
           8.485
          ],
          "sizemode": "area",
          "sizeref": 0.0291175,
          "symbol": "circle"
         },
         "mode": "markers",
         "name": "Palestinian Territories",
         "orientation": "v",
         "showlegend": true,
         "type": "scatter",
         "x": [
          8.485
         ],
         "xaxis": "x",
         "y": [
          8.485
         ],
         "yaxis": "y"
        },
        {
         "customdata": [
          [
           "South Asia"
          ]
         ],
         "hovertemplate": "Country name=Pakistan<br>Logged GDP per capita=%{marker.size}<br>Regional indicator=%{customdata[0]}<extra></extra>",
         "legendgroup": "Pakistan",
         "marker": {
          "color": "#19d3f3",
          "size": [
           8.458
          ],
          "sizemode": "area",
          "sizeref": 0.0291175,
          "symbol": "circle"
         },
         "mode": "markers",
         "name": "Pakistan",
         "orientation": "v",
         "showlegend": true,
         "type": "scatter",
         "x": [
          8.458
         ],
         "xaxis": "x",
         "y": [
          8.458
         ],
         "yaxis": "y"
        },
        {
         "customdata": [
          [
           "South Asia"
          ]
         ],
         "hovertemplate": "Country name=Bangladesh<br>Logged GDP per capita=%{marker.size}<br>Regional indicator=%{customdata[0]}<extra></extra>",
         "legendgroup": "Bangladesh",
         "marker": {
          "color": "#FF6692",
          "size": [
           8.454
          ],
          "sizemode": "area",
          "sizeref": 0.0291175,
          "symbol": "circle"
         },
         "mode": "markers",
         "name": "Bangladesh",
         "orientation": "v",
         "showlegend": true,
         "type": "scatter",
         "x": [
          8.454
         ],
         "xaxis": "x",
         "y": [
          8.454
         ],
         "yaxis": "y"
        },
        {
         "customdata": [
          [
           "Sub-Saharan Africa"
          ]
         ],
         "hovertemplate": "Country name=Kenya<br>Logged GDP per capita=%{marker.size}<br>Regional indicator=%{customdata[0]}<extra></extra>",
         "legendgroup": "Kenya",
         "marker": {
          "color": "#B6E880",
          "size": [
           8.361
          ],
          "sizemode": "area",
          "sizeref": 0.0291175,
          "symbol": "circle"
         },
         "mode": "markers",
         "name": "Kenya",
         "orientation": "v",
         "showlegend": true,
         "type": "scatter",
         "x": [
          8.361
         ],
         "xaxis": "x",
         "y": [
          8.361
         ],
         "yaxis": "y"
        },
        {
         "customdata": [
          [
           "Southeast Asia"
          ]
         ],
         "hovertemplate": "Country name=Cambodia<br>Logged GDP per capita=%{marker.size}<br>Regional indicator=%{customdata[0]}<extra></extra>",
         "legendgroup": "Cambodia",
         "marker": {
          "color": "#FF97FF",
          "size": [
           8.36
          ],
          "sizemode": "area",
          "sizeref": 0.0291175,
          "symbol": "circle"
         },
         "mode": "markers",
         "name": "Cambodia",
         "orientation": "v",
         "showlegend": true,
         "type": "scatter",
         "x": [
          8.36
         ],
         "xaxis": "x",
         "y": [
          8.36
         ],
         "yaxis": "y"
        },
        {
         "customdata": [
          [
           "Sub-Saharan Africa"
          ]
         ],
         "hovertemplate": "Country name=Cameroon<br>Logged GDP per capita=%{marker.size}<br>Regional indicator=%{customdata[0]}<extra></extra>",
         "legendgroup": "Cameroon",
         "marker": {
          "color": "#FECB52",
          "size": [
           8.189
          ],
          "sizemode": "area",
          "sizeref": 0.0291175,
          "symbol": "circle"
         },
         "mode": "markers",
         "name": "Cameroon",
         "orientation": "v",
         "showlegend": true,
         "type": "scatter",
         "x": [
          8.189
         ],
         "xaxis": "x",
         "y": [
          8.189
         ],
         "yaxis": "y"
        },
        {
         "customdata": [
          [
           "Sub-Saharan Africa"
          ]
         ],
         "hovertemplate": "Country name=Zambia<br>Logged GDP per capita=%{marker.size}<br>Regional indicator=%{customdata[0]}<extra></extra>",
         "legendgroup": "Zambia",
         "marker": {
          "color": "#636efa",
          "size": [
           8.145
          ],
          "sizemode": "area",
          "sizeref": 0.0291175,
          "symbol": "circle"
         },
         "mode": "markers",
         "name": "Zambia",
         "orientation": "v",
         "showlegend": true,
         "type": "scatter",
         "x": [
          8.145
         ],
         "xaxis": "x",
         "y": [
          8.145
         ],
         "yaxis": "y"
        },
        {
         "customdata": [
          [
           "South Asia"
          ]
         ],
         "hovertemplate": "Country name=Nepal<br>Logged GDP per capita=%{marker.size}<br>Regional indicator=%{customdata[0]}<extra></extra>",
         "legendgroup": "Nepal",
         "marker": {
          "color": "#EF553B",
          "size": [
           8.12
          ],
          "sizemode": "area",
          "sizeref": 0.0291175,
          "symbol": "circle"
         },
         "mode": "markers",
         "name": "Nepal",
         "orientation": "v",
         "showlegend": true,
         "type": "scatter",
         "x": [
          8.12
         ],
         "xaxis": "x",
         "y": [
          8.12
         ],
         "yaxis": "y"
        },
        {
         "customdata": [
          [
           "Sub-Saharan Africa"
          ]
         ],
         "hovertemplate": "Country name=Senegal<br>Logged GDP per capita=%{marker.size}<br>Regional indicator=%{customdata[0]}<extra></extra>",
         "legendgroup": "Senegal",
         "marker": {
          "color": "#00cc96",
          "size": [
           8.118
          ],
          "sizemode": "area",
          "sizeref": 0.0291175,
          "symbol": "circle"
         },
         "mode": "markers",
         "name": "Senegal",
         "orientation": "v",
         "showlegend": true,
         "type": "scatter",
         "x": [
          8.118
         ],
         "xaxis": "x",
         "y": [
          8.118
         ],
         "yaxis": "y"
        },
        {
         "customdata": [
          [
           "Sub-Saharan Africa"
          ]
         ],
         "hovertemplate": "Country name=Congo (Brazzaville)<br>Logged GDP per capita=%{marker.size}<br>Regional indicator=%{customdata[0]}<extra></extra>",
         "legendgroup": "Congo (Brazzaville)",
         "marker": {
          "color": "#ab63fa",
          "size": [
           8.117
          ],
          "sizemode": "area",
          "sizeref": 0.0291175,
          "symbol": "circle"
         },
         "mode": "markers",
         "name": "Congo (Brazzaville)",
         "orientation": "v",
         "showlegend": true,
         "type": "scatter",
         "x": [
          8.117
         ],
         "xaxis": "x",
         "y": [
          8.117
         ],
         "yaxis": "y"
        },
        {
         "customdata": [
          [
           "Commonwealth of Independent States"
          ]
         ],
         "hovertemplate": "Country name=Tajikistan<br>Logged GDP per capita=%{marker.size}<br>Regional indicator=%{customdata[0]}<extra></extra>",
         "legendgroup": "Tajikistan",
         "marker": {
          "color": "#FFA15A",
          "size": [
           8.091
          ],
          "sizemode": "area",
          "sizeref": 0.0291175,
          "symbol": "circle"
         },
         "mode": "markers",
         "name": "Tajikistan",
         "orientation": "v",
         "showlegend": true,
         "type": "scatter",
         "x": [
          8.091
         ],
         "xaxis": "x",
         "y": [
          8.091
         ],
         "yaxis": "y"
        },
        {
         "customdata": [
          [
           "Sub-Saharan Africa"
          ]
         ],
         "hovertemplate": "Country name=Benin<br>Logged GDP per capita=%{marker.size}<br>Regional indicator=%{customdata[0]}<extra></extra>",
         "legendgroup": "Benin",
         "marker": {
          "color": "#19d3f3",
          "size": [
           8.087
          ],
          "sizemode": "area",
          "sizeref": 0.0291175,
          "symbol": "circle"
         },
         "mode": "markers",
         "name": "Benin",
         "orientation": "v",
         "showlegend": true,
         "type": "scatter",
         "x": [
          8.087
         ],
         "xaxis": "x",
         "y": [
          8.087
         ],
         "yaxis": "y"
        },
        {
         "customdata": [
          [
           "Sub-Saharan Africa"
          ]
         ],
         "hovertemplate": "Country name=Comoros<br>Logged GDP per capita=%{marker.size}<br>Regional indicator=%{customdata[0]}<extra></extra>",
         "legendgroup": "Comoros",
         "marker": {
          "color": "#FF6692",
          "size": [
           8.031
          ],
          "sizemode": "area",
          "sizeref": 0.0291175,
          "symbol": "circle"
         },
         "mode": "markers",
         "name": "Comoros",
         "orientation": "v",
         "showlegend": true,
         "type": "scatter",
         "x": [
          8.031
         ],
         "xaxis": "x",
         "y": [
          8.031
         ],
         "yaxis": "y"
        },
        {
         "customdata": [
          [
           "Sub-Saharan Africa"
          ]
         ],
         "hovertemplate": "Country name=Zimbabwe<br>Logged GDP per capita=%{marker.size}<br>Regional indicator=%{customdata[0]}<extra></extra>",
         "legendgroup": "Zimbabwe",
         "marker": {
          "color": "#B6E880",
          "size": [
           7.943
          ],
          "sizemode": "area",
          "sizeref": 0.0291175,
          "symbol": "circle"
         },
         "mode": "markers",
         "name": "Zimbabwe",
         "orientation": "v",
         "showlegend": true,
         "type": "scatter",
         "x": [
          7.943
         ],
         "xaxis": "x",
         "y": [
          7.943
         ],
         "yaxis": "y"
        },
        {
         "customdata": [
          [
           "Sub-Saharan Africa"
          ]
         ],
         "hovertemplate": "Country name=Lesotho<br>Logged GDP per capita=%{marker.size}<br>Regional indicator=%{customdata[0]}<extra></extra>",
         "legendgroup": "Lesotho",
         "marker": {
          "color": "#FF97FF",
          "size": [
           7.926
          ],
          "sizemode": "area",
          "sizeref": 0.0291175,
          "symbol": "circle"
         },
         "mode": "markers",
         "name": "Lesotho",
         "orientation": "v",
         "showlegend": true,
         "type": "scatter",
         "x": [
          7.926
         ],
         "xaxis": "x",
         "y": [
          7.926
         ],
         "yaxis": "y"
        },
        {
         "customdata": [
          [
           "Sub-Saharan Africa"
          ]
         ],
         "hovertemplate": "Country name=Tanzania<br>Logged GDP per capita=%{marker.size}<br>Regional indicator=%{customdata[0]}<extra></extra>",
         "legendgroup": "Tanzania",
         "marker": {
          "color": "#FECB52",
          "size": [
           7.876
          ],
          "sizemode": "area",
          "sizeref": 0.0291175,
          "symbol": "circle"
         },
         "mode": "markers",
         "name": "Tanzania",
         "orientation": "v",
         "showlegend": true,
         "type": "scatter",
         "x": [
          7.876
         ],
         "xaxis": "x",
         "y": [
          7.876
         ],
         "yaxis": "y"
        },
        {
         "customdata": [
          [
           "Sub-Saharan Africa"
          ]
         ],
         "hovertemplate": "Country name=Guinea<br>Logged GDP per capita=%{marker.size}<br>Regional indicator=%{customdata[0]}<extra></extra>",
         "legendgroup": "Guinea",
         "marker": {
          "color": "#636efa",
          "size": [
           7.838
          ],
          "sizemode": "area",
          "sizeref": 0.0291175,
          "symbol": "circle"
         },
         "mode": "markers",
         "name": "Guinea",
         "orientation": "v",
         "showlegend": true,
         "type": "scatter",
         "x": [
          7.838
         ],
         "xaxis": "x",
         "y": [
          7.838
         ],
         "yaxis": "y"
        },
        {
         "customdata": [
          [
           "Sub-Saharan Africa"
          ]
         ],
         "hovertemplate": "Country name=Mali<br>Logged GDP per capita=%{marker.size}<br>Regional indicator=%{customdata[0]}<extra></extra>",
         "legendgroup": "Mali",
         "marker": {
          "color": "#EF553B",
          "size": [
           7.744
          ],
          "sizemode": "area",
          "sizeref": 0.0291175,
          "symbol": "circle"
         },
         "mode": "markers",
         "name": "Mali",
         "orientation": "v",
         "showlegend": true,
         "type": "scatter",
         "x": [
          7.744
         ],
         "xaxis": "x",
         "y": [
          7.744
         ],
         "yaxis": "y"
        },
        {
         "customdata": [
          [
           "South Asia"
          ]
         ],
         "hovertemplate": "Country name=Afghanistan<br>Logged GDP per capita=%{marker.size}<br>Regional indicator=%{customdata[0]}<extra></extra>",
         "legendgroup": "Afghanistan",
         "marker": {
          "color": "#00cc96",
          "size": [
           7.695
          ],
          "sizemode": "area",
          "sizeref": 0.0291175,
          "symbol": "circle"
         },
         "mode": "markers",
         "name": "Afghanistan",
         "orientation": "v",
         "showlegend": true,
         "type": "scatter",
         "x": [
          7.695
         ],
         "xaxis": "x",
         "y": [
          7.695
         ],
         "yaxis": "y"
        },
        {
         "customdata": [
          [
           "Sub-Saharan Africa"
          ]
         ],
         "hovertemplate": "Country name=Ethiopia<br>Logged GDP per capita=%{marker.size}<br>Regional indicator=%{customdata[0]}<extra></extra>",
         "legendgroup": "Ethiopia",
         "marker": {
          "color": "#ab63fa",
          "size": [
           7.694
          ],
          "sizemode": "area",
          "sizeref": 0.0291175,
          "symbol": "circle"
         },
         "mode": "markers",
         "name": "Ethiopia",
         "orientation": "v",
         "showlegend": true,
         "type": "scatter",
         "x": [
          7.694
         ],
         "xaxis": "x",
         "y": [
          7.694
         ],
         "yaxis": "y"
        },
        {
         "customdata": [
          [
           "Sub-Saharan Africa"
          ]
         ],
         "hovertemplate": "Country name=Gambia<br>Logged GDP per capita=%{marker.size}<br>Regional indicator=%{customdata[0]}<extra></extra>",
         "legendgroup": "Gambia",
         "marker": {
          "color": "#FFA15A",
          "size": [
           7.686
          ],
          "sizemode": "area",
          "sizeref": 0.0291175,
          "symbol": "circle"
         },
         "mode": "markers",
         "name": "Gambia",
         "orientation": "v",
         "showlegend": true,
         "type": "scatter",
         "x": [
          7.686
         ],
         "xaxis": "x",
         "y": [
          7.686
         ],
         "yaxis": "y"
        },
        {
         "customdata": [
          [
           "Sub-Saharan Africa"
          ]
         ],
         "hovertemplate": "Country name=Burkina Faso<br>Logged GDP per capita=%{marker.size}<br>Regional indicator=%{customdata[0]}<extra></extra>",
         "legendgroup": "Burkina Faso",
         "marker": {
          "color": "#19d3f3",
          "size": [
           7.678
          ],
          "sizemode": "area",
          "sizeref": 0.0291175,
          "symbol": "circle"
         },
         "mode": "markers",
         "name": "Burkina Faso",
         "orientation": "v",
         "showlegend": true,
         "type": "scatter",
         "x": [
          7.678
         ],
         "xaxis": "x",
         "y": [
          7.678
         ],
         "yaxis": "y"
        },
        {
         "customdata": [
          [
           "Sub-Saharan Africa"
          ]
         ],
         "hovertemplate": "Country name=Uganda<br>Logged GDP per capita=%{marker.size}<br>Regional indicator=%{customdata[0]}<extra></extra>",
         "legendgroup": "Uganda",
         "marker": {
          "color": "#FF6692",
          "size": [
           7.677
          ],
          "sizemode": "area",
          "sizeref": 0.0291175,
          "symbol": "circle"
         },
         "mode": "markers",
         "name": "Uganda",
         "orientation": "v",
         "showlegend": true,
         "type": "scatter",
         "x": [
          7.677
         ],
         "xaxis": "x",
         "y": [
          7.677
         ],
         "yaxis": "y"
        },
        {
         "customdata": [
          [
           "Sub-Saharan Africa"
          ]
         ],
         "hovertemplate": "Country name=Rwanda<br>Logged GDP per capita=%{marker.size}<br>Regional indicator=%{customdata[0]}<extra></extra>",
         "legendgroup": "Rwanda",
         "marker": {
          "color": "#B6E880",
          "size": [
           7.676
          ],
          "sizemode": "area",
          "sizeref": 0.0291175,
          "symbol": "circle"
         },
         "mode": "markers",
         "name": "Rwanda",
         "orientation": "v",
         "showlegend": true,
         "type": "scatter",
         "x": [
          7.676
         ],
         "xaxis": "x",
         "y": [
          7.676
         ],
         "yaxis": "y"
        },
        {
         "customdata": [
          [
           "Middle East and North Africa"
          ]
         ],
         "hovertemplate": "Country name=Yemen<br>Logged GDP per capita=%{marker.size}<br>Regional indicator=%{customdata[0]}<extra></extra>",
         "legendgroup": "Yemen",
         "marker": {
          "color": "#FF97FF",
          "size": [
           7.578
          ],
          "sizemode": "area",
          "sizeref": 0.0291175,
          "symbol": "circle"
         },
         "mode": "markers",
         "name": "Yemen",
         "orientation": "v",
         "showlegend": true,
         "type": "scatter",
         "x": [
          7.578
         ],
         "xaxis": "x",
         "y": [
          7.578
         ],
         "yaxis": "y"
        },
        {
         "customdata": [
          [
           "Latin America and Caribbean"
          ]
         ],
         "hovertemplate": "Country name=Haiti<br>Logged GDP per capita=%{marker.size}<br>Regional indicator=%{customdata[0]}<extra></extra>",
         "legendgroup": "Haiti",
         "marker": {
          "color": "#FECB52",
          "size": [
           7.477
          ],
          "sizemode": "area",
          "sizeref": 0.0291175,
          "symbol": "circle"
         },
         "mode": "markers",
         "name": "Haiti",
         "orientation": "v",
         "showlegend": true,
         "type": "scatter",
         "x": [
          7.477
         ],
         "xaxis": "x",
         "y": [
          7.477
         ],
         "yaxis": "y"
        },
        {
         "customdata": [
          [
           "Sub-Saharan Africa"
          ]
         ],
         "hovertemplate": "Country name=Sierra Leone<br>Logged GDP per capita=%{marker.size}<br>Regional indicator=%{customdata[0]}<extra></extra>",
         "legendgroup": "Sierra Leone",
         "marker": {
          "color": "#636efa",
          "size": [
           7.434
          ],
          "sizemode": "area",
          "sizeref": 0.0291175,
          "symbol": "circle"
         },
         "mode": "markers",
         "name": "Sierra Leone",
         "orientation": "v",
         "showlegend": true,
         "type": "scatter",
         "x": [
          7.434
         ],
         "xaxis": "x",
         "y": [
          7.434
         ],
         "yaxis": "y"
        },
        {
         "customdata": [
          [
           "Sub-Saharan Africa"
          ]
         ],
         "hovertemplate": "Country name=Madagascar<br>Logged GDP per capita=%{marker.size}<br>Regional indicator=%{customdata[0]}<extra></extra>",
         "legendgroup": "Madagascar",
         "marker": {
          "color": "#EF553B",
          "size": [
           7.396
          ],
          "sizemode": "area",
          "sizeref": 0.0291175,
          "symbol": "circle"
         },
         "mode": "markers",
         "name": "Madagascar",
         "orientation": "v",
         "showlegend": true,
         "type": "scatter",
         "x": [
          7.396
         ],
         "xaxis": "x",
         "y": [
          7.396
         ],
         "yaxis": "y"
        },
        {
         "customdata": [
          [
           "Sub-Saharan Africa"
          ]
         ],
         "hovertemplate": "Country name=Chad<br>Logged GDP per capita=%{marker.size}<br>Regional indicator=%{customdata[0]}<extra></extra>",
         "legendgroup": "Chad",
         "marker": {
          "color": "#00cc96",
          "size": [
           7.364
          ],
          "sizemode": "area",
          "sizeref": 0.0291175,
          "symbol": "circle"
         },
         "mode": "markers",
         "name": "Chad",
         "orientation": "v",
         "showlegend": true,
         "type": "scatter",
         "x": [
          7.364
         ],
         "xaxis": "x",
         "y": [
          7.364
         ],
         "yaxis": "y"
        },
        {
         "customdata": [
          [
           "Sub-Saharan Africa"
          ]
         ],
         "hovertemplate": "Country name=Togo<br>Logged GDP per capita=%{marker.size}<br>Regional indicator=%{customdata[0]}<extra></extra>",
         "legendgroup": "Togo",
         "marker": {
          "color": "#ab63fa",
          "size": [
           7.362
          ],
          "sizemode": "area",
          "sizeref": 0.0291175,
          "symbol": "circle"
         },
         "mode": "markers",
         "name": "Togo",
         "orientation": "v",
         "showlegend": true,
         "type": "scatter",
         "x": [
          7.362
         ],
         "xaxis": "x",
         "y": [
          7.362
         ],
         "yaxis": "y"
        },
        {
         "customdata": [
          [
           "Sub-Saharan Africa"
          ]
         ],
         "hovertemplate": "Country name=Liberia<br>Logged GDP per capita=%{marker.size}<br>Regional indicator=%{customdata[0]}<extra></extra>",
         "legendgroup": "Liberia",
         "marker": {
          "color": "#FFA15A",
          "size": [
           7.288
          ],
          "sizemode": "area",
          "sizeref": 0.0291175,
          "symbol": "circle"
         },
         "mode": "markers",
         "name": "Liberia",
         "orientation": "v",
         "showlegend": true,
         "type": "scatter",
         "x": [
          7.288
         ],
         "xaxis": "x",
         "y": [
          7.288
         ],
         "yaxis": "y"
        },
        {
         "customdata": [
          [
           "Sub-Saharan Africa"
          ]
         ],
         "hovertemplate": "Country name=Mozambique<br>Logged GDP per capita=%{marker.size}<br>Regional indicator=%{customdata[0]}<extra></extra>",
         "legendgroup": "Mozambique",
         "marker": {
          "color": "#19d3f3",
          "size": [
           7.158
          ],
          "sizemode": "area",
          "sizeref": 0.0291175,
          "symbol": "circle"
         },
         "mode": "markers",
         "name": "Mozambique",
         "orientation": "v",
         "showlegend": true,
         "type": "scatter",
         "x": [
          7.158
         ],
         "xaxis": "x",
         "y": [
          7.158
         ],
         "yaxis": "y"
        },
        {
         "customdata": [
          [
           "Sub-Saharan Africa"
          ]
         ],
         "hovertemplate": "Country name=Niger<br>Logged GDP per capita=%{marker.size}<br>Regional indicator=%{customdata[0]}<extra></extra>",
         "legendgroup": "Niger",
         "marker": {
          "color": "#FF6692",
          "size": [
           7.098
          ],
          "sizemode": "area",
          "sizeref": 0.0291175,
          "symbol": "circle"
         },
         "mode": "markers",
         "name": "Niger",
         "orientation": "v",
         "showlegend": true,
         "type": "scatter",
         "x": [
          7.098
         ],
         "xaxis": "x",
         "y": [
          7.098
         ],
         "yaxis": "y"
        },
        {
         "customdata": [
          [
           "Sub-Saharan Africa"
          ]
         ],
         "hovertemplate": "Country name=Malawi<br>Logged GDP per capita=%{marker.size}<br>Regional indicator=%{customdata[0]}<extra></extra>",
         "legendgroup": "Malawi",
         "marker": {
          "color": "#B6E880",
          "size": [
           6.958
          ],
          "sizemode": "area",
          "sizeref": 0.0291175,
          "symbol": "circle"
         },
         "mode": "markers",
         "name": "Malawi",
         "orientation": "v",
         "showlegend": true,
         "type": "scatter",
         "x": [
          6.958
         ],
         "xaxis": "x",
         "y": [
          6.958
         ],
         "yaxis": "y"
        },
        {
         "customdata": [
          [
           "Sub-Saharan Africa"
          ]
         ],
         "hovertemplate": "Country name=Burundi<br>Logged GDP per capita=%{marker.size}<br>Regional indicator=%{customdata[0]}<extra></extra>",
         "legendgroup": "Burundi",
         "marker": {
          "color": "#FF97FF",
          "size": [
           6.635
          ],
          "sizemode": "area",
          "sizeref": 0.0291175,
          "symbol": "circle"
         },
         "mode": "markers",
         "name": "Burundi",
         "orientation": "v",
         "showlegend": true,
         "type": "scatter",
         "x": [
          6.635
         ],
         "xaxis": "x",
         "y": [
          6.635
         ],
         "yaxis": "y"
        }
       ],
       "layout": {
        "legend": {
         "itemsizing": "constant",
         "title": {
          "text": "Country name"
         },
         "tracegroupgap": 0
        },
        "template": {
         "data": {
          "bar": [
           {
            "error_x": {
             "color": "#2a3f5f"
            },
            "error_y": {
             "color": "#2a3f5f"
            },
            "marker": {
             "line": {
              "color": "#E5ECF6",
              "width": 0.5
             }
            },
            "type": "bar"
           }
          ],
          "barpolar": [
           {
            "marker": {
             "line": {
              "color": "#E5ECF6",
              "width": 0.5
             }
            },
            "type": "barpolar"
           }
          ],
          "carpet": [
           {
            "aaxis": {
             "endlinecolor": "#2a3f5f",
             "gridcolor": "white",
             "linecolor": "white",
             "minorgridcolor": "white",
             "startlinecolor": "#2a3f5f"
            },
            "baxis": {
             "endlinecolor": "#2a3f5f",
             "gridcolor": "white",
             "linecolor": "white",
             "minorgridcolor": "white",
             "startlinecolor": "#2a3f5f"
            },
            "type": "carpet"
           }
          ],
          "choropleth": [
           {
            "colorbar": {
             "outlinewidth": 0,
             "ticks": ""
            },
            "type": "choropleth"
           }
          ],
          "contour": [
           {
            "colorbar": {
             "outlinewidth": 0,
             "ticks": ""
            },
            "colorscale": [
             [
              0,
              "#0d0887"
             ],
             [
              0.1111111111111111,
              "#46039f"
             ],
             [
              0.2222222222222222,
              "#7201a8"
             ],
             [
              0.3333333333333333,
              "#9c179e"
             ],
             [
              0.4444444444444444,
              "#bd3786"
             ],
             [
              0.5555555555555556,
              "#d8576b"
             ],
             [
              0.6666666666666666,
              "#ed7953"
             ],
             [
              0.7777777777777778,
              "#fb9f3a"
             ],
             [
              0.8888888888888888,
              "#fdca26"
             ],
             [
              1,
              "#f0f921"
             ]
            ],
            "type": "contour"
           }
          ],
          "contourcarpet": [
           {
            "colorbar": {
             "outlinewidth": 0,
             "ticks": ""
            },
            "type": "contourcarpet"
           }
          ],
          "heatmap": [
           {
            "colorbar": {
             "outlinewidth": 0,
             "ticks": ""
            },
            "colorscale": [
             [
              0,
              "#0d0887"
             ],
             [
              0.1111111111111111,
              "#46039f"
             ],
             [
              0.2222222222222222,
              "#7201a8"
             ],
             [
              0.3333333333333333,
              "#9c179e"
             ],
             [
              0.4444444444444444,
              "#bd3786"
             ],
             [
              0.5555555555555556,
              "#d8576b"
             ],
             [
              0.6666666666666666,
              "#ed7953"
             ],
             [
              0.7777777777777778,
              "#fb9f3a"
             ],
             [
              0.8888888888888888,
              "#fdca26"
             ],
             [
              1,
              "#f0f921"
             ]
            ],
            "type": "heatmap"
           }
          ],
          "heatmapgl": [
           {
            "colorbar": {
             "outlinewidth": 0,
             "ticks": ""
            },
            "colorscale": [
             [
              0,
              "#0d0887"
             ],
             [
              0.1111111111111111,
              "#46039f"
             ],
             [
              0.2222222222222222,
              "#7201a8"
             ],
             [
              0.3333333333333333,
              "#9c179e"
             ],
             [
              0.4444444444444444,
              "#bd3786"
             ],
             [
              0.5555555555555556,
              "#d8576b"
             ],
             [
              0.6666666666666666,
              "#ed7953"
             ],
             [
              0.7777777777777778,
              "#fb9f3a"
             ],
             [
              0.8888888888888888,
              "#fdca26"
             ],
             [
              1,
              "#f0f921"
             ]
            ],
            "type": "heatmapgl"
           }
          ],
          "histogram": [
           {
            "marker": {
             "colorbar": {
              "outlinewidth": 0,
              "ticks": ""
             }
            },
            "type": "histogram"
           }
          ],
          "histogram2d": [
           {
            "colorbar": {
             "outlinewidth": 0,
             "ticks": ""
            },
            "colorscale": [
             [
              0,
              "#0d0887"
             ],
             [
              0.1111111111111111,
              "#46039f"
             ],
             [
              0.2222222222222222,
              "#7201a8"
             ],
             [
              0.3333333333333333,
              "#9c179e"
             ],
             [
              0.4444444444444444,
              "#bd3786"
             ],
             [
              0.5555555555555556,
              "#d8576b"
             ],
             [
              0.6666666666666666,
              "#ed7953"
             ],
             [
              0.7777777777777778,
              "#fb9f3a"
             ],
             [
              0.8888888888888888,
              "#fdca26"
             ],
             [
              1,
              "#f0f921"
             ]
            ],
            "type": "histogram2d"
           }
          ],
          "histogram2dcontour": [
           {
            "colorbar": {
             "outlinewidth": 0,
             "ticks": ""
            },
            "colorscale": [
             [
              0,
              "#0d0887"
             ],
             [
              0.1111111111111111,
              "#46039f"
             ],
             [
              0.2222222222222222,
              "#7201a8"
             ],
             [
              0.3333333333333333,
              "#9c179e"
             ],
             [
              0.4444444444444444,
              "#bd3786"
             ],
             [
              0.5555555555555556,
              "#d8576b"
             ],
             [
              0.6666666666666666,
              "#ed7953"
             ],
             [
              0.7777777777777778,
              "#fb9f3a"
             ],
             [
              0.8888888888888888,
              "#fdca26"
             ],
             [
              1,
              "#f0f921"
             ]
            ],
            "type": "histogram2dcontour"
           }
          ],
          "mesh3d": [
           {
            "colorbar": {
             "outlinewidth": 0,
             "ticks": ""
            },
            "type": "mesh3d"
           }
          ],
          "parcoords": [
           {
            "line": {
             "colorbar": {
              "outlinewidth": 0,
              "ticks": ""
             }
            },
            "type": "parcoords"
           }
          ],
          "pie": [
           {
            "automargin": true,
            "type": "pie"
           }
          ],
          "scatter": [
           {
            "marker": {
             "colorbar": {
              "outlinewidth": 0,
              "ticks": ""
             }
            },
            "type": "scatter"
           }
          ],
          "scatter3d": [
           {
            "line": {
             "colorbar": {
              "outlinewidth": 0,
              "ticks": ""
             }
            },
            "marker": {
             "colorbar": {
              "outlinewidth": 0,
              "ticks": ""
             }
            },
            "type": "scatter3d"
           }
          ],
          "scattercarpet": [
           {
            "marker": {
             "colorbar": {
              "outlinewidth": 0,
              "ticks": ""
             }
            },
            "type": "scattercarpet"
           }
          ],
          "scattergeo": [
           {
            "marker": {
             "colorbar": {
              "outlinewidth": 0,
              "ticks": ""
             }
            },
            "type": "scattergeo"
           }
          ],
          "scattergl": [
           {
            "marker": {
             "colorbar": {
              "outlinewidth": 0,
              "ticks": ""
             }
            },
            "type": "scattergl"
           }
          ],
          "scattermapbox": [
           {
            "marker": {
             "colorbar": {
              "outlinewidth": 0,
              "ticks": ""
             }
            },
            "type": "scattermapbox"
           }
          ],
          "scatterpolar": [
           {
            "marker": {
             "colorbar": {
              "outlinewidth": 0,
              "ticks": ""
             }
            },
            "type": "scatterpolar"
           }
          ],
          "scatterpolargl": [
           {
            "marker": {
             "colorbar": {
              "outlinewidth": 0,
              "ticks": ""
             }
            },
            "type": "scatterpolargl"
           }
          ],
          "scatterternary": [
           {
            "marker": {
             "colorbar": {
              "outlinewidth": 0,
              "ticks": ""
             }
            },
            "type": "scatterternary"
           }
          ],
          "surface": [
           {
            "colorbar": {
             "outlinewidth": 0,
             "ticks": ""
            },
            "colorscale": [
             [
              0,
              "#0d0887"
             ],
             [
              0.1111111111111111,
              "#46039f"
             ],
             [
              0.2222222222222222,
              "#7201a8"
             ],
             [
              0.3333333333333333,
              "#9c179e"
             ],
             [
              0.4444444444444444,
              "#bd3786"
             ],
             [
              0.5555555555555556,
              "#d8576b"
             ],
             [
              0.6666666666666666,
              "#ed7953"
             ],
             [
              0.7777777777777778,
              "#fb9f3a"
             ],
             [
              0.8888888888888888,
              "#fdca26"
             ],
             [
              1,
              "#f0f921"
             ]
            ],
            "type": "surface"
           }
          ],
          "table": [
           {
            "cells": {
             "fill": {
              "color": "#EBF0F8"
             },
             "line": {
              "color": "white"
             }
            },
            "header": {
             "fill": {
              "color": "#C8D4E3"
             },
             "line": {
              "color": "white"
             }
            },
            "type": "table"
           }
          ]
         },
         "layout": {
          "annotationdefaults": {
           "arrowcolor": "#2a3f5f",
           "arrowhead": 0,
           "arrowwidth": 1
          },
          "autotypenumbers": "strict",
          "coloraxis": {
           "colorbar": {
            "outlinewidth": 0,
            "ticks": ""
           }
          },
          "colorscale": {
           "diverging": [
            [
             0,
             "#8e0152"
            ],
            [
             0.1,
             "#c51b7d"
            ],
            [
             0.2,
             "#de77ae"
            ],
            [
             0.3,
             "#f1b6da"
            ],
            [
             0.4,
             "#fde0ef"
            ],
            [
             0.5,
             "#f7f7f7"
            ],
            [
             0.6,
             "#e6f5d0"
            ],
            [
             0.7,
             "#b8e186"
            ],
            [
             0.8,
             "#7fbc41"
            ],
            [
             0.9,
             "#4d9221"
            ],
            [
             1,
             "#276419"
            ]
           ],
           "sequential": [
            [
             0,
             "#0d0887"
            ],
            [
             0.1111111111111111,
             "#46039f"
            ],
            [
             0.2222222222222222,
             "#7201a8"
            ],
            [
             0.3333333333333333,
             "#9c179e"
            ],
            [
             0.4444444444444444,
             "#bd3786"
            ],
            [
             0.5555555555555556,
             "#d8576b"
            ],
            [
             0.6666666666666666,
             "#ed7953"
            ],
            [
             0.7777777777777778,
             "#fb9f3a"
            ],
            [
             0.8888888888888888,
             "#fdca26"
            ],
            [
             1,
             "#f0f921"
            ]
           ],
           "sequentialminus": [
            [
             0,
             "#0d0887"
            ],
            [
             0.1111111111111111,
             "#46039f"
            ],
            [
             0.2222222222222222,
             "#7201a8"
            ],
            [
             0.3333333333333333,
             "#9c179e"
            ],
            [
             0.4444444444444444,
             "#bd3786"
            ],
            [
             0.5555555555555556,
             "#d8576b"
            ],
            [
             0.6666666666666666,
             "#ed7953"
            ],
            [
             0.7777777777777778,
             "#fb9f3a"
            ],
            [
             0.8888888888888888,
             "#fdca26"
            ],
            [
             1,
             "#f0f921"
            ]
           ]
          },
          "colorway": [
           "#636efa",
           "#EF553B",
           "#00cc96",
           "#ab63fa",
           "#FFA15A",
           "#19d3f3",
           "#FF6692",
           "#B6E880",
           "#FF97FF",
           "#FECB52"
          ],
          "font": {
           "color": "#2a3f5f"
          },
          "geo": {
           "bgcolor": "white",
           "lakecolor": "white",
           "landcolor": "#E5ECF6",
           "showlakes": true,
           "showland": true,
           "subunitcolor": "white"
          },
          "hoverlabel": {
           "align": "left"
          },
          "hovermode": "closest",
          "mapbox": {
           "style": "light"
          },
          "paper_bgcolor": "white",
          "plot_bgcolor": "#E5ECF6",
          "polar": {
           "angularaxis": {
            "gridcolor": "white",
            "linecolor": "white",
            "ticks": ""
           },
           "bgcolor": "#E5ECF6",
           "radialaxis": {
            "gridcolor": "white",
            "linecolor": "white",
            "ticks": ""
           }
          },
          "scene": {
           "xaxis": {
            "backgroundcolor": "#E5ECF6",
            "gridcolor": "white",
            "gridwidth": 2,
            "linecolor": "white",
            "showbackground": true,
            "ticks": "",
            "zerolinecolor": "white"
           },
           "yaxis": {
            "backgroundcolor": "#E5ECF6",
            "gridcolor": "white",
            "gridwidth": 2,
            "linecolor": "white",
            "showbackground": true,
            "ticks": "",
            "zerolinecolor": "white"
           },
           "zaxis": {
            "backgroundcolor": "#E5ECF6",
            "gridcolor": "white",
            "gridwidth": 2,
            "linecolor": "white",
            "showbackground": true,
            "ticks": "",
            "zerolinecolor": "white"
           }
          },
          "shapedefaults": {
           "line": {
            "color": "#2a3f5f"
           }
          },
          "ternary": {
           "aaxis": {
            "gridcolor": "white",
            "linecolor": "white",
            "ticks": ""
           },
           "baxis": {
            "gridcolor": "white",
            "linecolor": "white",
            "ticks": ""
           },
           "bgcolor": "#E5ECF6",
           "caxis": {
            "gridcolor": "white",
            "linecolor": "white",
            "ticks": ""
           }
          },
          "title": {
           "x": 0.05
          },
          "xaxis": {
           "automargin": true,
           "gridcolor": "white",
           "linecolor": "white",
           "ticks": "",
           "title": {
            "standoff": 15
           },
           "zerolinecolor": "white",
           "zerolinewidth": 2
          },
          "yaxis": {
           "automargin": true,
           "gridcolor": "white",
           "linecolor": "white",
           "ticks": "",
           "title": {
            "standoff": 15
           },
           "zerolinecolor": "white",
           "zerolinewidth": 2
          }
         }
        },
        "title": {
         "text": "GDP"
        },
        "xaxis": {
         "anchor": "y",
         "domain": [
          0,
          1
         ],
         "title": {
          "text": "Logged GDP per capita"
         }
        },
        "yaxis": {
         "anchor": "x",
         "domain": [
          0,
          1
         ],
         "title": {
          "text": "Logged GDP per capita"
         }
        }
       }
      },
      "text/html": [
       "<div>                            <div id=\"b67e6c7e-b07a-49e5-b315-18282a4155a2\" class=\"plotly-graph-div\" style=\"height:525px; width:100%;\"></div>            <script type=\"text/javascript\">                require([\"plotly\"], function(Plotly) {                    window.PLOTLYENV=window.PLOTLYENV || {};                                    if (document.getElementById(\"b67e6c7e-b07a-49e5-b315-18282a4155a2\")) {                    Plotly.newPlot(                        \"b67e6c7e-b07a-49e5-b315-18282a4155a2\",                        [{\"customdata\": [[\"Western Europe\"]], \"hovertemplate\": \"Country name=Luxembourg<br>Logged GDP per capita=%{marker.size}<br>Regional indicator=%{customdata[0]}<extra></extra>\", \"legendgroup\": \"Luxembourg\", \"marker\": {\"color\": \"#636efa\", \"size\": [11.647], \"sizemode\": \"area\", \"sizeref\": 0.0291175, \"symbol\": \"circle\"}, \"mode\": \"markers\", \"name\": \"Luxembourg\", \"orientation\": \"v\", \"showlegend\": true, \"type\": \"scatter\", \"x\": [11.647], \"xaxis\": \"x\", \"y\": [11.647], \"yaxis\": \"y\"}, {\"customdata\": [[\"Southeast Asia\"]], \"hovertemplate\": \"Country name=Singapore<br>Logged GDP per capita=%{marker.size}<br>Regional indicator=%{customdata[0]}<extra></extra>\", \"legendgroup\": \"Singapore\", \"marker\": {\"color\": \"#EF553B\", \"size\": [11.488], \"sizemode\": \"area\", \"sizeref\": 0.0291175, \"symbol\": \"circle\"}, \"mode\": \"markers\", \"name\": \"Singapore\", \"orientation\": \"v\", \"showlegend\": true, \"type\": \"scatter\", \"x\": [11.488], \"xaxis\": \"x\", \"y\": [11.488], \"yaxis\": \"y\"}, {\"customdata\": [[\"Western Europe\"]], \"hovertemplate\": \"Country name=Ireland<br>Logged GDP per capita=%{marker.size}<br>Regional indicator=%{customdata[0]}<extra></extra>\", \"legendgroup\": \"Ireland\", \"marker\": {\"color\": \"#00cc96\", \"size\": [11.342], \"sizemode\": \"area\", \"sizeref\": 0.0291175, \"symbol\": \"circle\"}, \"mode\": \"markers\", \"name\": \"Ireland\", \"orientation\": \"v\", \"showlegend\": true, \"type\": \"scatter\", \"x\": [11.342], \"xaxis\": \"x\", \"y\": [11.342], \"yaxis\": \"y\"}, {\"customdata\": [[\"Western Europe\"]], \"hovertemplate\": \"Country name=Switzerland<br>Logged GDP per capita=%{marker.size}<br>Regional indicator=%{customdata[0]}<extra></extra>\", \"legendgroup\": \"Switzerland\", \"marker\": {\"color\": \"#ab63fa\", \"size\": [11.117], \"sizemode\": \"area\", \"sizeref\": 0.0291175, \"symbol\": \"circle\"}, \"mode\": \"markers\", \"name\": \"Switzerland\", \"orientation\": \"v\", \"showlegend\": true, \"type\": \"scatter\", \"x\": [11.117], \"xaxis\": \"x\", \"y\": [11.117], \"yaxis\": \"y\"}, {\"customdata\": [[\"Middle East and North Africa\"]], \"hovertemplate\": \"Country name=United Arab Emirates<br>Logged GDP per capita=%{marker.size}<br>Regional indicator=%{customdata[0]}<extra></extra>\", \"legendgroup\": \"United Arab Emirates\", \"marker\": {\"color\": \"#FFA15A\", \"size\": [11.085], \"sizemode\": \"area\", \"sizeref\": 0.0291175, \"symbol\": \"circle\"}, \"mode\": \"markers\", \"name\": \"United Arab Emirates\", \"orientation\": \"v\", \"showlegend\": true, \"type\": \"scatter\", \"x\": [11.085], \"xaxis\": \"x\", \"y\": [11.085], \"yaxis\": \"y\"}, {\"customdata\": [[\"Western Europe\"]], \"hovertemplate\": \"Country name=Norway<br>Logged GDP per capita=%{marker.size}<br>Regional indicator=%{customdata[0]}<extra></extra>\", \"legendgroup\": \"Norway\", \"marker\": {\"color\": \"#19d3f3\", \"size\": [11.053], \"sizemode\": \"area\", \"sizeref\": 0.0291175, \"symbol\": \"circle\"}, \"mode\": \"markers\", \"name\": \"Norway\", \"orientation\": \"v\", \"showlegend\": true, \"type\": \"scatter\", \"x\": [11.053], \"xaxis\": \"x\", \"y\": [11.053], \"yaxis\": \"y\"}, {\"customdata\": [[\"North America and ANZ\"]], \"hovertemplate\": \"Country name=United States<br>Logged GDP per capita=%{marker.size}<br>Regional indicator=%{customdata[0]}<extra></extra>\", \"legendgroup\": \"United States\", \"marker\": {\"color\": \"#FF6692\", \"size\": [11.023], \"sizemode\": \"area\", \"sizeref\": 0.0291175, \"symbol\": \"circle\"}, \"mode\": \"markers\", \"name\": \"United States\", \"orientation\": \"v\", \"showlegend\": true, \"type\": \"scatter\", \"x\": [11.023], \"xaxis\": \"x\", \"y\": [11.023], \"yaxis\": \"y\"}, {\"customdata\": [[\"East Asia\"]], \"hovertemplate\": \"Country name=Hong Kong S.A.R. of China<br>Logged GDP per capita=%{marker.size}<br>Regional indicator=%{customdata[0]}<extra></extra>\", \"legendgroup\": \"Hong Kong S.A.R. of China\", \"marker\": {\"color\": \"#B6E880\", \"size\": [11.0], \"sizemode\": \"area\", \"sizeref\": 0.0291175, \"symbol\": \"circle\"}, \"mode\": \"markers\", \"name\": \"Hong Kong S.A.R. of China\", \"orientation\": \"v\", \"showlegend\": true, \"type\": \"scatter\", \"x\": [11.0], \"xaxis\": \"x\", \"y\": [11.0], \"yaxis\": \"y\"}, {\"customdata\": [[\"Western Europe\"]], \"hovertemplate\": \"Country name=Denmark<br>Logged GDP per capita=%{marker.size}<br>Regional indicator=%{customdata[0]}<extra></extra>\", \"legendgroup\": \"Denmark\", \"marker\": {\"color\": \"#FF97FF\", \"size\": [10.933], \"sizemode\": \"area\", \"sizeref\": 0.0291175, \"symbol\": \"circle\"}, \"mode\": \"markers\", \"name\": \"Denmark\", \"orientation\": \"v\", \"showlegend\": true, \"type\": \"scatter\", \"x\": [10.933], \"xaxis\": \"x\", \"y\": [10.933], \"yaxis\": \"y\"}, {\"customdata\": [[\"Western Europe\"]], \"hovertemplate\": \"Country name=Netherlands<br>Logged GDP per capita=%{marker.size}<br>Regional indicator=%{customdata[0]}<extra></extra>\", \"legendgroup\": \"Netherlands\", \"marker\": {\"color\": \"#FECB52\", \"size\": [10.932], \"sizemode\": \"area\", \"sizeref\": 0.0291175, \"symbol\": \"circle\"}, \"mode\": \"markers\", \"name\": \"Netherlands\", \"orientation\": \"v\", \"showlegend\": true, \"type\": \"scatter\", \"x\": [10.932], \"xaxis\": \"x\", \"y\": [10.932], \"yaxis\": \"y\"}, {\"customdata\": [[\"Western Europe\"]], \"hovertemplate\": \"Country name=Austria<br>Logged GDP per capita=%{marker.size}<br>Regional indicator=%{customdata[0]}<extra></extra>\", \"legendgroup\": \"Austria\", \"marker\": {\"color\": \"#636efa\", \"size\": [10.906], \"sizemode\": \"area\", \"sizeref\": 0.0291175, \"symbol\": \"circle\"}, \"mode\": \"markers\", \"name\": \"Austria\", \"orientation\": \"v\", \"showlegend\": true, \"type\": \"scatter\", \"x\": [10.906], \"xaxis\": \"x\", \"y\": [10.906], \"yaxis\": \"y\"}, {\"customdata\": [[\"Western Europe\"]], \"hovertemplate\": \"Country name=Iceland<br>Logged GDP per capita=%{marker.size}<br>Regional indicator=%{customdata[0]}<extra></extra>\", \"legendgroup\": \"Iceland\", \"marker\": {\"color\": \"#EF553B\", \"size\": [10.878], \"sizemode\": \"area\", \"sizeref\": 0.0291175, \"symbol\": \"circle\"}, \"mode\": \"markers\", \"name\": \"Iceland\", \"orientation\": \"v\", \"showlegend\": true, \"type\": \"scatter\", \"x\": [10.878], \"xaxis\": \"x\", \"y\": [10.878], \"yaxis\": \"y\"}, {\"customdata\": [[\"Western Europe\"]], \"hovertemplate\": \"Country name=Germany<br>Logged GDP per capita=%{marker.size}<br>Regional indicator=%{customdata[0]}<extra></extra>\", \"legendgroup\": \"Germany\", \"marker\": {\"color\": \"#00cc96\", \"size\": [10.873], \"sizemode\": \"area\", \"sizeref\": 0.0291175, \"symbol\": \"circle\"}, \"mode\": \"markers\", \"name\": \"Germany\", \"orientation\": \"v\", \"showlegend\": true, \"type\": \"scatter\", \"x\": [10.873], \"xaxis\": \"x\", \"y\": [10.873], \"yaxis\": \"y\"}, {\"customdata\": [[\"East Asia\"]], \"hovertemplate\": \"Country name=Taiwan Province of China<br>Logged GDP per capita=%{marker.size}<br>Regional indicator=%{customdata[0]}<extra></extra>\", \"legendgroup\": \"Taiwan Province of China\", \"marker\": {\"color\": \"#ab63fa\", \"size\": [10.871], \"sizemode\": \"area\", \"sizeref\": 0.0291175, \"symbol\": \"circle\"}, \"mode\": \"markers\", \"name\": \"Taiwan Province of China\", \"orientation\": \"v\", \"showlegend\": true, \"type\": \"scatter\", \"x\": [10.871], \"xaxis\": \"x\", \"y\": [10.871], \"yaxis\": \"y\"}, {\"customdata\": [[\"Western Europe\"]], \"hovertemplate\": \"Country name=Sweden<br>Logged GDP per capita=%{marker.size}<br>Regional indicator=%{customdata[0]}<extra></extra>\", \"legendgroup\": \"Sweden\", \"marker\": {\"color\": \"#FFA15A\", \"size\": [10.867], \"sizemode\": \"area\", \"sizeref\": 0.0291175, \"symbol\": \"circle\"}, \"mode\": \"markers\", \"name\": \"Sweden\", \"orientation\": \"v\", \"showlegend\": true, \"type\": \"scatter\", \"x\": [10.867], \"xaxis\": \"x\", \"y\": [10.867], \"yaxis\": \"y\"}, {\"customdata\": [[\"Western Europe\"]], \"hovertemplate\": \"Country name=Belgium<br>Logged GDP per capita=%{marker.size}<br>Regional indicator=%{customdata[0]}<extra></extra>\", \"legendgroup\": \"Belgium\", \"marker\": {\"color\": \"#19d3f3\", \"size\": [10.823], \"sizemode\": \"area\", \"sizeref\": 0.0291175, \"symbol\": \"circle\"}, \"mode\": \"markers\", \"name\": \"Belgium\", \"orientation\": \"v\", \"showlegend\": true, \"type\": \"scatter\", \"x\": [10.823], \"xaxis\": \"x\", \"y\": [10.823], \"yaxis\": \"y\"}, {\"customdata\": [[\"Middle East and North Africa\"]], \"hovertemplate\": \"Country name=Kuwait<br>Logged GDP per capita=%{marker.size}<br>Regional indicator=%{customdata[0]}<extra></extra>\", \"legendgroup\": \"Kuwait\", \"marker\": {\"color\": \"#FF6692\", \"size\": [10.817], \"sizemode\": \"area\", \"sizeref\": 0.0291175, \"symbol\": \"circle\"}, \"mode\": \"markers\", \"name\": \"Kuwait\", \"orientation\": \"v\", \"showlegend\": true, \"type\": \"scatter\", \"x\": [10.817], \"xaxis\": \"x\", \"y\": [10.817], \"yaxis\": \"y\"}, {\"customdata\": [[\"North America and ANZ\"]], \"hovertemplate\": \"Country name=Australia<br>Logged GDP per capita=%{marker.size}<br>Regional indicator=%{customdata[0]}<extra></extra>\", \"legendgroup\": \"Australia\", \"marker\": {\"color\": \"#B6E880\", \"size\": [10.796], \"sizemode\": \"area\", \"sizeref\": 0.0291175, \"symbol\": \"circle\"}, \"mode\": \"markers\", \"name\": \"Australia\", \"orientation\": \"v\", \"showlegend\": true, \"type\": \"scatter\", \"x\": [10.796], \"xaxis\": \"x\", \"y\": [10.796], \"yaxis\": \"y\"}, {\"customdata\": [[\"North America and ANZ\"]], \"hovertemplate\": \"Country name=Canada<br>Logged GDP per capita=%{marker.size}<br>Regional indicator=%{customdata[0]}<extra></extra>\", \"legendgroup\": \"Canada\", \"marker\": {\"color\": \"#FF97FF\", \"size\": [10.776], \"sizemode\": \"area\", \"sizeref\": 0.0291175, \"symbol\": \"circle\"}, \"mode\": \"markers\", \"name\": \"Canada\", \"orientation\": \"v\", \"showlegend\": true, \"type\": \"scatter\", \"x\": [10.776], \"xaxis\": \"x\", \"y\": [10.776], \"yaxis\": \"y\"}, {\"customdata\": [[\"Western Europe\"]], \"hovertemplate\": \"Country name=Finland<br>Logged GDP per capita=%{marker.size}<br>Regional indicator=%{customdata[0]}<extra></extra>\", \"legendgroup\": \"Finland\", \"marker\": {\"color\": \"#FECB52\", \"size\": [10.775], \"sizemode\": \"area\", \"sizeref\": 0.0291175, \"symbol\": \"circle\"}, \"mode\": \"markers\", \"name\": \"Finland\", \"orientation\": \"v\", \"showlegend\": true, \"type\": \"scatter\", \"x\": [10.775], \"xaxis\": \"x\", \"y\": [10.775], \"yaxis\": \"y\"}, {\"customdata\": [[\"Middle East and North Africa\"]], \"hovertemplate\": \"Country name=Saudi Arabia<br>Logged GDP per capita=%{marker.size}<br>Regional indicator=%{customdata[0]}<extra></extra>\", \"legendgroup\": \"Saudi Arabia\", \"marker\": {\"color\": \"#636efa\", \"size\": [10.743], \"sizemode\": \"area\", \"sizeref\": 0.0291175, \"symbol\": \"circle\"}, \"mode\": \"markers\", \"name\": \"Saudi Arabia\", \"orientation\": \"v\", \"showlegend\": true, \"type\": \"scatter\", \"x\": [10.743], \"xaxis\": \"x\", \"y\": [10.743], \"yaxis\": \"y\"}, {\"customdata\": [[\"Western Europe\"]], \"hovertemplate\": \"Country name=United Kingdom<br>Logged GDP per capita=%{marker.size}<br>Regional indicator=%{customdata[0]}<extra></extra>\", \"legendgroup\": \"United Kingdom\", \"marker\": {\"color\": \"#EF553B\", \"size\": [10.707], \"sizemode\": \"area\", \"sizeref\": 0.0291175, \"symbol\": \"circle\"}, \"mode\": \"markers\", \"name\": \"United Kingdom\", \"orientation\": \"v\", \"showlegend\": true, \"type\": \"scatter\", \"x\": [10.707], \"xaxis\": \"x\", \"y\": [10.707], \"yaxis\": \"y\"}, {\"customdata\": [[\"Western Europe\"]], \"hovertemplate\": \"Country name=France<br>Logged GDP per capita=%{marker.size}<br>Regional indicator=%{customdata[0]}<extra></extra>\", \"legendgroup\": \"France\", \"marker\": {\"color\": \"#00cc96\", \"size\": [10.704], \"sizemode\": \"area\", \"sizeref\": 0.0291175, \"symbol\": \"circle\"}, \"mode\": \"markers\", \"name\": \"France\", \"orientation\": \"v\", \"showlegend\": true, \"type\": \"scatter\", \"x\": [10.704], \"xaxis\": \"x\", \"y\": [10.704], \"yaxis\": \"y\"}, {\"customdata\": [[\"Western Europe\"]], \"hovertemplate\": \"Country name=Malta<br>Logged GDP per capita=%{marker.size}<br>Regional indicator=%{customdata[0]}<extra></extra>\", \"legendgroup\": \"Malta\", \"marker\": {\"color\": \"#ab63fa\", \"size\": [10.674], \"sizemode\": \"area\", \"sizeref\": 0.0291175, \"symbol\": \"circle\"}, \"mode\": \"markers\", \"name\": \"Malta\", \"orientation\": \"v\", \"showlegend\": true, \"type\": \"scatter\", \"x\": [10.674], \"xaxis\": \"x\", \"y\": [10.674], \"yaxis\": \"y\"}, {\"customdata\": [[\"Middle East and North Africa\"]], \"hovertemplate\": \"Country name=Bahrain<br>Logged GDP per capita=%{marker.size}<br>Regional indicator=%{customdata[0]}<extra></extra>\", \"legendgroup\": \"Bahrain\", \"marker\": {\"color\": \"#FFA15A\", \"size\": [10.669], \"sizemode\": \"area\", \"sizeref\": 0.0291175, \"symbol\": \"circle\"}, \"mode\": \"markers\", \"name\": \"Bahrain\", \"orientation\": \"v\", \"showlegend\": true, \"type\": \"scatter\", \"x\": [10.669], \"xaxis\": \"x\", \"y\": [10.669], \"yaxis\": \"y\"}, {\"customdata\": [[\"East Asia\"]], \"hovertemplate\": \"Country name=South Korea<br>Logged GDP per capita=%{marker.size}<br>Regional indicator=%{customdata[0]}<extra></extra>\", \"legendgroup\": \"South Korea\", \"marker\": {\"color\": \"#19d3f3\", \"size\": [10.651], \"sizemode\": \"area\", \"sizeref\": 0.0291175, \"symbol\": \"circle\"}, \"mode\": \"markers\", \"name\": \"South Korea\", \"orientation\": \"v\", \"showlegend\": true, \"type\": \"scatter\", \"x\": [10.651], \"xaxis\": \"x\", \"y\": [10.651], \"yaxis\": \"y\"}, {\"customdata\": [[\"North America and ANZ\"]], \"hovertemplate\": \"Country name=New Zealand<br>Logged GDP per capita=%{marker.size}<br>Regional indicator=%{customdata[0]}<extra></extra>\", \"legendgroup\": \"New Zealand\", \"marker\": {\"color\": \"#FF6692\", \"size\": [10.643], \"sizemode\": \"area\", \"sizeref\": 0.0291175, \"symbol\": \"circle\"}, \"mode\": \"markers\", \"name\": \"New Zealand\", \"orientation\": \"v\", \"showlegend\": true, \"type\": \"scatter\", \"x\": [10.643], \"xaxis\": \"x\", \"y\": [10.643], \"yaxis\": \"y\"}, {\"customdata\": [[\"Western Europe\"]], \"hovertemplate\": \"Country name=Italy<br>Logged GDP per capita=%{marker.size}<br>Regional indicator=%{customdata[0]}<extra></extra>\", \"legendgroup\": \"Italy\", \"marker\": {\"color\": \"#B6E880\", \"size\": [10.623], \"sizemode\": \"area\", \"sizeref\": 0.0291175, \"symbol\": \"circle\"}, \"mode\": \"markers\", \"name\": \"Italy\", \"orientation\": \"v\", \"showlegend\": true, \"type\": \"scatter\", \"x\": [10.623], \"xaxis\": \"x\", \"y\": [10.623], \"yaxis\": \"y\"}, {\"customdata\": [[\"East Asia\"]], \"hovertemplate\": \"Country name=Japan<br>Logged GDP per capita=%{marker.size}<br>Regional indicator=%{customdata[0]}<extra></extra>\", \"legendgroup\": \"Japan\", \"marker\": {\"color\": \"#FF97FF\", \"size\": [10.611], \"sizemode\": \"area\", \"sizeref\": 0.0291175, \"symbol\": \"circle\"}, \"mode\": \"markers\", \"name\": \"Japan\", \"orientation\": \"v\", \"showlegend\": true, \"type\": \"scatter\", \"x\": [10.611], \"xaxis\": \"x\", \"y\": [10.611], \"yaxis\": \"y\"}, {\"customdata\": [[\"Western Europe\"]], \"hovertemplate\": \"Country name=North Cyprus<br>Logged GDP per capita=%{marker.size}<br>Regional indicator=%{customdata[0]}<extra></extra>\", \"legendgroup\": \"North Cyprus\", \"marker\": {\"color\": \"#FECB52\", \"size\": [10.576], \"sizemode\": \"area\", \"sizeref\": 0.0291175, \"symbol\": \"circle\"}, \"mode\": \"markers\", \"name\": \"North Cyprus\", \"orientation\": \"v\", \"showlegend\": true, \"type\": \"scatter\", \"x\": [10.576], \"xaxis\": \"x\", \"y\": [10.576], \"yaxis\": \"y\"}, {\"customdata\": [[\"Western Europe\"]], \"hovertemplate\": \"Country name=Cyprus<br>Logged GDP per capita=%{marker.size}<br>Regional indicator=%{customdata[0]}<extra></extra>\", \"legendgroup\": \"Cyprus\", \"marker\": {\"color\": \"#636efa\", \"size\": [10.576], \"sizemode\": \"area\", \"sizeref\": 0.0291175, \"symbol\": \"circle\"}, \"mode\": \"markers\", \"name\": \"Cyprus\", \"orientation\": \"v\", \"showlegend\": true, \"type\": \"scatter\", \"x\": [10.576], \"xaxis\": \"x\", \"y\": [10.576], \"yaxis\": \"y\"}, {\"customdata\": [[\"Middle East and North Africa\"]], \"hovertemplate\": \"Country name=Israel<br>Logged GDP per capita=%{marker.size}<br>Regional indicator=%{customdata[0]}<extra></extra>\", \"legendgroup\": \"Israel\", \"marker\": {\"color\": \"#EF553B\", \"size\": [10.575], \"sizemode\": \"area\", \"sizeref\": 0.0291175, \"symbol\": \"circle\"}, \"mode\": \"markers\", \"name\": \"Israel\", \"orientation\": \"v\", \"showlegend\": true, \"type\": \"scatter\", \"x\": [10.575], \"xaxis\": \"x\", \"y\": [10.575], \"yaxis\": \"y\"}, {\"customdata\": [[\"Western Europe\"]], \"hovertemplate\": \"Country name=Spain<br>Logged GDP per capita=%{marker.size}<br>Regional indicator=%{customdata[0]}<extra></extra>\", \"legendgroup\": \"Spain\", \"marker\": {\"color\": \"#00cc96\", \"size\": [10.571], \"sizemode\": \"area\", \"sizeref\": 0.0291175, \"symbol\": \"circle\"}, \"mode\": \"markers\", \"name\": \"Spain\", \"orientation\": \"v\", \"showlegend\": true, \"type\": \"scatter\", \"x\": [10.571], \"xaxis\": \"x\", \"y\": [10.571], \"yaxis\": \"y\"}, {\"customdata\": [[\"Central and Eastern Europe\"]], \"hovertemplate\": \"Country name=Czech Republic<br>Logged GDP per capita=%{marker.size}<br>Regional indicator=%{customdata[0]}<extra></extra>\", \"legendgroup\": \"Czech Republic\", \"marker\": {\"color\": \"#ab63fa\", \"size\": [10.556], \"sizemode\": \"area\", \"sizeref\": 0.0291175, \"symbol\": \"circle\"}, \"mode\": \"markers\", \"name\": \"Czech Republic\", \"orientation\": \"v\", \"showlegend\": true, \"type\": \"scatter\", \"x\": [10.556], \"xaxis\": \"x\", \"y\": [10.556], \"yaxis\": \"y\"}, {\"customdata\": [[\"Central and Eastern Europe\"]], \"hovertemplate\": \"Country name=Slovenia<br>Logged GDP per capita=%{marker.size}<br>Regional indicator=%{customdata[0]}<extra></extra>\", \"legendgroup\": \"Slovenia\", \"marker\": {\"color\": \"#FFA15A\", \"size\": [10.529], \"sizemode\": \"area\", \"sizeref\": 0.0291175, \"symbol\": \"circle\"}, \"mode\": \"markers\", \"name\": \"Slovenia\", \"orientation\": \"v\", \"showlegend\": true, \"type\": \"scatter\", \"x\": [10.529], \"xaxis\": \"x\", \"y\": [10.529], \"yaxis\": \"y\"}, {\"customdata\": [[\"Central and Eastern Europe\"]], \"hovertemplate\": \"Country name=Lithuania<br>Logged GDP per capita=%{marker.size}<br>Regional indicator=%{customdata[0]}<extra></extra>\", \"legendgroup\": \"Lithuania\", \"marker\": {\"color\": \"#19d3f3\", \"size\": [10.499], \"sizemode\": \"area\", \"sizeref\": 0.0291175, \"symbol\": \"circle\"}, \"mode\": \"markers\", \"name\": \"Lithuania\", \"orientation\": \"v\", \"showlegend\": true, \"type\": \"scatter\", \"x\": [10.499], \"xaxis\": \"x\", \"y\": [10.499], \"yaxis\": \"y\"}, {\"customdata\": [[\"Central and Eastern Europe\"]], \"hovertemplate\": \"Country name=Estonia<br>Logged GDP per capita=%{marker.size}<br>Regional indicator=%{customdata[0]}<extra></extra>\", \"legendgroup\": \"Estonia\", \"marker\": {\"color\": \"#FF6692\", \"size\": [10.481], \"sizemode\": \"area\", \"sizeref\": 0.0291175, \"symbol\": \"circle\"}, \"mode\": \"markers\", \"name\": \"Estonia\", \"orientation\": \"v\", \"showlegend\": true, \"type\": \"scatter\", \"x\": [10.481], \"xaxis\": \"x\", \"y\": [10.481], \"yaxis\": \"y\"}, {\"customdata\": [[\"Western Europe\"]], \"hovertemplate\": \"Country name=Portugal<br>Logged GDP per capita=%{marker.size}<br>Regional indicator=%{customdata[0]}<extra></extra>\", \"legendgroup\": \"Portugal\", \"marker\": {\"color\": \"#B6E880\", \"size\": [10.421], \"sizemode\": \"area\", \"sizeref\": 0.0291175, \"symbol\": \"circle\"}, \"mode\": \"markers\", \"name\": \"Portugal\", \"orientation\": \"v\", \"showlegend\": true, \"type\": \"scatter\", \"x\": [10.421], \"xaxis\": \"x\", \"y\": [10.421], \"yaxis\": \"y\"}, {\"customdata\": [[\"Central and Eastern Europe\"]], \"hovertemplate\": \"Country name=Poland<br>Logged GDP per capita=%{marker.size}<br>Regional indicator=%{customdata[0]}<extra></extra>\", \"legendgroup\": \"Poland\", \"marker\": {\"color\": \"#FF97FF\", \"size\": [10.382], \"sizemode\": \"area\", \"sizeref\": 0.0291175, \"symbol\": \"circle\"}, \"mode\": \"markers\", \"name\": \"Poland\", \"orientation\": \"v\", \"showlegend\": true, \"type\": \"scatter\", \"x\": [10.382], \"xaxis\": \"x\", \"y\": [10.382], \"yaxis\": \"y\"}, {\"customdata\": [[\"Central and Eastern Europe\"]], \"hovertemplate\": \"Country name=Slovakia<br>Logged GDP per capita=%{marker.size}<br>Regional indicator=%{customdata[0]}<extra></extra>\", \"legendgroup\": \"Slovakia\", \"marker\": {\"color\": \"#FECB52\", \"size\": [10.369], \"sizemode\": \"area\", \"sizeref\": 0.0291175, \"symbol\": \"circle\"}, \"mode\": \"markers\", \"name\": \"Slovakia\", \"orientation\": \"v\", \"showlegend\": true, \"type\": \"scatter\", \"x\": [10.369], \"xaxis\": \"x\", \"y\": [10.369], \"yaxis\": \"y\"}, {\"customdata\": [[\"Central and Eastern Europe\"]], \"hovertemplate\": \"Country name=Hungary<br>Logged GDP per capita=%{marker.size}<br>Regional indicator=%{customdata[0]}<extra></extra>\", \"legendgroup\": \"Hungary\", \"marker\": {\"color\": \"#636efa\", \"size\": [10.358], \"sizemode\": \"area\", \"sizeref\": 0.0291175, \"symbol\": \"circle\"}, \"mode\": \"markers\", \"name\": \"Hungary\", \"orientation\": \"v\", \"showlegend\": true, \"type\": \"scatter\", \"x\": [10.358], \"xaxis\": \"x\", \"y\": [10.358], \"yaxis\": \"y\"}, {\"customdata\": [[\"Latin America and Caribbean\"]], \"hovertemplate\": \"Country name=Panama<br>Logged GDP per capita=%{marker.size}<br>Regional indicator=%{customdata[0]}<extra></extra>\", \"legendgroup\": \"Panama\", \"marker\": {\"color\": \"#EF553B\", \"size\": [10.35], \"sizemode\": \"area\", \"sizeref\": 0.0291175, \"symbol\": \"circle\"}, \"mode\": \"markers\", \"name\": \"Panama\", \"orientation\": \"v\", \"showlegend\": true, \"type\": \"scatter\", \"x\": [10.35], \"xaxis\": \"x\", \"y\": [10.35], \"yaxis\": \"y\"}, {\"customdata\": [[\"Central and Eastern Europe\"]], \"hovertemplate\": \"Country name=Latvia<br>Logged GDP per capita=%{marker.size}<br>Regional indicator=%{customdata[0]}<extra></extra>\", \"legendgroup\": \"Latvia\", \"marker\": {\"color\": \"#00cc96\", \"size\": [10.315], \"sizemode\": \"area\", \"sizeref\": 0.0291175, \"symbol\": \"circle\"}, \"mode\": \"markers\", \"name\": \"Latvia\", \"orientation\": \"v\", \"showlegend\": true, \"type\": \"scatter\", \"x\": [10.315], \"xaxis\": \"x\", \"y\": [10.315], \"yaxis\": \"y\"}, {\"customdata\": [[\"Central and Eastern Europe\"]], \"hovertemplate\": \"Country name=Romania<br>Logged GDP per capita=%{marker.size}<br>Regional indicator=%{customdata[0]}<extra></extra>\", \"legendgroup\": \"Romania\", \"marker\": {\"color\": \"#ab63fa\", \"size\": [10.284], \"sizemode\": \"area\", \"sizeref\": 0.0291175, \"symbol\": \"circle\"}, \"mode\": \"markers\", \"name\": \"Romania\", \"orientation\": \"v\", \"showlegend\": true, \"type\": \"scatter\", \"x\": [10.284], \"xaxis\": \"x\", \"y\": [10.284], \"yaxis\": \"y\"}, {\"customdata\": [[\"Western Europe\"]], \"hovertemplate\": \"Country name=Greece<br>Logged GDP per capita=%{marker.size}<br>Regional indicator=%{customdata[0]}<extra></extra>\", \"legendgroup\": \"Greece\", \"marker\": {\"color\": \"#FFA15A\", \"size\": [10.279], \"sizemode\": \"area\", \"sizeref\": 0.0291175, \"symbol\": \"circle\"}, \"mode\": \"markers\", \"name\": \"Greece\", \"orientation\": \"v\", \"showlegend\": true, \"type\": \"scatter\", \"x\": [10.279], \"xaxis\": \"x\", \"y\": [10.279], \"yaxis\": \"y\"}, {\"customdata\": [[\"Middle East and North Africa\"]], \"hovertemplate\": \"Country name=Turkey<br>Logged GDP per capita=%{marker.size}<br>Regional indicator=%{customdata[0]}<extra></extra>\", \"legendgroup\": \"Turkey\", \"marker\": {\"color\": \"#19d3f3\", \"size\": [10.24], \"sizemode\": \"area\", \"sizeref\": 0.0291175, \"symbol\": \"circle\"}, \"mode\": \"markers\", \"name\": \"Turkey\", \"orientation\": \"v\", \"showlegend\": true, \"type\": \"scatter\", \"x\": [10.24], \"xaxis\": \"x\", \"y\": [10.24], \"yaxis\": \"y\"}, {\"customdata\": [[\"Southeast Asia\"]], \"hovertemplate\": \"Country name=Malaysia<br>Logged GDP per capita=%{marker.size}<br>Regional indicator=%{customdata[0]}<extra></extra>\", \"legendgroup\": \"Malaysia\", \"marker\": {\"color\": \"#FF6692\", \"size\": [10.238], \"sizemode\": \"area\", \"sizeref\": 0.0291175, \"symbol\": \"circle\"}, \"mode\": \"markers\", \"name\": \"Malaysia\", \"orientation\": \"v\", \"showlegend\": true, \"type\": \"scatter\", \"x\": [10.238], \"xaxis\": \"x\", \"y\": [10.238], \"yaxis\": \"y\"}, {\"customdata\": [[\"Central and Eastern Europe\"]], \"hovertemplate\": \"Country name=Croatia<br>Logged GDP per capita=%{marker.size}<br>Regional indicator=%{customdata[0]}<extra></extra>\", \"legendgroup\": \"Croatia\", \"marker\": {\"color\": \"#B6E880\", \"size\": [10.217], \"sizemode\": \"area\", \"sizeref\": 0.0291175, \"symbol\": \"circle\"}, \"mode\": \"markers\", \"name\": \"Croatia\", \"orientation\": \"v\", \"showlegend\": true, \"type\": \"scatter\", \"x\": [10.217], \"xaxis\": \"x\", \"y\": [10.217], \"yaxis\": \"y\"}, {\"customdata\": [[\"Commonwealth of Independent States\"]], \"hovertemplate\": \"Country name=Russia<br>Logged GDP per capita=%{marker.size}<br>Regional indicator=%{customdata[0]}<extra></extra>\", \"legendgroup\": \"Russia\", \"marker\": {\"color\": \"#FF97FF\", \"size\": [10.189], \"sizemode\": \"area\", \"sizeref\": 0.0291175, \"symbol\": \"circle\"}, \"mode\": \"markers\", \"name\": \"Russia\", \"orientation\": \"v\", \"showlegend\": true, \"type\": \"scatter\", \"x\": [10.189], \"xaxis\": \"x\", \"y\": [10.189], \"yaxis\": \"y\"}, {\"customdata\": [[\"Commonwealth of Independent States\"]], \"hovertemplate\": \"Country name=Kazakhstan<br>Logged GDP per capita=%{marker.size}<br>Regional indicator=%{customdata[0]}<extra></extra>\", \"legendgroup\": \"Kazakhstan\", \"marker\": {\"color\": \"#FECB52\", \"size\": [10.155], \"sizemode\": \"area\", \"sizeref\": 0.0291175, \"symbol\": \"circle\"}, \"mode\": \"markers\", \"name\": \"Kazakhstan\", \"orientation\": \"v\", \"showlegend\": true, \"type\": \"scatter\", \"x\": [10.155], \"xaxis\": \"x\", \"y\": [10.155], \"yaxis\": \"y\"}, {\"customdata\": [[\"Latin America and Caribbean\"]], \"hovertemplate\": \"Country name=Chile<br>Logged GDP per capita=%{marker.size}<br>Regional indicator=%{customdata[0]}<extra></extra>\", \"legendgroup\": \"Chile\", \"marker\": {\"color\": \"#636efa\", \"size\": [10.071], \"sizemode\": \"area\", \"sizeref\": 0.0291175, \"symbol\": \"circle\"}, \"mode\": \"markers\", \"name\": \"Chile\", \"orientation\": \"v\", \"showlegend\": true, \"type\": \"scatter\", \"x\": [10.071], \"xaxis\": \"x\", \"y\": [10.071], \"yaxis\": \"y\"}, {\"customdata\": [[\"Central and Eastern Europe\"]], \"hovertemplate\": \"Country name=Bulgaria<br>Logged GDP per capita=%{marker.size}<br>Regional indicator=%{customdata[0]}<extra></extra>\", \"legendgroup\": \"Bulgaria\", \"marker\": {\"color\": \"#EF553B\", \"size\": [10.016], \"sizemode\": \"area\", \"sizeref\": 0.0291175, \"symbol\": \"circle\"}, \"mode\": \"markers\", \"name\": \"Bulgaria\", \"orientation\": \"v\", \"showlegend\": true, \"type\": \"scatter\", \"x\": [10.016], \"xaxis\": \"x\", \"y\": [10.016], \"yaxis\": \"y\"}, {\"customdata\": [[\"Sub-Saharan Africa\"]], \"hovertemplate\": \"Country name=Mauritius<br>Logged GDP per capita=%{marker.size}<br>Regional indicator=%{customdata[0]}<extra></extra>\", \"legendgroup\": \"Mauritius\", \"marker\": {\"color\": \"#00cc96\", \"size\": [10.008], \"sizemode\": \"area\", \"sizeref\": 0.0291175, \"symbol\": \"circle\"}, \"mode\": \"markers\", \"name\": \"Mauritius\", \"orientation\": \"v\", \"showlegend\": true, \"type\": \"scatter\", \"x\": [10.008], \"xaxis\": \"x\", \"y\": [10.008], \"yaxis\": \"y\"}, {\"customdata\": [[\"Latin America and Caribbean\"]], \"hovertemplate\": \"Country name=Uruguay<br>Logged GDP per capita=%{marker.size}<br>Regional indicator=%{customdata[0]}<extra></extra>\", \"legendgroup\": \"Uruguay\", \"marker\": {\"color\": \"#ab63fa\", \"size\": [9.966], \"sizemode\": \"area\", \"sizeref\": 0.0291175, \"symbol\": \"circle\"}, \"mode\": \"markers\", \"name\": \"Uruguay\", \"orientation\": \"v\", \"showlegend\": true, \"type\": \"scatter\", \"x\": [9.966], \"xaxis\": \"x\", \"y\": [9.966], \"yaxis\": \"y\"}, {\"customdata\": [[\"Latin America and Caribbean\"]], \"hovertemplate\": \"Country name=Argentina<br>Logged GDP per capita=%{marker.size}<br>Regional indicator=%{customdata[0]}<extra></extra>\", \"legendgroup\": \"Argentina\", \"marker\": {\"color\": \"#FFA15A\", \"size\": [9.962], \"sizemode\": \"area\", \"sizeref\": 0.0291175, \"symbol\": \"circle\"}, \"mode\": \"markers\", \"name\": \"Argentina\", \"orientation\": \"v\", \"showlegend\": true, \"type\": \"scatter\", \"x\": [9.962], \"xaxis\": \"x\", \"y\": [9.962], \"yaxis\": \"y\"}, {\"customdata\": [[\"Central and Eastern Europe\"]], \"hovertemplate\": \"Country name=Montenegro<br>Logged GDP per capita=%{marker.size}<br>Regional indicator=%{customdata[0]}<extra></extra>\", \"legendgroup\": \"Montenegro\", \"marker\": {\"color\": \"#19d3f3\", \"size\": [9.94], \"sizemode\": \"area\", \"sizeref\": 0.0291175, \"symbol\": \"circle\"}, \"mode\": \"markers\", \"name\": \"Montenegro\", \"orientation\": \"v\", \"showlegend\": true, \"type\": \"scatter\", \"x\": [9.94], \"xaxis\": \"x\", \"y\": [9.94], \"yaxis\": \"y\"}, {\"customdata\": [[\"Latin America and Caribbean\"]], \"hovertemplate\": \"Country name=Costa Rica<br>Logged GDP per capita=%{marker.size}<br>Regional indicator=%{customdata[0]}<extra></extra>\", \"legendgroup\": \"Costa Rica\", \"marker\": {\"color\": \"#FF6692\", \"size\": [9.88], \"sizemode\": \"area\", \"sizeref\": 0.0291175, \"symbol\": \"circle\"}, \"mode\": \"markers\", \"name\": \"Costa Rica\", \"orientation\": \"v\", \"showlegend\": true, \"type\": \"scatter\", \"x\": [9.88], \"xaxis\": \"x\", \"y\": [9.88], \"yaxis\": \"y\"}, {\"customdata\": [[\"Latin America and Caribbean\"]], \"hovertemplate\": \"Country name=Mexico<br>Logged GDP per capita=%{marker.size}<br>Regional indicator=%{customdata[0]}<extra></extra>\", \"legendgroup\": \"Mexico\", \"marker\": {\"color\": \"#B6E880\", \"size\": [9.859], \"sizemode\": \"area\", \"sizeref\": 0.0291175, \"symbol\": \"circle\"}, \"mode\": \"markers\", \"name\": \"Mexico\", \"orientation\": \"v\", \"showlegend\": true, \"type\": \"scatter\", \"x\": [9.859], \"xaxis\": \"x\", \"y\": [9.859], \"yaxis\": \"y\"}, {\"customdata\": [[\"Commonwealth of Independent States\"]], \"hovertemplate\": \"Country name=Belarus<br>Logged GDP per capita=%{marker.size}<br>Regional indicator=%{customdata[0]}<extra></extra>\", \"legendgroup\": \"Belarus\", \"marker\": {\"color\": \"#FF97FF\", \"size\": [9.853], \"sizemode\": \"area\", \"sizeref\": 0.0291175, \"symbol\": \"circle\"}, \"mode\": \"markers\", \"name\": \"Belarus\", \"orientation\": \"v\", \"showlegend\": true, \"type\": \"scatter\", \"x\": [9.853], \"xaxis\": \"x\", \"y\": [9.853], \"yaxis\": \"y\"}, {\"customdata\": [[\"South Asia\"]], \"hovertemplate\": \"Country name=Maldives<br>Logged GDP per capita=%{marker.size}<br>Regional indicator=%{customdata[0]}<extra></extra>\", \"legendgroup\": \"Maldives\", \"marker\": {\"color\": \"#FECB52\", \"size\": [9.826], \"sizemode\": \"area\", \"sizeref\": 0.0291175, \"symbol\": \"circle\"}, \"mode\": \"markers\", \"name\": \"Maldives\", \"orientation\": \"v\", \"showlegend\": true, \"type\": \"scatter\", \"x\": [9.826], \"xaxis\": \"x\", \"y\": [9.826], \"yaxis\": \"y\"}, {\"customdata\": [[\"Southeast Asia\"]], \"hovertemplate\": \"Country name=Thailand<br>Logged GDP per capita=%{marker.size}<br>Regional indicator=%{customdata[0]}<extra></extra>\", \"legendgroup\": \"Thailand\", \"marker\": {\"color\": \"#636efa\", \"size\": [9.805], \"sizemode\": \"area\", \"sizeref\": 0.0291175, \"symbol\": \"circle\"}, \"mode\": \"markers\", \"name\": \"Thailand\", \"orientation\": \"v\", \"showlegend\": true, \"type\": \"scatter\", \"x\": [9.805], \"xaxis\": \"x\", \"y\": [9.805], \"yaxis\": \"y\"}, {\"customdata\": [[\"Latin America and Caribbean\"]], \"hovertemplate\": \"Country name=Dominican Republic<br>Logged GDP per capita=%{marker.size}<br>Regional indicator=%{customdata[0]}<extra></extra>\", \"legendgroup\": \"Dominican Republic\", \"marker\": {\"color\": \"#EF553B\", \"size\": [9.802], \"sizemode\": \"area\", \"sizeref\": 0.0291175, \"symbol\": \"circle\"}, \"mode\": \"markers\", \"name\": \"Dominican Republic\", \"orientation\": \"v\", \"showlegend\": true, \"type\": \"scatter\", \"x\": [9.802], \"xaxis\": \"x\", \"y\": [9.802], \"yaxis\": \"y\"}, {\"customdata\": [[\"Central and Eastern Europe\"]], \"hovertemplate\": \"Country name=Serbia<br>Logged GDP per capita=%{marker.size}<br>Regional indicator=%{customdata[0]}<extra></extra>\", \"legendgroup\": \"Serbia\", \"marker\": {\"color\": \"#00cc96\", \"size\": [9.787], \"sizemode\": \"area\", \"sizeref\": 0.0291175, \"symbol\": \"circle\"}, \"mode\": \"markers\", \"name\": \"Serbia\", \"orientation\": \"v\", \"showlegend\": true, \"type\": \"scatter\", \"x\": [9.787], \"xaxis\": \"x\", \"y\": [9.787], \"yaxis\": \"y\"}, {\"customdata\": [[\"Sub-Saharan Africa\"]], \"hovertemplate\": \"Country name=Botswana<br>Logged GDP per capita=%{marker.size}<br>Regional indicator=%{customdata[0]}<extra></extra>\", \"legendgroup\": \"Botswana\", \"marker\": {\"color\": \"#ab63fa\", \"size\": [9.782], \"sizemode\": \"area\", \"sizeref\": 0.0291175, \"symbol\": \"circle\"}, \"mode\": \"markers\", \"name\": \"Botswana\", \"orientation\": \"v\", \"showlegend\": true, \"type\": \"scatter\", \"x\": [9.782], \"xaxis\": \"x\", \"y\": [9.782], \"yaxis\": \"y\"}, {\"customdata\": [[\"Central and Eastern Europe\"]], \"hovertemplate\": \"Country name=North Macedonia<br>Logged GDP per capita=%{marker.size}<br>Regional indicator=%{customdata[0]}<extra></extra>\", \"legendgroup\": \"North Macedonia\", \"marker\": {\"color\": \"#FFA15A\", \"size\": [9.693], \"sizemode\": \"area\", \"sizeref\": 0.0291175, \"symbol\": \"circle\"}, \"mode\": \"markers\", \"name\": \"North Macedonia\", \"orientation\": \"v\", \"showlegend\": true, \"type\": \"scatter\", \"x\": [9.693], \"xaxis\": \"x\", \"y\": [9.693], \"yaxis\": \"y\"}, {\"customdata\": [[\"East Asia\"]], \"hovertemplate\": \"Country name=China<br>Logged GDP per capita=%{marker.size}<br>Regional indicator=%{customdata[0]}<extra></extra>\", \"legendgroup\": \"China\", \"marker\": {\"color\": \"#19d3f3\", \"size\": [9.673], \"sizemode\": \"area\", \"sizeref\": 0.0291175, \"symbol\": \"circle\"}, \"mode\": \"markers\", \"name\": \"China\", \"orientation\": \"v\", \"showlegend\": true, \"type\": \"scatter\", \"x\": [9.673], \"xaxis\": \"x\", \"y\": [9.673], \"yaxis\": \"y\"}, {\"customdata\": [[\"Commonwealth of Independent States\"]], \"hovertemplate\": \"Country name=Turkmenistan<br>Logged GDP per capita=%{marker.size}<br>Regional indicator=%{customdata[0]}<extra></extra>\", \"legendgroup\": \"Turkmenistan\", \"marker\": {\"color\": \"#FF6692\", \"size\": [9.629], \"sizemode\": \"area\", \"sizeref\": 0.0291175, \"symbol\": \"circle\"}, \"mode\": \"markers\", \"name\": \"Turkmenistan\", \"orientation\": \"v\", \"showlegend\": true, \"type\": \"scatter\", \"x\": [9.629], \"xaxis\": \"x\", \"y\": [9.629], \"yaxis\": \"y\"}, {\"customdata\": [[\"Middle East and North Africa\"]], \"hovertemplate\": \"Country name=Lebanon<br>Logged GDP per capita=%{marker.size}<br>Regional indicator=%{customdata[0]}<extra></extra>\", \"legendgroup\": \"Lebanon\", \"marker\": {\"color\": \"#B6E880\", \"size\": [9.626], \"sizemode\": \"area\", \"sizeref\": 0.0291175, \"symbol\": \"circle\"}, \"mode\": \"markers\", \"name\": \"Lebanon\", \"orientation\": \"v\", \"showlegend\": true, \"type\": \"scatter\", \"x\": [9.626], \"xaxis\": \"x\", \"y\": [9.626], \"yaxis\": \"y\"}, {\"customdata\": [[\"Middle East and North Africa\"]], \"hovertemplate\": \"Country name=Libya<br>Logged GDP per capita=%{marker.size}<br>Regional indicator=%{customdata[0]}<extra></extra>\", \"legendgroup\": \"Libya\", \"marker\": {\"color\": \"#FF97FF\", \"size\": [9.622], \"sizemode\": \"area\", \"sizeref\": 0.0291175, \"symbol\": \"circle\"}, \"mode\": \"markers\", \"name\": \"Libya\", \"orientation\": \"v\", \"showlegend\": true, \"type\": \"scatter\", \"x\": [9.622], \"xaxis\": \"x\", \"y\": [9.622], \"yaxis\": \"y\"}, {\"customdata\": [[\"Sub-Saharan Africa\"]], \"hovertemplate\": \"Country name=Gabon<br>Logged GDP per capita=%{marker.size}<br>Regional indicator=%{customdata[0]}<extra></extra>\", \"legendgroup\": \"Gabon\", \"marker\": {\"color\": \"#FECB52\", \"size\": [9.603], \"sizemode\": \"area\", \"sizeref\": 0.0291175, \"symbol\": \"circle\"}, \"mode\": \"markers\", \"name\": \"Gabon\", \"orientation\": \"v\", \"showlegend\": true, \"type\": \"scatter\", \"x\": [9.603], \"xaxis\": \"x\", \"y\": [9.603], \"yaxis\": \"y\"}, {\"customdata\": [[\"Central and Eastern Europe\"]], \"hovertemplate\": \"Country name=Bosnia and Herzegovina<br>Logged GDP per capita=%{marker.size}<br>Regional indicator=%{customdata[0]}<extra></extra>\", \"legendgroup\": \"Bosnia and Herzegovina\", \"marker\": {\"color\": \"#636efa\", \"size\": [9.59], \"sizemode\": \"area\", \"sizeref\": 0.0291175, \"symbol\": \"circle\"}, \"mode\": \"markers\", \"name\": \"Bosnia and Herzegovina\", \"orientation\": \"v\", \"showlegend\": true, \"type\": \"scatter\", \"x\": [9.59], \"xaxis\": \"x\", \"y\": [9.59], \"yaxis\": \"y\"}, {\"customdata\": [[\"Commonwealth of Independent States\"]], \"hovertemplate\": \"Country name=Georgia<br>Logged GDP per capita=%{marker.size}<br>Regional indicator=%{customdata[0]}<extra></extra>\", \"legendgroup\": \"Georgia\", \"marker\": {\"color\": \"#EF553B\", \"size\": [9.585], \"sizemode\": \"area\", \"sizeref\": 0.0291175, \"symbol\": \"circle\"}, \"mode\": \"markers\", \"name\": \"Georgia\", \"orientation\": \"v\", \"showlegend\": true, \"type\": \"scatter\", \"x\": [9.585], \"xaxis\": \"x\", \"y\": [9.585], \"yaxis\": \"y\"}, {\"customdata\": [[\"Middle East and North Africa\"]], \"hovertemplate\": \"Country name=Iran<br>Logged GDP per capita=%{marker.size}<br>Regional indicator=%{customdata[0]}<extra></extra>\", \"legendgroup\": \"Iran\", \"marker\": {\"color\": \"#00cc96\", \"size\": [9.584], \"sizemode\": \"area\", \"sizeref\": 0.0291175, \"symbol\": \"circle\"}, \"mode\": \"markers\", \"name\": \"Iran\", \"orientation\": \"v\", \"showlegend\": true, \"type\": \"scatter\", \"x\": [9.584], \"xaxis\": \"x\", \"y\": [9.584], \"yaxis\": \"y\"}, {\"customdata\": [[\"Latin America and Caribbean\"]], \"hovertemplate\": \"Country name=Brazil<br>Logged GDP per capita=%{marker.size}<br>Regional indicator=%{customdata[0]}<extra></extra>\", \"legendgroup\": \"Brazil\", \"marker\": {\"color\": \"#ab63fa\", \"size\": [9.577], \"sizemode\": \"area\", \"sizeref\": 0.0291175, \"symbol\": \"circle\"}, \"mode\": \"markers\", \"name\": \"Brazil\", \"orientation\": \"v\", \"showlegend\": true, \"type\": \"scatter\", \"x\": [9.577], \"xaxis\": \"x\", \"y\": [9.577], \"yaxis\": \"y\"}, {\"customdata\": [[\"Commonwealth of Independent States\"]], \"hovertemplate\": \"Country name=Azerbaijan<br>Logged GDP per capita=%{marker.size}<br>Regional indicator=%{customdata[0]}<extra></extra>\", \"legendgroup\": \"Azerbaijan\", \"marker\": {\"color\": \"#FFA15A\", \"size\": [9.569], \"sizemode\": \"area\", \"sizeref\": 0.0291175, \"symbol\": \"circle\"}, \"mode\": \"markers\", \"name\": \"Azerbaijan\", \"orientation\": \"v\", \"showlegend\": true, \"type\": \"scatter\", \"x\": [9.569], \"xaxis\": \"x\", \"y\": [9.569], \"yaxis\": \"y\"}, {\"customdata\": [[\"Latin America and Caribbean\"]], \"hovertemplate\": \"Country name=Colombia<br>Logged GDP per capita=%{marker.size}<br>Regional indicator=%{customdata[0]}<extra></extra>\", \"legendgroup\": \"Colombia\", \"marker\": {\"color\": \"#19d3f3\", \"size\": [9.557], \"sizemode\": \"area\", \"sizeref\": 0.0291175, \"symbol\": \"circle\"}, \"mode\": \"markers\", \"name\": \"Colombia\", \"orientation\": \"v\", \"showlegend\": true, \"type\": \"scatter\", \"x\": [9.557], \"xaxis\": \"x\", \"y\": [9.557], \"yaxis\": \"y\"}, {\"customdata\": [[\"Central and Eastern Europe\"]], \"hovertemplate\": \"Country name=Albania<br>Logged GDP per capita=%{marker.size}<br>Regional indicator=%{customdata[0]}<extra></extra>\", \"legendgroup\": \"Albania\", \"marker\": {\"color\": \"#FF6692\", \"size\": [9.52], \"sizemode\": \"area\", \"sizeref\": 0.0291175, \"symbol\": \"circle\"}, \"mode\": \"markers\", \"name\": \"Albania\", \"orientation\": \"v\", \"showlegend\": true, \"type\": \"scatter\", \"x\": [9.52], \"xaxis\": \"x\", \"y\": [9.52], \"yaxis\": \"y\"}, {\"customdata\": [[\"Commonwealth of Independent States\"]], \"hovertemplate\": \"Country name=Armenia<br>Logged GDP per capita=%{marker.size}<br>Regional indicator=%{customdata[0]}<extra></extra>\", \"legendgroup\": \"Armenia\", \"marker\": {\"color\": \"#B6E880\", \"size\": [9.487], \"sizemode\": \"area\", \"sizeref\": 0.0291175, \"symbol\": \"circle\"}, \"mode\": \"markers\", \"name\": \"Armenia\", \"orientation\": \"v\", \"showlegend\": true, \"type\": \"scatter\", \"x\": [9.487], \"xaxis\": \"x\", \"y\": [9.487], \"yaxis\": \"y\"}, {\"customdata\": [[\"South Asia\"]], \"hovertemplate\": \"Country name=Sri Lanka<br>Logged GDP per capita=%{marker.size}<br>Regional indicator=%{customdata[0]}<extra></extra>\", \"legendgroup\": \"Sri Lanka\", \"marker\": {\"color\": \"#FF97FF\", \"size\": [9.47], \"sizemode\": \"area\", \"sizeref\": 0.0291175, \"symbol\": \"circle\"}, \"mode\": \"markers\", \"name\": \"Sri Lanka\", \"orientation\": \"v\", \"showlegend\": true, \"type\": \"scatter\", \"x\": [9.47], \"xaxis\": \"x\", \"y\": [9.47], \"yaxis\": \"y\"}, {\"customdata\": [[\"Latin America and Caribbean\"]], \"hovertemplate\": \"Country name=Peru<br>Logged GDP per capita=%{marker.size}<br>Regional indicator=%{customdata[0]}<extra></extra>\", \"legendgroup\": \"Peru\", \"marker\": {\"color\": \"#FECB52\", \"size\": [9.458], \"sizemode\": \"area\", \"sizeref\": 0.0291175, \"symbol\": \"circle\"}, \"mode\": \"markers\", \"name\": \"Peru\", \"orientation\": \"v\", \"showlegend\": true, \"type\": \"scatter\", \"x\": [9.458], \"xaxis\": \"x\", \"y\": [9.458], \"yaxis\": \"y\"}, {\"customdata\": [[\"Commonwealth of Independent States\"]], \"hovertemplate\": \"Country name=Moldova<br>Logged GDP per capita=%{marker.size}<br>Regional indicator=%{customdata[0]}<extra></extra>\", \"legendgroup\": \"Moldova\", \"marker\": {\"color\": \"#636efa\", \"size\": [9.454], \"sizemode\": \"area\", \"sizeref\": 0.0291175, \"symbol\": \"circle\"}, \"mode\": \"markers\", \"name\": \"Moldova\", \"orientation\": \"v\", \"showlegend\": true, \"type\": \"scatter\", \"x\": [9.454], \"xaxis\": \"x\", \"y\": [9.454], \"yaxis\": \"y\"}, {\"customdata\": [[\"Latin America and Caribbean\"]], \"hovertemplate\": \"Country name=Paraguay<br>Logged GDP per capita=%{marker.size}<br>Regional indicator=%{customdata[0]}<extra></extra>\", \"legendgroup\": \"Paraguay\", \"marker\": {\"color\": \"#EF553B\", \"size\": [9.448], \"sizemode\": \"area\", \"sizeref\": 0.0291175, \"symbol\": \"circle\"}, \"mode\": \"markers\", \"name\": \"Paraguay\", \"orientation\": \"v\", \"showlegend\": true, \"type\": \"scatter\", \"x\": [9.448], \"xaxis\": \"x\", \"y\": [9.448], \"yaxis\": \"y\"}, {\"customdata\": [[\"Commonwealth of Independent States\"]], \"hovertemplate\": \"Country name=Ukraine<br>Logged GDP per capita=%{marker.size}<br>Regional indicator=%{customdata[0]}<extra></extra>\", \"legendgroup\": \"Ukraine\", \"marker\": {\"color\": \"#00cc96\", \"size\": [9.436], \"sizemode\": \"area\", \"sizeref\": 0.0291175, \"symbol\": \"circle\"}, \"mode\": \"markers\", \"name\": \"Ukraine\", \"orientation\": \"v\", \"showlegend\": true, \"type\": \"scatter\", \"x\": [9.436], \"xaxis\": \"x\", \"y\": [9.436], \"yaxis\": \"y\"}, {\"customdata\": [[\"Sub-Saharan Africa\"]], \"hovertemplate\": \"Country name=South Africa<br>Logged GDP per capita=%{marker.size}<br>Regional indicator=%{customdata[0]}<extra></extra>\", \"legendgroup\": \"South Africa\", \"marker\": {\"color\": \"#ab63fa\", \"size\": [9.403], \"sizemode\": \"area\", \"sizeref\": 0.0291175, \"symbol\": \"circle\"}, \"mode\": \"markers\", \"name\": \"South Africa\", \"orientation\": \"v\", \"showlegend\": true, \"type\": \"scatter\", \"x\": [9.403], \"xaxis\": \"x\", \"y\": [9.403], \"yaxis\": \"y\"}, {\"customdata\": [[\"East Asia\"]], \"hovertemplate\": \"Country name=Mongolia<br>Logged GDP per capita=%{marker.size}<br>Regional indicator=%{customdata[0]}<extra></extra>\", \"legendgroup\": \"Mongolia\", \"marker\": {\"color\": \"#FFA15A\", \"size\": [9.4], \"sizemode\": \"area\", \"sizeref\": 0.0291175, \"symbol\": \"circle\"}, \"mode\": \"markers\", \"name\": \"Mongolia\", \"orientation\": \"v\", \"showlegend\": true, \"type\": \"scatter\", \"x\": [9.4], \"xaxis\": \"x\", \"y\": [9.4], \"yaxis\": \"y\"}, {\"customdata\": [[\"Middle East and North Africa\"]], \"hovertemplate\": \"Country name=Egypt<br>Logged GDP per capita=%{marker.size}<br>Regional indicator=%{customdata[0]}<extra></extra>\", \"legendgroup\": \"Egypt\", \"marker\": {\"color\": \"#19d3f3\", \"size\": [9.367], \"sizemode\": \"area\", \"sizeref\": 0.0291175, \"symbol\": \"circle\"}, \"mode\": \"markers\", \"name\": \"Egypt\", \"orientation\": \"v\", \"showlegend\": true, \"type\": \"scatter\", \"x\": [9.367], \"xaxis\": \"x\", \"y\": [9.367], \"yaxis\": \"y\"}, {\"customdata\": [[\"Southeast Asia\"]], \"hovertemplate\": \"Country name=Indonesia<br>Logged GDP per capita=%{marker.size}<br>Regional indicator=%{customdata[0]}<extra></extra>\", \"legendgroup\": \"Indonesia\", \"marker\": {\"color\": \"#FF6692\", \"size\": [9.365], \"sizemode\": \"area\", \"sizeref\": 0.0291175, \"symbol\": \"circle\"}, \"mode\": \"markers\", \"name\": \"Indonesia\", \"orientation\": \"v\", \"showlegend\": true, \"type\": \"scatter\", \"x\": [9.365], \"xaxis\": \"x\", \"y\": [9.365], \"yaxis\": \"y\"}, {\"customdata\": [[\"Middle East and North Africa\"]], \"hovertemplate\": \"Country name=Algeria<br>Logged GDP per capita=%{marker.size}<br>Regional indicator=%{customdata[0]}<extra></extra>\", \"legendgroup\": \"Algeria\", \"marker\": {\"color\": \"#B6E880\", \"size\": [9.342], \"sizemode\": \"area\", \"sizeref\": 0.0291175, \"symbol\": \"circle\"}, \"mode\": \"markers\", \"name\": \"Algeria\", \"orientation\": \"v\", \"showlegend\": true, \"type\": \"scatter\", \"x\": [9.342], \"xaxis\": \"x\", \"y\": [9.342], \"yaxis\": \"y\"}, {\"customdata\": [[\"Central and Eastern Europe\"]], \"hovertemplate\": \"Country name=Kosovo<br>Logged GDP per capita=%{marker.size}<br>Regional indicator=%{customdata[0]}<extra></extra>\", \"legendgroup\": \"Kosovo\", \"marker\": {\"color\": \"#FF97FF\", \"size\": [9.318], \"sizemode\": \"area\", \"sizeref\": 0.0291175, \"symbol\": \"circle\"}, \"mode\": \"markers\", \"name\": \"Kosovo\", \"orientation\": \"v\", \"showlegend\": true, \"type\": \"scatter\", \"x\": [9.318], \"xaxis\": \"x\", \"y\": [9.318], \"yaxis\": \"y\"}, {\"customdata\": [[\"Latin America and Caribbean\"]], \"hovertemplate\": \"Country name=Ecuador<br>Logged GDP per capita=%{marker.size}<br>Regional indicator=%{customdata[0]}<extra></extra>\", \"legendgroup\": \"Ecuador\", \"marker\": {\"color\": \"#FECB52\", \"size\": [9.313], \"sizemode\": \"area\", \"sizeref\": 0.0291175, \"symbol\": \"circle\"}, \"mode\": \"markers\", \"name\": \"Ecuador\", \"orientation\": \"v\", \"showlegend\": true, \"type\": \"scatter\", \"x\": [9.313], \"xaxis\": \"x\", \"y\": [9.313], \"yaxis\": \"y\"}, {\"customdata\": [[\"Middle East and North Africa\"]], \"hovertemplate\": \"Country name=Tunisia<br>Logged GDP per capita=%{marker.size}<br>Regional indicator=%{customdata[0]}<extra></extra>\", \"legendgroup\": \"Tunisia\", \"marker\": {\"color\": \"#636efa\", \"size\": [9.266], \"sizemode\": \"area\", \"sizeref\": 0.0291175, \"symbol\": \"circle\"}, \"mode\": \"markers\", \"name\": \"Tunisia\", \"orientation\": \"v\", \"showlegend\": true, \"type\": \"scatter\", \"x\": [9.266], \"xaxis\": \"x\", \"y\": [9.266], \"yaxis\": \"y\"}, {\"customdata\": [[\"Middle East and North Africa\"]], \"hovertemplate\": \"Country name=Iraq<br>Logged GDP per capita=%{marker.size}<br>Regional indicator=%{customdata[0]}<extra></extra>\", \"legendgroup\": \"Iraq\", \"marker\": {\"color\": \"#EF553B\", \"size\": [9.24], \"sizemode\": \"area\", \"sizeref\": 0.0291175, \"symbol\": \"circle\"}, \"mode\": \"markers\", \"name\": \"Iraq\", \"orientation\": \"v\", \"showlegend\": true, \"type\": \"scatter\", \"x\": [9.24], \"xaxis\": \"x\", \"y\": [9.24], \"yaxis\": \"y\"}, {\"customdata\": [[\"Latin America and Caribbean\"]], \"hovertemplate\": \"Country name=Jamaica<br>Logged GDP per capita=%{marker.size}<br>Regional indicator=%{customdata[0]}<extra></extra>\", \"legendgroup\": \"Jamaica\", \"marker\": {\"color\": \"#00cc96\", \"size\": [9.186], \"sizemode\": \"area\", \"sizeref\": 0.0291175, \"symbol\": \"circle\"}, \"mode\": \"markers\", \"name\": \"Jamaica\", \"orientation\": \"v\", \"showlegend\": true, \"type\": \"scatter\", \"x\": [9.186], \"xaxis\": \"x\", \"y\": [9.186], \"yaxis\": \"y\"}, {\"customdata\": [[\"Middle East and North Africa\"]], \"hovertemplate\": \"Country name=Jordan<br>Logged GDP per capita=%{marker.size}<br>Regional indicator=%{customdata[0]}<extra></extra>\", \"legendgroup\": \"Jordan\", \"marker\": {\"color\": \"#ab63fa\", \"size\": [9.182], \"sizemode\": \"area\", \"sizeref\": 0.0291175, \"symbol\": \"circle\"}, \"mode\": \"markers\", \"name\": \"Jordan\", \"orientation\": \"v\", \"showlegend\": true, \"type\": \"scatter\", \"x\": [9.182], \"xaxis\": \"x\", \"y\": [9.182], \"yaxis\": \"y\"}, {\"customdata\": [[\"Sub-Saharan Africa\"]], \"hovertemplate\": \"Country name=Namibia<br>Logged GDP per capita=%{marker.size}<br>Regional indicator=%{customdata[0]}<extra></extra>\", \"legendgroup\": \"Namibia\", \"marker\": {\"color\": \"#FFA15A\", \"size\": [9.161], \"sizemode\": \"area\", \"sizeref\": 0.0291175, \"symbol\": \"circle\"}, \"mode\": \"markers\", \"name\": \"Namibia\", \"orientation\": \"v\", \"showlegend\": true, \"type\": \"scatter\", \"x\": [9.161], \"xaxis\": \"x\", \"y\": [9.161], \"yaxis\": \"y\"}, {\"customdata\": [[\"Southeast Asia\"]], \"hovertemplate\": \"Country name=Philippines<br>Logged GDP per capita=%{marker.size}<br>Regional indicator=%{customdata[0]}<extra></extra>\", \"legendgroup\": \"Philippines\", \"marker\": {\"color\": \"#19d3f3\", \"size\": [9.076], \"sizemode\": \"area\", \"sizeref\": 0.0291175, \"symbol\": \"circle\"}, \"mode\": \"markers\", \"name\": \"Philippines\", \"orientation\": \"v\", \"showlegend\": true, \"type\": \"scatter\", \"x\": [9.076], \"xaxis\": \"x\", \"y\": [9.076], \"yaxis\": \"y\"}, {\"customdata\": [[\"Latin America and Caribbean\"]], \"hovertemplate\": \"Country name=Venezuela<br>Logged GDP per capita=%{marker.size}<br>Regional indicator=%{customdata[0]}<extra></extra>\", \"legendgroup\": \"Venezuela\", \"marker\": {\"color\": \"#FF6692\", \"size\": [9.073], \"sizemode\": \"area\", \"sizeref\": 0.0291175, \"symbol\": \"circle\"}, \"mode\": \"markers\", \"name\": \"Venezuela\", \"orientation\": \"v\", \"showlegend\": true, \"type\": \"scatter\", \"x\": [9.073], \"xaxis\": \"x\", \"y\": [9.073], \"yaxis\": \"y\"}, {\"customdata\": [[\"Sub-Saharan Africa\"]], \"hovertemplate\": \"Country name=Swaziland<br>Logged GDP per capita=%{marker.size}<br>Regional indicator=%{customdata[0]}<extra></extra>\", \"legendgroup\": \"Swaziland\", \"marker\": {\"color\": \"#B6E880\", \"size\": [9.065], \"sizemode\": \"area\", \"sizeref\": 0.0291175, \"symbol\": \"circle\"}, \"mode\": \"markers\", \"name\": \"Swaziland\", \"orientation\": \"v\", \"showlegend\": true, \"type\": \"scatter\", \"x\": [9.065], \"xaxis\": \"x\", \"y\": [9.065], \"yaxis\": \"y\"}, {\"customdata\": [[\"Latin America and Caribbean\"]], \"hovertemplate\": \"Country name=El Salvador<br>Logged GDP per capita=%{marker.size}<br>Regional indicator=%{customdata[0]}<extra></extra>\", \"legendgroup\": \"El Salvador\", \"marker\": {\"color\": \"#FF97FF\", \"size\": [9.054], \"sizemode\": \"area\", \"sizeref\": 0.0291175, \"symbol\": \"circle\"}, \"mode\": \"markers\", \"name\": \"El Salvador\", \"orientation\": \"v\", \"showlegend\": true, \"type\": \"scatter\", \"x\": [9.054], \"xaxis\": \"x\", \"y\": [9.054], \"yaxis\": \"y\"}, {\"customdata\": [[\"Latin America and Caribbean\"]], \"hovertemplate\": \"Country name=Guatemala<br>Logged GDP per capita=%{marker.size}<br>Regional indicator=%{customdata[0]}<extra></extra>\", \"legendgroup\": \"Guatemala\", \"marker\": {\"color\": \"#FECB52\", \"size\": [9.053], \"sizemode\": \"area\", \"sizeref\": 0.0291175, \"symbol\": \"circle\"}, \"mode\": \"markers\", \"name\": \"Guatemala\", \"orientation\": \"v\", \"showlegend\": true, \"type\": \"scatter\", \"x\": [9.053], \"xaxis\": \"x\", \"y\": [9.053], \"yaxis\": \"y\"}, {\"customdata\": [[\"Latin America and Caribbean\"]], \"hovertemplate\": \"Country name=Bolivia<br>Logged GDP per capita=%{marker.size}<br>Regional indicator=%{customdata[0]}<extra></extra>\", \"legendgroup\": \"Bolivia\", \"marker\": {\"color\": \"#636efa\", \"size\": [9.046], \"sizemode\": \"area\", \"sizeref\": 0.0291175, \"symbol\": \"circle\"}, \"mode\": \"markers\", \"name\": \"Bolivia\", \"orientation\": \"v\", \"showlegend\": true, \"type\": \"scatter\", \"x\": [9.046], \"xaxis\": \"x\", \"y\": [9.046], \"yaxis\": \"y\"}, {\"customdata\": [[\"Southeast Asia\"]], \"hovertemplate\": \"Country name=Vietnam<br>Logged GDP per capita=%{marker.size}<br>Regional indicator=%{customdata[0]}<extra></extra>\", \"legendgroup\": \"Vietnam\", \"marker\": {\"color\": \"#EF553B\", \"size\": [8.973], \"sizemode\": \"area\", \"sizeref\": 0.0291175, \"symbol\": \"circle\"}, \"mode\": \"markers\", \"name\": \"Vietnam\", \"orientation\": \"v\", \"showlegend\": true, \"type\": \"scatter\", \"x\": [8.973], \"xaxis\": \"x\", \"y\": [8.973], \"yaxis\": \"y\"}, {\"customdata\": [[\"Southeast Asia\"]], \"hovertemplate\": \"Country name=Laos<br>Logged GDP per capita=%{marker.size}<br>Regional indicator=%{customdata[0]}<extra></extra>\", \"legendgroup\": \"Laos\", \"marker\": {\"color\": \"#00cc96\", \"size\": [8.947], \"sizemode\": \"area\", \"sizeref\": 0.0291175, \"symbol\": \"circle\"}, \"mode\": \"markers\", \"name\": \"Laos\", \"orientation\": \"v\", \"showlegend\": true, \"type\": \"scatter\", \"x\": [8.947], \"xaxis\": \"x\", \"y\": [8.947], \"yaxis\": \"y\"}, {\"customdata\": [[\"Middle East and North Africa\"]], \"hovertemplate\": \"Country name=Morocco<br>Logged GDP per capita=%{marker.size}<br>Regional indicator=%{customdata[0]}<extra></extra>\", \"legendgroup\": \"Morocco\", \"marker\": {\"color\": \"#ab63fa\", \"size\": [8.903], \"sizemode\": \"area\", \"sizeref\": 0.0291175, \"symbol\": \"circle\"}, \"mode\": \"markers\", \"name\": \"Morocco\", \"orientation\": \"v\", \"showlegend\": true, \"type\": \"scatter\", \"x\": [8.903], \"xaxis\": \"x\", \"y\": [8.903], \"yaxis\": \"y\"}, {\"customdata\": [[\"Commonwealth of Independent States\"]], \"hovertemplate\": \"Country name=Uzbekistan<br>Logged GDP per capita=%{marker.size}<br>Regional indicator=%{customdata[0]}<extra></extra>\", \"legendgroup\": \"Uzbekistan\", \"marker\": {\"color\": \"#FFA15A\", \"size\": [8.836], \"sizemode\": \"area\", \"sizeref\": 0.0291175, \"symbol\": \"circle\"}, \"mode\": \"markers\", \"name\": \"Uzbekistan\", \"orientation\": \"v\", \"showlegend\": true, \"type\": \"scatter\", \"x\": [8.836], \"xaxis\": \"x\", \"y\": [8.836], \"yaxis\": \"y\"}, {\"customdata\": [[\"South Asia\"]], \"hovertemplate\": \"Country name=India<br>Logged GDP per capita=%{marker.size}<br>Regional indicator=%{customdata[0]}<extra></extra>\", \"legendgroup\": \"India\", \"marker\": {\"color\": \"#19d3f3\", \"size\": [8.755], \"sizemode\": \"area\", \"sizeref\": 0.0291175, \"symbol\": \"circle\"}, \"mode\": \"markers\", \"name\": \"India\", \"orientation\": \"v\", \"showlegend\": true, \"type\": \"scatter\", \"x\": [8.755], \"xaxis\": \"x\", \"y\": [8.755], \"yaxis\": \"y\"}, {\"customdata\": [[\"Latin America and Caribbean\"]], \"hovertemplate\": \"Country name=Honduras<br>Logged GDP per capita=%{marker.size}<br>Regional indicator=%{customdata[0]}<extra></extra>\", \"legendgroup\": \"Honduras\", \"marker\": {\"color\": \"#FF6692\", \"size\": [8.648], \"sizemode\": \"area\", \"sizeref\": 0.0291175, \"symbol\": \"circle\"}, \"mode\": \"markers\", \"name\": \"Honduras\", \"orientation\": \"v\", \"showlegend\": true, \"type\": \"scatter\", \"x\": [8.648], \"xaxis\": \"x\", \"y\": [8.648], \"yaxis\": \"y\"}, {\"customdata\": [[\"Latin America and Caribbean\"]], \"hovertemplate\": \"Country name=Nicaragua<br>Logged GDP per capita=%{marker.size}<br>Regional indicator=%{customdata[0]}<extra></extra>\", \"legendgroup\": \"Nicaragua\", \"marker\": {\"color\": \"#B6E880\", \"size\": [8.62], \"sizemode\": \"area\", \"sizeref\": 0.0291175, \"symbol\": \"circle\"}, \"mode\": \"markers\", \"name\": \"Nicaragua\", \"orientation\": \"v\", \"showlegend\": true, \"type\": \"scatter\", \"x\": [8.62], \"xaxis\": \"x\", \"y\": [8.62], \"yaxis\": \"y\"}, {\"customdata\": [[\"Sub-Saharan Africa\"]], \"hovertemplate\": \"Country name=Ghana<br>Logged GDP per capita=%{marker.size}<br>Regional indicator=%{customdata[0]}<extra></extra>\", \"legendgroup\": \"Ghana\", \"marker\": {\"color\": \"#FF97FF\", \"size\": [8.58], \"sizemode\": \"area\", \"sizeref\": 0.0291175, \"symbol\": \"circle\"}, \"mode\": \"markers\", \"name\": \"Ghana\", \"orientation\": \"v\", \"showlegend\": true, \"type\": \"scatter\", \"x\": [8.58], \"xaxis\": \"x\", \"y\": [8.58], \"yaxis\": \"y\"}, {\"customdata\": [[\"Sub-Saharan Africa\"]], \"hovertemplate\": \"Country name=Ivory Coast<br>Logged GDP per capita=%{marker.size}<br>Regional indicator=%{customdata[0]}<extra></extra>\", \"legendgroup\": \"Ivory Coast\", \"marker\": {\"color\": \"#FECB52\", \"size\": [8.551], \"sizemode\": \"area\", \"sizeref\": 0.0291175, \"symbol\": \"circle\"}, \"mode\": \"markers\", \"name\": \"Ivory Coast\", \"orientation\": \"v\", \"showlegend\": true, \"type\": \"scatter\", \"x\": [8.551], \"xaxis\": \"x\", \"y\": [8.551], \"yaxis\": \"y\"}, {\"customdata\": [[\"Sub-Saharan Africa\"]], \"hovertemplate\": \"Country name=Mauritania<br>Logged GDP per capita=%{marker.size}<br>Regional indicator=%{customdata[0]}<extra></extra>\", \"legendgroup\": \"Mauritania\", \"marker\": {\"color\": \"#636efa\", \"size\": [8.542], \"sizemode\": \"area\", \"sizeref\": 0.0291175, \"symbol\": \"circle\"}, \"mode\": \"markers\", \"name\": \"Mauritania\", \"orientation\": \"v\", \"showlegend\": true, \"type\": \"scatter\", \"x\": [8.542], \"xaxis\": \"x\", \"y\": [8.542], \"yaxis\": \"y\"}, {\"customdata\": [[\"Southeast Asia\"]], \"hovertemplate\": \"Country name=Myanmar<br>Logged GDP per capita=%{marker.size}<br>Regional indicator=%{customdata[0]}<extra></extra>\", \"legendgroup\": \"Myanmar\", \"marker\": {\"color\": \"#EF553B\", \"size\": [8.541], \"sizemode\": \"area\", \"sizeref\": 0.0291175, \"symbol\": \"circle\"}, \"mode\": \"markers\", \"name\": \"Myanmar\", \"orientation\": \"v\", \"showlegend\": true, \"type\": \"scatter\", \"x\": [8.541], \"xaxis\": \"x\", \"y\": [8.541], \"yaxis\": \"y\"}, {\"customdata\": [[\"Commonwealth of Independent States\"]], \"hovertemplate\": \"Country name=Kyrgyzstan<br>Logged GDP per capita=%{marker.size}<br>Regional indicator=%{customdata[0]}<extra></extra>\", \"legendgroup\": \"Kyrgyzstan\", \"marker\": {\"color\": \"#00cc96\", \"size\": [8.538], \"sizemode\": \"area\", \"sizeref\": 0.0291175, \"symbol\": \"circle\"}, \"mode\": \"markers\", \"name\": \"Kyrgyzstan\", \"orientation\": \"v\", \"showlegend\": true, \"type\": \"scatter\", \"x\": [8.538], \"xaxis\": \"x\", \"y\": [8.538], \"yaxis\": \"y\"}, {\"customdata\": [[\"Sub-Saharan Africa\"]], \"hovertemplate\": \"Country name=Nigeria<br>Logged GDP per capita=%{marker.size}<br>Regional indicator=%{customdata[0]}<extra></extra>\", \"legendgroup\": \"Nigeria\", \"marker\": {\"color\": \"#ab63fa\", \"size\": [8.533], \"sizemode\": \"area\", \"sizeref\": 0.0291175, \"symbol\": \"circle\"}, \"mode\": \"markers\", \"name\": \"Nigeria\", \"orientation\": \"v\", \"showlegend\": true, \"type\": \"scatter\", \"x\": [8.533], \"xaxis\": \"x\", \"y\": [8.533], \"yaxis\": \"y\"}, {\"customdata\": [[\"Middle East and North Africa\"]], \"hovertemplate\": \"Country name=Palestinian Territories<br>Logged GDP per capita=%{marker.size}<br>Regional indicator=%{customdata[0]}<extra></extra>\", \"legendgroup\": \"Palestinian Territories\", \"marker\": {\"color\": \"#FFA15A\", \"size\": [8.485], \"sizemode\": \"area\", \"sizeref\": 0.0291175, \"symbol\": \"circle\"}, \"mode\": \"markers\", \"name\": \"Palestinian Territories\", \"orientation\": \"v\", \"showlegend\": true, \"type\": \"scatter\", \"x\": [8.485], \"xaxis\": \"x\", \"y\": [8.485], \"yaxis\": \"y\"}, {\"customdata\": [[\"South Asia\"]], \"hovertemplate\": \"Country name=Pakistan<br>Logged GDP per capita=%{marker.size}<br>Regional indicator=%{customdata[0]}<extra></extra>\", \"legendgroup\": \"Pakistan\", \"marker\": {\"color\": \"#19d3f3\", \"size\": [8.458], \"sizemode\": \"area\", \"sizeref\": 0.0291175, \"symbol\": \"circle\"}, \"mode\": \"markers\", \"name\": \"Pakistan\", \"orientation\": \"v\", \"showlegend\": true, \"type\": \"scatter\", \"x\": [8.458], \"xaxis\": \"x\", \"y\": [8.458], \"yaxis\": \"y\"}, {\"customdata\": [[\"South Asia\"]], \"hovertemplate\": \"Country name=Bangladesh<br>Logged GDP per capita=%{marker.size}<br>Regional indicator=%{customdata[0]}<extra></extra>\", \"legendgroup\": \"Bangladesh\", \"marker\": {\"color\": \"#FF6692\", \"size\": [8.454], \"sizemode\": \"area\", \"sizeref\": 0.0291175, \"symbol\": \"circle\"}, \"mode\": \"markers\", \"name\": \"Bangladesh\", \"orientation\": \"v\", \"showlegend\": true, \"type\": \"scatter\", \"x\": [8.454], \"xaxis\": \"x\", \"y\": [8.454], \"yaxis\": \"y\"}, {\"customdata\": [[\"Sub-Saharan Africa\"]], \"hovertemplate\": \"Country name=Kenya<br>Logged GDP per capita=%{marker.size}<br>Regional indicator=%{customdata[0]}<extra></extra>\", \"legendgroup\": \"Kenya\", \"marker\": {\"color\": \"#B6E880\", \"size\": [8.361], \"sizemode\": \"area\", \"sizeref\": 0.0291175, \"symbol\": \"circle\"}, \"mode\": \"markers\", \"name\": \"Kenya\", \"orientation\": \"v\", \"showlegend\": true, \"type\": \"scatter\", \"x\": [8.361], \"xaxis\": \"x\", \"y\": [8.361], \"yaxis\": \"y\"}, {\"customdata\": [[\"Southeast Asia\"]], \"hovertemplate\": \"Country name=Cambodia<br>Logged GDP per capita=%{marker.size}<br>Regional indicator=%{customdata[0]}<extra></extra>\", \"legendgroup\": \"Cambodia\", \"marker\": {\"color\": \"#FF97FF\", \"size\": [8.36], \"sizemode\": \"area\", \"sizeref\": 0.0291175, \"symbol\": \"circle\"}, \"mode\": \"markers\", \"name\": \"Cambodia\", \"orientation\": \"v\", \"showlegend\": true, \"type\": \"scatter\", \"x\": [8.36], \"xaxis\": \"x\", \"y\": [8.36], \"yaxis\": \"y\"}, {\"customdata\": [[\"Sub-Saharan Africa\"]], \"hovertemplate\": \"Country name=Cameroon<br>Logged GDP per capita=%{marker.size}<br>Regional indicator=%{customdata[0]}<extra></extra>\", \"legendgroup\": \"Cameroon\", \"marker\": {\"color\": \"#FECB52\", \"size\": [8.189], \"sizemode\": \"area\", \"sizeref\": 0.0291175, \"symbol\": \"circle\"}, \"mode\": \"markers\", \"name\": \"Cameroon\", \"orientation\": \"v\", \"showlegend\": true, \"type\": \"scatter\", \"x\": [8.189], \"xaxis\": \"x\", \"y\": [8.189], \"yaxis\": \"y\"}, {\"customdata\": [[\"Sub-Saharan Africa\"]], \"hovertemplate\": \"Country name=Zambia<br>Logged GDP per capita=%{marker.size}<br>Regional indicator=%{customdata[0]}<extra></extra>\", \"legendgroup\": \"Zambia\", \"marker\": {\"color\": \"#636efa\", \"size\": [8.145], \"sizemode\": \"area\", \"sizeref\": 0.0291175, \"symbol\": \"circle\"}, \"mode\": \"markers\", \"name\": \"Zambia\", \"orientation\": \"v\", \"showlegend\": true, \"type\": \"scatter\", \"x\": [8.145], \"xaxis\": \"x\", \"y\": [8.145], \"yaxis\": \"y\"}, {\"customdata\": [[\"South Asia\"]], \"hovertemplate\": \"Country name=Nepal<br>Logged GDP per capita=%{marker.size}<br>Regional indicator=%{customdata[0]}<extra></extra>\", \"legendgroup\": \"Nepal\", \"marker\": {\"color\": \"#EF553B\", \"size\": [8.12], \"sizemode\": \"area\", \"sizeref\": 0.0291175, \"symbol\": \"circle\"}, \"mode\": \"markers\", \"name\": \"Nepal\", \"orientation\": \"v\", \"showlegend\": true, \"type\": \"scatter\", \"x\": [8.12], \"xaxis\": \"x\", \"y\": [8.12], \"yaxis\": \"y\"}, {\"customdata\": [[\"Sub-Saharan Africa\"]], \"hovertemplate\": \"Country name=Senegal<br>Logged GDP per capita=%{marker.size}<br>Regional indicator=%{customdata[0]}<extra></extra>\", \"legendgroup\": \"Senegal\", \"marker\": {\"color\": \"#00cc96\", \"size\": [8.118], \"sizemode\": \"area\", \"sizeref\": 0.0291175, \"symbol\": \"circle\"}, \"mode\": \"markers\", \"name\": \"Senegal\", \"orientation\": \"v\", \"showlegend\": true, \"type\": \"scatter\", \"x\": [8.118], \"xaxis\": \"x\", \"y\": [8.118], \"yaxis\": \"y\"}, {\"customdata\": [[\"Sub-Saharan Africa\"]], \"hovertemplate\": \"Country name=Congo (Brazzaville)<br>Logged GDP per capita=%{marker.size}<br>Regional indicator=%{customdata[0]}<extra></extra>\", \"legendgroup\": \"Congo (Brazzaville)\", \"marker\": {\"color\": \"#ab63fa\", \"size\": [8.117], \"sizemode\": \"area\", \"sizeref\": 0.0291175, \"symbol\": \"circle\"}, \"mode\": \"markers\", \"name\": \"Congo (Brazzaville)\", \"orientation\": \"v\", \"showlegend\": true, \"type\": \"scatter\", \"x\": [8.117], \"xaxis\": \"x\", \"y\": [8.117], \"yaxis\": \"y\"}, {\"customdata\": [[\"Commonwealth of Independent States\"]], \"hovertemplate\": \"Country name=Tajikistan<br>Logged GDP per capita=%{marker.size}<br>Regional indicator=%{customdata[0]}<extra></extra>\", \"legendgroup\": \"Tajikistan\", \"marker\": {\"color\": \"#FFA15A\", \"size\": [8.091], \"sizemode\": \"area\", \"sizeref\": 0.0291175, \"symbol\": \"circle\"}, \"mode\": \"markers\", \"name\": \"Tajikistan\", \"orientation\": \"v\", \"showlegend\": true, \"type\": \"scatter\", \"x\": [8.091], \"xaxis\": \"x\", \"y\": [8.091], \"yaxis\": \"y\"}, {\"customdata\": [[\"Sub-Saharan Africa\"]], \"hovertemplate\": \"Country name=Benin<br>Logged GDP per capita=%{marker.size}<br>Regional indicator=%{customdata[0]}<extra></extra>\", \"legendgroup\": \"Benin\", \"marker\": {\"color\": \"#19d3f3\", \"size\": [8.087], \"sizemode\": \"area\", \"sizeref\": 0.0291175, \"symbol\": \"circle\"}, \"mode\": \"markers\", \"name\": \"Benin\", \"orientation\": \"v\", \"showlegend\": true, \"type\": \"scatter\", \"x\": [8.087], \"xaxis\": \"x\", \"y\": [8.087], \"yaxis\": \"y\"}, {\"customdata\": [[\"Sub-Saharan Africa\"]], \"hovertemplate\": \"Country name=Comoros<br>Logged GDP per capita=%{marker.size}<br>Regional indicator=%{customdata[0]}<extra></extra>\", \"legendgroup\": \"Comoros\", \"marker\": {\"color\": \"#FF6692\", \"size\": [8.031], \"sizemode\": \"area\", \"sizeref\": 0.0291175, \"symbol\": \"circle\"}, \"mode\": \"markers\", \"name\": \"Comoros\", \"orientation\": \"v\", \"showlegend\": true, \"type\": \"scatter\", \"x\": [8.031], \"xaxis\": \"x\", \"y\": [8.031], \"yaxis\": \"y\"}, {\"customdata\": [[\"Sub-Saharan Africa\"]], \"hovertemplate\": \"Country name=Zimbabwe<br>Logged GDP per capita=%{marker.size}<br>Regional indicator=%{customdata[0]}<extra></extra>\", \"legendgroup\": \"Zimbabwe\", \"marker\": {\"color\": \"#B6E880\", \"size\": [7.943], \"sizemode\": \"area\", \"sizeref\": 0.0291175, \"symbol\": \"circle\"}, \"mode\": \"markers\", \"name\": \"Zimbabwe\", \"orientation\": \"v\", \"showlegend\": true, \"type\": \"scatter\", \"x\": [7.943], \"xaxis\": \"x\", \"y\": [7.943], \"yaxis\": \"y\"}, {\"customdata\": [[\"Sub-Saharan Africa\"]], \"hovertemplate\": \"Country name=Lesotho<br>Logged GDP per capita=%{marker.size}<br>Regional indicator=%{customdata[0]}<extra></extra>\", \"legendgroup\": \"Lesotho\", \"marker\": {\"color\": \"#FF97FF\", \"size\": [7.926], \"sizemode\": \"area\", \"sizeref\": 0.0291175, \"symbol\": \"circle\"}, \"mode\": \"markers\", \"name\": \"Lesotho\", \"orientation\": \"v\", \"showlegend\": true, \"type\": \"scatter\", \"x\": [7.926], \"xaxis\": \"x\", \"y\": [7.926], \"yaxis\": \"y\"}, {\"customdata\": [[\"Sub-Saharan Africa\"]], \"hovertemplate\": \"Country name=Tanzania<br>Logged GDP per capita=%{marker.size}<br>Regional indicator=%{customdata[0]}<extra></extra>\", \"legendgroup\": \"Tanzania\", \"marker\": {\"color\": \"#FECB52\", \"size\": [7.876], \"sizemode\": \"area\", \"sizeref\": 0.0291175, \"symbol\": \"circle\"}, \"mode\": \"markers\", \"name\": \"Tanzania\", \"orientation\": \"v\", \"showlegend\": true, \"type\": \"scatter\", \"x\": [7.876], \"xaxis\": \"x\", \"y\": [7.876], \"yaxis\": \"y\"}, {\"customdata\": [[\"Sub-Saharan Africa\"]], \"hovertemplate\": \"Country name=Guinea<br>Logged GDP per capita=%{marker.size}<br>Regional indicator=%{customdata[0]}<extra></extra>\", \"legendgroup\": \"Guinea\", \"marker\": {\"color\": \"#636efa\", \"size\": [7.838], \"sizemode\": \"area\", \"sizeref\": 0.0291175, \"symbol\": \"circle\"}, \"mode\": \"markers\", \"name\": \"Guinea\", \"orientation\": \"v\", \"showlegend\": true, \"type\": \"scatter\", \"x\": [7.838], \"xaxis\": \"x\", \"y\": [7.838], \"yaxis\": \"y\"}, {\"customdata\": [[\"Sub-Saharan Africa\"]], \"hovertemplate\": \"Country name=Mali<br>Logged GDP per capita=%{marker.size}<br>Regional indicator=%{customdata[0]}<extra></extra>\", \"legendgroup\": \"Mali\", \"marker\": {\"color\": \"#EF553B\", \"size\": [7.744], \"sizemode\": \"area\", \"sizeref\": 0.0291175, \"symbol\": \"circle\"}, \"mode\": \"markers\", \"name\": \"Mali\", \"orientation\": \"v\", \"showlegend\": true, \"type\": \"scatter\", \"x\": [7.744], \"xaxis\": \"x\", \"y\": [7.744], \"yaxis\": \"y\"}, {\"customdata\": [[\"South Asia\"]], \"hovertemplate\": \"Country name=Afghanistan<br>Logged GDP per capita=%{marker.size}<br>Regional indicator=%{customdata[0]}<extra></extra>\", \"legendgroup\": \"Afghanistan\", \"marker\": {\"color\": \"#00cc96\", \"size\": [7.695], \"sizemode\": \"area\", \"sizeref\": 0.0291175, \"symbol\": \"circle\"}, \"mode\": \"markers\", \"name\": \"Afghanistan\", \"orientation\": \"v\", \"showlegend\": true, \"type\": \"scatter\", \"x\": [7.695], \"xaxis\": \"x\", \"y\": [7.695], \"yaxis\": \"y\"}, {\"customdata\": [[\"Sub-Saharan Africa\"]], \"hovertemplate\": \"Country name=Ethiopia<br>Logged GDP per capita=%{marker.size}<br>Regional indicator=%{customdata[0]}<extra></extra>\", \"legendgroup\": \"Ethiopia\", \"marker\": {\"color\": \"#ab63fa\", \"size\": [7.694], \"sizemode\": \"area\", \"sizeref\": 0.0291175, \"symbol\": \"circle\"}, \"mode\": \"markers\", \"name\": \"Ethiopia\", \"orientation\": \"v\", \"showlegend\": true, \"type\": \"scatter\", \"x\": [7.694], \"xaxis\": \"x\", \"y\": [7.694], \"yaxis\": \"y\"}, {\"customdata\": [[\"Sub-Saharan Africa\"]], \"hovertemplate\": \"Country name=Gambia<br>Logged GDP per capita=%{marker.size}<br>Regional indicator=%{customdata[0]}<extra></extra>\", \"legendgroup\": \"Gambia\", \"marker\": {\"color\": \"#FFA15A\", \"size\": [7.686], \"sizemode\": \"area\", \"sizeref\": 0.0291175, \"symbol\": \"circle\"}, \"mode\": \"markers\", \"name\": \"Gambia\", \"orientation\": \"v\", \"showlegend\": true, \"type\": \"scatter\", \"x\": [7.686], \"xaxis\": \"x\", \"y\": [7.686], \"yaxis\": \"y\"}, {\"customdata\": [[\"Sub-Saharan Africa\"]], \"hovertemplate\": \"Country name=Burkina Faso<br>Logged GDP per capita=%{marker.size}<br>Regional indicator=%{customdata[0]}<extra></extra>\", \"legendgroup\": \"Burkina Faso\", \"marker\": {\"color\": \"#19d3f3\", \"size\": [7.678], \"sizemode\": \"area\", \"sizeref\": 0.0291175, \"symbol\": \"circle\"}, \"mode\": \"markers\", \"name\": \"Burkina Faso\", \"orientation\": \"v\", \"showlegend\": true, \"type\": \"scatter\", \"x\": [7.678], \"xaxis\": \"x\", \"y\": [7.678], \"yaxis\": \"y\"}, {\"customdata\": [[\"Sub-Saharan Africa\"]], \"hovertemplate\": \"Country name=Uganda<br>Logged GDP per capita=%{marker.size}<br>Regional indicator=%{customdata[0]}<extra></extra>\", \"legendgroup\": \"Uganda\", \"marker\": {\"color\": \"#FF6692\", \"size\": [7.677], \"sizemode\": \"area\", \"sizeref\": 0.0291175, \"symbol\": \"circle\"}, \"mode\": \"markers\", \"name\": \"Uganda\", \"orientation\": \"v\", \"showlegend\": true, \"type\": \"scatter\", \"x\": [7.677], \"xaxis\": \"x\", \"y\": [7.677], \"yaxis\": \"y\"}, {\"customdata\": [[\"Sub-Saharan Africa\"]], \"hovertemplate\": \"Country name=Rwanda<br>Logged GDP per capita=%{marker.size}<br>Regional indicator=%{customdata[0]}<extra></extra>\", \"legendgroup\": \"Rwanda\", \"marker\": {\"color\": \"#B6E880\", \"size\": [7.676], \"sizemode\": \"area\", \"sizeref\": 0.0291175, \"symbol\": \"circle\"}, \"mode\": \"markers\", \"name\": \"Rwanda\", \"orientation\": \"v\", \"showlegend\": true, \"type\": \"scatter\", \"x\": [7.676], \"xaxis\": \"x\", \"y\": [7.676], \"yaxis\": \"y\"}, {\"customdata\": [[\"Middle East and North Africa\"]], \"hovertemplate\": \"Country name=Yemen<br>Logged GDP per capita=%{marker.size}<br>Regional indicator=%{customdata[0]}<extra></extra>\", \"legendgroup\": \"Yemen\", \"marker\": {\"color\": \"#FF97FF\", \"size\": [7.578], \"sizemode\": \"area\", \"sizeref\": 0.0291175, \"symbol\": \"circle\"}, \"mode\": \"markers\", \"name\": \"Yemen\", \"orientation\": \"v\", \"showlegend\": true, \"type\": \"scatter\", \"x\": [7.578], \"xaxis\": \"x\", \"y\": [7.578], \"yaxis\": \"y\"}, {\"customdata\": [[\"Latin America and Caribbean\"]], \"hovertemplate\": \"Country name=Haiti<br>Logged GDP per capita=%{marker.size}<br>Regional indicator=%{customdata[0]}<extra></extra>\", \"legendgroup\": \"Haiti\", \"marker\": {\"color\": \"#FECB52\", \"size\": [7.477], \"sizemode\": \"area\", \"sizeref\": 0.0291175, \"symbol\": \"circle\"}, \"mode\": \"markers\", \"name\": \"Haiti\", \"orientation\": \"v\", \"showlegend\": true, \"type\": \"scatter\", \"x\": [7.477], \"xaxis\": \"x\", \"y\": [7.477], \"yaxis\": \"y\"}, {\"customdata\": [[\"Sub-Saharan Africa\"]], \"hovertemplate\": \"Country name=Sierra Leone<br>Logged GDP per capita=%{marker.size}<br>Regional indicator=%{customdata[0]}<extra></extra>\", \"legendgroup\": \"Sierra Leone\", \"marker\": {\"color\": \"#636efa\", \"size\": [7.434], \"sizemode\": \"area\", \"sizeref\": 0.0291175, \"symbol\": \"circle\"}, \"mode\": \"markers\", \"name\": \"Sierra Leone\", \"orientation\": \"v\", \"showlegend\": true, \"type\": \"scatter\", \"x\": [7.434], \"xaxis\": \"x\", \"y\": [7.434], \"yaxis\": \"y\"}, {\"customdata\": [[\"Sub-Saharan Africa\"]], \"hovertemplate\": \"Country name=Madagascar<br>Logged GDP per capita=%{marker.size}<br>Regional indicator=%{customdata[0]}<extra></extra>\", \"legendgroup\": \"Madagascar\", \"marker\": {\"color\": \"#EF553B\", \"size\": [7.396], \"sizemode\": \"area\", \"sizeref\": 0.0291175, \"symbol\": \"circle\"}, \"mode\": \"markers\", \"name\": \"Madagascar\", \"orientation\": \"v\", \"showlegend\": true, \"type\": \"scatter\", \"x\": [7.396], \"xaxis\": \"x\", \"y\": [7.396], \"yaxis\": \"y\"}, {\"customdata\": [[\"Sub-Saharan Africa\"]], \"hovertemplate\": \"Country name=Chad<br>Logged GDP per capita=%{marker.size}<br>Regional indicator=%{customdata[0]}<extra></extra>\", \"legendgroup\": \"Chad\", \"marker\": {\"color\": \"#00cc96\", \"size\": [7.364], \"sizemode\": \"area\", \"sizeref\": 0.0291175, \"symbol\": \"circle\"}, \"mode\": \"markers\", \"name\": \"Chad\", \"orientation\": \"v\", \"showlegend\": true, \"type\": \"scatter\", \"x\": [7.364], \"xaxis\": \"x\", \"y\": [7.364], \"yaxis\": \"y\"}, {\"customdata\": [[\"Sub-Saharan Africa\"]], \"hovertemplate\": \"Country name=Togo<br>Logged GDP per capita=%{marker.size}<br>Regional indicator=%{customdata[0]}<extra></extra>\", \"legendgroup\": \"Togo\", \"marker\": {\"color\": \"#ab63fa\", \"size\": [7.362], \"sizemode\": \"area\", \"sizeref\": 0.0291175, \"symbol\": \"circle\"}, \"mode\": \"markers\", \"name\": \"Togo\", \"orientation\": \"v\", \"showlegend\": true, \"type\": \"scatter\", \"x\": [7.362], \"xaxis\": \"x\", \"y\": [7.362], \"yaxis\": \"y\"}, {\"customdata\": [[\"Sub-Saharan Africa\"]], \"hovertemplate\": \"Country name=Liberia<br>Logged GDP per capita=%{marker.size}<br>Regional indicator=%{customdata[0]}<extra></extra>\", \"legendgroup\": \"Liberia\", \"marker\": {\"color\": \"#FFA15A\", \"size\": [7.288], \"sizemode\": \"area\", \"sizeref\": 0.0291175, \"symbol\": \"circle\"}, \"mode\": \"markers\", \"name\": \"Liberia\", \"orientation\": \"v\", \"showlegend\": true, \"type\": \"scatter\", \"x\": [7.288], \"xaxis\": \"x\", \"y\": [7.288], \"yaxis\": \"y\"}, {\"customdata\": [[\"Sub-Saharan Africa\"]], \"hovertemplate\": \"Country name=Mozambique<br>Logged GDP per capita=%{marker.size}<br>Regional indicator=%{customdata[0]}<extra></extra>\", \"legendgroup\": \"Mozambique\", \"marker\": {\"color\": \"#19d3f3\", \"size\": [7.158], \"sizemode\": \"area\", \"sizeref\": 0.0291175, \"symbol\": \"circle\"}, \"mode\": \"markers\", \"name\": \"Mozambique\", \"orientation\": \"v\", \"showlegend\": true, \"type\": \"scatter\", \"x\": [7.158], \"xaxis\": \"x\", \"y\": [7.158], \"yaxis\": \"y\"}, {\"customdata\": [[\"Sub-Saharan Africa\"]], \"hovertemplate\": \"Country name=Niger<br>Logged GDP per capita=%{marker.size}<br>Regional indicator=%{customdata[0]}<extra></extra>\", \"legendgroup\": \"Niger\", \"marker\": {\"color\": \"#FF6692\", \"size\": [7.098], \"sizemode\": \"area\", \"sizeref\": 0.0291175, \"symbol\": \"circle\"}, \"mode\": \"markers\", \"name\": \"Niger\", \"orientation\": \"v\", \"showlegend\": true, \"type\": \"scatter\", \"x\": [7.098], \"xaxis\": \"x\", \"y\": [7.098], \"yaxis\": \"y\"}, {\"customdata\": [[\"Sub-Saharan Africa\"]], \"hovertemplate\": \"Country name=Malawi<br>Logged GDP per capita=%{marker.size}<br>Regional indicator=%{customdata[0]}<extra></extra>\", \"legendgroup\": \"Malawi\", \"marker\": {\"color\": \"#B6E880\", \"size\": [6.958], \"sizemode\": \"area\", \"sizeref\": 0.0291175, \"symbol\": \"circle\"}, \"mode\": \"markers\", \"name\": \"Malawi\", \"orientation\": \"v\", \"showlegend\": true, \"type\": \"scatter\", \"x\": [6.958], \"xaxis\": \"x\", \"y\": [6.958], \"yaxis\": \"y\"}, {\"customdata\": [[\"Sub-Saharan Africa\"]], \"hovertemplate\": \"Country name=Burundi<br>Logged GDP per capita=%{marker.size}<br>Regional indicator=%{customdata[0]}<extra></extra>\", \"legendgroup\": \"Burundi\", \"marker\": {\"color\": \"#FF97FF\", \"size\": [6.635], \"sizemode\": \"area\", \"sizeref\": 0.0291175, \"symbol\": \"circle\"}, \"mode\": \"markers\", \"name\": \"Burundi\", \"orientation\": \"v\", \"showlegend\": true, \"type\": \"scatter\", \"x\": [6.635], \"xaxis\": \"x\", \"y\": [6.635], \"yaxis\": \"y\"}],                        {\"legend\": {\"itemsizing\": \"constant\", \"title\": {\"text\": \"Country name\"}, \"tracegroupgap\": 0}, \"template\": {\"data\": {\"bar\": [{\"error_x\": {\"color\": \"#2a3f5f\"}, \"error_y\": {\"color\": \"#2a3f5f\"}, \"marker\": {\"line\": {\"color\": \"#E5ECF6\", \"width\": 0.5}}, \"type\": \"bar\"}], \"barpolar\": [{\"marker\": {\"line\": {\"color\": \"#E5ECF6\", \"width\": 0.5}}, \"type\": \"barpolar\"}], \"carpet\": [{\"aaxis\": {\"endlinecolor\": \"#2a3f5f\", \"gridcolor\": \"white\", \"linecolor\": \"white\", \"minorgridcolor\": \"white\", \"startlinecolor\": \"#2a3f5f\"}, \"baxis\": {\"endlinecolor\": \"#2a3f5f\", \"gridcolor\": \"white\", \"linecolor\": \"white\", \"minorgridcolor\": \"white\", \"startlinecolor\": \"#2a3f5f\"}, \"type\": \"carpet\"}], \"choropleth\": [{\"colorbar\": {\"outlinewidth\": 0, \"ticks\": \"\"}, \"type\": \"choropleth\"}], \"contour\": [{\"colorbar\": {\"outlinewidth\": 0, \"ticks\": \"\"}, \"colorscale\": [[0.0, \"#0d0887\"], [0.1111111111111111, \"#46039f\"], [0.2222222222222222, \"#7201a8\"], [0.3333333333333333, \"#9c179e\"], [0.4444444444444444, \"#bd3786\"], [0.5555555555555556, \"#d8576b\"], [0.6666666666666666, \"#ed7953\"], [0.7777777777777778, \"#fb9f3a\"], [0.8888888888888888, \"#fdca26\"], [1.0, \"#f0f921\"]], \"type\": \"contour\"}], \"contourcarpet\": [{\"colorbar\": {\"outlinewidth\": 0, \"ticks\": \"\"}, \"type\": \"contourcarpet\"}], \"heatmap\": [{\"colorbar\": {\"outlinewidth\": 0, \"ticks\": \"\"}, \"colorscale\": [[0.0, \"#0d0887\"], [0.1111111111111111, \"#46039f\"], [0.2222222222222222, \"#7201a8\"], [0.3333333333333333, \"#9c179e\"], [0.4444444444444444, \"#bd3786\"], [0.5555555555555556, \"#d8576b\"], [0.6666666666666666, \"#ed7953\"], [0.7777777777777778, \"#fb9f3a\"], [0.8888888888888888, \"#fdca26\"], [1.0, \"#f0f921\"]], \"type\": \"heatmap\"}], \"heatmapgl\": [{\"colorbar\": {\"outlinewidth\": 0, \"ticks\": \"\"}, \"colorscale\": [[0.0, \"#0d0887\"], [0.1111111111111111, \"#46039f\"], [0.2222222222222222, \"#7201a8\"], [0.3333333333333333, \"#9c179e\"], [0.4444444444444444, \"#bd3786\"], [0.5555555555555556, \"#d8576b\"], [0.6666666666666666, \"#ed7953\"], [0.7777777777777778, \"#fb9f3a\"], [0.8888888888888888, \"#fdca26\"], [1.0, \"#f0f921\"]], \"type\": \"heatmapgl\"}], \"histogram\": [{\"marker\": {\"colorbar\": {\"outlinewidth\": 0, \"ticks\": \"\"}}, \"type\": \"histogram\"}], \"histogram2d\": [{\"colorbar\": {\"outlinewidth\": 0, \"ticks\": \"\"}, \"colorscale\": [[0.0, \"#0d0887\"], [0.1111111111111111, \"#46039f\"], [0.2222222222222222, \"#7201a8\"], [0.3333333333333333, \"#9c179e\"], [0.4444444444444444, \"#bd3786\"], [0.5555555555555556, \"#d8576b\"], [0.6666666666666666, \"#ed7953\"], [0.7777777777777778, \"#fb9f3a\"], [0.8888888888888888, \"#fdca26\"], [1.0, \"#f0f921\"]], \"type\": \"histogram2d\"}], \"histogram2dcontour\": [{\"colorbar\": {\"outlinewidth\": 0, \"ticks\": \"\"}, \"colorscale\": [[0.0, \"#0d0887\"], [0.1111111111111111, \"#46039f\"], [0.2222222222222222, \"#7201a8\"], [0.3333333333333333, \"#9c179e\"], [0.4444444444444444, \"#bd3786\"], [0.5555555555555556, \"#d8576b\"], [0.6666666666666666, \"#ed7953\"], [0.7777777777777778, \"#fb9f3a\"], [0.8888888888888888, \"#fdca26\"], [1.0, \"#f0f921\"]], \"type\": \"histogram2dcontour\"}], \"mesh3d\": [{\"colorbar\": {\"outlinewidth\": 0, \"ticks\": \"\"}, \"type\": \"mesh3d\"}], \"parcoords\": [{\"line\": {\"colorbar\": {\"outlinewidth\": 0, \"ticks\": \"\"}}, \"type\": \"parcoords\"}], \"pie\": [{\"automargin\": true, \"type\": \"pie\"}], \"scatter\": [{\"marker\": {\"colorbar\": {\"outlinewidth\": 0, \"ticks\": \"\"}}, \"type\": \"scatter\"}], \"scatter3d\": [{\"line\": {\"colorbar\": {\"outlinewidth\": 0, \"ticks\": \"\"}}, \"marker\": {\"colorbar\": {\"outlinewidth\": 0, \"ticks\": \"\"}}, \"type\": \"scatter3d\"}], \"scattercarpet\": [{\"marker\": {\"colorbar\": {\"outlinewidth\": 0, \"ticks\": \"\"}}, \"type\": \"scattercarpet\"}], \"scattergeo\": [{\"marker\": {\"colorbar\": {\"outlinewidth\": 0, \"ticks\": \"\"}}, \"type\": \"scattergeo\"}], \"scattergl\": [{\"marker\": {\"colorbar\": {\"outlinewidth\": 0, \"ticks\": \"\"}}, \"type\": \"scattergl\"}], \"scattermapbox\": [{\"marker\": {\"colorbar\": {\"outlinewidth\": 0, \"ticks\": \"\"}}, \"type\": \"scattermapbox\"}], \"scatterpolar\": [{\"marker\": {\"colorbar\": {\"outlinewidth\": 0, \"ticks\": \"\"}}, \"type\": \"scatterpolar\"}], \"scatterpolargl\": [{\"marker\": {\"colorbar\": {\"outlinewidth\": 0, \"ticks\": \"\"}}, \"type\": \"scatterpolargl\"}], \"scatterternary\": [{\"marker\": {\"colorbar\": {\"outlinewidth\": 0, \"ticks\": \"\"}}, \"type\": \"scatterternary\"}], \"surface\": [{\"colorbar\": {\"outlinewidth\": 0, \"ticks\": \"\"}, \"colorscale\": [[0.0, \"#0d0887\"], [0.1111111111111111, \"#46039f\"], [0.2222222222222222, \"#7201a8\"], [0.3333333333333333, \"#9c179e\"], [0.4444444444444444, \"#bd3786\"], [0.5555555555555556, \"#d8576b\"], [0.6666666666666666, \"#ed7953\"], [0.7777777777777778, \"#fb9f3a\"], [0.8888888888888888, \"#fdca26\"], [1.0, \"#f0f921\"]], \"type\": \"surface\"}], \"table\": [{\"cells\": {\"fill\": {\"color\": \"#EBF0F8\"}, \"line\": {\"color\": \"white\"}}, \"header\": {\"fill\": {\"color\": \"#C8D4E3\"}, \"line\": {\"color\": \"white\"}}, \"type\": \"table\"}]}, \"layout\": {\"annotationdefaults\": {\"arrowcolor\": \"#2a3f5f\", \"arrowhead\": 0, \"arrowwidth\": 1}, \"autotypenumbers\": \"strict\", \"coloraxis\": {\"colorbar\": {\"outlinewidth\": 0, \"ticks\": \"\"}}, \"colorscale\": {\"diverging\": [[0, \"#8e0152\"], [0.1, \"#c51b7d\"], [0.2, \"#de77ae\"], [0.3, \"#f1b6da\"], [0.4, \"#fde0ef\"], [0.5, \"#f7f7f7\"], [0.6, \"#e6f5d0\"], [0.7, \"#b8e186\"], [0.8, \"#7fbc41\"], [0.9, \"#4d9221\"], [1, \"#276419\"]], \"sequential\": [[0.0, \"#0d0887\"], [0.1111111111111111, \"#46039f\"], [0.2222222222222222, \"#7201a8\"], [0.3333333333333333, \"#9c179e\"], [0.4444444444444444, \"#bd3786\"], [0.5555555555555556, \"#d8576b\"], [0.6666666666666666, \"#ed7953\"], [0.7777777777777778, \"#fb9f3a\"], [0.8888888888888888, \"#fdca26\"], [1.0, \"#f0f921\"]], \"sequentialminus\": [[0.0, \"#0d0887\"], [0.1111111111111111, \"#46039f\"], [0.2222222222222222, \"#7201a8\"], [0.3333333333333333, \"#9c179e\"], [0.4444444444444444, \"#bd3786\"], [0.5555555555555556, \"#d8576b\"], [0.6666666666666666, \"#ed7953\"], [0.7777777777777778, \"#fb9f3a\"], [0.8888888888888888, \"#fdca26\"], [1.0, \"#f0f921\"]]}, \"colorway\": [\"#636efa\", \"#EF553B\", \"#00cc96\", \"#ab63fa\", \"#FFA15A\", \"#19d3f3\", \"#FF6692\", \"#B6E880\", \"#FF97FF\", \"#FECB52\"], \"font\": {\"color\": \"#2a3f5f\"}, \"geo\": {\"bgcolor\": \"white\", \"lakecolor\": \"white\", \"landcolor\": \"#E5ECF6\", \"showlakes\": true, \"showland\": true, \"subunitcolor\": \"white\"}, \"hoverlabel\": {\"align\": \"left\"}, \"hovermode\": \"closest\", \"mapbox\": {\"style\": \"light\"}, \"paper_bgcolor\": \"white\", \"plot_bgcolor\": \"#E5ECF6\", \"polar\": {\"angularaxis\": {\"gridcolor\": \"white\", \"linecolor\": \"white\", \"ticks\": \"\"}, \"bgcolor\": \"#E5ECF6\", \"radialaxis\": {\"gridcolor\": \"white\", \"linecolor\": \"white\", \"ticks\": \"\"}}, \"scene\": {\"xaxis\": {\"backgroundcolor\": \"#E5ECF6\", \"gridcolor\": \"white\", \"gridwidth\": 2, \"linecolor\": \"white\", \"showbackground\": true, \"ticks\": \"\", \"zerolinecolor\": \"white\"}, \"yaxis\": {\"backgroundcolor\": \"#E5ECF6\", \"gridcolor\": \"white\", \"gridwidth\": 2, \"linecolor\": \"white\", \"showbackground\": true, \"ticks\": \"\", \"zerolinecolor\": \"white\"}, \"zaxis\": {\"backgroundcolor\": \"#E5ECF6\", \"gridcolor\": \"white\", \"gridwidth\": 2, \"linecolor\": \"white\", \"showbackground\": true, \"ticks\": \"\", \"zerolinecolor\": \"white\"}}, \"shapedefaults\": {\"line\": {\"color\": \"#2a3f5f\"}}, \"ternary\": {\"aaxis\": {\"gridcolor\": \"white\", \"linecolor\": \"white\", \"ticks\": \"\"}, \"baxis\": {\"gridcolor\": \"white\", \"linecolor\": \"white\", \"ticks\": \"\"}, \"bgcolor\": \"#E5ECF6\", \"caxis\": {\"gridcolor\": \"white\", \"linecolor\": \"white\", \"ticks\": \"\"}}, \"title\": {\"x\": 0.05}, \"xaxis\": {\"automargin\": true, \"gridcolor\": \"white\", \"linecolor\": \"white\", \"ticks\": \"\", \"title\": {\"standoff\": 15}, \"zerolinecolor\": \"white\", \"zerolinewidth\": 2}, \"yaxis\": {\"automargin\": true, \"gridcolor\": \"white\", \"linecolor\": \"white\", \"ticks\": \"\", \"title\": {\"standoff\": 15}, \"zerolinecolor\": \"white\", \"zerolinewidth\": 2}}}, \"title\": {\"text\": \"GDP\"}, \"xaxis\": {\"anchor\": \"y\", \"domain\": [0.0, 1.0], \"title\": {\"text\": \"Logged GDP per capita\"}}, \"yaxis\": {\"anchor\": \"x\", \"domain\": [0.0, 1.0], \"title\": {\"text\": \"Logged GDP per capita\"}}},                        {\"responsive\": true}                    ).then(function(){\n",
       "                            \n",
       "var gd = document.getElementById('b67e6c7e-b07a-49e5-b315-18282a4155a2');\n",
       "var x = new MutationObserver(function (mutations, observer) {{\n",
       "        var display = window.getComputedStyle(gd).display;\n",
       "        if (!display || display === 'none') {{\n",
       "            console.log([gd, 'removed!']);\n",
       "            Plotly.purge(gd);\n",
       "            observer.disconnect();\n",
       "        }}\n",
       "}});\n",
       "\n",
       "// Listen for the removal of the full notebook cells\n",
       "var notebookContainer = gd.closest('#notebook-container');\n",
       "if (notebookContainer) {{\n",
       "    x.observe(notebookContainer, {childList: true});\n",
       "}}\n",
       "\n",
       "// Listen for the clearing of the current output cell\n",
       "var outputEl = gd.closest('.output');\n",
       "if (outputEl) {{\n",
       "    x.observe(outputEl, {childList: true});\n",
       "}}\n",
       "\n",
       "                        })                };                });            </script>        </div>"
      ]
     },
     "metadata": {},
     "output_type": "display_data"
    }
   ],
   "source": [
    "fig = px.scatter(gdp, x = 'Logged GDP per capita', y = 'Logged GDP per capita', size='Logged GDP per capita',\n",
    "                 color = \"Country name\",hover_data=[\"Regional indicator\"],title=\"GDP\")\n",
    "fig.show()"
   ]
  },
  {
   "cell_type": "markdown",
   "metadata": {},
   "source": [
    "> **Luxembourg has the highes GDP per capita at 11.647.**"
   ]
  },
  {
   "cell_type": "markdown",
   "metadata": {},
   "source": [
    "### Social Support"
   ]
  },
  {
   "cell_type": "code",
   "execution_count": 87,
   "metadata": {
    "scrolled": true
   },
   "outputs": [
    {
     "data": {
      "text/html": [
       "<div>\n",
       "<style scoped>\n",
       "    .dataframe tbody tr th:only-of-type {\n",
       "        vertical-align: middle;\n",
       "    }\n",
       "\n",
       "    .dataframe tbody tr th {\n",
       "        vertical-align: top;\n",
       "    }\n",
       "\n",
       "    .dataframe thead th {\n",
       "        text-align: right;\n",
       "    }\n",
       "</style>\n",
       "<table border=\"1\" class=\"dataframe\">\n",
       "  <thead>\n",
       "    <tr style=\"text-align: right;\">\n",
       "      <th></th>\n",
       "      <th>Social support</th>\n",
       "      <th>Country name</th>\n",
       "    </tr>\n",
       "  </thead>\n",
       "  <tbody>\n",
       "    <tr>\n",
       "      <th>127</th>\n",
       "      <td>0.619</td>\n",
       "      <td>Chad</td>\n",
       "    </tr>\n",
       "    <tr>\n",
       "      <th>138</th>\n",
       "      <td>0.603</td>\n",
       "      <td>India</td>\n",
       "    </tr>\n",
       "    <tr>\n",
       "      <th>135</th>\n",
       "      <td>0.569</td>\n",
       "      <td>Togo</td>\n",
       "    </tr>\n",
       "    <tr>\n",
       "      <th>105</th>\n",
       "      <td>0.560</td>\n",
       "      <td>Morocco</td>\n",
       "    </tr>\n",
       "    <tr>\n",
       "      <th>146</th>\n",
       "      <td>0.552</td>\n",
       "      <td>Rwanda</td>\n",
       "    </tr>\n",
       "    <tr>\n",
       "      <th>142</th>\n",
       "      <td>0.540</td>\n",
       "      <td>Haiti</td>\n",
       "    </tr>\n",
       "    <tr>\n",
       "      <th>143</th>\n",
       "      <td>0.537</td>\n",
       "      <td>Malawi</td>\n",
       "    </tr>\n",
       "    <tr>\n",
       "      <th>139</th>\n",
       "      <td>0.490</td>\n",
       "      <td>Burundi</td>\n",
       "    </tr>\n",
       "    <tr>\n",
       "      <th>98</th>\n",
       "      <td>0.489</td>\n",
       "      <td>Benin</td>\n",
       "    </tr>\n",
       "    <tr>\n",
       "      <th>148</th>\n",
       "      <td>0.463</td>\n",
       "      <td>Afghanistan</td>\n",
       "    </tr>\n",
       "  </tbody>\n",
       "</table>\n",
       "</div>"
      ],
      "text/plain": [
       "     Social support Country name\n",
       "127           0.619         Chad\n",
       "138           0.603        India\n",
       "135           0.569         Togo\n",
       "105           0.560      Morocco\n",
       "146           0.552       Rwanda\n",
       "142           0.540        Haiti\n",
       "143           0.537       Malawi\n",
       "139           0.490      Burundi\n",
       "98            0.489        Benin\n",
       "148           0.463  Afghanistan"
      ]
     },
     "execution_count": 87,
     "metadata": {},
     "output_type": "execute_result"
    }
   ],
   "source": [
    "social_support = df[[\"Social support\",\"Country name\"]].sort_values(\"Social support\",ascending = False)\n",
    "social_support.tail(10)"
   ]
  },
  {
   "cell_type": "code",
   "execution_count": 112,
   "metadata": {
    "scrolled": true
   },
   "outputs": [
    {
     "data": {
      "image/png": "[encoded data removed]",
      "text/plain": [
       "<Figure size 1440x720 with 2 Axes>"
      ]
     },
     "metadata": {},
     "output_type": "display_data"
    }
   ],
   "source": [
    "plt.figure(figsize = [20,10])\n",
    "\n",
    "plt.subplot(121); sns.barplot(data = social_support.head(5),x='Social support',y = \"Country name\"); plt.title(\"Top 5\")\n",
    "plt.subplot(122); sns.barplot(data = social_support.tail(5),x='Social support',y = \"Country name\"); plt.title(\"Bottom 5\");"
   ]
  },
  {
   "cell_type": "markdown",
   "metadata": {},
   "source": [
    "> **Iceland again at top and Afghanistan again at bottom**."
   ]
  },
  {
   "cell_type": "markdown",
   "metadata": {},
   "source": [
    "### Healthy life expectancy & Freedom to make life choices"
   ]
  },
  {
   "cell_type": "code",
   "execution_count": 120,
   "metadata": {},
   "outputs": [
    {
     "data": {
      "text/html": [
       "<div>\n",
       "<style scoped>\n",
       "    .dataframe tbody tr th:only-of-type {\n",
       "        vertical-align: middle;\n",
       "    }\n",
       "\n",
       "    .dataframe tbody tr th {\n",
       "        vertical-align: top;\n",
       "    }\n",
       "\n",
       "    .dataframe thead th {\n",
       "        text-align: right;\n",
       "    }\n",
       "</style>\n",
       "<table border=\"1\" class=\"dataframe\">\n",
       "  <thead>\n",
       "    <tr style=\"text-align: right;\">\n",
       "      <th></th>\n",
       "      <th>Freedom to make life choices</th>\n",
       "      <th>Healthy life expectancy</th>\n",
       "      <th>Country name</th>\n",
       "      <th>Regional indicator</th>\n",
       "    </tr>\n",
       "  </thead>\n",
       "  <tbody>\n",
       "    <tr>\n",
       "      <th>31</th>\n",
       "      <td>0.927</td>\n",
       "      <td>76.953</td>\n",
       "      <td>Singapore</td>\n",
       "      <td>Southeast Asia</td>\n",
       "    </tr>\n",
       "    <tr>\n",
       "      <th>76</th>\n",
       "      <td>0.717</td>\n",
       "      <td>76.820</td>\n",
       "      <td>Hong Kong S.A.R. of China</td>\n",
       "      <td>East Asia</td>\n",
       "    </tr>\n",
       "    <tr>\n",
       "      <th>55</th>\n",
       "      <td>0.796</td>\n",
       "      <td>75.100</td>\n",
       "      <td>Japan</td>\n",
       "      <td>East Asia</td>\n",
       "    </tr>\n",
       "    <tr>\n",
       "      <th>26</th>\n",
       "      <td>0.761</td>\n",
       "      <td>74.700</td>\n",
       "      <td>Spain</td>\n",
       "      <td>Western Europe</td>\n",
       "    </tr>\n",
       "    <tr>\n",
       "      <th>2</th>\n",
       "      <td>0.919</td>\n",
       "      <td>74.400</td>\n",
       "      <td>Switzerland</td>\n",
       "      <td>Western Europe</td>\n",
       "    </tr>\n",
       "  </tbody>\n",
       "</table>\n",
       "</div>"
      ],
      "text/plain": [
       "    Freedom to make life choices  Healthy life expectancy  \\\n",
       "31                         0.927                   76.953   \n",
       "76                         0.717                   76.820   \n",
       "55                         0.796                   75.100   \n",
       "26                         0.761                   74.700   \n",
       "2                          0.919                   74.400   \n",
       "\n",
       "                 Country name Regional indicator  \n",
       "31                  Singapore     Southeast Asia  \n",
       "76  Hong Kong S.A.R. of China          East Asia  \n",
       "55                      Japan          East Asia  \n",
       "26                      Spain     Western Europe  \n",
       "2                 Switzerland     Western Europe  "
      ]
     },
     "execution_count": 120,
     "metadata": {},
     "output_type": "execute_result"
    }
   ],
   "source": [
    "hlef = df[[\"Freedom to make life choices\",\"Healthy life expectancy\",\"Country name\",\"Regional indicator\"]].sort_values(\"Healthy life expectancy\",ascending=False)\n",
    "hlef.head()"
   ]
  },
  {
   "cell_type": "code",
   "execution_count": 133,
   "metadata": {},
   "outputs": [
    {
     "data": {
      "application/vnd.plotly.v1+json": {
       "config": {
        "plotlyServerURL": "https://plot.ly"
       },
       "data": [
        {
         "hovertemplate": "<b>%{hovertext}</b><br><br>Regional indicator=Southeast Asia<br>Healthy life expectancy=%{x}<br>Freedom to make life choices=%{marker.size}<extra></extra>",
         "hovertext": [
          "Singapore",
          "Vietnam",
          "Thailand",
          "Malaysia",
          "Indonesia",
          "Philippines",
          "Cambodia",
          "Myanmar",
          "Laos"
         ],
         "legendgroup": "Southeast Asia",
         "marker": {
          "color": "#636efa",
          "size": [
           0.927,
           0.94,
           0.884,
           0.895,
           0.873,
           0.917,
           0.959,
           0.876,
           0.91
          ],
          "sizemode": "area",
          "sizeref": 0.002425,
          "symbol": "circle"
         },
         "mode": "markers",
         "name": "Southeast Asia",
         "orientation": "v",
         "showlegend": true,
         "type": "scatter",
         "x": [
          76.953,
          68.034,
          67.401,
          67.102,
          62.236,
          62,
          62,
          59.302,
          58.968
         ],
         "xaxis": "x",
         "y": [
          0.927,
          0.94,
          0.884,
          0.895,
          0.873,
          0.917,
          0.959,
          0.876,
          0.91
         ],
         "yaxis": "y"
        },
        {
         "hovertemplate": "<b>%{hovertext}</b><br><br>Regional indicator=East Asia<br>Healthy life expectancy=%{x}<br>Freedom to make life choices=%{marker.size}<extra></extra>",
         "hovertext": [
          "Hong Kong S.A.R. of China",
          "Japan",
          "South Korea",
          "Taiwan Province of China",
          "China",
          "Mongolia"
         ],
         "legendgroup": "East Asia",
         "marker": {
          "color": "#EF553B",
          "size": [
           0.717,
           0.796,
           0.672,
           0.784,
           0.904,
           0.708
          ],
          "sizemode": "area",
          "sizeref": 0.002425,
          "symbol": "circle"
         },
         "mode": "markers",
         "name": "East Asia",
         "orientation": "v",
         "showlegend": true,
         "type": "scatter",
         "x": [
          76.82,
          75.1,
          73.9,
          69.6,
          69.593,
          62.5
         ],
         "xaxis": "x",
         "y": [
          0.717,
          0.796,
          0.672,
          0.784,
          0.904,
          0.708
         ],
         "yaxis": "y"
        },
        {
         "hovertemplate": "<b>%{hovertext}</b><br><br>Regional indicator=Western Europe<br>Healthy life expectancy=%{x}<br>Freedom to make life choices=%{marker.size}<extra></extra>",
         "hovertext": [
          "Spain",
          "Switzerland",
          "France",
          "Cyprus",
          "North Cyprus",
          "Italy",
          "Norway",
          "Austria",
          "Iceland",
          "Denmark",
          "Sweden",
          "Greece",
          "Portugal",
          "Luxembourg",
          "United Kingdom",
          "Germany",
          "Ireland",
          "Netherlands",
          "Malta",
          "Belgium",
          "Finland"
         ],
         "legendgroup": "Western Europe",
         "marker": {
          "color": "#00cc96",
          "size": [
           0.761,
           0.919,
           0.822,
           0.763,
           0.795,
           0.693,
           0.96,
           0.908,
           0.955,
           0.946,
           0.945,
           0.582,
           0.892,
           0.907,
           0.859,
           0.875,
           0.879,
           0.913,
           0.927,
           0.783,
           0.949
          ],
          "sizemode": "area",
          "sizeref": 0.002425,
          "symbol": "circle"
         },
         "mode": "markers",
         "name": "Western Europe",
         "orientation": "v",
         "showlegend": true,
         "type": "scatter",
         "x": [
          74.7,
          74.4,
          74,
          73.898,
          73.898,
          73.8,
          73.3,
          73.3,
          73,
          72.7,
          72.7,
          72.6,
          72.6,
          72.6,
          72.5,
          72.5,
          72.4,
          72.4,
          72.2,
          72.199,
          72
         ],
         "xaxis": "x",
         "y": [
          0.761,
          0.919,
          0.822,
          0.763,
          0.795,
          0.693,
          0.96,
          0.908,
          0.955,
          0.946,
          0.945,
          0.582,
          0.892,
          0.907,
          0.859,
          0.875,
          0.879,
          0.913,
          0.927,
          0.783,
          0.949
         ],
         "yaxis": "y"
        },
        {
         "hovertemplate": "<b>%{hovertext}</b><br><br>Regional indicator=North America and ANZ<br>Healthy life expectancy=%{x}<br>Freedom to make life choices=%{marker.size}<extra></extra>",
         "hovertext": [
          "Australia",
          "Canada",
          "New Zealand",
          "United States"
         ],
         "legendgroup": "North America and ANZ",
         "marker": {
          "color": "#ab63fa",
          "size": [
           0.914,
           0.915,
           0.929,
           0.837
          ],
          "sizemode": "area",
          "sizeref": 0.002425,
          "symbol": "circle"
         },
         "mode": "markers",
         "name": "North America and ANZ",
         "orientation": "v",
         "showlegend": true,
         "type": "scatter",
         "x": [
          73.9,
          73.8,
          73.4,
          68.2
         ],
         "xaxis": "x",
         "y": [
          0.914,
          0.915,
          0.929,
          0.837
         ],
         "yaxis": "y"
        },
        {
         "hovertemplate": "<b>%{hovertext}</b><br><br>Regional indicator=Middle East and North Africa<br>Healthy life expectancy=%{x}<br>Freedom to make life choices=%{marker.size}<extra></extra>",
         "hovertext": [
          "Israel",
          "Bahrain",
          "Lebanon",
          "United Arab Emirates",
          "Tunisia",
          "Turkey",
          "Jordan",
          "Kuwait",
          "Saudi Arabia",
          "Iran",
          "Morocco",
          "Algeria",
          "Libya",
          "Palestinian Territories",
          "Egypt",
          "Iraq",
          "Yemen"
         ],
         "legendgroup": "Middle East and North Africa",
         "marker": {
          "color": "#FFA15A",
          "size": [
           0.8,
           0.925,
           0.525,
           0.932,
           0.656,
           0.576,
           0.755,
           0.867,
           0.877,
           0.608,
           0.774,
           0.48,
           0.771,
           0.653,
           0.749,
           0.63,
           0.602
          ],
          "sizemode": "area",
          "sizeref": 0.002425,
          "symbol": "circle"
         },
         "mode": "markers",
         "name": "Middle East and North Africa",
         "orientation": "v",
         "showlegend": true,
         "type": "scatter",
         "x": [
          73.503,
          69.495,
          67.355,
          67.333,
          67.201,
          67.199,
          67,
          66.9,
          66.603,
          66.3,
          66.208,
          66.005,
          62.3,
          62.25,
          61.998,
          60.583,
          57.122
         ],
         "xaxis": "x",
         "y": [
          0.8,
          0.925,
          0.525,
          0.932,
          0.656,
          0.576,
          0.755,
          0.867,
          0.877,
          0.608,
          0.774,
          0.48,
          0.771,
          0.653,
          0.749,
          0.63,
          0.602
         ],
         "yaxis": "y"
        },
        {
         "hovertemplate": "<b>%{hovertext}</b><br><br>Regional indicator=Central and Eastern Europe<br>Healthy life expectancy=%{x}<br>Freedom to make life choices=%{marker.size}<extra></extra>",
         "hovertext": [
          "Slovenia",
          "Czech Republic",
          "Croatia",
          "Poland",
          "Slovakia",
          "Albania",
          "Estonia",
          "Montenegro",
          "Serbia",
          "Bosnia and Herzegovina",
          "Hungary",
          "Lithuania",
          "Romania",
          "Latvia",
          "Bulgaria",
          "North Macedonia",
          "Kosovo"
         ],
         "legendgroup": "Central and Eastern Europe",
         "marker": {
          "color": "#19d3f3",
          "size": [
           0.949,
           0.858,
           0.754,
           0.841,
           0.766,
           0.785,
           0.909,
           0.708,
           0.778,
           0.706,
           0.755,
           0.773,
           0.845,
           0.715,
           0.788,
           0.751,
           0.869
          ],
          "sizemode": "area",
          "sizeref": 0.002425,
          "symbol": "circle"
         },
         "mode": "markers",
         "name": "Central and Eastern Europe",
         "orientation": "v",
         "showlegend": true,
         "type": "scatter",
         "x": [
          71.4,
          70.807,
          70.799,
          69.702,
          69.201,
          68.999,
          68.8,
          68.699,
          68.6,
          68.098,
          68,
          67.906,
          67.355,
          67.1,
          67,
          65.474,
          63.813
         ],
         "xaxis": "x",
         "y": [
          0.949,
          0.858,
          0.754,
          0.841,
          0.766,
          0.785,
          0.909,
          0.708,
          0.778,
          0.706,
          0.755,
          0.773,
          0.845,
          0.715,
          0.788,
          0.751,
          0.869
         ],
         "yaxis": "y"
        },
        {
         "hovertemplate": "<b>%{hovertext}</b><br><br>Regional indicator=Latin America and Caribbean<br>Healthy life expectancy=%{x}<br>Freedom to make life choices=%{marker.size}<extra></extra>",
         "hovertext": [
          "Costa Rica",
          "Chile",
          "Panama",
          "Uruguay",
          "Argentina",
          "Ecuador",
          "Mexico",
          "Peru",
          "Colombia",
          "Nicaragua",
          "Jamaica",
          "Honduras",
          "Venezuela",
          "Brazil",
          "El Salvador",
          "Dominican Republic",
          "Paraguay",
          "Guatemala",
          "Bolivia",
          "Haiti"
         ],
         "legendgroup": "Latin America and Caribbean",
         "marker": {
          "color": "#FF6692",
          "size": [
           0.934,
           0.742,
           0.872,
           0.896,
           0.828,
           0.842,
           0.862,
           0.822,
           0.837,
           0.836,
           0.89,
           0.857,
           0.615,
           0.804,
           0.888,
           0.86,
           0.876,
           0.906,
           0.875,
           0.593
          ],
          "sizemode": "area",
          "sizeref": 0.002425,
          "symbol": "circle"
         },
         "mode": "markers",
         "name": "Latin America and Caribbean",
         "orientation": "v",
         "showlegend": true,
         "type": "scatter",
         "x": [
          71.4,
          70,
          69.652,
          69.1,
          69,
          68.8,
          68.597,
          68.25,
          68.001,
          67.657,
          67.5,
          67.3,
          66.7,
          66.601,
          66.402,
          66.102,
          65.9,
          64.958,
          63.901,
          55.7
         ],
         "xaxis": "x",
         "y": [
          0.934,
          0.742,
          0.872,
          0.896,
          0.828,
          0.842,
          0.862,
          0.822,
          0.837,
          0.836,
          0.89,
          0.857,
          0.615,
          0.804,
          0.888,
          0.86,
          0.876,
          0.906,
          0.875,
          0.593
         ],
         "yaxis": "y"
        },
        {
         "hovertemplate": "<b>%{hovertext}</b><br><br>Regional indicator=South Asia<br>Healthy life expectancy=%{x}<br>Freedom to make life choices=%{marker.size}<extra></extra>",
         "hovertext": [
          "Maldives",
          "Sri Lanka",
          "Bangladesh",
          "Nepal",
          "India",
          "Pakistan",
          "Afghanistan"
         ],
         "legendgroup": "South Asia",
         "marker": {
          "color": "#B6E880",
          "size": [
           0.854,
           0.841,
           0.877,
           0.782,
           0.893,
           0.726,
           0.382
          ],
          "sizemode": "area",
          "sizeref": 0.002425,
          "symbol": "circle"
         },
         "mode": "markers",
         "name": "South Asia",
         "orientation": "v",
         "showlegend": true,
         "type": "scatter",
         "x": [
          70.6,
          67.299,
          64.8,
          64.233,
          60.633,
          58.709,
          52.493
         ],
         "xaxis": "x",
         "y": [
          0.854,
          0.841,
          0.877,
          0.782,
          0.893,
          0.726,
          0.382
         ],
         "yaxis": "y"
        },
        {
         "hovertemplate": "<b>%{hovertext}</b><br><br>Regional indicator=Commonwealth of Independent States<br>Healthy life expectancy=%{x}<br>Freedom to make life choices=%{marker.size}<extra></extra>",
         "hovertext": [
          "Armenia",
          "Belarus",
          "Moldova",
          "Azerbaijan",
          "Uzbekistan",
          "Kazakhstan",
          "Ukraine",
          "Russia",
          "Kyrgyzstan",
          "Georgia",
          "Tajikistan",
          "Turkmenistan"
         ],
         "legendgroup": "Commonwealth of Independent States",
         "marker": {
          "color": "#FF97FF",
          "size": [
           0.825,
           0.65,
           0.822,
           0.814,
           0.97,
           0.853,
           0.724,
           0.718,
           0.935,
           0.783,
           0.832,
           0.877
          ],
          "sizemode": "area",
          "sizeref": 0.002425,
          "symbol": "circle"
         },
         "mode": "markers",
         "name": "Commonwealth of Independent States",
         "orientation": "v",
         "showlegend": true,
         "type": "scatter",
         "x": [
          67.055,
          66.253,
          65.699,
          65.656,
          65.255,
          65.2,
          64.902,
          64.703,
          64.401,
          64.3,
          64.281,
          62.409
         ],
         "xaxis": "x",
         "y": [
          0.825,
          0.65,
          0.822,
          0.814,
          0.97,
          0.853,
          0.724,
          0.718,
          0.935,
          0.783,
          0.832,
          0.877
         ],
         "yaxis": "y"
        },
        {
         "hovertemplate": "<b>%{hovertext}</b><br><br>Regional indicator=Sub-Saharan Africa<br>Healthy life expectancy=%{x}<br>Freedom to make life choices=%{marker.size}<extra></extra>",
         "hovertext": [
          "Mauritius",
          "Rwanda",
          "Kenya",
          "Gabon",
          "Senegal",
          "Madagascar",
          "Botswana",
          "Ethiopia",
          "Congo (Brazzaville)",
          "Tanzania",
          "Malawi",
          "Ghana",
          "Comoros",
          "Mauritania",
          "South Africa",
          "Namibia",
          "Liberia",
          "Zimbabwe",
          "Uganda",
          "Zambia",
          "Gambia",
          "Guinea",
          "Togo",
          "Benin",
          "Mozambique",
          "Burkina Faso",
          "Niger",
          "Cameroon",
          "Burundi",
          "Mali",
          "Sierra Leone",
          "Swaziland",
          "Ivory Coast",
          "Nigeria",
          "Lesotho",
          "Chad"
         ],
         "legendgroup": "Sub-Saharan Africa",
         "marker": {
          "color": "#FECB52",
          "size": [
           0.867,
           0.897,
           0.779,
           0.731,
           0.695,
           0.552,
           0.824,
           0.752,
           0.695,
           0.833,
           0.78,
           0.807,
           0.548,
           0.561,
           0.749,
           0.719,
           0.735,
           0.677,
           0.709,
           0.782,
           0.697,
           0.697,
           0.619,
           0.757,
           0.882,
           0.695,
           0.806,
           0.731,
           0.626,
           0.697,
           0.717,
           0.647,
           0.741,
           0.737,
           0.715,
           0.579
          ],
          "sizemode": "area",
          "sizeref": 0.002425,
          "symbol": "circle"
         },
         "mode": "markers",
         "name": "Sub-Saharan Africa",
         "orientation": "v",
         "showlegend": true,
         "type": "scatter",
         "x": [
          66.701,
          61.4,
          60.704,
          59.962,
          59.802,
          59.305,
          59.269,
          59,
          58.221,
          57.999,
          57.948,
          57.586,
          57.349,
          57.161,
          56.904,
          56.799,
          56.498,
          56.201,
          56.101,
          55.809,
          55.16,
          55.008,
          54.914,
          54.713,
          54.706,
          54.151,
          53.78,
          53.515,
          53.4,
          51.969,
          51.651,
          50.833,
          50.114,
          50.102,
          48.7,
          48.478
         ],
         "xaxis": "x",
         "y": [
          0.867,
          0.897,
          0.779,
          0.731,
          0.695,
          0.552,
          0.824,
          0.752,
          0.695,
          0.833,
          0.78,
          0.807,
          0.548,
          0.561,
          0.749,
          0.719,
          0.735,
          0.677,
          0.709,
          0.782,
          0.697,
          0.697,
          0.619,
          0.757,
          0.882,
          0.695,
          0.806,
          0.731,
          0.626,
          0.697,
          0.717,
          0.647,
          0.741,
          0.737,
          0.715,
          0.579
         ],
         "yaxis": "y"
        }
       ],
       "layout": {
        "legend": {
         "itemsizing": "constant",
         "title": {
          "text": "Regional indicator"
         },
         "tracegroupgap": 0
        },
        "margin": {
         "t": 60
        },
        "template": {
         "data": {
          "bar": [
           {
            "error_x": {
             "color": "#2a3f5f"
            },
            "error_y": {
             "color": "#2a3f5f"
            },
            "marker": {
             "line": {
              "color": "#E5ECF6",
              "width": 0.5
             }
            },
            "type": "bar"
           }
          ],
          "barpolar": [
           {
            "marker": {
             "line": {
              "color": "#E5ECF6",
              "width": 0.5
             }
            },
            "type": "barpolar"
           }
          ],
          "carpet": [
           {
            "aaxis": {
             "endlinecolor": "#2a3f5f",
             "gridcolor": "white",
             "linecolor": "white",
             "minorgridcolor": "white",
             "startlinecolor": "#2a3f5f"
            },
            "baxis": {
             "endlinecolor": "#2a3f5f",
             "gridcolor": "white",
             "linecolor": "white",
             "minorgridcolor": "white",
             "startlinecolor": "#2a3f5f"
            },
            "type": "carpet"
           }
          ],
          "choropleth": [
           {
            "colorbar": {
             "outlinewidth": 0,
             "ticks": ""
            },
            "type": "choropleth"
           }
          ],
          "contour": [
           {
            "colorbar": {
             "outlinewidth": 0,
             "ticks": ""
            },
            "colorscale": [
             [
              0,
              "#0d0887"
             ],
             [
              0.1111111111111111,
              "#46039f"
             ],
             [
              0.2222222222222222,
              "#7201a8"
             ],
             [
              0.3333333333333333,
              "#9c179e"
             ],
             [
              0.4444444444444444,
              "#bd3786"
             ],
             [
              0.5555555555555556,
              "#d8576b"
             ],
             [
              0.6666666666666666,
              "#ed7953"
             ],
             [
              0.7777777777777778,
              "#fb9f3a"
             ],
             [
              0.8888888888888888,
              "#fdca26"
             ],
             [
              1,
              "#f0f921"
             ]
            ],
            "type": "contour"
           }
          ],
          "contourcarpet": [
           {
            "colorbar": {
             "outlinewidth": 0,
             "ticks": ""
            },
            "type": "contourcarpet"
           }
          ],
          "heatmap": [
           {
            "colorbar": {
             "outlinewidth": 0,
             "ticks": ""
            },
            "colorscale": [
             [
              0,
              "#0d0887"
             ],
             [
              0.1111111111111111,
              "#46039f"
             ],
             [
              0.2222222222222222,
              "#7201a8"
             ],
             [
              0.3333333333333333,
              "#9c179e"
             ],
             [
              0.4444444444444444,
              "#bd3786"
             ],
             [
              0.5555555555555556,
              "#d8576b"
             ],
             [
              0.6666666666666666,
              "#ed7953"
             ],
             [
              0.7777777777777778,
              "#fb9f3a"
             ],
             [
              0.8888888888888888,
              "#fdca26"
             ],
             [
              1,
              "#f0f921"
             ]
            ],
            "type": "heatmap"
           }
          ],
          "heatmapgl": [
           {
            "colorbar": {
             "outlinewidth": 0,
             "ticks": ""
            },
            "colorscale": [
             [
              0,
              "#0d0887"
             ],
             [
              0.1111111111111111,
              "#46039f"
             ],
             [
              0.2222222222222222,
              "#7201a8"
             ],
             [
              0.3333333333333333,
              "#9c179e"
             ],
             [
              0.4444444444444444,
              "#bd3786"
             ],
             [
              0.5555555555555556,
              "#d8576b"
             ],
             [
              0.6666666666666666,
              "#ed7953"
             ],
             [
              0.7777777777777778,
              "#fb9f3a"
             ],
             [
              0.8888888888888888,
              "#fdca26"
             ],
             [
              1,
              "#f0f921"
             ]
            ],
            "type": "heatmapgl"
           }
          ],
          "histogram": [
           {
            "marker": {
             "colorbar": {
              "outlinewidth": 0,
              "ticks": ""
             }
            },
            "type": "histogram"
           }
          ],
          "histogram2d": [
           {
            "colorbar": {
             "outlinewidth": 0,
             "ticks": ""
            },
            "colorscale": [
             [
              0,
              "#0d0887"
             ],
             [
              0.1111111111111111,
              "#46039f"
             ],
             [
              0.2222222222222222,
              "#7201a8"
             ],
             [
              0.3333333333333333,
              "#9c179e"
             ],
             [
              0.4444444444444444,
              "#bd3786"
             ],
             [
              0.5555555555555556,
              "#d8576b"
             ],
             [
              0.6666666666666666,
              "#ed7953"
             ],
             [
              0.7777777777777778,
              "#fb9f3a"
             ],
             [
              0.8888888888888888,
              "#fdca26"
             ],
             [
              1,
              "#f0f921"
             ]
            ],
            "type": "histogram2d"
           }
          ],
          "histogram2dcontour": [
           {
            "colorbar": {
             "outlinewidth": 0,
             "ticks": ""
            },
            "colorscale": [
             [
              0,
              "#0d0887"
             ],
             [
              0.1111111111111111,
              "#46039f"
             ],
             [
              0.2222222222222222,
              "#7201a8"
             ],
             [
              0.3333333333333333,
              "#9c179e"
             ],
             [
              0.4444444444444444,
              "#bd3786"
             ],
             [
              0.5555555555555556,
              "#d8576b"
             ],
             [
              0.6666666666666666,
              "#ed7953"
             ],
             [
              0.7777777777777778,
              "#fb9f3a"
             ],
             [
              0.8888888888888888,
              "#fdca26"
             ],
             [
              1,
              "#f0f921"
             ]
            ],
            "type": "histogram2dcontour"
           }
          ],
          "mesh3d": [
           {
            "colorbar": {
             "outlinewidth": 0,
             "ticks": ""
            },
            "type": "mesh3d"
           }
          ],
          "parcoords": [
           {
            "line": {
             "colorbar": {
              "outlinewidth": 0,
              "ticks": ""
             }
            },
            "type": "parcoords"
           }
          ],
          "pie": [
           {
            "automargin": true,
            "type": "pie"
           }
          ],
          "scatter": [
           {
            "marker": {
             "colorbar": {
              "outlinewidth": 0,
              "ticks": ""
             }
            },
            "type": "scatter"
           }
          ],
          "scatter3d": [
           {
            "line": {
             "colorbar": {
              "outlinewidth": 0,
              "ticks": ""
             }
            },
            "marker": {
             "colorbar": {
              "outlinewidth": 0,
              "ticks": ""
             }
            },
            "type": "scatter3d"
           }
          ],
          "scattercarpet": [
           {
            "marker": {
             "colorbar": {
              "outlinewidth": 0,
              "ticks": ""
             }
            },
            "type": "scattercarpet"
           }
          ],
          "scattergeo": [
           {
            "marker": {
             "colorbar": {
              "outlinewidth": 0,
              "ticks": ""
             }
            },
            "type": "scattergeo"
           }
          ],
          "scattergl": [
           {
            "marker": {
             "colorbar": {
              "outlinewidth": 0,
              "ticks": ""
             }
            },
            "type": "scattergl"
           }
          ],
          "scattermapbox": [
           {
            "marker": {
             "colorbar": {
              "outlinewidth": 0,
              "ticks": ""
             }
            },
            "type": "scattermapbox"
           }
          ],
          "scatterpolar": [
           {
            "marker": {
             "colorbar": {
              "outlinewidth": 0,
              "ticks": ""
             }
            },
            "type": "scatterpolar"
           }
          ],
          "scatterpolargl": [
           {
            "marker": {
             "colorbar": {
              "outlinewidth": 0,
              "ticks": ""
             }
            },
            "type": "scatterpolargl"
           }
          ],
          "scatterternary": [
           {
            "marker": {
             "colorbar": {
              "outlinewidth": 0,
              "ticks": ""
             }
            },
            "type": "scatterternary"
           }
          ],
          "surface": [
           {
            "colorbar": {
             "outlinewidth": 0,
             "ticks": ""
            },
            "colorscale": [
             [
              0,
              "#0d0887"
             ],
             [
              0.1111111111111111,
              "#46039f"
             ],
             [
              0.2222222222222222,
              "#7201a8"
             ],
             [
              0.3333333333333333,
              "#9c179e"
             ],
             [
              0.4444444444444444,
              "#bd3786"
             ],
             [
              0.5555555555555556,
              "#d8576b"
             ],
             [
              0.6666666666666666,
              "#ed7953"
             ],
             [
              0.7777777777777778,
              "#fb9f3a"
             ],
             [
              0.8888888888888888,
              "#fdca26"
             ],
             [
              1,
              "#f0f921"
             ]
            ],
            "type": "surface"
           }
          ],
          "table": [
           {
            "cells": {
             "fill": {
              "color": "#EBF0F8"
             },
             "line": {
              "color": "white"
             }
            },
            "header": {
             "fill": {
              "color": "#C8D4E3"
             },
             "line": {
              "color": "white"
             }
            },
            "type": "table"
           }
          ]
         },
         "layout": {
          "annotationdefaults": {
           "arrowcolor": "#2a3f5f",
           "arrowhead": 0,
           "arrowwidth": 1
          },
          "autotypenumbers": "strict",
          "coloraxis": {
           "colorbar": {
            "outlinewidth": 0,
            "ticks": ""
           }
          },
          "colorscale": {
           "diverging": [
            [
             0,
             "#8e0152"
            ],
            [
             0.1,
             "#c51b7d"
            ],
            [
             0.2,
             "#de77ae"
            ],
            [
             0.3,
             "#f1b6da"
            ],
            [
             0.4,
             "#fde0ef"
            ],
            [
             0.5,
             "#f7f7f7"
            ],
            [
             0.6,
             "#e6f5d0"
            ],
            [
             0.7,
             "#b8e186"
            ],
            [
             0.8,
             "#7fbc41"
            ],
            [
             0.9,
             "#4d9221"
            ],
            [
             1,
             "#276419"
            ]
           ],
           "sequential": [
            [
             0,
             "#0d0887"
            ],
            [
             0.1111111111111111,
             "#46039f"
            ],
            [
             0.2222222222222222,
             "#7201a8"
            ],
            [
             0.3333333333333333,
             "#9c179e"
            ],
            [
             0.4444444444444444,
             "#bd3786"
            ],
            [
             0.5555555555555556,
             "#d8576b"
            ],
            [
             0.6666666666666666,
             "#ed7953"
            ],
            [
             0.7777777777777778,
             "#fb9f3a"
            ],
            [
             0.8888888888888888,
             "#fdca26"
            ],
            [
             1,
             "#f0f921"
            ]
           ],
           "sequentialminus": [
            [
             0,
             "#0d0887"
            ],
            [
             0.1111111111111111,
             "#46039f"
            ],
            [
             0.2222222222222222,
             "#7201a8"
            ],
            [
             0.3333333333333333,
             "#9c179e"
            ],
            [
             0.4444444444444444,
             "#bd3786"
            ],
            [
             0.5555555555555556,
             "#d8576b"
            ],
            [
             0.6666666666666666,
             "#ed7953"
            ],
            [
             0.7777777777777778,
             "#fb9f3a"
            ],
            [
             0.8888888888888888,
             "#fdca26"
            ],
            [
             1,
             "#f0f921"
            ]
           ]
          },
          "colorway": [
           "#636efa",
           "#EF553B",
           "#00cc96",
           "#ab63fa",
           "#FFA15A",
           "#19d3f3",
           "#FF6692",
           "#B6E880",
           "#FF97FF",
           "#FECB52"
          ],
          "font": {
           "color": "#2a3f5f"
          },
          "geo": {
           "bgcolor": "white",
           "lakecolor": "white",
           "landcolor": "#E5ECF6",
           "showlakes": true,
           "showland": true,
           "subunitcolor": "white"
          },
          "hoverlabel": {
           "align": "left"
          },
          "hovermode": "closest",
          "mapbox": {
           "style": "light"
          },
          "paper_bgcolor": "white",
          "plot_bgcolor": "#E5ECF6",
          "polar": {
           "angularaxis": {
            "gridcolor": "white",
            "linecolor": "white",
            "ticks": ""
           },
           "bgcolor": "#E5ECF6",
           "radialaxis": {
            "gridcolor": "white",
            "linecolor": "white",
            "ticks": ""
           }
          },
          "scene": {
           "xaxis": {
            "backgroundcolor": "#E5ECF6",
            "gridcolor": "white",
            "gridwidth": 2,
            "linecolor": "white",
            "showbackground": true,
            "ticks": "",
            "zerolinecolor": "white"
           },
           "yaxis": {
            "backgroundcolor": "#E5ECF6",
            "gridcolor": "white",
            "gridwidth": 2,
            "linecolor": "white",
            "showbackground": true,
            "ticks": "",
            "zerolinecolor": "white"
           },
           "zaxis": {
            "backgroundcolor": "#E5ECF6",
            "gridcolor": "white",
            "gridwidth": 2,
            "linecolor": "white",
            "showbackground": true,
            "ticks": "",
            "zerolinecolor": "white"
           }
          },
          "shapedefaults": {
           "line": {
            "color": "#2a3f5f"
           }
          },
          "ternary": {
           "aaxis": {
            "gridcolor": "white",
            "linecolor": "white",
            "ticks": ""
           },
           "baxis": {
            "gridcolor": "white",
            "linecolor": "white",
            "ticks": ""
           },
           "bgcolor": "#E5ECF6",
           "caxis": {
            "gridcolor": "white",
            "linecolor": "white",
            "ticks": ""
           }
          },
          "title": {
           "x": 0.05
          },
          "xaxis": {
           "automargin": true,
           "gridcolor": "white",
           "linecolor": "white",
           "ticks": "",
           "title": {
            "standoff": 15
           },
           "zerolinecolor": "white",
           "zerolinewidth": 2
          },
          "yaxis": {
           "automargin": true,
           "gridcolor": "white",
           "linecolor": "white",
           "ticks": "",
           "title": {
            "standoff": 15
           },
           "zerolinecolor": "white",
           "zerolinewidth": 2
          }
         }
        },
        "xaxis": {
         "anchor": "y",
         "domain": [
          0,
          1
         ],
         "title": {
          "text": "Healthy life expectancy"
         }
        },
        "yaxis": {
         "anchor": "x",
         "domain": [
          0,
          1
         ],
         "title": {
          "text": "Freedom to make life choices"
         }
        }
       }
      },
      "text/html": [
       "<div>                            <div id=\"f3e1f6d9-7720-45de-b127-b3bdb6059df6\" class=\"plotly-graph-div\" style=\"height:525px; width:100%;\"></div>            <script type=\"text/javascript\">                require([\"plotly\"], function(Plotly) {                    window.PLOTLYENV=window.PLOTLYENV || {};                                    if (document.getElementById(\"f3e1f6d9-7720-45de-b127-b3bdb6059df6\")) {                    Plotly.newPlot(                        \"f3e1f6d9-7720-45de-b127-b3bdb6059df6\",                        [{\"hovertemplate\": \"<b>%{hovertext}</b><br><br>Regional indicator=Southeast Asia<br>Healthy life expectancy=%{x}<br>Freedom to make life choices=%{marker.size}<extra></extra>\", \"hovertext\": [\"Singapore\", \"Vietnam\", \"Thailand\", \"Malaysia\", \"Indonesia\", \"Philippines\", \"Cambodia\", \"Myanmar\", \"Laos\"], \"legendgroup\": \"Southeast Asia\", \"marker\": {\"color\": \"#636efa\", \"size\": [0.927, 0.94, 0.884, 0.895, 0.873, 0.917, 0.959, 0.876, 0.91], \"sizemode\": \"area\", \"sizeref\": 0.002425, \"symbol\": \"circle\"}, \"mode\": \"markers\", \"name\": \"Southeast Asia\", \"orientation\": \"v\", \"showlegend\": true, \"type\": \"scatter\", \"x\": [76.953, 68.034, 67.401, 67.102, 62.236, 62.0, 62.0, 59.302, 58.968], \"xaxis\": \"x\", \"y\": [0.927, 0.94, 0.884, 0.895, 0.873, 0.917, 0.959, 0.876, 0.91], \"yaxis\": \"y\"}, {\"hovertemplate\": \"<b>%{hovertext}</b><br><br>Regional indicator=East Asia<br>Healthy life expectancy=%{x}<br>Freedom to make life choices=%{marker.size}<extra></extra>\", \"hovertext\": [\"Hong Kong S.A.R. of China\", \"Japan\", \"South Korea\", \"Taiwan Province of China\", \"China\", \"Mongolia\"], \"legendgroup\": \"East Asia\", \"marker\": {\"color\": \"#EF553B\", \"size\": [0.717, 0.796, 0.672, 0.784, 0.904, 0.708], \"sizemode\": \"area\", \"sizeref\": 0.002425, \"symbol\": \"circle\"}, \"mode\": \"markers\", \"name\": \"East Asia\", \"orientation\": \"v\", \"showlegend\": true, \"type\": \"scatter\", \"x\": [76.82, 75.1, 73.9, 69.6, 69.593, 62.5], \"xaxis\": \"x\", \"y\": [0.717, 0.796, 0.672, 0.784, 0.904, 0.708], \"yaxis\": \"y\"}, {\"hovertemplate\": \"<b>%{hovertext}</b><br><br>Regional indicator=Western Europe<br>Healthy life expectancy=%{x}<br>Freedom to make life choices=%{marker.size}<extra></extra>\", \"hovertext\": [\"Spain\", \"Switzerland\", \"France\", \"Cyprus\", \"North Cyprus\", \"Italy\", \"Norway\", \"Austria\", \"Iceland\", \"Denmark\", \"Sweden\", \"Greece\", \"Portugal\", \"Luxembourg\", \"United Kingdom\", \"Germany\", \"Ireland\", \"Netherlands\", \"Malta\", \"Belgium\", \"Finland\"], \"legendgroup\": \"Western Europe\", \"marker\": {\"color\": \"#00cc96\", \"size\": [0.761, 0.919, 0.822, 0.763, 0.795, 0.693, 0.96, 0.908, 0.955, 0.946, 0.945, 0.582, 0.892, 0.907, 0.859, 0.875, 0.879, 0.913, 0.927, 0.783, 0.949], \"sizemode\": \"area\", \"sizeref\": 0.002425, \"symbol\": \"circle\"}, \"mode\": \"markers\", \"name\": \"Western Europe\", \"orientation\": \"v\", \"showlegend\": true, \"type\": \"scatter\", \"x\": [74.7, 74.4, 74.0, 73.898, 73.898, 73.8, 73.3, 73.3, 73.0, 72.7, 72.7, 72.6, 72.6, 72.6, 72.5, 72.5, 72.4, 72.4, 72.2, 72.199, 72.0], \"xaxis\": \"x\", \"y\": [0.761, 0.919, 0.822, 0.763, 0.795, 0.693, 0.96, 0.908, 0.955, 0.946, 0.945, 0.582, 0.892, 0.907, 0.859, 0.875, 0.879, 0.913, 0.927, 0.783, 0.949], \"yaxis\": \"y\"}, {\"hovertemplate\": \"<b>%{hovertext}</b><br><br>Regional indicator=North America and ANZ<br>Healthy life expectancy=%{x}<br>Freedom to make life choices=%{marker.size}<extra></extra>\", \"hovertext\": [\"Australia\", \"Canada\", \"New Zealand\", \"United States\"], \"legendgroup\": \"North America and ANZ\", \"marker\": {\"color\": \"#ab63fa\", \"size\": [0.914, 0.915, 0.929, 0.837], \"sizemode\": \"area\", \"sizeref\": 0.002425, \"symbol\": \"circle\"}, \"mode\": \"markers\", \"name\": \"North America and ANZ\", \"orientation\": \"v\", \"showlegend\": true, \"type\": \"scatter\", \"x\": [73.9, 73.8, 73.4, 68.2], \"xaxis\": \"x\", \"y\": [0.914, 0.915, 0.929, 0.837], \"yaxis\": \"y\"}, {\"hovertemplate\": \"<b>%{hovertext}</b><br><br>Regional indicator=Middle East and North Africa<br>Healthy life expectancy=%{x}<br>Freedom to make life choices=%{marker.size}<extra></extra>\", \"hovertext\": [\"Israel\", \"Bahrain\", \"Lebanon\", \"United Arab Emirates\", \"Tunisia\", \"Turkey\", \"Jordan\", \"Kuwait\", \"Saudi Arabia\", \"Iran\", \"Morocco\", \"Algeria\", \"Libya\", \"Palestinian Territories\", \"Egypt\", \"Iraq\", \"Yemen\"], \"legendgroup\": \"Middle East and North Africa\", \"marker\": {\"color\": \"#FFA15A\", \"size\": [0.8, 0.925, 0.525, 0.932, 0.656, 0.576, 0.755, 0.867, 0.877, 0.608, 0.774, 0.48, 0.771, 0.653, 0.749, 0.63, 0.602], \"sizemode\": \"area\", \"sizeref\": 0.002425, \"symbol\": \"circle\"}, \"mode\": \"markers\", \"name\": \"Middle East and North Africa\", \"orientation\": \"v\", \"showlegend\": true, \"type\": \"scatter\", \"x\": [73.503, 69.495, 67.355, 67.333, 67.201, 67.199, 67.0, 66.9, 66.603, 66.3, 66.208, 66.005, 62.3, 62.25, 61.998, 60.583, 57.122], \"xaxis\": \"x\", \"y\": [0.8, 0.925, 0.525, 0.932, 0.656, 0.576, 0.755, 0.867, 0.877, 0.608, 0.774, 0.48, 0.771, 0.653, 0.749, 0.63, 0.602], \"yaxis\": \"y\"}, {\"hovertemplate\": \"<b>%{hovertext}</b><br><br>Regional indicator=Central and Eastern Europe<br>Healthy life expectancy=%{x}<br>Freedom to make life choices=%{marker.size}<extra></extra>\", \"hovertext\": [\"Slovenia\", \"Czech Republic\", \"Croatia\", \"Poland\", \"Slovakia\", \"Albania\", \"Estonia\", \"Montenegro\", \"Serbia\", \"Bosnia and Herzegovina\", \"Hungary\", \"Lithuania\", \"Romania\", \"Latvia\", \"Bulgaria\", \"North Macedonia\", \"Kosovo\"], \"legendgroup\": \"Central and Eastern Europe\", \"marker\": {\"color\": \"#19d3f3\", \"size\": [0.949, 0.858, 0.754, 0.841, 0.766, 0.785, 0.909, 0.708, 0.778, 0.706, 0.755, 0.773, 0.845, 0.715, 0.788, 0.751, 0.869], \"sizemode\": \"area\", \"sizeref\": 0.002425, \"symbol\": \"circle\"}, \"mode\": \"markers\", \"name\": \"Central and Eastern Europe\", \"orientation\": \"v\", \"showlegend\": true, \"type\": \"scatter\", \"x\": [71.4, 70.807, 70.799, 69.702, 69.201, 68.999, 68.8, 68.699, 68.6, 68.098, 68.0, 67.906, 67.355, 67.1, 67.0, 65.474, 63.813], \"xaxis\": \"x\", \"y\": [0.949, 0.858, 0.754, 0.841, 0.766, 0.785, 0.909, 0.708, 0.778, 0.706, 0.755, 0.773, 0.845, 0.715, 0.788, 0.751, 0.869], \"yaxis\": \"y\"}, {\"hovertemplate\": \"<b>%{hovertext}</b><br><br>Regional indicator=Latin America and Caribbean<br>Healthy life expectancy=%{x}<br>Freedom to make life choices=%{marker.size}<extra></extra>\", \"hovertext\": [\"Costa Rica\", \"Chile\", \"Panama\", \"Uruguay\", \"Argentina\", \"Ecuador\", \"Mexico\", \"Peru\", \"Colombia\", \"Nicaragua\", \"Jamaica\", \"Honduras\", \"Venezuela\", \"Brazil\", \"El Salvador\", \"Dominican Republic\", \"Paraguay\", \"Guatemala\", \"Bolivia\", \"Haiti\"], \"legendgroup\": \"Latin America and Caribbean\", \"marker\": {\"color\": \"#FF6692\", \"size\": [0.934, 0.742, 0.872, 0.896, 0.828, 0.842, 0.862, 0.822, 0.837, 0.836, 0.89, 0.857, 0.615, 0.804, 0.888, 0.86, 0.876, 0.906, 0.875, 0.593], \"sizemode\": \"area\", \"sizeref\": 0.002425, \"symbol\": \"circle\"}, \"mode\": \"markers\", \"name\": \"Latin America and Caribbean\", \"orientation\": \"v\", \"showlegend\": true, \"type\": \"scatter\", \"x\": [71.4, 70.0, 69.652, 69.1, 69.0, 68.8, 68.597, 68.25, 68.001, 67.657, 67.5, 67.3, 66.7, 66.601, 66.402, 66.102, 65.9, 64.958, 63.901, 55.7], \"xaxis\": \"x\", \"y\": [0.934, 0.742, 0.872, 0.896, 0.828, 0.842, 0.862, 0.822, 0.837, 0.836, 0.89, 0.857, 0.615, 0.804, 0.888, 0.86, 0.876, 0.906, 0.875, 0.593], \"yaxis\": \"y\"}, {\"hovertemplate\": \"<b>%{hovertext}</b><br><br>Regional indicator=South Asia<br>Healthy life expectancy=%{x}<br>Freedom to make life choices=%{marker.size}<extra></extra>\", \"hovertext\": [\"Maldives\", \"Sri Lanka\", \"Bangladesh\", \"Nepal\", \"India\", \"Pakistan\", \"Afghanistan\"], \"legendgroup\": \"South Asia\", \"marker\": {\"color\": \"#B6E880\", \"size\": [0.854, 0.841, 0.877, 0.782, 0.893, 0.726, 0.382], \"sizemode\": \"area\", \"sizeref\": 0.002425, \"symbol\": \"circle\"}, \"mode\": \"markers\", \"name\": \"South Asia\", \"orientation\": \"v\", \"showlegend\": true, \"type\": \"scatter\", \"x\": [70.6, 67.299, 64.8, 64.233, 60.633, 58.709, 52.493], \"xaxis\": \"x\", \"y\": [0.854, 0.841, 0.877, 0.782, 0.893, 0.726, 0.382], \"yaxis\": \"y\"}, {\"hovertemplate\": \"<b>%{hovertext}</b><br><br>Regional indicator=Commonwealth of Independent States<br>Healthy life expectancy=%{x}<br>Freedom to make life choices=%{marker.size}<extra></extra>\", \"hovertext\": [\"Armenia\", \"Belarus\", \"Moldova\", \"Azerbaijan\", \"Uzbekistan\", \"Kazakhstan\", \"Ukraine\", \"Russia\", \"Kyrgyzstan\", \"Georgia\", \"Tajikistan\", \"Turkmenistan\"], \"legendgroup\": \"Commonwealth of Independent States\", \"marker\": {\"color\": \"#FF97FF\", \"size\": [0.825, 0.65, 0.822, 0.814, 0.97, 0.853, 0.724, 0.718, 0.935, 0.783, 0.832, 0.877], \"sizemode\": \"area\", \"sizeref\": 0.002425, \"symbol\": \"circle\"}, \"mode\": \"markers\", \"name\": \"Commonwealth of Independent States\", \"orientation\": \"v\", \"showlegend\": true, \"type\": \"scatter\", \"x\": [67.055, 66.253, 65.699, 65.656, 65.255, 65.2, 64.902, 64.703, 64.401, 64.3, 64.281, 62.409], \"xaxis\": \"x\", \"y\": [0.825, 0.65, 0.822, 0.814, 0.97, 0.853, 0.724, 0.718, 0.935, 0.783, 0.832, 0.877], \"yaxis\": \"y\"}, {\"hovertemplate\": \"<b>%{hovertext}</b><br><br>Regional indicator=Sub-Saharan Africa<br>Healthy life expectancy=%{x}<br>Freedom to make life choices=%{marker.size}<extra></extra>\", \"hovertext\": [\"Mauritius\", \"Rwanda\", \"Kenya\", \"Gabon\", \"Senegal\", \"Madagascar\", \"Botswana\", \"Ethiopia\", \"Congo (Brazzaville)\", \"Tanzania\", \"Malawi\", \"Ghana\", \"Comoros\", \"Mauritania\", \"South Africa\", \"Namibia\", \"Liberia\", \"Zimbabwe\", \"Uganda\", \"Zambia\", \"Gambia\", \"Guinea\", \"Togo\", \"Benin\", \"Mozambique\", \"Burkina Faso\", \"Niger\", \"Cameroon\", \"Burundi\", \"Mali\", \"Sierra Leone\", \"Swaziland\", \"Ivory Coast\", \"Nigeria\", \"Lesotho\", \"Chad\"], \"legendgroup\": \"Sub-Saharan Africa\", \"marker\": {\"color\": \"#FECB52\", \"size\": [0.867, 0.897, 0.779, 0.731, 0.695, 0.552, 0.824, 0.752, 0.695, 0.833, 0.78, 0.807, 0.548, 0.561, 0.749, 0.719, 0.735, 0.677, 0.709, 0.782, 0.697, 0.697, 0.619, 0.757, 0.882, 0.695, 0.806, 0.731, 0.626, 0.697, 0.717, 0.647, 0.741, 0.737, 0.715, 0.579], \"sizemode\": \"area\", \"sizeref\": 0.002425, \"symbol\": \"circle\"}, \"mode\": \"markers\", \"name\": \"Sub-Saharan Africa\", \"orientation\": \"v\", \"showlegend\": true, \"type\": \"scatter\", \"x\": [66.701, 61.4, 60.704, 59.962, 59.802, 59.305, 59.269, 59.0, 58.221, 57.999, 57.948, 57.586, 57.349, 57.161, 56.904, 56.799, 56.498, 56.201, 56.101, 55.809, 55.16, 55.008, 54.914, 54.713, 54.706, 54.151, 53.78, 53.515, 53.4, 51.969, 51.651, 50.833, 50.114, 50.102, 48.7, 48.478], \"xaxis\": \"x\", \"y\": [0.867, 0.897, 0.779, 0.731, 0.695, 0.552, 0.824, 0.752, 0.695, 0.833, 0.78, 0.807, 0.548, 0.561, 0.749, 0.719, 0.735, 0.677, 0.709, 0.782, 0.697, 0.697, 0.619, 0.757, 0.882, 0.695, 0.806, 0.731, 0.626, 0.697, 0.717, 0.647, 0.741, 0.737, 0.715, 0.579], \"yaxis\": \"y\"}],                        {\"legend\": {\"itemsizing\": \"constant\", \"title\": {\"text\": \"Regional indicator\"}, \"tracegroupgap\": 0}, \"margin\": {\"t\": 60}, \"template\": {\"data\": {\"bar\": [{\"error_x\": {\"color\": \"#2a3f5f\"}, \"error_y\": {\"color\": \"#2a3f5f\"}, \"marker\": {\"line\": {\"color\": \"#E5ECF6\", \"width\": 0.5}}, \"type\": \"bar\"}], \"barpolar\": [{\"marker\": {\"line\": {\"color\": \"#E5ECF6\", \"width\": 0.5}}, \"type\": \"barpolar\"}], \"carpet\": [{\"aaxis\": {\"endlinecolor\": \"#2a3f5f\", \"gridcolor\": \"white\", \"linecolor\": \"white\", \"minorgridcolor\": \"white\", \"startlinecolor\": \"#2a3f5f\"}, \"baxis\": {\"endlinecolor\": \"#2a3f5f\", \"gridcolor\": \"white\", \"linecolor\": \"white\", \"minorgridcolor\": \"white\", \"startlinecolor\": \"#2a3f5f\"}, \"type\": \"carpet\"}], \"choropleth\": [{\"colorbar\": {\"outlinewidth\": 0, \"ticks\": \"\"}, \"type\": \"choropleth\"}], \"contour\": [{\"colorbar\": {\"outlinewidth\": 0, \"ticks\": \"\"}, \"colorscale\": [[0.0, \"#0d0887\"], [0.1111111111111111, \"#46039f\"], [0.2222222222222222, \"#7201a8\"], [0.3333333333333333, \"#9c179e\"], [0.4444444444444444, \"#bd3786\"], [0.5555555555555556, \"#d8576b\"], [0.6666666666666666, \"#ed7953\"], [0.7777777777777778, \"#fb9f3a\"], [0.8888888888888888, \"#fdca26\"], [1.0, \"#f0f921\"]], \"type\": \"contour\"}], \"contourcarpet\": [{\"colorbar\": {\"outlinewidth\": 0, \"ticks\": \"\"}, \"type\": \"contourcarpet\"}], \"heatmap\": [{\"colorbar\": {\"outlinewidth\": 0, \"ticks\": \"\"}, \"colorscale\": [[0.0, \"#0d0887\"], [0.1111111111111111, \"#46039f\"], [0.2222222222222222, \"#7201a8\"], [0.3333333333333333, \"#9c179e\"], [0.4444444444444444, \"#bd3786\"], [0.5555555555555556, \"#d8576b\"], [0.6666666666666666, \"#ed7953\"], [0.7777777777777778, \"#fb9f3a\"], [0.8888888888888888, \"#fdca26\"], [1.0, \"#f0f921\"]], \"type\": \"heatmap\"}], \"heatmapgl\": [{\"colorbar\": {\"outlinewidth\": 0, \"ticks\": \"\"}, \"colorscale\": [[0.0, \"#0d0887\"], [0.1111111111111111, \"#46039f\"], [0.2222222222222222, \"#7201a8\"], [0.3333333333333333, \"#9c179e\"], [0.4444444444444444, \"#bd3786\"], [0.5555555555555556, \"#d8576b\"], [0.6666666666666666, \"#ed7953\"], [0.7777777777777778, \"#fb9f3a\"], [0.8888888888888888, \"#fdca26\"], [1.0, \"#f0f921\"]], \"type\": \"heatmapgl\"}], \"histogram\": [{\"marker\": {\"colorbar\": {\"outlinewidth\": 0, \"ticks\": \"\"}}, \"type\": \"histogram\"}], \"histogram2d\": [{\"colorbar\": {\"outlinewidth\": 0, \"ticks\": \"\"}, \"colorscale\": [[0.0, \"#0d0887\"], [0.1111111111111111, \"#46039f\"], [0.2222222222222222, \"#7201a8\"], [0.3333333333333333, \"#9c179e\"], [0.4444444444444444, \"#bd3786\"], [0.5555555555555556, \"#d8576b\"], [0.6666666666666666, \"#ed7953\"], [0.7777777777777778, \"#fb9f3a\"], [0.8888888888888888, \"#fdca26\"], [1.0, \"#f0f921\"]], \"type\": \"histogram2d\"}], \"histogram2dcontour\": [{\"colorbar\": {\"outlinewidth\": 0, \"ticks\": \"\"}, \"colorscale\": [[0.0, \"#0d0887\"], [0.1111111111111111, \"#46039f\"], [0.2222222222222222, \"#7201a8\"], [0.3333333333333333, \"#9c179e\"], [0.4444444444444444, \"#bd3786\"], [0.5555555555555556, \"#d8576b\"], [0.6666666666666666, \"#ed7953\"], [0.7777777777777778, \"#fb9f3a\"], [0.8888888888888888, \"#fdca26\"], [1.0, \"#f0f921\"]], \"type\": \"histogram2dcontour\"}], \"mesh3d\": [{\"colorbar\": {\"outlinewidth\": 0, \"ticks\": \"\"}, \"type\": \"mesh3d\"}], \"parcoords\": [{\"line\": {\"colorbar\": {\"outlinewidth\": 0, \"ticks\": \"\"}}, \"type\": \"parcoords\"}], \"pie\": [{\"automargin\": true, \"type\": \"pie\"}], \"scatter\": [{\"marker\": {\"colorbar\": {\"outlinewidth\": 0, \"ticks\": \"\"}}, \"type\": \"scatter\"}], \"scatter3d\": [{\"line\": {\"colorbar\": {\"outlinewidth\": 0, \"ticks\": \"\"}}, \"marker\": {\"colorbar\": {\"outlinewidth\": 0, \"ticks\": \"\"}}, \"type\": \"scatter3d\"}], \"scattercarpet\": [{\"marker\": {\"colorbar\": {\"outlinewidth\": 0, \"ticks\": \"\"}}, \"type\": \"scattercarpet\"}], \"scattergeo\": [{\"marker\": {\"colorbar\": {\"outlinewidth\": 0, \"ticks\": \"\"}}, \"type\": \"scattergeo\"}], \"scattergl\": [{\"marker\": {\"colorbar\": {\"outlinewidth\": 0, \"ticks\": \"\"}}, \"type\": \"scattergl\"}], \"scattermapbox\": [{\"marker\": {\"colorbar\": {\"outlinewidth\": 0, \"ticks\": \"\"}}, \"type\": \"scattermapbox\"}], \"scatterpolar\": [{\"marker\": {\"colorbar\": {\"outlinewidth\": 0, \"ticks\": \"\"}}, \"type\": \"scatterpolar\"}], \"scatterpolargl\": [{\"marker\": {\"colorbar\": {\"outlinewidth\": 0, \"ticks\": \"\"}}, \"type\": \"scatterpolargl\"}], \"scatterternary\": [{\"marker\": {\"colorbar\": {\"outlinewidth\": 0, \"ticks\": \"\"}}, \"type\": \"scatterternary\"}], \"surface\": [{\"colorbar\": {\"outlinewidth\": 0, \"ticks\": \"\"}, \"colorscale\": [[0.0, \"#0d0887\"], [0.1111111111111111, \"#46039f\"], [0.2222222222222222, \"#7201a8\"], [0.3333333333333333, \"#9c179e\"], [0.4444444444444444, \"#bd3786\"], [0.5555555555555556, \"#d8576b\"], [0.6666666666666666, \"#ed7953\"], [0.7777777777777778, \"#fb9f3a\"], [0.8888888888888888, \"#fdca26\"], [1.0, \"#f0f921\"]], \"type\": \"surface\"}], \"table\": [{\"cells\": {\"fill\": {\"color\": \"#EBF0F8\"}, \"line\": {\"color\": \"white\"}}, \"header\": {\"fill\": {\"color\": \"#C8D4E3\"}, \"line\": {\"color\": \"white\"}}, \"type\": \"table\"}]}, \"layout\": {\"annotationdefaults\": {\"arrowcolor\": \"#2a3f5f\", \"arrowhead\": 0, \"arrowwidth\": 1}, \"autotypenumbers\": \"strict\", \"coloraxis\": {\"colorbar\": {\"outlinewidth\": 0, \"ticks\": \"\"}}, \"colorscale\": {\"diverging\": [[0, \"#8e0152\"], [0.1, \"#c51b7d\"], [0.2, \"#de77ae\"], [0.3, \"#f1b6da\"], [0.4, \"#fde0ef\"], [0.5, \"#f7f7f7\"], [0.6, \"#e6f5d0\"], [0.7, \"#b8e186\"], [0.8, \"#7fbc41\"], [0.9, \"#4d9221\"], [1, \"#276419\"]], \"sequential\": [[0.0, \"#0d0887\"], [0.1111111111111111, \"#46039f\"], [0.2222222222222222, \"#7201a8\"], [0.3333333333333333, \"#9c179e\"], [0.4444444444444444, \"#bd3786\"], [0.5555555555555556, \"#d8576b\"], [0.6666666666666666, \"#ed7953\"], [0.7777777777777778, \"#fb9f3a\"], [0.8888888888888888, \"#fdca26\"], [1.0, \"#f0f921\"]], \"sequentialminus\": [[0.0, \"#0d0887\"], [0.1111111111111111, \"#46039f\"], [0.2222222222222222, \"#7201a8\"], [0.3333333333333333, \"#9c179e\"], [0.4444444444444444, \"#bd3786\"], [0.5555555555555556, \"#d8576b\"], [0.6666666666666666, \"#ed7953\"], [0.7777777777777778, \"#fb9f3a\"], [0.8888888888888888, \"#fdca26\"], [1.0, \"#f0f921\"]]}, \"colorway\": [\"#636efa\", \"#EF553B\", \"#00cc96\", \"#ab63fa\", \"#FFA15A\", \"#19d3f3\", \"#FF6692\", \"#B6E880\", \"#FF97FF\", \"#FECB52\"], \"font\": {\"color\": \"#2a3f5f\"}, \"geo\": {\"bgcolor\": \"white\", \"lakecolor\": \"white\", \"landcolor\": \"#E5ECF6\", \"showlakes\": true, \"showland\": true, \"subunitcolor\": \"white\"}, \"hoverlabel\": {\"align\": \"left\"}, \"hovermode\": \"closest\", \"mapbox\": {\"style\": \"light\"}, \"paper_bgcolor\": \"white\", \"plot_bgcolor\": \"#E5ECF6\", \"polar\": {\"angularaxis\": {\"gridcolor\": \"white\", \"linecolor\": \"white\", \"ticks\": \"\"}, \"bgcolor\": \"#E5ECF6\", \"radialaxis\": {\"gridcolor\": \"white\", \"linecolor\": \"white\", \"ticks\": \"\"}}, \"scene\": {\"xaxis\": {\"backgroundcolor\": \"#E5ECF6\", \"gridcolor\": \"white\", \"gridwidth\": 2, \"linecolor\": \"white\", \"showbackground\": true, \"ticks\": \"\", \"zerolinecolor\": \"white\"}, \"yaxis\": {\"backgroundcolor\": \"#E5ECF6\", \"gridcolor\": \"white\", \"gridwidth\": 2, \"linecolor\": \"white\", \"showbackground\": true, \"ticks\": \"\", \"zerolinecolor\": \"white\"}, \"zaxis\": {\"backgroundcolor\": \"#E5ECF6\", \"gridcolor\": \"white\", \"gridwidth\": 2, \"linecolor\": \"white\", \"showbackground\": true, \"ticks\": \"\", \"zerolinecolor\": \"white\"}}, \"shapedefaults\": {\"line\": {\"color\": \"#2a3f5f\"}}, \"ternary\": {\"aaxis\": {\"gridcolor\": \"white\", \"linecolor\": \"white\", \"ticks\": \"\"}, \"baxis\": {\"gridcolor\": \"white\", \"linecolor\": \"white\", \"ticks\": \"\"}, \"bgcolor\": \"#E5ECF6\", \"caxis\": {\"gridcolor\": \"white\", \"linecolor\": \"white\", \"ticks\": \"\"}}, \"title\": {\"x\": 0.05}, \"xaxis\": {\"automargin\": true, \"gridcolor\": \"white\", \"linecolor\": \"white\", \"ticks\": \"\", \"title\": {\"standoff\": 15}, \"zerolinecolor\": \"white\", \"zerolinewidth\": 2}, \"yaxis\": {\"automargin\": true, \"gridcolor\": \"white\", \"linecolor\": \"white\", \"ticks\": \"\", \"title\": {\"standoff\": 15}, \"zerolinecolor\": \"white\", \"zerolinewidth\": 2}}}, \"xaxis\": {\"anchor\": \"y\", \"domain\": [0.0, 1.0], \"title\": {\"text\": \"Healthy life expectancy\"}}, \"yaxis\": {\"anchor\": \"x\", \"domain\": [0.0, 1.0], \"title\": {\"text\": \"Freedom to make life choices\"}}},                        {\"responsive\": true}                    ).then(function(){\n",
       "                            \n",
       "var gd = document.getElementById('f3e1f6d9-7720-45de-b127-b3bdb6059df6');\n",
       "var x = new MutationObserver(function (mutations, observer) {{\n",
       "        var display = window.getComputedStyle(gd).display;\n",
       "        if (!display || display === 'none') {{\n",
       "            console.log([gd, 'removed!']);\n",
       "            Plotly.purge(gd);\n",
       "            observer.disconnect();\n",
       "        }}\n",
       "}});\n",
       "\n",
       "// Listen for the removal of the full notebook cells\n",
       "var notebookContainer = gd.closest('#notebook-container');\n",
       "if (notebookContainer) {{\n",
       "    x.observe(notebookContainer, {childList: true});\n",
       "}}\n",
       "\n",
       "// Listen for the clearing of the current output cell\n",
       "var outputEl = gd.closest('.output');\n",
       "if (outputEl) {{\n",
       "    x.observe(outputEl, {childList: true});\n",
       "}}\n",
       "\n",
       "                        })                };                });            </script>        </div>"
      ]
     },
     "metadata": {},
     "output_type": "display_data"
    }
   ],
   "source": [
    "fig = px.scatter(hlef, x = \"Healthy life expectancy\", y = \"Freedom to make life choices\",\n",
    "                size = \"Freedom to make life choices\", color = \"Regional indicator\",\n",
    "                hover_name=\"Country name\")\n",
    "fig.show()"
   ]
  },
  {
   "cell_type": "markdown",
   "metadata": {},
   "source": [
    "> **Sub-Saharan Africa seems to have very low healty life expectancy.**"
   ]
  },
  {
   "cell_type": "markdown",
   "metadata": {},
   "source": [
    "### Generosity and Perceptions of corruption"
   ]
  },
  {
   "cell_type": "code",
   "execution_count": 141,
   "metadata": {},
   "outputs": [
    {
     "data": {
      "text/html": [
       "<div>\n",
       "<style scoped>\n",
       "    .dataframe tbody tr th:only-of-type {\n",
       "        vertical-align: middle;\n",
       "    }\n",
       "\n",
       "    .dataframe tbody tr th {\n",
       "        vertical-align: top;\n",
       "    }\n",
       "\n",
       "    .dataframe thead th {\n",
       "        text-align: right;\n",
       "    }\n",
       "</style>\n",
       "<table border=\"1\" class=\"dataframe\">\n",
       "  <thead>\n",
       "    <tr style=\"text-align: right;\">\n",
       "      <th></th>\n",
       "      <th>Perceptions of corruption</th>\n",
       "      <th>Generosity</th>\n",
       "      <th>Country name</th>\n",
       "      <th>Regional indicator</th>\n",
       "      <th>Freedom to make life choices</th>\n",
       "    </tr>\n",
       "  </thead>\n",
       "  <tbody>\n",
       "    <tr>\n",
       "      <th>59</th>\n",
       "      <td>0.939</td>\n",
       "      <td>-0.118</td>\n",
       "      <td>Croatia</td>\n",
       "      <td>Central and Eastern Europe</td>\n",
       "      <td>0.754</td>\n",
       "    </tr>\n",
       "    <tr>\n",
       "      <th>45</th>\n",
       "      <td>0.938</td>\n",
       "      <td>-0.219</td>\n",
       "      <td>Romania</td>\n",
       "      <td>Central and Eastern Europe</td>\n",
       "      <td>0.845</td>\n",
       "    </tr>\n",
       "    <tr>\n",
       "      <th>87</th>\n",
       "      <td>0.932</td>\n",
       "      <td>-0.096</td>\n",
       "      <td>Bulgaria</td>\n",
       "      <td>Central and Eastern Europe</td>\n",
       "      <td>0.788</td>\n",
       "    </tr>\n",
       "    <tr>\n",
       "      <th>63</th>\n",
       "      <td>0.931</td>\n",
       "      <td>0.113</td>\n",
       "      <td>Bosnia and Herzegovina</td>\n",
       "      <td>Central and Eastern Europe</td>\n",
       "      <td>0.706</td>\n",
       "    </tr>\n",
       "    <tr>\n",
       "      <th>148</th>\n",
       "      <td>0.924</td>\n",
       "      <td>-0.102</td>\n",
       "      <td>Afghanistan</td>\n",
       "      <td>South Asia</td>\n",
       "      <td>0.382</td>\n",
       "    </tr>\n",
       "    <tr>\n",
       "      <th>109</th>\n",
       "      <td>0.924</td>\n",
       "      <td>-0.011</td>\n",
       "      <td>Ukraine</td>\n",
       "      <td>Commonwealth of Independent States</td>\n",
       "      <td>0.724</td>\n",
       "    </tr>\n",
       "    <tr>\n",
       "      <th>64</th>\n",
       "      <td>0.918</td>\n",
       "      <td>-0.079</td>\n",
       "      <td>Moldova</td>\n",
       "      <td>Commonwealth of Independent States</td>\n",
       "      <td>0.822</td>\n",
       "    </tr>\n",
       "    <tr>\n",
       "      <th>32</th>\n",
       "      <td>0.917</td>\n",
       "      <td>0.257</td>\n",
       "      <td>Kosovo</td>\n",
       "      <td>Central and Eastern Europe</td>\n",
       "      <td>0.869</td>\n",
       "    </tr>\n",
       "    <tr>\n",
       "      <th>144</th>\n",
       "      <td>0.915</td>\n",
       "      <td>-0.131</td>\n",
       "      <td>Lesotho</td>\n",
       "      <td>Sub-Saharan Africa</td>\n",
       "      <td>0.715</td>\n",
       "    </tr>\n",
       "    <tr>\n",
       "      <th>33</th>\n",
       "      <td>0.911</td>\n",
       "      <td>-0.124</td>\n",
       "      <td>Slovakia</td>\n",
       "      <td>Central and Eastern Europe</td>\n",
       "      <td>0.766</td>\n",
       "    </tr>\n",
       "    <tr>\n",
       "      <th>66</th>\n",
       "      <td>0.908</td>\n",
       "      <td>0.119</td>\n",
       "      <td>Kyrgyzstan</td>\n",
       "      <td>Commonwealth of Independent States</td>\n",
       "      <td>0.935</td>\n",
       "    </tr>\n",
       "    <tr>\n",
       "      <th>93</th>\n",
       "      <td>0.905</td>\n",
       "      <td>0.038</td>\n",
       "      <td>North Macedonia</td>\n",
       "      <td>Central and Eastern Europe</td>\n",
       "      <td>0.751</td>\n",
       "    </tr>\n",
       "    <tr>\n",
       "      <th>92</th>\n",
       "      <td>0.901</td>\n",
       "      <td>-0.030</td>\n",
       "      <td>Albania</td>\n",
       "      <td>Central and Eastern Europe</td>\n",
       "      <td>0.785</td>\n",
       "    </tr>\n",
       "    <tr>\n",
       "      <th>122</th>\n",
       "      <td>0.898</td>\n",
       "      <td>-0.073</td>\n",
       "      <td>Lebanon</td>\n",
       "      <td>Middle East and North Africa</td>\n",
       "      <td>0.525</td>\n",
       "    </tr>\n",
       "    <tr>\n",
       "      <th>53</th>\n",
       "      <td>0.895</td>\n",
       "      <td>0.287</td>\n",
       "      <td>Thailand</td>\n",
       "      <td>Southeast Asia</td>\n",
       "      <td>0.884</td>\n",
       "    </tr>\n",
       "    <tr>\n",
       "      <th>62</th>\n",
       "      <td>0.891</td>\n",
       "      <td>-0.154</td>\n",
       "      <td>Peru</td>\n",
       "      <td>Latin America and Caribbean</td>\n",
       "      <td>0.822</td>\n",
       "    </tr>\n",
       "    <tr>\n",
       "      <th>96</th>\n",
       "      <td>0.888</td>\n",
       "      <td>0.273</td>\n",
       "      <td>Turkmenistan</td>\n",
       "      <td>Commonwealth of Independent States</td>\n",
       "      <td>0.877</td>\n",
       "    </tr>\n",
       "    <tr>\n",
       "      <th>57</th>\n",
       "      <td>0.887</td>\n",
       "      <td>-0.244</td>\n",
       "      <td>Portugal</td>\n",
       "      <td>Western Europe</td>\n",
       "      <td>0.892</td>\n",
       "    </tr>\n",
       "    <tr>\n",
       "      <th>36</th>\n",
       "      <td>0.884</td>\n",
       "      <td>-0.137</td>\n",
       "      <td>Jamaica</td>\n",
       "      <td>Latin America and Caribbean</td>\n",
       "      <td>0.890</td>\n",
       "    </tr>\n",
       "    <tr>\n",
       "      <th>70</th>\n",
       "      <td>0.882</td>\n",
       "      <td>0.028</td>\n",
       "      <td>Paraguay</td>\n",
       "      <td>Latin America and Caribbean</td>\n",
       "      <td>0.876</td>\n",
       "    </tr>\n",
       "  </tbody>\n",
       "</table>\n",
       "</div>"
      ],
      "text/plain": [
       "     Perceptions of corruption  Generosity            Country name  \\\n",
       "59                       0.939      -0.118                 Croatia   \n",
       "45                       0.938      -0.219                 Romania   \n",
       "87                       0.932      -0.096                Bulgaria   \n",
       "63                       0.931       0.113  Bosnia and Herzegovina   \n",
       "148                      0.924      -0.102             Afghanistan   \n",
       "109                      0.924      -0.011                 Ukraine   \n",
       "64                       0.918      -0.079                 Moldova   \n",
       "32                       0.917       0.257                  Kosovo   \n",
       "144                      0.915      -0.131                 Lesotho   \n",
       "33                       0.911      -0.124                Slovakia   \n",
       "66                       0.908       0.119              Kyrgyzstan   \n",
       "93                       0.905       0.038         North Macedonia   \n",
       "92                       0.901      -0.030                 Albania   \n",
       "122                      0.898      -0.073                 Lebanon   \n",
       "53                       0.895       0.287                Thailand   \n",
       "62                       0.891      -0.154                    Peru   \n",
       "96                       0.888       0.273            Turkmenistan   \n",
       "57                       0.887      -0.244                Portugal   \n",
       "36                       0.884      -0.137                 Jamaica   \n",
       "70                       0.882       0.028                Paraguay   \n",
       "\n",
       "                     Regional indicator  Freedom to make life choices  \n",
       "59           Central and Eastern Europe                         0.754  \n",
       "45           Central and Eastern Europe                         0.845  \n",
       "87           Central and Eastern Europe                         0.788  \n",
       "63           Central and Eastern Europe                         0.706  \n",
       "148                          South Asia                         0.382  \n",
       "109  Commonwealth of Independent States                         0.724  \n",
       "64   Commonwealth of Independent States                         0.822  \n",
       "32           Central and Eastern Europe                         0.869  \n",
       "144                  Sub-Saharan Africa                         0.715  \n",
       "33           Central and Eastern Europe                         0.766  \n",
       "66   Commonwealth of Independent States                         0.935  \n",
       "93           Central and Eastern Europe                         0.751  \n",
       "92           Central and Eastern Europe                         0.785  \n",
       "122        Middle East and North Africa                         0.525  \n",
       "53                       Southeast Asia                         0.884  \n",
       "62          Latin America and Caribbean                         0.822  \n",
       "96   Commonwealth of Independent States                         0.877  \n",
       "57                       Western Europe                         0.892  \n",
       "36          Latin America and Caribbean                         0.890  \n",
       "70          Latin America and Caribbean                         0.876  "
      ]
     },
     "execution_count": 141,
     "metadata": {},
     "output_type": "execute_result"
    }
   ],
   "source": [
    "gen_cor = df[[\"Perceptions of corruption\",\"Generosity\",\"Country name\",\n",
    "              \"Regional indicator\",\"Freedom to make life choices\"]].sort_values(\"Perceptions of corruption\",ascending=False)\n",
    "\n",
    "# Top corrupt\n",
    "gen_cor.head(20)"
   ]
  },
  {
   "cell_type": "code",
   "execution_count": 143,
   "metadata": {
    "scrolled": true
   },
   "outputs": [
    {
     "data": {
      "text/html": [
       "<div>\n",
       "<style scoped>\n",
       "    .dataframe tbody tr th:only-of-type {\n",
       "        vertical-align: middle;\n",
       "    }\n",
       "\n",
       "    .dataframe tbody tr th {\n",
       "        vertical-align: top;\n",
       "    }\n",
       "\n",
       "    .dataframe thead th {\n",
       "        text-align: right;\n",
       "    }\n",
       "</style>\n",
       "<table border=\"1\" class=\"dataframe\">\n",
       "  <thead>\n",
       "    <tr style=\"text-align: right;\">\n",
       "      <th></th>\n",
       "      <th>Perceptions of corruption</th>\n",
       "      <th>Generosity</th>\n",
       "      <th>Country name</th>\n",
       "      <th>Regional indicator</th>\n",
       "      <th>Freedom to make life choices</th>\n",
       "    </tr>\n",
       "  </thead>\n",
       "  <tbody>\n",
       "    <tr>\n",
       "      <th>39</th>\n",
       "      <td>0.527</td>\n",
       "      <td>-0.106</td>\n",
       "      <td>Estonia</td>\n",
       "      <td>Central and Eastern Europe</td>\n",
       "      <td>0.909</td>\n",
       "    </tr>\n",
       "    <tr>\n",
       "      <th>41</th>\n",
       "      <td>0.515</td>\n",
       "      <td>0.311</td>\n",
       "      <td>Uzbekistan</td>\n",
       "      <td>Commonwealth of Independent States</td>\n",
       "      <td>0.970</td>\n",
       "    </tr>\n",
       "    <tr>\n",
       "      <th>89</th>\n",
       "      <td>0.506</td>\n",
       "      <td>-0.223</td>\n",
       "      <td>Azerbaijan</td>\n",
       "      <td>Commonwealth of Independent States</td>\n",
       "      <td>0.814</td>\n",
       "    </tr>\n",
       "    <tr>\n",
       "      <th>9</th>\n",
       "      <td>0.481</td>\n",
       "      <td>0.042</td>\n",
       "      <td>Austria</td>\n",
       "      <td>Western Europe</td>\n",
       "      <td>0.908</td>\n",
       "    </tr>\n",
       "    <tr>\n",
       "      <th>12</th>\n",
       "      <td>0.460</td>\n",
       "      <td>0.011</td>\n",
       "      <td>Germany</td>\n",
       "      <td>Western Europe</td>\n",
       "      <td>0.875</td>\n",
       "    </tr>\n",
       "    <tr>\n",
       "      <th>16</th>\n",
       "      <td>0.459</td>\n",
       "      <td>0.233</td>\n",
       "      <td>United Kingdom</td>\n",
       "      <td>Western Europe</td>\n",
       "      <td>0.859</td>\n",
       "    </tr>\n",
       "    <tr>\n",
       "      <th>10</th>\n",
       "      <td>0.442</td>\n",
       "      <td>0.159</td>\n",
       "      <td>Australia</td>\n",
       "      <td>North America and ANZ</td>\n",
       "      <td>0.914</td>\n",
       "    </tr>\n",
       "    <tr>\n",
       "      <th>13</th>\n",
       "      <td>0.415</td>\n",
       "      <td>0.089</td>\n",
       "      <td>Canada</td>\n",
       "      <td>North America and ANZ</td>\n",
       "      <td>0.915</td>\n",
       "    </tr>\n",
       "    <tr>\n",
       "      <th>76</th>\n",
       "      <td>0.403</td>\n",
       "      <td>0.067</td>\n",
       "      <td>Hong Kong S.A.R. of China</td>\n",
       "      <td>East Asia</td>\n",
       "      <td>0.717</td>\n",
       "    </tr>\n",
       "    <tr>\n",
       "      <th>7</th>\n",
       "      <td>0.386</td>\n",
       "      <td>-0.034</td>\n",
       "      <td>Luxembourg</td>\n",
       "      <td>Western Europe</td>\n",
       "      <td>0.907</td>\n",
       "    </tr>\n",
       "    <tr>\n",
       "      <th>14</th>\n",
       "      <td>0.363</td>\n",
       "      <td>0.077</td>\n",
       "      <td>Ireland</td>\n",
       "      <td>Western Europe</td>\n",
       "      <td>0.879</td>\n",
       "    </tr>\n",
       "    <tr>\n",
       "      <th>4</th>\n",
       "      <td>0.338</td>\n",
       "      <td>0.175</td>\n",
       "      <td>Netherlands</td>\n",
       "      <td>Western Europe</td>\n",
       "      <td>0.913</td>\n",
       "    </tr>\n",
       "    <tr>\n",
       "      <th>2</th>\n",
       "      <td>0.292</td>\n",
       "      <td>0.025</td>\n",
       "      <td>Switzerland</td>\n",
       "      <td>Western Europe</td>\n",
       "      <td>0.919</td>\n",
       "    </tr>\n",
       "    <tr>\n",
       "      <th>5</th>\n",
       "      <td>0.270</td>\n",
       "      <td>0.093</td>\n",
       "      <td>Norway</td>\n",
       "      <td>Western Europe</td>\n",
       "      <td>0.960</td>\n",
       "    </tr>\n",
       "    <tr>\n",
       "      <th>8</th>\n",
       "      <td>0.242</td>\n",
       "      <td>0.134</td>\n",
       "      <td>New Zealand</td>\n",
       "      <td>North America and ANZ</td>\n",
       "      <td>0.929</td>\n",
       "    </tr>\n",
       "    <tr>\n",
       "      <th>6</th>\n",
       "      <td>0.237</td>\n",
       "      <td>0.086</td>\n",
       "      <td>Sweden</td>\n",
       "      <td>Western Europe</td>\n",
       "      <td>0.945</td>\n",
       "    </tr>\n",
       "    <tr>\n",
       "      <th>0</th>\n",
       "      <td>0.186</td>\n",
       "      <td>-0.098</td>\n",
       "      <td>Finland</td>\n",
       "      <td>Western Europe</td>\n",
       "      <td>0.949</td>\n",
       "    </tr>\n",
       "    <tr>\n",
       "      <th>1</th>\n",
       "      <td>0.179</td>\n",
       "      <td>0.030</td>\n",
       "      <td>Denmark</td>\n",
       "      <td>Western Europe</td>\n",
       "      <td>0.946</td>\n",
       "    </tr>\n",
       "    <tr>\n",
       "      <th>146</th>\n",
       "      <td>0.167</td>\n",
       "      <td>0.061</td>\n",
       "      <td>Rwanda</td>\n",
       "      <td>Sub-Saharan Africa</td>\n",
       "      <td>0.897</td>\n",
       "    </tr>\n",
       "    <tr>\n",
       "      <th>31</th>\n",
       "      <td>0.082</td>\n",
       "      <td>-0.018</td>\n",
       "      <td>Singapore</td>\n",
       "      <td>Southeast Asia</td>\n",
       "      <td>0.927</td>\n",
       "    </tr>\n",
       "  </tbody>\n",
       "</table>\n",
       "</div>"
      ],
      "text/plain": [
       "     Perceptions of corruption  Generosity               Country name  \\\n",
       "39                       0.527      -0.106                    Estonia   \n",
       "41                       0.515       0.311                 Uzbekistan   \n",
       "89                       0.506      -0.223                 Azerbaijan   \n",
       "9                        0.481       0.042                    Austria   \n",
       "12                       0.460       0.011                    Germany   \n",
       "16                       0.459       0.233             United Kingdom   \n",
       "10                       0.442       0.159                  Australia   \n",
       "13                       0.415       0.089                     Canada   \n",
       "76                       0.403       0.067  Hong Kong S.A.R. of China   \n",
       "7                        0.386      -0.034                 Luxembourg   \n",
       "14                       0.363       0.077                    Ireland   \n",
       "4                        0.338       0.175                Netherlands   \n",
       "2                        0.292       0.025                Switzerland   \n",
       "5                        0.270       0.093                     Norway   \n",
       "8                        0.242       0.134                New Zealand   \n",
       "6                        0.237       0.086                     Sweden   \n",
       "0                        0.186      -0.098                    Finland   \n",
       "1                        0.179       0.030                    Denmark   \n",
       "146                      0.167       0.061                     Rwanda   \n",
       "31                       0.082      -0.018                  Singapore   \n",
       "\n",
       "                     Regional indicator  Freedom to make life choices  \n",
       "39           Central and Eastern Europe                         0.909  \n",
       "41   Commonwealth of Independent States                         0.970  \n",
       "89   Commonwealth of Independent States                         0.814  \n",
       "9                        Western Europe                         0.908  \n",
       "12                       Western Europe                         0.875  \n",
       "16                       Western Europe                         0.859  \n",
       "10                North America and ANZ                         0.914  \n",
       "13                North America and ANZ                         0.915  \n",
       "76                            East Asia                         0.717  \n",
       "7                        Western Europe                         0.907  \n",
       "14                       Western Europe                         0.879  \n",
       "4                        Western Europe                         0.913  \n",
       "2                        Western Europe                         0.919  \n",
       "5                        Western Europe                         0.960  \n",
       "8                 North America and ANZ                         0.929  \n",
       "6                        Western Europe                         0.945  \n",
       "0                        Western Europe                         0.949  \n",
       "1                        Western Europe                         0.946  \n",
       "146                  Sub-Saharan Africa                         0.897  \n",
       "31                       Southeast Asia                         0.927  "
      ]
     },
     "execution_count": 143,
     "metadata": {},
     "output_type": "execute_result"
    }
   ],
   "source": [
    "# Least corrupt\n",
    "gen_cor.tail(20)"
   ]
  },
  {
   "cell_type": "code",
   "execution_count": 151,
   "metadata": {},
   "outputs": [
    {
     "data": {
      "application/vnd.plotly.v1+json": {
       "config": {
        "plotlyServerURL": "https://plot.ly"
       },
       "data": [
        {
         "hovertemplate": "<b>%{hovertext}</b><br><br>Regional indicator=Central and Eastern Europe<br>Generosity=%{x}<br>Freedom to make life choices=%{y}<br>Perceptions of corruption=%{z}<extra></extra>",
         "hovertext": [
          "Croatia",
          "Romania",
          "Bulgaria",
          "Bosnia and Herzegovina",
          "Kosovo",
          "Slovakia",
          "North Macedonia",
          "Albania",
          "Hungary",
          "Czech Republic",
          "Serbia",
          "Lithuania",
          "Montenegro",
          "Slovenia",
          "Latvia",
          "Poland",
          "Estonia"
         ],
         "legendgroup": "Central and Eastern Europe",
         "marker": {
          "color": "#636efa",
          "symbol": "circle"
         },
         "mode": "markers",
         "name": "Central and Eastern Europe",
         "scene": "scene",
         "showlegend": true,
         "type": "scatter3d",
         "x": [
          -0.118,
          -0.219,
          -0.096,
          0.113,
          0.257,
          -0.124,
          0.038,
          -0.03,
          -0.186,
          -0.208,
          0.002,
          -0.203,
          -0.034,
          -0.101,
          -0.162,
          -0.165,
          -0.106
         ],
         "y": [
          0.754,
          0.845,
          0.788,
          0.706,
          0.869,
          0.766,
          0.751,
          0.785,
          0.755,
          0.858,
          0.778,
          0.773,
          0.708,
          0.949,
          0.715,
          0.841,
          0.909
         ],
         "z": [
          0.939,
          0.938,
          0.932,
          0.931,
          0.917,
          0.911,
          0.905,
          0.901,
          0.876,
          0.868,
          0.835,
          0.826,
          0.812,
          0.806,
          0.8,
          0.735,
          0.527
         ]
        },
        {
         "hovertemplate": "<b>%{hovertext}</b><br><br>Regional indicator=South Asia<br>Generosity=%{x}<br>Freedom to make life choices=%{y}<br>Perceptions of corruption=%{z}<extra></extra>",
         "hovertext": [
          "Afghanistan",
          "Sri Lanka",
          "Maldives",
          "Pakistan",
          "India",
          "Nepal",
          "Bangladesh"
         ],
         "legendgroup": "South Asia",
         "marker": {
          "color": "#EF553B",
          "symbol": "circle"
         },
         "mode": "markers",
         "name": "South Asia",
         "scene": "scene",
         "showlegend": true,
         "type": "scatter3d",
         "x": [
          -0.102,
          0.079,
          0.024,
          0.098,
          0.089,
          0.152,
          -0.041
         ],
         "y": [
          0.382,
          0.841,
          0.854,
          0.726,
          0.893,
          0.782,
          0.877
         ],
         "z": [
          0.924,
          0.863,
          0.825,
          0.787,
          0.774,
          0.727,
          0.682
         ]
        },
        {
         "hovertemplate": "<b>%{hovertext}</b><br><br>Regional indicator=Commonwealth of Independent States<br>Generosity=%{x}<br>Freedom to make life choices=%{y}<br>Perceptions of corruption=%{z}<extra></extra>",
         "hovertext": [
          "Ukraine",
          "Moldova",
          "Kyrgyzstan",
          "Turkmenistan",
          "Russia",
          "Kazakhstan",
          "Georgia",
          "Armenia",
          "Belarus",
          "Tajikistan",
          "Uzbekistan",
          "Azerbaijan"
         ],
         "legendgroup": "Commonwealth of Independent States",
         "marker": {
          "color": "#00cc96",
          "symbol": "circle"
         },
         "mode": "markers",
         "name": "Commonwealth of Independent States",
         "scene": "scene",
         "showlegend": true,
         "type": "scatter3d",
         "x": [
          -0.011,
          -0.079,
          0.119,
          0.273,
          -0.111,
          -0.069,
          -0.238,
          -0.168,
          -0.18,
          -0.056,
          0.311,
          -0.223
         ],
         "y": [
          0.724,
          0.822,
          0.935,
          0.877,
          0.718,
          0.853,
          0.783,
          0.825,
          0.65,
          0.832,
          0.97,
          0.814
         ],
         "z": [
          0.924,
          0.918,
          0.908,
          0.888,
          0.845,
          0.733,
          0.655,
          0.629,
          0.627,
          0.553,
          0.515,
          0.506
         ]
        },
        {
         "hovertemplate": "<b>%{hovertext}</b><br><br>Regional indicator=Sub-Saharan Africa<br>Generosity=%{x}<br>Freedom to make life choices=%{y}<br>Perceptions of corruption=%{z}<extra></extra>",
         "hovertext": [
          "Lesotho",
          "Nigeria",
          "Sierra Leone",
          "South Africa",
          "Uganda",
          "Liberia",
          "Cameroon",
          "Ghana",
          "Namibia",
          "Gabon",
          "Mali",
          "Kenya",
          "Zambia",
          "Zimbabwe",
          "Chad",
          "Madagascar",
          "Senegal",
          "Botswana",
          "Ivory Coast",
          "Mauritius",
          "Comoros",
          "Togo",
          "Guinea",
          "Ethiopia",
          "Burkina Faso",
          "Gambia",
          "Congo (Brazzaville)",
          "Mauritania",
          "Malawi",
          "Swaziland",
          "Niger",
          "Mozambique",
          "Benin",
          "Burundi",
          "Tanzania",
          "Rwanda"
         ],
         "legendgroup": "Sub-Saharan Africa",
         "marker": {
          "color": "#ab63fa",
          "symbol": "circle"
         },
         "mode": "markers",
         "name": "Sub-Saharan Africa",
         "scene": "scene",
         "showlegend": true,
         "type": "scatter3d",
         "x": [
          -0.131,
          0.037,
          0.084,
          -0.067,
          0.122,
          0.05,
          0.026,
          0.123,
          -0.149,
          -0.2,
          -0.036,
          0.287,
          0.061,
          -0.047,
          0.041,
          -0.005,
          -0.046,
          -0.246,
          -0.016,
          -0.054,
          0.082,
          0.032,
          0.095,
          0.082,
          -0.009,
          0.424,
          -0.068,
          -0.106,
          0.038,
          -0.185,
          0.018,
          0.061,
          -0.034,
          -0.024,
          0.183,
          0.061
         ],
         "y": [
          0.715,
          0.737,
          0.717,
          0.749,
          0.709,
          0.735,
          0.731,
          0.807,
          0.719,
          0.731,
          0.697,
          0.779,
          0.782,
          0.677,
          0.579,
          0.552,
          0.695,
          0.824,
          0.741,
          0.867,
          0.548,
          0.619,
          0.697,
          0.752,
          0.695,
          0.697,
          0.695,
          0.561,
          0.78,
          0.647,
          0.806,
          0.882,
          0.757,
          0.626,
          0.833,
          0.897
         ],
         "z": [
          0.915,
          0.878,
          0.866,
          0.86,
          0.855,
          0.85,
          0.848,
          0.848,
          0.847,
          0.84,
          0.827,
          0.825,
          0.823,
          0.821,
          0.807,
          0.803,
          0.801,
          0.801,
          0.794,
          0.789,
          0.781,
          0.772,
          0.766,
          0.761,
          0.748,
          0.746,
          0.745,
          0.731,
          0.729,
          0.708,
          0.693,
          0.684,
          0.661,
          0.607,
          0.577,
          0.167
         ]
        },
        {
         "hovertemplate": "<b>%{hovertext}</b><br><br>Regional indicator=Middle East and North Africa<br>Generosity=%{x}<br>Freedom to make life choices=%{y}<br>Perceptions of corruption=%{z}<extra></extra>",
         "hovertext": [
          "Lebanon",
          "Iraq",
          "Tunisia",
          "Palestinian Territories",
          "Morocco",
          "Yemen",
          "Egypt",
          "Turkey",
          "Israel",
          "Algeria",
          "Kuwait",
          "Bahrain",
          "Iran",
          "Jordan",
          "Saudi Arabia",
          "Libya",
          "United Arab Emirates"
         ],
         "legendgroup": "Middle East and North Africa",
         "marker": {
          "color": "#FFA15A",
          "symbol": "circle"
         },
         "mode": "markers",
         "name": "Middle East and North Africa",
         "scene": "scene",
         "showlegend": true,
         "type": "scatter3d",
         "x": [
          -0.073,
          -0.053,
          -0.201,
          -0.163,
          -0.236,
          -0.147,
          -0.182,
          -0.139,
          0.031,
          -0.067,
          -0.104,
          0.089,
          0.218,
          -0.167,
          -0.149,
          -0.087,
          0.074
         ],
         "y": [
          0.525,
          0.63,
          0.656,
          0.653,
          0.774,
          0.602,
          0.749,
          0.576,
          0.8,
          0.48,
          0.867,
          0.925,
          0.608,
          0.755,
          0.877,
          0.771,
          0.932
         ],
         "z": [
          0.898,
          0.875,
          0.87,
          0.821,
          0.801,
          0.8,
          0.795,
          0.776,
          0.753,
          0.752,
          0.736,
          0.722,
          0.714,
          0.705,
          0.684,
          0.667,
          0.589
         ]
        },
        {
         "hovertemplate": "<b>%{hovertext}</b><br><br>Regional indicator=Southeast Asia<br>Generosity=%{x}<br>Freedom to make life choices=%{y}<br>Perceptions of corruption=%{z}<extra></extra>",
         "hovertext": [
          "Thailand",
          "Indonesia",
          "Cambodia",
          "Malaysia",
          "Vietnam",
          "Philippines",
          "Myanmar",
          "Laos",
          "Singapore"
         ],
         "legendgroup": "Southeast Asia",
         "marker": {
          "color": "#19d3f3",
          "symbol": "circle"
         },
         "mode": "markers",
         "name": "Southeast Asia",
         "scene": "scene",
         "showlegend": true,
         "type": "scatter3d",
         "x": [
          0.287,
          0.542,
          0.034,
          0.125,
          -0.098,
          -0.097,
          0.509,
          0.123,
          -0.018
         ],
         "y": [
          0.884,
          0.873,
          0.959,
          0.895,
          0.94,
          0.917,
          0.876,
          0.91,
          0.927
         ],
         "z": [
          0.895,
          0.867,
          0.843,
          0.839,
          0.796,
          0.742,
          0.66,
          0.658,
          0.082
         ]
        },
        {
         "hovertemplate": "<b>%{hovertext}</b><br><br>Regional indicator=Latin America and Caribbean<br>Generosity=%{x}<br>Freedom to make life choices=%{y}<br>Perceptions of corruption=%{z}<extra></extra>",
         "hovertext": [
          "Peru",
          "Jamaica",
          "Paraguay",
          "Panama",
          "Ecuador",
          "Colombia",
          "Bolivia",
          "Argentina",
          "Chile",
          "Venezuela",
          "Costa Rica",
          "Honduras",
          "Mexico",
          "Guatemala",
          "Brazil",
          "Haiti",
          "Dominican Republic",
          "El Salvador",
          "Nicaragua",
          "Uruguay"
         ],
         "legendgroup": "Latin America and Caribbean",
         "marker": {
          "color": "#FF6692",
          "symbol": "circle"
         },
         "mode": "markers",
         "name": "Latin America and Caribbean",
         "scene": "scene",
         "showlegend": true,
         "type": "scatter3d",
         "x": [
          -0.154,
          -0.137,
          0.028,
          -0.166,
          -0.124,
          -0.135,
          -0.077,
          -0.182,
          -0.044,
          -0.169,
          -0.126,
          0.081,
          -0.147,
          -0.038,
          -0.071,
          0.422,
          -0.133,
          -0.11,
          0.02,
          -0.092
         ],
         "y": [
          0.822,
          0.89,
          0.876,
          0.872,
          0.842,
          0.837,
          0.875,
          0.828,
          0.742,
          0.615,
          0.934,
          0.857,
          0.862,
          0.906,
          0.804,
          0.593,
          0.86,
          0.888,
          0.836,
          0.896
         ],
         "z": [
          0.891,
          0.884,
          0.882,
          0.856,
          0.843,
          0.841,
          0.839,
          0.834,
          0.83,
          0.827,
          0.809,
          0.809,
          0.799,
          0.775,
          0.756,
          0.721,
          0.714,
          0.688,
          0.664,
          0.59
         ]
        },
        {
         "hovertemplate": "<b>%{hovertext}</b><br><br>Regional indicator=Western Europe<br>Generosity=%{x}<br>Freedom to make life choices=%{y}<br>Perceptions of corruption=%{z}<extra></extra>",
         "hovertext": [
          "Portugal",
          "Italy",
          "Cyprus",
          "Greece",
          "Spain",
          "Iceland",
          "Malta",
          "Belgium",
          "North Cyprus",
          "France",
          "Austria",
          "Germany",
          "United Kingdom",
          "Luxembourg",
          "Ireland",
          "Netherlands",
          "Switzerland",
          "Norway",
          "Sweden",
          "Finland",
          "Denmark"
         ],
         "legendgroup": "Western Europe",
         "marker": {
          "color": "#B6E880",
          "symbol": "circle"
         },
         "mode": "markers",
         "name": "Western Europe",
         "scene": "scene",
         "showlegend": true,
         "type": "scatter3d",
         "x": [
          -0.244,
          -0.084,
          -0.015,
          -0.288,
          -0.081,
          0.16,
          0.133,
          -0.153,
          0.012,
          -0.147,
          0.042,
          0.011,
          0.233,
          -0.034,
          0.077,
          0.175,
          0.025,
          0.093,
          0.086,
          -0.098,
          0.03
         ],
         "y": [
          0.892,
          0.693,
          0.763,
          0.582,
          0.761,
          0.955,
          0.927,
          0.783,
          0.795,
          0.822,
          0.908,
          0.875,
          0.859,
          0.907,
          0.879,
          0.913,
          0.919,
          0.96,
          0.945,
          0.949,
          0.946
         ],
         "z": [
          0.887,
          0.866,
          0.844,
          0.823,
          0.745,
          0.673,
          0.653,
          0.646,
          0.626,
          0.571,
          0.481,
          0.46,
          0.459,
          0.386,
          0.363,
          0.338,
          0.292,
          0.27,
          0.237,
          0.186,
          0.179
         ]
        },
        {
         "hovertemplate": "<b>%{hovertext}</b><br><br>Regional indicator=East Asia<br>Generosity=%{x}<br>Freedom to make life choices=%{y}<br>Perceptions of corruption=%{z}<extra></extra>",
         "hovertext": [
          "Mongolia",
          "China",
          "South Korea",
          "Taiwan Province of China",
          "Japan",
          "Hong Kong S.A.R. of China"
         ],
         "legendgroup": "East Asia",
         "marker": {
          "color": "#FF97FF",
          "symbol": "circle"
         },
         "mode": "markers",
         "name": "East Asia",
         "scene": "scene",
         "showlegend": true,
         "type": "scatter3d",
         "x": [
          0.116,
          -0.146,
          -0.083,
          -0.07,
          -0.258,
          0.067
         ],
         "y": [
          0.708,
          0.904,
          0.672,
          0.784,
          0.796,
          0.717
         ],
         "z": [
          0.856,
          0.755,
          0.727,
          0.721,
          0.638,
          0.403
         ]
        },
        {
         "hovertemplate": "<b>%{hovertext}</b><br><br>Regional indicator=North America and ANZ<br>Generosity=%{x}<br>Freedom to make life choices=%{y}<br>Perceptions of corruption=%{z}<extra></extra>",
         "hovertext": [
          "United States",
          "Australia",
          "Canada",
          "New Zealand"
         ],
         "legendgroup": "North America and ANZ",
         "marker": {
          "color": "#FECB52",
          "symbol": "circle"
         },
         "mode": "markers",
         "name": "North America and ANZ",
         "scene": "scene",
         "showlegend": true,
         "type": "scatter3d",
         "x": [
          0.098,
          0.159,
          0.089,
          0.134
         ],
         "y": [
          0.837,
          0.914,
          0.915,
          0.929
         ],
         "z": [
          0.698,
          0.442,
          0.415,
          0.242
         ]
        }
       ],
       "layout": {
        "height": 800,
        "legend": {
         "title": {
          "text": "Regional indicator"
         },
         "tracegroupgap": 0
        },
        "margin": {
         "t": 60
        },
        "scene": {
         "domain": {
          "x": [
           0,
           1
          ],
          "y": [
           0,
           1
          ]
         },
         "xaxis": {
          "title": {
           "text": "Generosity"
          }
         },
         "yaxis": {
          "title": {
           "text": "Freedom to make life choices"
          }
         },
         "zaxis": {
          "title": {
           "text": "Perceptions of corruption"
          }
         }
        },
        "template": {
         "data": {
          "bar": [
           {
            "error_x": {
             "color": "#2a3f5f"
            },
            "error_y": {
             "color": "#2a3f5f"
            },
            "marker": {
             "line": {
              "color": "#E5ECF6",
              "width": 0.5
             }
            },
            "type": "bar"
           }
          ],
          "barpolar": [
           {
            "marker": {
             "line": {
              "color": "#E5ECF6",
              "width": 0.5
             }
            },
            "type": "barpolar"
           }
          ],
          "carpet": [
           {
            "aaxis": {
             "endlinecolor": "#2a3f5f",
             "gridcolor": "white",
             "linecolor": "white",
             "minorgridcolor": "white",
             "startlinecolor": "#2a3f5f"
            },
            "baxis": {
             "endlinecolor": "#2a3f5f",
             "gridcolor": "white",
             "linecolor": "white",
             "minorgridcolor": "white",
             "startlinecolor": "#2a3f5f"
            },
            "type": "carpet"
           }
          ],
          "choropleth": [
           {
            "colorbar": {
             "outlinewidth": 0,
             "ticks": ""
            },
            "type": "choropleth"
           }
          ],
          "contour": [
           {
            "colorbar": {
             "outlinewidth": 0,
             "ticks": ""
            },
            "colorscale": [
             [
              0,
              "#0d0887"
             ],
             [
              0.1111111111111111,
              "#46039f"
             ],
             [
              0.2222222222222222,
              "#7201a8"
             ],
             [
              0.3333333333333333,
              "#9c179e"
             ],
             [
              0.4444444444444444,
              "#bd3786"
             ],
             [
              0.5555555555555556,
              "#d8576b"
             ],
             [
              0.6666666666666666,
              "#ed7953"
             ],
             [
              0.7777777777777778,
              "#fb9f3a"
             ],
             [
              0.8888888888888888,
              "#fdca26"
             ],
             [
              1,
              "#f0f921"
             ]
            ],
            "type": "contour"
           }
          ],
          "contourcarpet": [
           {
            "colorbar": {
             "outlinewidth": 0,
             "ticks": ""
            },
            "type": "contourcarpet"
           }
          ],
          "heatmap": [
           {
            "colorbar": {
             "outlinewidth": 0,
             "ticks": ""
            },
            "colorscale": [
             [
              0,
              "#0d0887"
             ],
             [
              0.1111111111111111,
              "#46039f"
             ],
             [
              0.2222222222222222,
              "#7201a8"
             ],
             [
              0.3333333333333333,
              "#9c179e"
             ],
             [
              0.4444444444444444,
              "#bd3786"
             ],
             [
              0.5555555555555556,
              "#d8576b"
             ],
             [
              0.6666666666666666,
              "#ed7953"
             ],
             [
              0.7777777777777778,
              "#fb9f3a"
             ],
             [
              0.8888888888888888,
              "#fdca26"
             ],
             [
              1,
              "#f0f921"
             ]
            ],
            "type": "heatmap"
           }
          ],
          "heatmapgl": [
           {
            "colorbar": {
             "outlinewidth": 0,
             "ticks": ""
            },
            "colorscale": [
             [
              0,
              "#0d0887"
             ],
             [
              0.1111111111111111,
              "#46039f"
             ],
             [
              0.2222222222222222,
              "#7201a8"
             ],
             [
              0.3333333333333333,
              "#9c179e"
             ],
             [
              0.4444444444444444,
              "#bd3786"
             ],
             [
              0.5555555555555556,
              "#d8576b"
             ],
             [
              0.6666666666666666,
              "#ed7953"
             ],
             [
              0.7777777777777778,
              "#fb9f3a"
             ],
             [
              0.8888888888888888,
              "#fdca26"
             ],
             [
              1,
              "#f0f921"
             ]
            ],
            "type": "heatmapgl"
           }
          ],
          "histogram": [
           {
            "marker": {
             "colorbar": {
              "outlinewidth": 0,
              "ticks": ""
             }
            },
            "type": "histogram"
           }
          ],
          "histogram2d": [
           {
            "colorbar": {
             "outlinewidth": 0,
             "ticks": ""
            },
            "colorscale": [
             [
              0,
              "#0d0887"
             ],
             [
              0.1111111111111111,
              "#46039f"
             ],
             [
              0.2222222222222222,
              "#7201a8"
             ],
             [
              0.3333333333333333,
              "#9c179e"
             ],
             [
              0.4444444444444444,
              "#bd3786"
             ],
             [
              0.5555555555555556,
              "#d8576b"
             ],
             [
              0.6666666666666666,
              "#ed7953"
             ],
             [
              0.7777777777777778,
              "#fb9f3a"
             ],
             [
              0.8888888888888888,
              "#fdca26"
             ],
             [
              1,
              "#f0f921"
             ]
            ],
            "type": "histogram2d"
           }
          ],
          "histogram2dcontour": [
           {
            "colorbar": {
             "outlinewidth": 0,
             "ticks": ""
            },
            "colorscale": [
             [
              0,
              "#0d0887"
             ],
             [
              0.1111111111111111,
              "#46039f"
             ],
             [
              0.2222222222222222,
              "#7201a8"
             ],
             [
              0.3333333333333333,
              "#9c179e"
             ],
             [
              0.4444444444444444,
              "#bd3786"
             ],
             [
              0.5555555555555556,
              "#d8576b"
             ],
             [
              0.6666666666666666,
              "#ed7953"
             ],
             [
              0.7777777777777778,
              "#fb9f3a"
             ],
             [
              0.8888888888888888,
              "#fdca26"
             ],
             [
              1,
              "#f0f921"
             ]
            ],
            "type": "histogram2dcontour"
           }
          ],
          "mesh3d": [
           {
            "colorbar": {
             "outlinewidth": 0,
             "ticks": ""
            },
            "type": "mesh3d"
           }
          ],
          "parcoords": [
           {
            "line": {
             "colorbar": {
              "outlinewidth": 0,
              "ticks": ""
             }
            },
            "type": "parcoords"
           }
          ],
          "pie": [
           {
            "automargin": true,
            "type": "pie"
           }
          ],
          "scatter": [
           {
            "marker": {
             "colorbar": {
              "outlinewidth": 0,
              "ticks": ""
             }
            },
            "type": "scatter"
           }
          ],
          "scatter3d": [
           {
            "line": {
             "colorbar": {
              "outlinewidth": 0,
              "ticks": ""
             }
            },
            "marker": {
             "colorbar": {
              "outlinewidth": 0,
              "ticks": ""
             }
            },
            "type": "scatter3d"
           }
          ],
          "scattercarpet": [
           {
            "marker": {
             "colorbar": {
              "outlinewidth": 0,
              "ticks": ""
             }
            },
            "type": "scattercarpet"
           }
          ],
          "scattergeo": [
           {
            "marker": {
             "colorbar": {
              "outlinewidth": 0,
              "ticks": ""
             }
            },
            "type": "scattergeo"
           }
          ],
          "scattergl": [
           {
            "marker": {
             "colorbar": {
              "outlinewidth": 0,
              "ticks": ""
             }
            },
            "type": "scattergl"
           }
          ],
          "scattermapbox": [
           {
            "marker": {
             "colorbar": {
              "outlinewidth": 0,
              "ticks": ""
             }
            },
            "type": "scattermapbox"
           }
          ],
          "scatterpolar": [
           {
            "marker": {
             "colorbar": {
              "outlinewidth": 0,
              "ticks": ""
             }
            },
            "type": "scatterpolar"
           }
          ],
          "scatterpolargl": [
           {
            "marker": {
             "colorbar": {
              "outlinewidth": 0,
              "ticks": ""
             }
            },
            "type": "scatterpolargl"
           }
          ],
          "scatterternary": [
           {
            "marker": {
             "colorbar": {
              "outlinewidth": 0,
              "ticks": ""
             }
            },
            "type": "scatterternary"
           }
          ],
          "surface": [
           {
            "colorbar": {
             "outlinewidth": 0,
             "ticks": ""
            },
            "colorscale": [
             [
              0,
              "#0d0887"
             ],
             [
              0.1111111111111111,
              "#46039f"
             ],
             [
              0.2222222222222222,
              "#7201a8"
             ],
             [
              0.3333333333333333,
              "#9c179e"
             ],
             [
              0.4444444444444444,
              "#bd3786"
             ],
             [
              0.5555555555555556,
              "#d8576b"
             ],
             [
              0.6666666666666666,
              "#ed7953"
             ],
             [
              0.7777777777777778,
              "#fb9f3a"
             ],
             [
              0.8888888888888888,
              "#fdca26"
             ],
             [
              1,
              "#f0f921"
             ]
            ],
            "type": "surface"
           }
          ],
          "table": [
           {
            "cells": {
             "fill": {
              "color": "#EBF0F8"
             },
             "line": {
              "color": "white"
             }
            },
            "header": {
             "fill": {
              "color": "#C8D4E3"
             },
             "line": {
              "color": "white"
             }
            },
            "type": "table"
           }
          ]
         },
         "layout": {
          "annotationdefaults": {
           "arrowcolor": "#2a3f5f",
           "arrowhead": 0,
           "arrowwidth": 1
          },
          "autotypenumbers": "strict",
          "coloraxis": {
           "colorbar": {
            "outlinewidth": 0,
            "ticks": ""
           }
          },
          "colorscale": {
           "diverging": [
            [
             0,
             "#8e0152"
            ],
            [
             0.1,
             "#c51b7d"
            ],
            [
             0.2,
             "#de77ae"
            ],
            [
             0.3,
             "#f1b6da"
            ],
            [
             0.4,
             "#fde0ef"
            ],
            [
             0.5,
             "#f7f7f7"
            ],
            [
             0.6,
             "#e6f5d0"
            ],
            [
             0.7,
             "#b8e186"
            ],
            [
             0.8,
             "#7fbc41"
            ],
            [
             0.9,
             "#4d9221"
            ],
            [
             1,
             "#276419"
            ]
           ],
           "sequential": [
            [
             0,
             "#0d0887"
            ],
            [
             0.1111111111111111,
             "#46039f"
            ],
            [
             0.2222222222222222,
             "#7201a8"
            ],
            [
             0.3333333333333333,
             "#9c179e"
            ],
            [
             0.4444444444444444,
             "#bd3786"
            ],
            [
             0.5555555555555556,
             "#d8576b"
            ],
            [
             0.6666666666666666,
             "#ed7953"
            ],
            [
             0.7777777777777778,
             "#fb9f3a"
            ],
            [
             0.8888888888888888,
             "#fdca26"
            ],
            [
             1,
             "#f0f921"
            ]
           ],
           "sequentialminus": [
            [
             0,
             "#0d0887"
            ],
            [
             0.1111111111111111,
             "#46039f"
            ],
            [
             0.2222222222222222,
             "#7201a8"
            ],
            [
             0.3333333333333333,
             "#9c179e"
            ],
            [
             0.4444444444444444,
             "#bd3786"
            ],
            [
             0.5555555555555556,
             "#d8576b"
            ],
            [
             0.6666666666666666,
             "#ed7953"
            ],
            [
             0.7777777777777778,
             "#fb9f3a"
            ],
            [
             0.8888888888888888,
             "#fdca26"
            ],
            [
             1,
             "#f0f921"
            ]
           ]
          },
          "colorway": [
           "#636efa",
           "#EF553B",
           "#00cc96",
           "#ab63fa",
           "#FFA15A",
           "#19d3f3",
           "#FF6692",
           "#B6E880",
           "#FF97FF",
           "#FECB52"
          ],
          "font": {
           "color": "#2a3f5f"
          },
          "geo": {
           "bgcolor": "white",
           "lakecolor": "white",
           "landcolor": "#E5ECF6",
           "showlakes": true,
           "showland": true,
           "subunitcolor": "white"
          },
          "hoverlabel": {
           "align": "left"
          },
          "hovermode": "closest",
          "mapbox": {
           "style": "light"
          },
          "paper_bgcolor": "white",
          "plot_bgcolor": "#E5ECF6",
          "polar": {
           "angularaxis": {
            "gridcolor": "white",
            "linecolor": "white",
            "ticks": ""
           },
           "bgcolor": "#E5ECF6",
           "radialaxis": {
            "gridcolor": "white",
            "linecolor": "white",
            "ticks": ""
           }
          },
          "scene": {
           "xaxis": {
            "backgroundcolor": "#E5ECF6",
            "gridcolor": "white",
            "gridwidth": 2,
            "linecolor": "white",
            "showbackground": true,
            "ticks": "",
            "zerolinecolor": "white"
           },
           "yaxis": {
            "backgroundcolor": "#E5ECF6",
            "gridcolor": "white",
            "gridwidth": 2,
            "linecolor": "white",
            "showbackground": true,
            "ticks": "",
            "zerolinecolor": "white"
           },
           "zaxis": {
            "backgroundcolor": "#E5ECF6",
            "gridcolor": "white",
            "gridwidth": 2,
            "linecolor": "white",
            "showbackground": true,
            "ticks": "",
            "zerolinecolor": "white"
           }
          },
          "shapedefaults": {
           "line": {
            "color": "#2a3f5f"
           }
          },
          "ternary": {
           "aaxis": {
            "gridcolor": "white",
            "linecolor": "white",
            "ticks": ""
           },
           "baxis": {
            "gridcolor": "white",
            "linecolor": "white",
            "ticks": ""
           },
           "bgcolor": "#E5ECF6",
           "caxis": {
            "gridcolor": "white",
            "linecolor": "white",
            "ticks": ""
           }
          },
          "title": {
           "x": 0.05
          },
          "xaxis": {
           "automargin": true,
           "gridcolor": "white",
           "linecolor": "white",
           "ticks": "",
           "title": {
            "standoff": 15
           },
           "zerolinecolor": "white",
           "zerolinewidth": 2
          },
          "yaxis": {
           "automargin": true,
           "gridcolor": "white",
           "linecolor": "white",
           "ticks": "",
           "title": {
            "standoff": 15
           },
           "zerolinecolor": "white",
           "zerolinewidth": 2
          }
         }
        },
        "width": 1000
       }
      },
      "text/html": [
       "<div>                            <div id=\"8fbc8cd9-6e5b-4800-843b-90c5a28a1496\" class=\"plotly-graph-div\" style=\"height:800px; width:1000px;\"></div>            <script type=\"text/javascript\">                require([\"plotly\"], function(Plotly) {                    window.PLOTLYENV=window.PLOTLYENV || {};                                    if (document.getElementById(\"8fbc8cd9-6e5b-4800-843b-90c5a28a1496\")) {                    Plotly.newPlot(                        \"8fbc8cd9-6e5b-4800-843b-90c5a28a1496\",                        [{\"hovertemplate\": \"<b>%{hovertext}</b><br><br>Regional indicator=Central and Eastern Europe<br>Generosity=%{x}<br>Freedom to make life choices=%{y}<br>Perceptions of corruption=%{z}<extra></extra>\", \"hovertext\": [\"Croatia\", \"Romania\", \"Bulgaria\", \"Bosnia and Herzegovina\", \"Kosovo\", \"Slovakia\", \"North Macedonia\", \"Albania\", \"Hungary\", \"Czech Republic\", \"Serbia\", \"Lithuania\", \"Montenegro\", \"Slovenia\", \"Latvia\", \"Poland\", \"Estonia\"], \"legendgroup\": \"Central and Eastern Europe\", \"marker\": {\"color\": \"#636efa\", \"symbol\": \"circle\"}, \"mode\": \"markers\", \"name\": \"Central and Eastern Europe\", \"scene\": \"scene\", \"showlegend\": true, \"type\": \"scatter3d\", \"x\": [-0.118, -0.219, -0.096, 0.113, 0.257, -0.124, 0.038, -0.03, -0.186, -0.208, 0.002, -0.203, -0.034, -0.101, -0.162, -0.165, -0.106], \"y\": [0.754, 0.845, 0.788, 0.706, 0.869, 0.766, 0.751, 0.785, 0.755, 0.858, 0.778, 0.773, 0.708, 0.949, 0.715, 0.841, 0.909], \"z\": [0.939, 0.938, 0.932, 0.931, 0.917, 0.911, 0.905, 0.901, 0.876, 0.868, 0.835, 0.826, 0.812, 0.806, 0.8, 0.735, 0.527]}, {\"hovertemplate\": \"<b>%{hovertext}</b><br><br>Regional indicator=South Asia<br>Generosity=%{x}<br>Freedom to make life choices=%{y}<br>Perceptions of corruption=%{z}<extra></extra>\", \"hovertext\": [\"Afghanistan\", \"Sri Lanka\", \"Maldives\", \"Pakistan\", \"India\", \"Nepal\", \"Bangladesh\"], \"legendgroup\": \"South Asia\", \"marker\": {\"color\": \"#EF553B\", \"symbol\": \"circle\"}, \"mode\": \"markers\", \"name\": \"South Asia\", \"scene\": \"scene\", \"showlegend\": true, \"type\": \"scatter3d\", \"x\": [-0.102, 0.079, 0.024, 0.098, 0.089, 0.152, -0.041], \"y\": [0.382, 0.841, 0.854, 0.726, 0.893, 0.782, 0.877], \"z\": [0.924, 0.863, 0.825, 0.787, 0.774, 0.727, 0.682]}, {\"hovertemplate\": \"<b>%{hovertext}</b><br><br>Regional indicator=Commonwealth of Independent States<br>Generosity=%{x}<br>Freedom to make life choices=%{y}<br>Perceptions of corruption=%{z}<extra></extra>\", \"hovertext\": [\"Ukraine\", \"Moldova\", \"Kyrgyzstan\", \"Turkmenistan\", \"Russia\", \"Kazakhstan\", \"Georgia\", \"Armenia\", \"Belarus\", \"Tajikistan\", \"Uzbekistan\", \"Azerbaijan\"], \"legendgroup\": \"Commonwealth of Independent States\", \"marker\": {\"color\": \"#00cc96\", \"symbol\": \"circle\"}, \"mode\": \"markers\", \"name\": \"Commonwealth of Independent States\", \"scene\": \"scene\", \"showlegend\": true, \"type\": \"scatter3d\", \"x\": [-0.011, -0.079, 0.119, 0.273, -0.111, -0.069, -0.238, -0.168, -0.18, -0.056, 0.311, -0.223], \"y\": [0.724, 0.822, 0.935, 0.877, 0.718, 0.853, 0.783, 0.825, 0.65, 0.832, 0.97, 0.814], \"z\": [0.924, 0.918, 0.908, 0.888, 0.845, 0.733, 0.655, 0.629, 0.627, 0.553, 0.515, 0.506]}, {\"hovertemplate\": \"<b>%{hovertext}</b><br><br>Regional indicator=Sub-Saharan Africa<br>Generosity=%{x}<br>Freedom to make life choices=%{y}<br>Perceptions of corruption=%{z}<extra></extra>\", \"hovertext\": [\"Lesotho\", \"Nigeria\", \"Sierra Leone\", \"South Africa\", \"Uganda\", \"Liberia\", \"Cameroon\", \"Ghana\", \"Namibia\", \"Gabon\", \"Mali\", \"Kenya\", \"Zambia\", \"Zimbabwe\", \"Chad\", \"Madagascar\", \"Senegal\", \"Botswana\", \"Ivory Coast\", \"Mauritius\", \"Comoros\", \"Togo\", \"Guinea\", \"Ethiopia\", \"Burkina Faso\", \"Gambia\", \"Congo (Brazzaville)\", \"Mauritania\", \"Malawi\", \"Swaziland\", \"Niger\", \"Mozambique\", \"Benin\", \"Burundi\", \"Tanzania\", \"Rwanda\"], \"legendgroup\": \"Sub-Saharan Africa\", \"marker\": {\"color\": \"#ab63fa\", \"symbol\": \"circle\"}, \"mode\": \"markers\", \"name\": \"Sub-Saharan Africa\", \"scene\": \"scene\", \"showlegend\": true, \"type\": \"scatter3d\", \"x\": [-0.131, 0.037, 0.084, -0.067, 0.122, 0.05, 0.026, 0.123, -0.149, -0.2, -0.036, 0.287, 0.061, -0.047, 0.041, -0.005, -0.046, -0.246, -0.016, -0.054, 0.082, 0.032, 0.095, 0.082, -0.009, 0.424, -0.068, -0.106, 0.038, -0.185, 0.018, 0.061, -0.034, -0.024, 0.183, 0.061], \"y\": [0.715, 0.737, 0.717, 0.749, 0.709, 0.735, 0.731, 0.807, 0.719, 0.731, 0.697, 0.779, 0.782, 0.677, 0.579, 0.552, 0.695, 0.824, 0.741, 0.867, 0.548, 0.619, 0.697, 0.752, 0.695, 0.697, 0.695, 0.561, 0.78, 0.647, 0.806, 0.882, 0.757, 0.626, 0.833, 0.897], \"z\": [0.915, 0.878, 0.866, 0.86, 0.855, 0.85, 0.848, 0.848, 0.847, 0.84, 0.827, 0.825, 0.823, 0.821, 0.807, 0.803, 0.801, 0.801, 0.794, 0.789, 0.781, 0.772, 0.766, 0.761, 0.748, 0.746, 0.745, 0.731, 0.729, 0.708, 0.693, 0.684, 0.661, 0.607, 0.577, 0.167]}, {\"hovertemplate\": \"<b>%{hovertext}</b><br><br>Regional indicator=Middle East and North Africa<br>Generosity=%{x}<br>Freedom to make life choices=%{y}<br>Perceptions of corruption=%{z}<extra></extra>\", \"hovertext\": [\"Lebanon\", \"Iraq\", \"Tunisia\", \"Palestinian Territories\", \"Morocco\", \"Yemen\", \"Egypt\", \"Turkey\", \"Israel\", \"Algeria\", \"Kuwait\", \"Bahrain\", \"Iran\", \"Jordan\", \"Saudi Arabia\", \"Libya\", \"United Arab Emirates\"], \"legendgroup\": \"Middle East and North Africa\", \"marker\": {\"color\": \"#FFA15A\", \"symbol\": \"circle\"}, \"mode\": \"markers\", \"name\": \"Middle East and North Africa\", \"scene\": \"scene\", \"showlegend\": true, \"type\": \"scatter3d\", \"x\": [-0.073, -0.053, -0.201, -0.163, -0.236, -0.147, -0.182, -0.139, 0.031, -0.067, -0.104, 0.089, 0.218, -0.167, -0.149, -0.087, 0.074], \"y\": [0.525, 0.63, 0.656, 0.653, 0.774, 0.602, 0.749, 0.576, 0.8, 0.48, 0.867, 0.925, 0.608, 0.755, 0.877, 0.771, 0.932], \"z\": [0.898, 0.875, 0.87, 0.821, 0.801, 0.8, 0.795, 0.776, 0.753, 0.752, 0.736, 0.722, 0.714, 0.705, 0.684, 0.667, 0.589]}, {\"hovertemplate\": \"<b>%{hovertext}</b><br><br>Regional indicator=Southeast Asia<br>Generosity=%{x}<br>Freedom to make life choices=%{y}<br>Perceptions of corruption=%{z}<extra></extra>\", \"hovertext\": [\"Thailand\", \"Indonesia\", \"Cambodia\", \"Malaysia\", \"Vietnam\", \"Philippines\", \"Myanmar\", \"Laos\", \"Singapore\"], \"legendgroup\": \"Southeast Asia\", \"marker\": {\"color\": \"#19d3f3\", \"symbol\": \"circle\"}, \"mode\": \"markers\", \"name\": \"Southeast Asia\", \"scene\": \"scene\", \"showlegend\": true, \"type\": \"scatter3d\", \"x\": [0.287, 0.542, 0.034, 0.125, -0.098, -0.097, 0.509, 0.123, -0.018], \"y\": [0.884, 0.873, 0.959, 0.895, 0.94, 0.917, 0.876, 0.91, 0.927], \"z\": [0.895, 0.867, 0.843, 0.839, 0.796, 0.742, 0.66, 0.658, 0.082]}, {\"hovertemplate\": \"<b>%{hovertext}</b><br><br>Regional indicator=Latin America and Caribbean<br>Generosity=%{x}<br>Freedom to make life choices=%{y}<br>Perceptions of corruption=%{z}<extra></extra>\", \"hovertext\": [\"Peru\", \"Jamaica\", \"Paraguay\", \"Panama\", \"Ecuador\", \"Colombia\", \"Bolivia\", \"Argentina\", \"Chile\", \"Venezuela\", \"Costa Rica\", \"Honduras\", \"Mexico\", \"Guatemala\", \"Brazil\", \"Haiti\", \"Dominican Republic\", \"El Salvador\", \"Nicaragua\", \"Uruguay\"], \"legendgroup\": \"Latin America and Caribbean\", \"marker\": {\"color\": \"#FF6692\", \"symbol\": \"circle\"}, \"mode\": \"markers\", \"name\": \"Latin America and Caribbean\", \"scene\": \"scene\", \"showlegend\": true, \"type\": \"scatter3d\", \"x\": [-0.154, -0.137, 0.028, -0.166, -0.124, -0.135, -0.077, -0.182, -0.044, -0.169, -0.126, 0.081, -0.147, -0.038, -0.071, 0.422, -0.133, -0.11, 0.02, -0.092], \"y\": [0.822, 0.89, 0.876, 0.872, 0.842, 0.837, 0.875, 0.828, 0.742, 0.615, 0.934, 0.857, 0.862, 0.906, 0.804, 0.593, 0.86, 0.888, 0.836, 0.896], \"z\": [0.891, 0.884, 0.882, 0.856, 0.843, 0.841, 0.839, 0.834, 0.83, 0.827, 0.809, 0.809, 0.799, 0.775, 0.756, 0.721, 0.714, 0.688, 0.664, 0.59]}, {\"hovertemplate\": \"<b>%{hovertext}</b><br><br>Regional indicator=Western Europe<br>Generosity=%{x}<br>Freedom to make life choices=%{y}<br>Perceptions of corruption=%{z}<extra></extra>\", \"hovertext\": [\"Portugal\", \"Italy\", \"Cyprus\", \"Greece\", \"Spain\", \"Iceland\", \"Malta\", \"Belgium\", \"North Cyprus\", \"France\", \"Austria\", \"Germany\", \"United Kingdom\", \"Luxembourg\", \"Ireland\", \"Netherlands\", \"Switzerland\", \"Norway\", \"Sweden\", \"Finland\", \"Denmark\"], \"legendgroup\": \"Western Europe\", \"marker\": {\"color\": \"#B6E880\", \"symbol\": \"circle\"}, \"mode\": \"markers\", \"name\": \"Western Europe\", \"scene\": \"scene\", \"showlegend\": true, \"type\": \"scatter3d\", \"x\": [-0.244, -0.084, -0.015, -0.288, -0.081, 0.16, 0.133, -0.153, 0.012, -0.147, 0.042, 0.011, 0.233, -0.034, 0.077, 0.175, 0.025, 0.093, 0.086, -0.098, 0.03], \"y\": [0.892, 0.693, 0.763, 0.582, 0.761, 0.955, 0.927, 0.783, 0.795, 0.822, 0.908, 0.875, 0.859, 0.907, 0.879, 0.913, 0.919, 0.96, 0.945, 0.949, 0.946], \"z\": [0.887, 0.866, 0.844, 0.823, 0.745, 0.673, 0.653, 0.646, 0.626, 0.571, 0.481, 0.46, 0.459, 0.386, 0.363, 0.338, 0.292, 0.27, 0.237, 0.186, 0.179]}, {\"hovertemplate\": \"<b>%{hovertext}</b><br><br>Regional indicator=East Asia<br>Generosity=%{x}<br>Freedom to make life choices=%{y}<br>Perceptions of corruption=%{z}<extra></extra>\", \"hovertext\": [\"Mongolia\", \"China\", \"South Korea\", \"Taiwan Province of China\", \"Japan\", \"Hong Kong S.A.R. of China\"], \"legendgroup\": \"East Asia\", \"marker\": {\"color\": \"#FF97FF\", \"symbol\": \"circle\"}, \"mode\": \"markers\", \"name\": \"East Asia\", \"scene\": \"scene\", \"showlegend\": true, \"type\": \"scatter3d\", \"x\": [0.116, -0.146, -0.083, -0.07, -0.258, 0.067], \"y\": [0.708, 0.904, 0.672, 0.784, 0.796, 0.717], \"z\": [0.856, 0.755, 0.727, 0.721, 0.638, 0.403]}, {\"hovertemplate\": \"<b>%{hovertext}</b><br><br>Regional indicator=North America and ANZ<br>Generosity=%{x}<br>Freedom to make life choices=%{y}<br>Perceptions of corruption=%{z}<extra></extra>\", \"hovertext\": [\"United States\", \"Australia\", \"Canada\", \"New Zealand\"], \"legendgroup\": \"North America and ANZ\", \"marker\": {\"color\": \"#FECB52\", \"symbol\": \"circle\"}, \"mode\": \"markers\", \"name\": \"North America and ANZ\", \"scene\": \"scene\", \"showlegend\": true, \"type\": \"scatter3d\", \"x\": [0.098, 0.159, 0.089, 0.134], \"y\": [0.837, 0.914, 0.915, 0.929], \"z\": [0.698, 0.442, 0.415, 0.242]}],                        {\"height\": 800, \"legend\": {\"title\": {\"text\": \"Regional indicator\"}, \"tracegroupgap\": 0}, \"margin\": {\"t\": 60}, \"scene\": {\"domain\": {\"x\": [0.0, 1.0], \"y\": [0.0, 1.0]}, \"xaxis\": {\"title\": {\"text\": \"Generosity\"}}, \"yaxis\": {\"title\": {\"text\": \"Freedom to make life choices\"}}, \"zaxis\": {\"title\": {\"text\": \"Perceptions of corruption\"}}}, \"template\": {\"data\": {\"bar\": [{\"error_x\": {\"color\": \"#2a3f5f\"}, \"error_y\": {\"color\": \"#2a3f5f\"}, \"marker\": {\"line\": {\"color\": \"#E5ECF6\", \"width\": 0.5}}, \"type\": \"bar\"}], \"barpolar\": [{\"marker\": {\"line\": {\"color\": \"#E5ECF6\", \"width\": 0.5}}, \"type\": \"barpolar\"}], \"carpet\": [{\"aaxis\": {\"endlinecolor\": \"#2a3f5f\", \"gridcolor\": \"white\", \"linecolor\": \"white\", \"minorgridcolor\": \"white\", \"startlinecolor\": \"#2a3f5f\"}, \"baxis\": {\"endlinecolor\": \"#2a3f5f\", \"gridcolor\": \"white\", \"linecolor\": \"white\", \"minorgridcolor\": \"white\", \"startlinecolor\": \"#2a3f5f\"}, \"type\": \"carpet\"}], \"choropleth\": [{\"colorbar\": {\"outlinewidth\": 0, \"ticks\": \"\"}, \"type\": \"choropleth\"}], \"contour\": [{\"colorbar\": {\"outlinewidth\": 0, \"ticks\": \"\"}, \"colorscale\": [[0.0, \"#0d0887\"], [0.1111111111111111, \"#46039f\"], [0.2222222222222222, \"#7201a8\"], [0.3333333333333333, \"#9c179e\"], [0.4444444444444444, \"#bd3786\"], [0.5555555555555556, \"#d8576b\"], [0.6666666666666666, \"#ed7953\"], [0.7777777777777778, \"#fb9f3a\"], [0.8888888888888888, \"#fdca26\"], [1.0, \"#f0f921\"]], \"type\": \"contour\"}], \"contourcarpet\": [{\"colorbar\": {\"outlinewidth\": 0, \"ticks\": \"\"}, \"type\": \"contourcarpet\"}], \"heatmap\": [{\"colorbar\": {\"outlinewidth\": 0, \"ticks\": \"\"}, \"colorscale\": [[0.0, \"#0d0887\"], [0.1111111111111111, \"#46039f\"], [0.2222222222222222, \"#7201a8\"], [0.3333333333333333, \"#9c179e\"], [0.4444444444444444, \"#bd3786\"], [0.5555555555555556, \"#d8576b\"], [0.6666666666666666, \"#ed7953\"], [0.7777777777777778, \"#fb9f3a\"], [0.8888888888888888, \"#fdca26\"], [1.0, \"#f0f921\"]], \"type\": \"heatmap\"}], \"heatmapgl\": [{\"colorbar\": {\"outlinewidth\": 0, \"ticks\": \"\"}, \"colorscale\": [[0.0, \"#0d0887\"], [0.1111111111111111, \"#46039f\"], [0.2222222222222222, \"#7201a8\"], [0.3333333333333333, \"#9c179e\"], [0.4444444444444444, \"#bd3786\"], [0.5555555555555556, \"#d8576b\"], [0.6666666666666666, \"#ed7953\"], [0.7777777777777778, \"#fb9f3a\"], [0.8888888888888888, \"#fdca26\"], [1.0, \"#f0f921\"]], \"type\": \"heatmapgl\"}], \"histogram\": [{\"marker\": {\"colorbar\": {\"outlinewidth\": 0, \"ticks\": \"\"}}, \"type\": \"histogram\"}], \"histogram2d\": [{\"colorbar\": {\"outlinewidth\": 0, \"ticks\": \"\"}, \"colorscale\": [[0.0, \"#0d0887\"], [0.1111111111111111, \"#46039f\"], [0.2222222222222222, \"#7201a8\"], [0.3333333333333333, \"#9c179e\"], [0.4444444444444444, \"#bd3786\"], [0.5555555555555556, \"#d8576b\"], [0.6666666666666666, \"#ed7953\"], [0.7777777777777778, \"#fb9f3a\"], [0.8888888888888888, \"#fdca26\"], [1.0, \"#f0f921\"]], \"type\": \"histogram2d\"}], \"histogram2dcontour\": [{\"colorbar\": {\"outlinewidth\": 0, \"ticks\": \"\"}, \"colorscale\": [[0.0, \"#0d0887\"], [0.1111111111111111, \"#46039f\"], [0.2222222222222222, \"#7201a8\"], [0.3333333333333333, \"#9c179e\"], [0.4444444444444444, \"#bd3786\"], [0.5555555555555556, \"#d8576b\"], [0.6666666666666666, \"#ed7953\"], [0.7777777777777778, \"#fb9f3a\"], [0.8888888888888888, \"#fdca26\"], [1.0, \"#f0f921\"]], \"type\": \"histogram2dcontour\"}], \"mesh3d\": [{\"colorbar\": {\"outlinewidth\": 0, \"ticks\": \"\"}, \"type\": \"mesh3d\"}], \"parcoords\": [{\"line\": {\"colorbar\": {\"outlinewidth\": 0, \"ticks\": \"\"}}, \"type\": \"parcoords\"}], \"pie\": [{\"automargin\": true, \"type\": \"pie\"}], \"scatter\": [{\"marker\": {\"colorbar\": {\"outlinewidth\": 0, \"ticks\": \"\"}}, \"type\": \"scatter\"}], \"scatter3d\": [{\"line\": {\"colorbar\": {\"outlinewidth\": 0, \"ticks\": \"\"}}, \"marker\": {\"colorbar\": {\"outlinewidth\": 0, \"ticks\": \"\"}}, \"type\": \"scatter3d\"}], \"scattercarpet\": [{\"marker\": {\"colorbar\": {\"outlinewidth\": 0, \"ticks\": \"\"}}, \"type\": \"scattercarpet\"}], \"scattergeo\": [{\"marker\": {\"colorbar\": {\"outlinewidth\": 0, \"ticks\": \"\"}}, \"type\": \"scattergeo\"}], \"scattergl\": [{\"marker\": {\"colorbar\": {\"outlinewidth\": 0, \"ticks\": \"\"}}, \"type\": \"scattergl\"}], \"scattermapbox\": [{\"marker\": {\"colorbar\": {\"outlinewidth\": 0, \"ticks\": \"\"}}, \"type\": \"scattermapbox\"}], \"scatterpolar\": [{\"marker\": {\"colorbar\": {\"outlinewidth\": 0, \"ticks\": \"\"}}, \"type\": \"scatterpolar\"}], \"scatterpolargl\": [{\"marker\": {\"colorbar\": {\"outlinewidth\": 0, \"ticks\": \"\"}}, \"type\": \"scatterpolargl\"}], \"scatterternary\": [{\"marker\": {\"colorbar\": {\"outlinewidth\": 0, \"ticks\": \"\"}}, \"type\": \"scatterternary\"}], \"surface\": [{\"colorbar\": {\"outlinewidth\": 0, \"ticks\": \"\"}, \"colorscale\": [[0.0, \"#0d0887\"], [0.1111111111111111, \"#46039f\"], [0.2222222222222222, \"#7201a8\"], [0.3333333333333333, \"#9c179e\"], [0.4444444444444444, \"#bd3786\"], [0.5555555555555556, \"#d8576b\"], [0.6666666666666666, \"#ed7953\"], [0.7777777777777778, \"#fb9f3a\"], [0.8888888888888888, \"#fdca26\"], [1.0, \"#f0f921\"]], \"type\": \"surface\"}], \"table\": [{\"cells\": {\"fill\": {\"color\": \"#EBF0F8\"}, \"line\": {\"color\": \"white\"}}, \"header\": {\"fill\": {\"color\": \"#C8D4E3\"}, \"line\": {\"color\": \"white\"}}, \"type\": \"table\"}]}, \"layout\": {\"annotationdefaults\": {\"arrowcolor\": \"#2a3f5f\", \"arrowhead\": 0, \"arrowwidth\": 1}, \"autotypenumbers\": \"strict\", \"coloraxis\": {\"colorbar\": {\"outlinewidth\": 0, \"ticks\": \"\"}}, \"colorscale\": {\"diverging\": [[0, \"#8e0152\"], [0.1, \"#c51b7d\"], [0.2, \"#de77ae\"], [0.3, \"#f1b6da\"], [0.4, \"#fde0ef\"], [0.5, \"#f7f7f7\"], [0.6, \"#e6f5d0\"], [0.7, \"#b8e186\"], [0.8, \"#7fbc41\"], [0.9, \"#4d9221\"], [1, \"#276419\"]], \"sequential\": [[0.0, \"#0d0887\"], [0.1111111111111111, \"#46039f\"], [0.2222222222222222, \"#7201a8\"], [0.3333333333333333, \"#9c179e\"], [0.4444444444444444, \"#bd3786\"], [0.5555555555555556, \"#d8576b\"], [0.6666666666666666, \"#ed7953\"], [0.7777777777777778, \"#fb9f3a\"], [0.8888888888888888, \"#fdca26\"], [1.0, \"#f0f921\"]], \"sequentialminus\": [[0.0, \"#0d0887\"], [0.1111111111111111, \"#46039f\"], [0.2222222222222222, \"#7201a8\"], [0.3333333333333333, \"#9c179e\"], [0.4444444444444444, \"#bd3786\"], [0.5555555555555556, \"#d8576b\"], [0.6666666666666666, \"#ed7953\"], [0.7777777777777778, \"#fb9f3a\"], [0.8888888888888888, \"#fdca26\"], [1.0, \"#f0f921\"]]}, \"colorway\": [\"#636efa\", \"#EF553B\", \"#00cc96\", \"#ab63fa\", \"#FFA15A\", \"#19d3f3\", \"#FF6692\", \"#B6E880\", \"#FF97FF\", \"#FECB52\"], \"font\": {\"color\": \"#2a3f5f\"}, \"geo\": {\"bgcolor\": \"white\", \"lakecolor\": \"white\", \"landcolor\": \"#E5ECF6\", \"showlakes\": true, \"showland\": true, \"subunitcolor\": \"white\"}, \"hoverlabel\": {\"align\": \"left\"}, \"hovermode\": \"closest\", \"mapbox\": {\"style\": \"light\"}, \"paper_bgcolor\": \"white\", \"plot_bgcolor\": \"#E5ECF6\", \"polar\": {\"angularaxis\": {\"gridcolor\": \"white\", \"linecolor\": \"white\", \"ticks\": \"\"}, \"bgcolor\": \"#E5ECF6\", \"radialaxis\": {\"gridcolor\": \"white\", \"linecolor\": \"white\", \"ticks\": \"\"}}, \"scene\": {\"xaxis\": {\"backgroundcolor\": \"#E5ECF6\", \"gridcolor\": \"white\", \"gridwidth\": 2, \"linecolor\": \"white\", \"showbackground\": true, \"ticks\": \"\", \"zerolinecolor\": \"white\"}, \"yaxis\": {\"backgroundcolor\": \"#E5ECF6\", \"gridcolor\": \"white\", \"gridwidth\": 2, \"linecolor\": \"white\", \"showbackground\": true, \"ticks\": \"\", \"zerolinecolor\": \"white\"}, \"zaxis\": {\"backgroundcolor\": \"#E5ECF6\", \"gridcolor\": \"white\", \"gridwidth\": 2, \"linecolor\": \"white\", \"showbackground\": true, \"ticks\": \"\", \"zerolinecolor\": \"white\"}}, \"shapedefaults\": {\"line\": {\"color\": \"#2a3f5f\"}}, \"ternary\": {\"aaxis\": {\"gridcolor\": \"white\", \"linecolor\": \"white\", \"ticks\": \"\"}, \"baxis\": {\"gridcolor\": \"white\", \"linecolor\": \"white\", \"ticks\": \"\"}, \"bgcolor\": \"#E5ECF6\", \"caxis\": {\"gridcolor\": \"white\", \"linecolor\": \"white\", \"ticks\": \"\"}}, \"title\": {\"x\": 0.05}, \"xaxis\": {\"automargin\": true, \"gridcolor\": \"white\", \"linecolor\": \"white\", \"ticks\": \"\", \"title\": {\"standoff\": 15}, \"zerolinecolor\": \"white\", \"zerolinewidth\": 2}, \"yaxis\": {\"automargin\": true, \"gridcolor\": \"white\", \"linecolor\": \"white\", \"ticks\": \"\", \"title\": {\"standoff\": 15}, \"zerolinecolor\": \"white\", \"zerolinewidth\": 2}}}, \"width\": 1000},                        {\"responsive\": true}                    ).then(function(){\n",
       "                            \n",
       "var gd = document.getElementById('8fbc8cd9-6e5b-4800-843b-90c5a28a1496');\n",
       "var x = new MutationObserver(function (mutations, observer) {{\n",
       "        var display = window.getComputedStyle(gd).display;\n",
       "        if (!display || display === 'none') {{\n",
       "            console.log([gd, 'removed!']);\n",
       "            Plotly.purge(gd);\n",
       "            observer.disconnect();\n",
       "        }}\n",
       "}});\n",
       "\n",
       "// Listen for the removal of the full notebook cells\n",
       "var notebookContainer = gd.closest('#notebook-container');\n",
       "if (notebookContainer) {{\n",
       "    x.observe(notebookContainer, {childList: true});\n",
       "}}\n",
       "\n",
       "// Listen for the clearing of the current output cell\n",
       "var outputEl = gd.closest('.output');\n",
       "if (outputEl) {{\n",
       "    x.observe(outputEl, {childList: true});\n",
       "}}\n",
       "\n",
       "                        })                };                });            </script>        </div>"
      ]
     },
     "metadata": {},
     "output_type": "display_data"
    }
   ],
   "source": [
    "fig = px.scatter_3d(gen_cor,x = \"Generosity\", y = \"Freedom to make life choices\" , z = \"Perceptions of corruption\",\n",
    "                   color=\"Regional indicator\",hover_name=\"Country name\",height=800,width=1000)\n",
    "fig.show()"
   ]
  },
  {
   "cell_type": "markdown",
   "metadata": {},
   "source": [
    "- **There are a lot of corrupt countries compared with less corrupt ones.**\n",
    "- **Central and Eastern Europe seems to be mostly corrupt.**\n",
    "- **Most countries seem to fall on the negative side in terms of Generosity.**"
   ]
  },
  {
   "cell_type": "code",
   "execution_count": null,
   "metadata": {},
   "outputs": [],
   "source": []
  }
 ],
 "metadata": {
  "kernelspec": {
   "display_name": "Python 3",
   "language": "python",
   "name": "python3"
  },
  "language_info": {
   "codemirror_mode": {
    "name": "ipython",
    "version": 3
   },
   "file_extension": ".py",
   "mimetype": "text/x-python",
   "name": "python",
   "nbconvert_exporter": "python",
   "pygments_lexer": "ipython3",
   "version": "3.9.5"
  }
 },
 "nbformat": 4,
 "nbformat_minor": 4
}
